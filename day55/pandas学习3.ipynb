{
 "cells": [
  {
   "cell_type": "code",
   "execution_count": 58,
   "metadata": {},
   "outputs": [
    {
     "name": "stdout",
     "output_type": "stream",
     "text": [
      "0    10\n",
      "1    11\n",
      "2    12\n",
      "3    13\n",
      "4    14\n",
      "5    15\n",
      "6    16\n",
      "7    17\n",
      "8    18\n",
      "9    19\n",
      "dtype: int64\n",
      "--------------------------------------------------\n",
      "[10 11 12 13 14 15 16 17 18 19]\n",
      "<class 'numpy.ndarray'>\n",
      "RangeIndex(start=0, stop=10, step=1)\n"
     ]
    },
    {
     "data": {
      "text/plain": [
       "dtype('int64')"
      ]
     },
     "execution_count": 58,
     "metadata": {},
     "output_type": "execute_result"
    }
   ],
   "source": [
    "# 生成一个Series\n",
    "import pandas as pd\n",
    "ser_obj = pd.Series(range(10, 20))\n",
    "print(ser_obj)\n",
    "print('-'*50)\n",
    "# 获取数据\n",
    "print(ser_obj.values)\n",
    "print(type(ser_obj.values))\n",
    "# 获取索引\n",
    "print(ser_obj.index)\n",
    "ser_obj.dtype"
   ]
  },
  {
   "cell_type": "code",
   "execution_count": 59,
   "metadata": {
    "collapsed": false,
    "pycharm": {
     "name": "#%%\n"
    }
   },
   "outputs": [
    {
     "name": "stdout",
     "output_type": "stream",
     "text": [
      "10\n"
     ]
    }
   ],
   "source": [
    "print(ser_obj[0])\n",
    "# ser_obj[9]\n",
    "# 访问不存在的索引下标会报keyerror"
   ]
  },
  {
   "cell_type": "code",
   "execution_count": 60,
   "metadata": {},
   "outputs": [
    {
     "name": "stdout",
     "output_type": "stream",
     "text": [
      "0    20\n",
      "1    22\n",
      "2    24\n",
      "3    26\n",
      "4    28\n",
      "5    30\n",
      "6    32\n",
      "7    34\n",
      "8    36\n",
      "9    38\n",
      "dtype: int64\n",
      "0    False\n",
      "1    False\n",
      "2    False\n",
      "3    False\n",
      "4    False\n",
      "5    False\n",
      "6     True\n",
      "7     True\n",
      "8     True\n",
      "9     True\n",
      "dtype: bool\n"
     ]
    }
   ],
   "source": [
    "print(ser_obj * 2)\n",
    "print(ser_obj > 15)"
   ]
  },
  {
   "cell_type": "code",
   "execution_count": 61,
   "metadata": {},
   "outputs": [
    {
     "name": "stdout",
     "output_type": "stream",
     "text": [
      "2001    17.8\n",
      "2005    20.1\n",
      "2003    16.5\n",
      "dtype: float64\n",
      "Index([2001, 2005, 2003], dtype='int64')\n",
      "17.8\n"
     ]
    },
    {
     "data": {
      "text/plain": [
       "array([17.8, 20.1, 16.5])"
      ]
     },
     "execution_count": 61,
     "metadata": {},
     "output_type": "execute_result"
    }
   ],
   "source": [
    "#字典变为series\n",
    "year_data = {2001: 17.8, 2005: 20.1, 2003: 16.5}\n",
    "ser_obj2 = pd.Series(year_data)\n",
    "print(ser_obj2)\n",
    "print(ser_obj2.index)\n",
    "print(ser_obj2[2001])\n",
    "ser_obj2.values"
   ]
  },
  {
   "cell_type": "code",
   "execution_count": 62,
   "metadata": {},
   "outputs": [
    {
     "name": "stdout",
     "output_type": "stream",
     "text": [
      "None\n",
      "None\n",
      "--------------------------------------------------\n",
      "year1\n",
      "2001    17.8\n",
      "2005    20.1\n",
      "2003    16.5\n",
      "Name: temp, dtype: float64\n"
     ]
    }
   ],
   "source": [
    "print(ser_obj2.name)\n",
    "ser_obj2.name = 'temp'\n",
    "print(ser_obj2.index.name)  #索引名字\n",
    "ser_obj2.index.name = 'year1'\n",
    "print('-'*50)\n",
    "print(ser_obj2.head())\n"
   ]
  },
  {
   "cell_type": "markdown",
   "metadata": {},
   "source": [
    "# DataFrame"
   ]
  },
  {
   "cell_type": "code",
   "execution_count": 63,
   "metadata": {
    "scrolled": false
   },
   "outputs": [
    {
     "data": {
      "text/html": [
       "<div>\n",
       "<style scoped>\n",
       "    .dataframe tbody tr th:only-of-type {\n",
       "        vertical-align: middle;\n",
       "    }\n",
       "\n",
       "    .dataframe tbody tr th {\n",
       "        vertical-align: top;\n",
       "    }\n",
       "\n",
       "    .dataframe thead th {\n",
       "        text-align: right;\n",
       "    }\n",
       "</style>\n",
       "<table border=\"1\" class=\"dataframe\">\n",
       "  <thead>\n",
       "    <tr style=\"text-align: right;\">\n",
       "      <th></th>\n",
       "      <th>name</th>\n",
       "      <th>age</th>\n",
       "      <th>tel</th>\n",
       "    </tr>\n",
       "  </thead>\n",
       "  <tbody>\n",
       "    <tr>\n",
       "      <th>0</th>\n",
       "      <td>xiaohong</td>\n",
       "      <td>32.0</td>\n",
       "      <td>10010.0</td>\n",
       "    </tr>\n",
       "    <tr>\n",
       "      <th>1</th>\n",
       "      <td>xiaogang</td>\n",
       "      <td>NaN</td>\n",
       "      <td>10000.0</td>\n",
       "    </tr>\n",
       "    <tr>\n",
       "      <th>2</th>\n",
       "      <td>xiaowang</td>\n",
       "      <td>22.0</td>\n",
       "      <td>NaN</td>\n",
       "    </tr>\n",
       "  </tbody>\n",
       "</table>\n",
       "</div>"
      ],
      "text/plain": [
       "       name   age      tel\n",
       "0  xiaohong  32.0  10010.0\n",
       "1  xiaogang   NaN  10000.0\n",
       "2  xiaowang  22.0      NaN"
      ]
     },
     "execution_count": 63,
     "metadata": {},
     "output_type": "execute_result"
    }
   ],
   "source": [
    "# 字典变df\n",
    "d2 =[{\"name\" : \"xiaohong\" ,\"age\" :32,\"tel\" :10010},\n",
    "     { \"name\": \"xiaogang\" ,\"tel\": 10000} ,\n",
    "     {\"name\":\"xiaowang\" ,\"age\":22}]\n",
    "df6=pd.DataFrame(d2)\n",
    "df6"
   ]
  },
  {
   "cell_type": "code",
   "execution_count": 64,
   "metadata": {},
   "outputs": [
    {
     "name": "stdout",
     "output_type": "stream",
     "text": [
      "   A          B    C  D       E        F\n",
      "0  1 2019-09-26  1.0  3  Python  wangdao\n",
      "1  1 2019-09-26  1.0  3    Java  wangdao\n",
      "2  1 2019-09-26  1.0  3     C++  wangdao\n",
      "3  1 2019-09-26  1.0  3       C  wangdao\n",
      "Index([0, 1, 2, 3], dtype='int64')\n"
     ]
    },
    {
     "data": {
      "text/plain": [
       "Index(['A', 'B', 'C', 'D', 'E', 'F'], dtype='object')"
      ]
     },
     "execution_count": 64,
     "metadata": {},
     "output_type": "execute_result"
    }
   ],
   "source": [
    "#df中不同列可以是不同的数据类型\n",
    "import pandas as pd\n",
    "import numpy as np\n",
    "dict_data = {'A': 1,\n",
    "             'B': pd.Timestamp('20190926'),\n",
    "             'C': pd.Series(1, index=list(range(4)),dtype='float32'),\n",
    "             'D': np.array([3] * 4,dtype='int32'),\n",
    "             'E': [\"Python\",\"Java\",\"C++\",\"C\"],\n",
    "             'F': 'wangdao' }\n",
    "df_obj2 = pd.DataFrame(dict_data)\n",
    "print(df_obj2)\n",
    "print(df_obj2.index)\n",
    "#补课改变\n",
    "# df_obj2.index[0] = 2\n",
    "df_obj2.columns"
   ]
  },
  {
   "cell_type": "code",
   "execution_count": 65,
   "metadata": {},
   "outputs": [
    {
     "data": {
      "text/html": [
       "<div>\n",
       "<style scoped>\n",
       "    .dataframe tbody tr th:only-of-type {\n",
       "        vertical-align: middle;\n",
       "    }\n",
       "\n",
       "    .dataframe tbody tr th {\n",
       "        vertical-align: top;\n",
       "    }\n",
       "\n",
       "    .dataframe thead th {\n",
       "        text-align: right;\n",
       "    }\n",
       "</style>\n",
       "<table border=\"1\" class=\"dataframe\">\n",
       "  <thead>\n",
       "    <tr style=\"text-align: right;\">\n",
       "      <th></th>\n",
       "      <th>A</th>\n",
       "      <th>B</th>\n",
       "      <th>C</th>\n",
       "      <th>D</th>\n",
       "    </tr>\n",
       "  </thead>\n",
       "  <tbody>\n",
       "    <tr>\n",
       "      <th>2013-01-01</th>\n",
       "      <td>0.066913</td>\n",
       "      <td>0.591508</td>\n",
       "      <td>0.487738</td>\n",
       "      <td>1.768713</td>\n",
       "    </tr>\n",
       "    <tr>\n",
       "      <th>2013-01-02</th>\n",
       "      <td>0.576956</td>\n",
       "      <td>0.347899</td>\n",
       "      <td>1.379213</td>\n",
       "      <td>0.555220</td>\n",
       "    </tr>\n",
       "    <tr>\n",
       "      <th>2013-01-03</th>\n",
       "      <td>-1.070117</td>\n",
       "      <td>-0.559845</td>\n",
       "      <td>1.004566</td>\n",
       "      <td>-0.663167</td>\n",
       "    </tr>\n",
       "    <tr>\n",
       "      <th>2013-01-04</th>\n",
       "      <td>0.636903</td>\n",
       "      <td>-2.142020</td>\n",
       "      <td>0.726791</td>\n",
       "      <td>0.053031</td>\n",
       "    </tr>\n",
       "    <tr>\n",
       "      <th>2013-01-05</th>\n",
       "      <td>-0.107280</td>\n",
       "      <td>-1.397373</td>\n",
       "      <td>-0.215382</td>\n",
       "      <td>0.336818</td>\n",
       "    </tr>\n",
       "    <tr>\n",
       "      <th>2013-01-06</th>\n",
       "      <td>-2.157732</td>\n",
       "      <td>-1.143733</td>\n",
       "      <td>-0.717658</td>\n",
       "      <td>-0.883747</td>\n",
       "    </tr>\n",
       "  </tbody>\n",
       "</table>\n",
       "</div>"
      ],
      "text/plain": [
       "                   A         B         C         D\n",
       "2013-01-01  0.066913  0.591508  0.487738  1.768713\n",
       "2013-01-02  0.576956  0.347899  1.379213  0.555220\n",
       "2013-01-03 -1.070117 -0.559845  1.004566 -0.663167\n",
       "2013-01-04  0.636903 -2.142020  0.726791  0.053031\n",
       "2013-01-05 -0.107280 -1.397373 -0.215382  0.336818\n",
       "2013-01-06 -2.157732 -1.143733 -0.717658 -0.883747"
      ]
     },
     "execution_count": 65,
     "metadata": {},
     "output_type": "execute_result"
    }
   ],
   "source": [
    "# 感受日期\n",
    "dates = pd.date_range('20130101', periods=6)\n",
    "df = pd.DataFrame(np.random.randn(6, 4), index=dates, columns=list('ABCD'))\n",
    "df\n"
   ]
  },
  {
   "cell_type": "code",
   "execution_count": 66,
   "metadata": {},
   "outputs": [
    {
     "name": "stdout",
     "output_type": "stream",
     "text": [
      "0    1\n",
      "1    1\n",
      "2    1\n",
      "3    1\n",
      "Name: A, dtype: int64\n",
      "<class 'pandas.core.series.Series'>\n"
     ]
    }
   ],
   "source": [
    "#pd中使用索引名来取某一行，或者列\n",
    "print(df_obj2['A'])\n",
    "#把df的某一列取出来是series\n",
    "print(type(df_obj2['A']))"
   ]
  },
  {
   "cell_type": "code",
   "execution_count": 67,
   "metadata": {},
   "outputs": [
    {
     "name": "stdout",
     "output_type": "stream",
     "text": [
      "   A          B    C  D       E        F  G\n",
      "0  1 2019-09-26  1.0  3  Python  wangdao  7\n",
      "1  1 2019-09-26  1.0  3    Java  wangdao  7\n",
      "2  1 2019-09-26  1.0  3     C++  wangdao  7\n",
      "3  1 2019-09-26  1.0  3       C  wangdao  7\n"
     ]
    }
   ],
   "source": [
    "#增加列数据，列名是自定义的\n",
    "df_obj2['G'] = df_obj2['D'] + 4\n",
    "print(df_obj2.head())"
   ]
  },
  {
   "cell_type": "code",
   "execution_count": 68,
   "metadata": {},
   "outputs": [
    {
     "name": "stdout",
     "output_type": "stream",
     "text": [
      "   A          B    C  D       E        F\n",
      "0  1 2019-09-26  1.0  3  Python  wangdao\n",
      "1  1 2019-09-26  1.0  3    Java  wangdao\n",
      "2  1 2019-09-26  1.0  3     C++  wangdao\n",
      "3  1 2019-09-26  1.0  3       C  wangdao\n"
     ]
    }
   ],
   "source": [
    "# 删除列\n",
    "del(df_obj2['G'])\n",
    "print(df_obj2.head())"
   ]
  },
  {
   "cell_type": "markdown",
   "metadata": {},
   "source": [
    "# 4 Pandas的索引操作"
   ]
  },
  {
   "cell_type": "code",
   "execution_count": 69,
   "metadata": {},
   "outputs": [
    {
     "name": "stdout",
     "output_type": "stream",
     "text": [
      "Index([0, 1, 2, 3], dtype='int64')\n"
     ]
    }
   ],
   "source": [
    "print(df_obj2.index)"
   ]
  },
  {
   "cell_type": "code",
   "execution_count": 70,
   "metadata": {},
   "outputs": [],
   "source": [
    "# 索引对象的值不可变（上面代码增加）\n",
    "# df_obj2.index[0] = 2"
   ]
  },
  {
   "cell_type": "markdown",
   "metadata": {},
   "source": [
    "3 常见的Index种类\n",
    "•Index，索引\n",
    "•Int64Index，整数索引\n",
    "•MultiIndex，层级索引\n",
    "•DatetimeIndex，时间戳类型"
   ]
  },
  {
   "cell_type": "code",
   "execution_count": 71,
   "metadata": {
    "scrolled": true
   },
   "outputs": [
    {
     "name": "stdout",
     "output_type": "stream",
     "text": [
      "a    0\n",
      "b    1\n",
      "c    2\n",
      "d    3\n",
      "e    4\n",
      "dtype: int64\n"
     ]
    },
    {
     "data": {
      "text/plain": [
       "Index(['a', 'b', 'c', 'd', 'e'], dtype='object')"
      ]
     },
     "execution_count": 71,
     "metadata": {},
     "output_type": "execute_result"
    }
   ],
   "source": [
    "ser_obj = pd.Series(range(5), index = list(\"abcde\"))\n",
    "print(ser_obj)\n",
    "ser_obj.index"
   ]
  },
  {
   "cell_type": "code",
   "execution_count": 72,
   "metadata": {},
   "outputs": [
    {
     "name": "stdout",
     "output_type": "stream",
     "text": [
      "1\n",
      "2\n"
     ]
    }
   ],
   "source": [
    "# 行索引，不仅可以用索引名，可以用索引顺序或来取\n",
    "print(ser_obj['b'])\n",
    "print(ser_obj[2])"
   ]
  },
  {
   "cell_type": "code",
   "execution_count": 73,
   "metadata": {},
   "outputs": [
    {
     "name": "stdout",
     "output_type": "stream",
     "text": [
      "b    1\n",
      "c    2\n",
      "dtype: int64\n",
      "b    1\n",
      "c    2\n",
      "d    3\n",
      "dtype: int64\n"
     ]
    }
   ],
   "source": [
    "# 切片索引\n",
    "print(ser_obj[1:3])  #索引顺序是开区间\n",
    "print(ser_obj['b':'d'])  #记住索引名是闭区间"
   ]
  },
  {
   "cell_type": "code",
   "execution_count": 74,
   "metadata": {},
   "outputs": [
    {
     "name": "stdout",
     "output_type": "stream",
     "text": [
      "a    0\n",
      "c    2\n",
      "e    4\n",
      "dtype: int64\n",
      "a    0\n",
      "e    4\n",
      "dtype: int64\n"
     ]
    }
   ],
   "source": [
    "# 不连续索引\n",
    "print(ser_obj[[0, 2, 4]])\n",
    "print(ser_obj[['a', 'e']])"
   ]
  },
  {
   "cell_type": "code",
   "execution_count": 75,
   "metadata": {},
   "outputs": [
    {
     "name": "stdout",
     "output_type": "stream",
     "text": [
      "a    False\n",
      "b    False\n",
      "c    False\n",
      "d     True\n",
      "e     True\n",
      "dtype: bool\n",
      "d    3\n",
      "e    4\n",
      "dtype: int64\n",
      "d    3\n",
      "e    4\n",
      "dtype: int64\n"
     ]
    }
   ],
   "source": [
    "# 布尔索引\n",
    "ser_bool = ser_obj > 2\n",
    "print(ser_bool)\n",
    "print(ser_obj[ser_bool])\n",
    "\n",
    "print(ser_obj[ser_obj > 2])"
   ]
  },
  {
   "cell_type": "markdown",
   "metadata": {},
   "source": [
    "4 DataFrame索引"
   ]
  },
  {
   "cell_type": "code",
   "execution_count": 76,
   "metadata": {},
   "outputs": [
    {
     "name": "stdout",
     "output_type": "stream",
     "text": [
      "          a         b         c         d\n",
      "0  2.228943  0.082282  0.447901 -0.006914\n",
      "1 -0.382095  0.327519 -3.231059  0.409777\n",
      "2  0.324636  0.403578  0.995357 -0.303842\n",
      "3 -0.679338  0.101418 -2.294858 -1.452952\n",
      "4  0.077820 -0.117911  0.269553 -0.832564\n"
     ]
    }
   ],
   "source": [
    "import numpy as np\n",
    "df_obj = pd.DataFrame(np.random.randn(5,4),\n",
    "                      columns = ['a', 'b', 'c', 'd'])\n",
    "print(df_obj.head())"
   ]
  },
  {
   "cell_type": "code",
   "execution_count": 77,
   "metadata": {},
   "outputs": [
    {
     "name": "stdout",
     "output_type": "stream",
     "text": [
      "0    2.228943\n",
      "1   -0.382095\n",
      "2    0.324636\n",
      "3   -0.679338\n",
      "4    0.077820\n",
      "Name: a, dtype: float64\n",
      "          a\n",
      "0  2.228943\n",
      "1 -0.382095\n",
      "2  0.324636\n",
      "3 -0.679338\n",
      "4  0.077820\n",
      "<class 'pandas.core.frame.DataFrame'>\n"
     ]
    }
   ],
   "source": [
    "# 列索引\n",
    "print(df_obj['a']) # 返回Series类型\n",
    "print(df_obj[['a']]) # 返回DataFrame类型\n",
    "print(type(df_obj[['a']])) # 返回DataFrame类型"
   ]
  },
  {
   "cell_type": "markdown",
   "metadata": {},
   "source": [
    "1. loc 标签索引"
   ]
  },
  {
   "cell_type": "code",
   "execution_count": 78,
   "metadata": {},
   "outputs": [
    {
     "name": "stdout",
     "output_type": "stream",
     "text": [
      "a    0\n",
      "b    1\n",
      "c    2\n",
      "d    3\n",
      "e    4\n",
      "dtype: int64\n",
      "b    1\n",
      "c    2\n",
      "d    3\n",
      "dtype: int64\n",
      "b    1\n",
      "c    2\n",
      "d    3\n",
      "dtype: int64\n",
      "--------------------------------------------------\n",
      "          d         c         b         a\n",
      "a  0.470745 -0.904508  0.318722  0.642868\n",
      "b  1.426400 -0.075491 -2.127929  0.229620\n",
      "c -0.441894  0.021033  1.284532 -0.089344\n",
      "d  0.836450  1.742709  0.103396  1.460833\n",
      "e -0.869034  0.667313 -0.473385 -0.731155\n",
      "--------------------------------------------------\n",
      "a    0.642868\n",
      "b    0.229620\n",
      "c   -0.089344\n",
      "d    1.460833\n",
      "e   -0.731155\n",
      "Name: a, dtype: float64\n",
      "--------------------------------------------------\n",
      "d    0.470745\n",
      "c   -0.904508\n",
      "b    0.318722\n",
      "a    0.642868\n",
      "Name: a, dtype: float64\n",
      "--------------------------------------------------\n",
      "          d         c         b\n",
      "a  0.470745 -0.904508  0.318722\n",
      "b  1.426400 -0.075491 -2.127929\n",
      "c -0.441894  0.021033  1.284532\n",
      "          d         c         b\n",
      "a  0.470745 -0.904508  0.318722\n",
      "c -0.441894  0.021033  1.284532\n"
     ]
    }
   ],
   "source": [
    "# 标签索引 loc，建议使用loc，效率更高\n",
    "# Series\n",
    "print(ser_obj)\n",
    "print(ser_obj['b':'d'])\n",
    "print(ser_obj.loc['b':'d'])\n",
    "\n",
    "# DataFrame\n",
    "print('-'*50)\n",
    "df_obj = pd.DataFrame(np.random.randn(5,4),\n",
    "                      columns = list('dcba'),\n",
    "                      index=list('abcde'))\n",
    "print(df_obj)\n",
    "print('-'*50)\n",
    "print(df_obj['a'])  #建议不用\n",
    "print('-'*50)\n",
    "print(df_obj.loc['a'])  #拿的是行\n",
    "print('-'*50)\n",
    "# 第一个参数索引行，第二个参数是列,loc或者iloc效率高于直接用取下标的方式，前闭后闭\n",
    "print(df_obj.loc['a':'c', 'd':'b'])\n",
    "print(df_obj.loc[['a','c'], 'd':'b'])"
   ]
  },
  {
   "cell_type": "markdown",
   "metadata": {},
   "source": [
    "iloc 位置索引"
   ]
  },
  {
   "cell_type": "code",
   "execution_count": 79,
   "metadata": {},
   "outputs": [
    {
     "name": "stdout",
     "output_type": "stream",
     "text": [
      "b    1\n",
      "c    2\n",
      "dtype: int64\n",
      "b    1\n",
      "c    2\n",
      "dtype: int64\n",
      "          d         c\n",
      "a  0.470745 -0.904508\n",
      "b  1.426400 -0.075491\n"
     ]
    }
   ],
   "source": [
    "# Series\n",
    "print(ser_obj[1:3])\n",
    "print(ser_obj.iloc[1:3])\n",
    "\n",
    "# DataFrame，iloc是前闭后开[)\n",
    "print(df_obj.iloc[0:2, 0:2]) # 注意和df_obj.loc[0:2, 'a']的区别"
   ]
  },
  {
   "cell_type": "markdown",
   "metadata": {},
   "source": [
    "# 5.对齐运算"
   ]
  },
  {
   "cell_type": "code",
   "execution_count": 80,
   "metadata": {},
   "outputs": [
    {
     "name": "stdout",
     "output_type": "stream",
     "text": [
      "s1+s2: \n",
      "0    30.0\n",
      "1    32.0\n",
      "2    34.0\n",
      "3    36.0\n",
      "4    38.0\n",
      "5     NaN\n",
      "6     NaN\n",
      "7     NaN\n",
      "8     NaN\n",
      "9     NaN\n",
      "dtype: float64\n",
      "nan\n",
      "--------------------------------------------------\n",
      "0    30.0\n",
      "1    32.0\n",
      "2    34.0\n",
      "3    36.0\n",
      "4    38.0\n",
      "5    15.0\n",
      "6    16.0\n",
      "7    17.0\n",
      "8    18.0\n",
      "9    19.0\n",
      "dtype: float64\n"
     ]
    }
   ],
   "source": [
    "import pandas as pd\n",
    "s1 = pd.Series(range(10, 20), index = range(10))\n",
    "s2 = pd.Series(range(20, 25), index = range(5))\n",
    "# Series 对齐运算\n",
    "print('s1+s2: ')\n",
    "s3=s1+s2\n",
    "print(s3)  #缺失数据默认是NaN  np.nan\n",
    "print(s3[6])\n",
    "print('-'*50)\n",
    "print(s1.add(s2, fill_value = 0))  #未对齐的数据将和填充值做运算"
   ]
  },
  {
   "cell_type": "code",
   "execution_count": 81,
   "metadata": {},
   "outputs": [
    {
     "name": "stdout",
     "output_type": "stream",
     "text": [
      "a    float64\n",
      "b    float64\n",
      "c    float64\n",
      "dtype: object\n",
      "     a    b   c\n",
      "0  0.0  0.0 NaN\n",
      "1  0.0  0.0 NaN\n",
      "2  NaN  NaN NaN\n",
      "     a    b    c\n",
      "0  0.0  0.0  1.0\n",
      "1  0.0  0.0  1.0\n",
      "2  1.0  1.0  1.0\n"
     ]
    }
   ],
   "source": [
    "import numpy as np\n",
    "df1 = pd.DataFrame(np.ones((2,2)), columns = ['a', 'b'])\n",
    "df2 = pd.DataFrame(np.ones((3,3)), columns = ['a', 'b', 'c'])\n",
    "print(df2.dtypes)\n",
    "print(df1-df2)\n",
    "print(df1.sub(df2, fill_value = 2)) #未对齐的数据将和填充值做运算"
   ]
  },
  {
   "cell_type": "markdown",
   "metadata": {},
   "source": [
    "# 6 Pandas的函数应用"
   ]
  },
  {
   "cell_type": "code",
   "execution_count": 82,
   "metadata": {},
   "outputs": [
    {
     "name": "stdout",
     "output_type": "stream",
     "text": [
      "          0         1         2         3\n",
      "0 -1.305726 -1.135654 -0.554831  0.147976\n",
      "1 -1.037710 -0.882149 -0.197268  0.420141\n",
      "2 -0.852634 -1.551909 -1.100477 -1.074611\n",
      "3 -1.713266 -2.285882 -0.654264 -1.733259\n",
      "4 -1.015803 -2.362060 -1.305834 -2.325915\n",
      "          0         1         2         3\n",
      "0  1.305726  1.135654  0.554831  0.147976\n",
      "1  1.037710  0.882149  0.197268  0.420141\n",
      "2  0.852634  1.551909  1.100477  1.074611\n",
      "3  1.713266  2.285882  0.654264  1.733259\n",
      "4  1.015803  2.362060  1.305834  2.325915\n"
     ]
    }
   ],
   "source": [
    "# Numpy ufunc 函数\n",
    "df = pd.DataFrame(np.random.randn(5,4) - 1)\n",
    "print(df)\n",
    "\n",
    "print(np.abs(df))"
   ]
  },
  {
   "cell_type": "code",
   "execution_count": 83,
   "metadata": {},
   "outputs": [
    {
     "name": "stdout",
     "output_type": "stream",
     "text": [
      "0   -0.852634\n",
      "1   -0.882149\n",
      "2   -0.197268\n",
      "3    0.420141\n",
      "dtype: float64\n"
     ]
    }
   ],
   "source": [
    "#apply默认作用在列上\n",
    "print(df.apply(lambda x : x.max()))"
   ]
  },
  {
   "cell_type": "code",
   "execution_count": 84,
   "metadata": {},
   "outputs": [
    {
     "name": "stdout",
     "output_type": "stream",
     "text": [
      "0    0.147976\n",
      "1    0.420141\n",
      "2   -0.852634\n",
      "3   -0.654264\n",
      "4   -1.015803\n",
      "dtype: float64\n"
     ]
    }
   ],
   "source": [
    "#apply作用在行上\n",
    "print(df.apply(lambda x : x.max(), axis=1))"
   ]
  },
  {
   "cell_type": "code",
   "execution_count": 85,
   "metadata": {},
   "outputs": [
    {
     "name": "stdout",
     "output_type": "stream",
     "text": [
      "       0      1      2      3\n",
      "0  -1.31  -1.14  -0.55   0.15\n",
      "1  -1.04  -0.88  -0.20   0.42\n",
      "2  -0.85  -1.55  -1.10  -1.07\n",
      "3  -1.71  -2.29  -0.65  -1.73\n",
      "4  -1.02  -2.36  -1.31  -2.33\n"
     ]
    },
    {
     "data": {
      "text/plain": [
       "0    float64\n",
       "1    float64\n",
       "2    float64\n",
       "3    float64\n",
       "dtype: object"
      ]
     },
     "execution_count": 85,
     "metadata": {},
     "output_type": "execute_result"
    }
   ],
   "source": [
    "# 使用applymap应用到每个数据\n",
    "print(df.applymap(lambda x : '%.2f' % x))\n",
    "df.dtypes"
   ]
  },
  {
   "cell_type": "code",
   "execution_count": 86,
   "metadata": {},
   "outputs": [
    {
     "data": {
      "text/plain": [
       "str"
      ]
     },
     "execution_count": 86,
     "metadata": {},
     "output_type": "execute_result"
    }
   ],
   "source": [
    "type('%.2f' % 1.3456)"
   ]
  },
  {
   "cell_type": "markdown",
   "metadata": {},
   "source": [
    "4 索引排序"
   ]
  },
  {
   "cell_type": "code",
   "execution_count": 87,
   "metadata": {},
   "outputs": [
    {
     "name": "stdout",
     "output_type": "stream",
     "text": [
      "[1 2 0 2 3]\n",
      "1    10\n",
      "3    11\n",
      "1    12\n",
      "0    13\n",
      "2    14\n",
      "dtype: int64\n",
      "1    10\n",
      "3    11\n",
      "1    12\n",
      "0    13\n",
      "2    14\n",
      "dtype: int64\n",
      "1    10\n",
      "3    11\n",
      "1    12\n",
      "dtype: int64\n"
     ]
    },
    {
     "data": {
      "text/plain": [
       "1    10\n",
       "3    11\n",
       "1    12\n",
       "dtype: int64"
      ]
     },
     "execution_count": 87,
     "metadata": {},
     "output_type": "execute_result"
    }
   ],
   "source": [
    "# Series\n",
    "print(np.random.randint(5, size=5))\n",
    "s4 = pd.Series(range(10, 15), index = np.random.randint(5, size=5))\n",
    "print(s4)\n",
    "\n",
    "# 索引排序,sort_index返回一个新的排好索引的series\n",
    "s4.sort_index() # 0 0 1 3 3\n",
    "print(s4)\n",
    "# s4.loc[0:3]  loc索引值不唯一时直接报错\n",
    "print(s4.iloc[0:3])\n",
    "s4[0:3]  #默认用的位置索引"
   ]
  },
  {
   "cell_type": "code",
   "execution_count": 88,
   "metadata": {},
   "outputs": [
    {
     "name": "stdout",
     "output_type": "stream",
     "text": [
      "          0         2         0         3         1\n",
      "1 -1.171957  1.458098  0.012585  0.605041  0.537171\n",
      "0  0.274180 -0.522851  0.861467  1.439273  1.269676\n",
      "2  0.375181  0.997232 -0.487253  0.602002 -0.912972\n",
      "4  0.014470 -0.405387 -1.232585 -0.086004 -1.806242\n",
      "1  0.185483  0.325240 -0.239014 -0.207462 -0.246139\n",
      "          0         2         0         3         1\n",
      "4  0.014470 -0.405387 -1.232585 -0.086004 -1.806242\n",
      "2  0.375181  0.997232 -0.487253  0.602002 -0.912972\n",
      "1 -1.171957  1.458098  0.012585  0.605041  0.537171\n",
      "1  0.185483  0.325240 -0.239014 -0.207462 -0.246139\n",
      "0  0.274180 -0.522851  0.861467  1.439273  1.269676\n",
      "          3         2         1         0         0\n",
      "1  0.605041  1.458098  0.537171 -1.171957  0.012585\n",
      "0  1.439273 -0.522851  1.269676  0.274180  0.861467\n",
      "2  0.602002  0.997232 -0.912972  0.375181 -0.487253\n",
      "4 -0.086004 -0.405387 -1.806242  0.014470 -1.232585\n",
      "1 -0.207462  0.325240 -0.246139  0.185483 -0.239014\n"
     ]
    }
   ],
   "source": [
    "# DataFrame\n",
    "df4 = pd.DataFrame(np.random.randn(5, 5), \n",
    "                   index=np.random.randint(5, size=5),\n",
    "                   columns=np.random.randint(5, size=5))\n",
    "print(df4)\n",
    "#轴零是行索引排序\n",
    "df4_isort = df4.sort_index(axis=0, ascending=False)\n",
    "print(df4_isort)\n",
    "#轴1是列索引排序\n",
    "df4_isort = df4.sort_index(axis=1, ascending=False)\n",
    "print(df4_isort) "
   ]
  },
  {
   "cell_type": "markdown",
   "metadata": {},
   "source": [
    "# 5 按值排序"
   ]
  },
  {
   "cell_type": "code",
   "execution_count": 89,
   "metadata": {},
   "outputs": [
    {
     "name": "stdout",
     "output_type": "stream",
     "text": [
      "[[25 87 45 78]\n",
      " [87 74 19 43]\n",
      " [84 64 12  6]\n",
      " [77 24 18 21]\n",
      " [28 56 36 90]\n",
      " [52 43 60 30]]\n",
      "--------------------------------------------------\n",
      "    0   1   2   3\n",
      "0  25  87  45  78\n",
      "1  87  74  19  43\n",
      "2  84  64  12   6\n",
      "3  77  24  18  21\n",
      "4  28  56  36  90\n",
      "5  52  43  60  30\n",
      "--------------------------------------------------\n",
      "    0   1   2   3\n",
      "4  28  56  36  90\n",
      "0  25  87  45  78\n",
      "1  87  74  19  43\n",
      "5  52  43  60  30\n",
      "3  77  24  18  21\n",
      "2  84  64  12   6\n",
      "    0   1   3   2\n",
      "0  25  87  78  45\n",
      "1  87  74  43  19\n",
      "2  84  64   6  12\n",
      "3  77  24  21  18\n",
      "4  28  56  90  36\n",
      "5  52  43  30  60\n"
     ]
    }
   ],
   "source": [
    "# 按值排序,by后是column的值\n",
    "import random\n",
    "l=[random.randint(0,100) for i in range(24)]\n",
    "df4 = pd.DataFrame(np.array(l).reshape(6,4))\n",
    "print(df4.values)\n",
    "print('-'*50)\n",
    "print(df4)\n",
    "print('-'*50)\n",
    "#按轴零排序，by后是列名\n",
    "df4_vsort = df4.sort_values(by=3,axis=0, ascending=False) #寻找的是columns里的3\n",
    "print(df4_vsort)\n",
    "#按轴1排序，by后行索引名\n",
    "df4_vsort = df4.sort_values(by=3,axis=1, ascending=False) #寻找的是index里的3\n",
    "print(df4_vsort)"
   ]
  },
  {
   "cell_type": "markdown",
   "metadata": {},
   "source": [
    "# 6 处理缺失数据"
   ]
  },
  {
   "cell_type": "code",
   "execution_count": 90,
   "metadata": {},
   "outputs": [
    {
     "name": "stdout",
     "output_type": "stream",
     "text": [
      "          0         1         2\n",
      "0  0.981565 -1.032121 -0.897749\n",
      "1  1.000000  2.000000       NaN\n",
      "2       NaN  4.000000       NaN\n",
      "3  1.000000  2.000000  3.000000\n"
     ]
    }
   ],
   "source": [
    "df_data = pd.DataFrame([np.random.randn(3), [1., 2., np.nan],\n",
    "                       [np.nan, 4., np.nan], [1., 2., 3.]])\n",
    "print(df_data.head())"
   ]
  },
  {
   "cell_type": "code",
   "execution_count": 91,
   "metadata": {},
   "outputs": [
    {
     "name": "stdout",
     "output_type": "stream",
     "text": [
      "       0      1      2\n",
      "0  False  False  False\n",
      "1  False  False   True\n",
      "2   True  False   True\n",
      "3  False  False  False\n"
     ]
    }
   ],
   "source": [
    "print(df_data.isnull())"
   ]
  },
  {
   "cell_type": "code",
   "execution_count": 92,
   "metadata": {},
   "outputs": [
    {
     "name": "stdout",
     "output_type": "stream",
     "text": [
      "          0         1         2\n",
      "0  0.981565 -1.032121 -0.897749\n",
      "3  1.000000  2.000000  3.000000\n"
     ]
    }
   ],
   "source": [
    "print(df_data.dropna())"
   ]
  },
  {
   "cell_type": "code",
   "execution_count": 93,
   "metadata": {},
   "outputs": [
    {
     "name": "stdout",
     "output_type": "stream",
     "text": [
      "          1\n",
      "0 -1.032121\n",
      "1  2.000000\n",
      "2  4.000000\n",
      "3  2.000000\n"
     ]
    }
   ],
   "source": [
    "print(df_data.dropna(axis=1))  #某列由nan就删除该列"
   ]
  },
  {
   "cell_type": "code",
   "execution_count": 94,
   "metadata": {},
   "outputs": [
    {
     "name": "stdout",
     "output_type": "stream",
     "text": [
      "0      0.981565\n",
      "1      1.000000\n",
      "2   -100.000000\n",
      "3      1.000000\n",
      "Name: 0, dtype: float64\n"
     ]
    }
   ],
   "source": [
    "#给零列的空值填为-100\n",
    "print(df_data.iloc[:,0].fillna(-100.))"
   ]
  },
  {
   "cell_type": "code",
   "execution_count": 95,
   "metadata": {},
   "outputs": [
    {
     "name": "stdout",
     "output_type": "stream",
     "text": [
      "0\n",
      "1\n",
      "2\n"
     ]
    }
   ],
   "source": [
    "for i in df_data.columns:\n",
    "    print(i)"
   ]
  },
  {
   "cell_type": "markdown",
   "metadata": {},
   "source": [
    "# 7 层级索引（hierarchical indexing）"
   ]
  },
  {
   "cell_type": "code",
   "execution_count": 96,
   "metadata": {},
   "outputs": [
    {
     "name": "stdout",
     "output_type": "stream",
     "text": [
      "cloth  size\n",
      "a      0       0.002239\n",
      "       1       0.707520\n",
      "       2       0.075174\n",
      "b      0       0.787577\n",
      "       1       1.001632\n",
      "       2       0.150439\n",
      "c      0      -1.469386\n",
      "       1      -1.640237\n",
      "       2      -0.707698\n",
      "d      0       0.001504\n",
      "       1      -1.601224\n",
      "       2       0.832861\n",
      "dtype: float64\n",
      "<class 'pandas.core.series.Series'>\n",
      "<class 'pandas.core.indexes.multi.MultiIndex'>\n",
      "MultiIndex([('a', 0),\n",
      "            ('a', 1),\n",
      "            ('a', 2),\n",
      "            ('b', 0),\n",
      "            ('b', 1),\n",
      "            ('b', 2),\n",
      "            ('c', 0),\n",
      "            ('c', 1),\n",
      "            ('c', 2),\n",
      "            ('d', 0),\n",
      "            ('d', 1),\n",
      "            ('d', 2)],\n",
      "           names=['cloth', 'size'])\n",
      "[['a', 'b', 'c', 'd'], [0, 1, 2]]\n"
     ]
    },
    {
     "data": {
      "text/plain": [
       "FrozenList([[0, 0, 0, 1, 1, 1, 2, 2, 2, 3, 3, 3], [0, 1, 2, 0, 1, 2, 0, 1, 2, 0, 1, 2]])"
      ]
     },
     "execution_count": 96,
     "metadata": {},
     "output_type": "execute_result"
    }
   ],
   "source": [
    "import pandas as pd\n",
    "import numpy as np\n",
    "\n",
    "#MultiIndex是层级索引，索引类型的一种\n",
    "index1 = pd.MultiIndex.from_arrays([['a', 'a', 'a', 'b', 'b', 'b', 'c', 'c', 'c', 'd', 'd', 'd'],\n",
    "                [0, 1, 2, 0, 1, 2, 0, 1, 2, 0, 1, 2]], names=['cloth', 'size'])\n",
    "\n",
    "ser_obj = pd.Series(np.random.randn(12),index=index1)\n",
    "print(ser_obj)\n",
    "print(type(ser_obj))\n",
    "print(type(ser_obj.index))\n",
    "print(ser_obj.index)\n",
    "print(ser_obj.index.levels)\n",
    "ser_obj.index.codes\n"
   ]
  },
  {
   "cell_type": "code",
   "execution_count": 97,
   "metadata": {},
   "outputs": [
    {
     "name": "stdout",
     "output_type": "stream",
     "text": [
      "cloth  size\n",
      "a      0       0.002239\n",
      "       1       0.707520\n",
      "       2       0.075174\n",
      "b      0       0.787577\n",
      "       1       1.001632\n",
      "       2       0.150439\n",
      "c      0      -1.469386\n",
      "       1      -1.640237\n",
      "       2      -0.707698\n",
      "d      0       0.001504\n",
      "       1      -1.601224\n",
      "       2       0.832861\n",
      "dtype: float64\n",
      "--------------------------------------------------\n",
      "size\n",
      "0   -1.469386\n",
      "1   -1.640237\n",
      "2   -0.707698\n",
      "dtype: float64\n",
      "--------------------------------------------------\n",
      "0.07517383834471368\n",
      "--------------------------------------------------\n",
      "cloth\n",
      "a    0.075174\n",
      "b    0.150439\n",
      "c   -0.707698\n",
      "d    0.832861\n",
      "dtype: float64\n"
     ]
    }
   ],
   "source": [
    "#层级索引如何取数据\n",
    "print(ser_obj) \n",
    "print('-'*50)\n",
    "print(ser_obj['c'])\n",
    "print('-'*50)\n",
    "print(ser_obj['a', 2])\n",
    "print('-'*50)\n",
    "print(ser_obj[:, 2])"
   ]
  },
  {
   "cell_type": "code",
   "execution_count": 98,
   "metadata": {},
   "outputs": [
    {
     "name": "stdout",
     "output_type": "stream",
     "text": [
      "size  cloth\n",
      "0     a        0.002239\n",
      "1     a        0.707520\n",
      "2     a        0.075174\n",
      "0     b        0.787577\n",
      "1     b        1.001632\n",
      "2     b        0.150439\n",
      "0     c       -1.469386\n",
      "1     c       -1.640237\n",
      "2     c       -0.707698\n",
      "0     d        0.001504\n",
      "1     d       -1.601224\n",
      "2     d        0.832861\n",
      "dtype: float64\n",
      "--------------------------------------------------\n",
      "size  cloth\n",
      "0     a        0.002239\n",
      "1     a        0.707520\n",
      "2     a        0.075174\n",
      "0     b        0.787577\n",
      "1     b        1.001632\n",
      "2     b        0.150439\n",
      "0     c       -1.469386\n",
      "1     c       -1.640237\n",
      "2     c       -0.707698\n",
      "0     d        0.001504\n",
      "1     d       -1.601224\n",
      "2     d        0.832861\n",
      "dtype: float64\n",
      "size  cloth\n",
      "0     a        0.002239\n",
      "      b        0.787577\n",
      "      c       -1.469386\n",
      "      d        0.001504\n",
      "1     a        0.707520\n",
      "      b        1.001632\n",
      "      c       -1.640237\n",
      "      d       -1.601224\n",
      "2     a        0.075174\n",
      "      b        0.150439\n",
      "      c       -0.707698\n",
      "      d        0.832861\n",
      "dtype: float64\n",
      "size          0         1         2\n",
      "cloth                              \n",
      "a      0.002239  0.707520  0.075174\n",
      "b      0.787577  1.001632  0.150439\n",
      "c     -1.469386 -1.640237 -0.707698\n",
      "d      0.001504 -1.601224  0.832861\n"
     ]
    }
   ],
   "source": [
    "#交换层级\n",
    "print(ser_obj.swaplevel())\n",
    "print('-'*50)\n",
    "\n",
    "ser_obj=ser_obj.swaplevel()\n",
    "print(ser_obj)\n",
    "print(ser_obj.sort_index(level=0))  #层级索引按那个索引级别排序\n",
    "#把0索引（最外层索引）变为列索引\n",
    "df_obj=ser_obj.unstack(0)  #unstack可以放索引名，或者索引位置\n",
    "print(df_obj)\n"
   ]
  },
  {
   "cell_type": "code",
   "execution_count": 99,
   "metadata": {},
   "outputs": [
    {
     "data": {
      "text/plain": [
       "cloth  size\n",
       "a      0       0.002239\n",
       "       1       0.707520\n",
       "       2       0.075174\n",
       "b      0       0.787577\n",
       "       1       1.001632\n",
       "       2       0.150439\n",
       "c      0      -1.469386\n",
       "       1      -1.640237\n",
       "       2      -0.707698\n",
       "d      0       0.001504\n",
       "       1      -1.601224\n",
       "       2       0.832861\n",
       "dtype: float64"
      ]
     },
     "execution_count": 99,
     "metadata": {},
     "output_type": "execute_result"
    }
   ],
   "source": [
    "#对df进行stack，就会把行，列索引进行堆叠，变为series\n",
    "df_obj.stack()  #stack变为series和unstack保持一致的"
   ]
  },
  {
   "cell_type": "markdown",
   "metadata": {},
   "source": [
    "# 8 Pandas统计计算和描述"
   ]
  },
  {
   "cell_type": "code",
   "execution_count": 100,
   "metadata": {},
   "outputs": [
    {
     "name": "stdout",
     "output_type": "stream",
     "text": [
      "size          0         1         2\n",
      "cloth                              \n",
      "a      0.002239  0.707520  0.075174\n",
      "b      0.787577  1.001632  0.150439\n",
      "c     -1.469386 -1.640237 -0.707698\n",
      "d      0.001504 -1.601224  0.832861\n",
      "size          0         1         2   b\n",
      "cloth                                  \n",
      "a      0.002239  0.707520  0.075174 NaN\n",
      "b      0.787577  1.001632  0.150439 NaN\n",
      "c     -1.469386 -1.640237 -0.707698 NaN\n",
      "d      0.001504 -1.601224  0.832861 NaN\n",
      "0           NaN       NaN       NaN NaN\n",
      "--------------------------------------------------\n",
      "size\n",
      "0   -1.469386\n",
      "1   -1.640237\n",
      "2   -0.707698\n",
      "b         NaN\n",
      "dtype: float64\n",
      "--------------------------------------------------\n",
      "size          0         1         2    b\n",
      "count  4.000000  4.000000  4.000000  0.0\n",
      "mean  -0.169516 -0.383077  0.087694  NaN\n",
      "std    0.942415  1.434243  0.630348  NaN\n",
      "min   -1.469386 -1.640237 -0.707698  NaN\n",
      "25%   -0.366218 -1.610978 -0.120544  NaN\n",
      "50%    0.001872 -0.446852  0.112806  NaN\n",
      "75%    0.198574  0.781048  0.321044  NaN\n",
      "max    0.787577  1.001632  0.832861  NaN\n"
     ]
    }
   ],
   "source": [
    "print(df_obj)\n",
    "df_obj.loc[0,'b']=np.nan\n",
    "print(df_obj)\n",
    "print('-'*50)\n",
    "print(df_obj.min(axis=0, skipna=True))\n",
    "print('-'*50)\n",
    "print(df_obj.describe())  #观察数据分布的一种方法"
   ]
  },
  {
   "cell_type": "code",
   "execution_count": 101,
   "metadata": {},
   "outputs": [
    {
     "data": {
      "text/plain": [
       "size\n",
       "0   -1.469386\n",
       "1   -1.640237\n",
       "2   -0.707698\n",
       "b         NaN\n",
       "Name: c, dtype: float64"
      ]
     },
     "execution_count": 101,
     "metadata": {},
     "output_type": "execute_result"
    }
   ],
   "source": [
    "df_obj.loc['c']"
   ]
  },
  {
   "cell_type": "code",
   "execution_count": 103,
   "metadata": {},
   "outputs": [
    {
     "name": "stdout",
     "output_type": "stream",
     "text": [
      "1\n"
     ]
    }
   ],
   "source": [
    "#计算最小值或者最大值的索引的位置\n",
    "print(df_obj.loc['c'].argmin())#argmin和argmax只能是series，不能是df\n"
   ]
  },
  {
   "cell_type": "code",
   "execution_count": 104,
   "metadata": {},
   "outputs": [
    {
     "data": {
      "text/plain": [
       "cloth\n",
       "a    0.0\n",
       "b    2.0\n",
       "c    1.0\n",
       "d    1.0\n",
       "0    NaN\n",
       "dtype: float64"
      ]
     },
     "execution_count": 104,
     "metadata": {},
     "output_type": "execute_result"
    }
   ],
   "source": [
    "#返回的是一个series\n",
    "df_obj.idxmin(axis=1)  #计算最小值或者最大值的索引值"
   ]
  },
  {
   "cell_type": "code",
   "execution_count": 114,
   "metadata": {},
   "outputs": [
    {
     "name": "stdout",
     "output_type": "stream",
     "text": [
      "<class 'pandas.core.frame.DataFrame'>\n",
      "RangeIndex: 1000 entries, 0 to 999\n",
      "Data columns (total 12 columns):\n",
      " #   Column              Non-Null Count  Dtype  \n",
      "---  ------              --------------  -----  \n",
      " 0   Rank                1000 non-null   int64  \n",
      " 1   Title               1000 non-null   object \n",
      " 2   Genre               1000 non-null   object \n",
      " 3   Description         1000 non-null   object \n",
      " 4   Director            1000 non-null   object \n",
      " 5   Actors              1000 non-null   object \n",
      " 6   Year                1000 non-null   int64  \n",
      " 7   Runtime (Minutes)   1000 non-null   int64  \n",
      " 8   Rating              1000 non-null   float64\n",
      " 9   Votes               1000 non-null   int64  \n",
      " 10  Revenue (Millions)  872 non-null    float64\n",
      " 11  Metascore           936 non-null    float64\n",
      "dtypes: float64(3), int64(4), object(5)\n",
      "memory usage: 93.9+ KB\n",
      "None\n",
      "              Rank         Year  Runtime (Minutes)       Rating         Votes  \\\n",
      "count  1000.000000  1000.000000        1000.000000  1000.000000  1.000000e+03   \n",
      "mean    500.500000  2012.783000         113.172000     6.723200  1.698083e+05   \n",
      "std     288.819436     3.205962          18.810908     0.945429  1.887626e+05   \n",
      "min       1.000000  2006.000000          66.000000     1.900000  6.100000e+01   \n",
      "25%     250.750000  2010.000000         100.000000     6.200000  3.630900e+04   \n",
      "50%     500.500000  2014.000000         111.000000     6.800000  1.107990e+05   \n",
      "75%     750.250000  2016.000000         123.000000     7.400000  2.399098e+05   \n",
      "max    1000.000000  2016.000000         191.000000     9.000000  1.791916e+06   \n",
      "\n",
      "       Revenue (Millions)   Metascore  \n",
      "count          872.000000  936.000000  \n",
      "mean            82.956376   58.985043  \n",
      "std            103.253540   17.194757  \n",
      "min              0.000000   11.000000  \n",
      "25%             13.270000   47.000000  \n",
      "50%             47.985000   59.500000  \n",
      "75%            113.715000   72.000000  \n",
      "max            936.630000  100.000000  \n",
      "--------------------------------------------------\n",
      "644\n",
      "644\n",
      "导演人数： 1000\n",
      "[['Chris Pratt', 'Vin Diesel', 'Bradley Cooper', 'Zoe Saldana'], ['Noomi Rapace', 'Logan Marshall-Green', 'Michael Fassbender', 'Charlize Theron'], ['James McAvoy', 'Anya Taylor-Joy', 'Haley Lu Richardson', 'Jessica Sula'], ['Matthew McConaughey,Reese Witherspoon', 'Seth MacFarlane', 'Scarlett Johansson'], ['Will Smith', 'Jared Leto', 'Margot Robbie', 'Viola Davis'], ['Matt Damon', 'Tian Jing', 'Willem Dafoe', 'Andy Lau'], ['Ryan Gosling', 'Emma Stone', 'Rosemarie DeWitt', 'J.K. Simmons'], ['Essie Davis', 'Andrea Riseborough', 'Julian Barratt,Kenneth Branagh'], ['Charlie Hunnam', 'Robert Pattinson', 'Sienna Miller', 'Tom Holland'], ['Jennifer Lawrence', 'Chris Pratt', 'Michael Sheen,Laurence Fishburne'], ['Eddie Redmayne', 'Katherine Waterston', 'Alison Sudol,Dan Fogler'], ['Taraji P. Henson', 'Octavia Spencer', 'Janelle Monáe,Kevin Costner'], ['Felicity Jones', 'Diego Luna', 'Alan Tudyk', 'Donnie Yen'], [\"Auli'i Cravalho\", 'Dwayne Johnson', 'Rachel House', 'Temuera Morrison'], ['Anne Hathaway', 'Jason Sudeikis', 'Austin Stowell,Tim Blake Nelson'], ['Louis C.K.', 'Eric Stonestreet', 'Kevin Hart', 'Lake Bell'], ['Andrew Garfield', 'Sam Worthington', 'Luke Bracey,Teresa Palmer'], ['Matt Damon', 'Tommy Lee Jones', 'Alicia Vikander,Vincent Cassel'], ['Dev Patel', 'Nicole Kidman', 'Rooney Mara', 'Sunny Pawar'], ['Amy Adams', 'Jeremy Renner', 'Forest Whitaker,Michael Stuhlbarg'], ['Matthew McConaughey', 'Edgar Ramírez', 'Bryce Dallas Howard', 'Corey Stoll'], ['Casey Affleck', 'Michelle Williams', 'Kyle Chandler,Lucas Hedges'], ['Emma Booth', 'Ashleigh Cummings', 'Stephen Curry,Susie Porter'], ['Anna Kendrick', 'Justin Timberlake,Zooey Deschanel', 'Christopher Mintz-Plasse'], ['Liam Hemsworth', 'Jeff Goldblum', 'Bill Pullman,Maika Monroe'], ['Fiona Gordon', 'Dominique Abel,Emmanuelle Riva', 'Pierre Richard'], ['Prabhas', 'Rana Daggubati', 'Anushka Shetty,Tamannaah Bhatia'], ['Jocelin Donahue', 'Jesse Bradford', 'Jesse Borrego,Lori Petty'], ['Mila Kunis', 'Kathryn Hahn', 'Kristen Bell,Christina Applegate'], ['Michael Fassbender', 'Marion Cotillard', 'Jeremy Irons,Brendan Gleeson'], ['Zoey Deutch', 'James Franco', 'Tangie Ambrose,Cedric the Entertainer'], ['Amy Adams', 'Jake Gyllenhaal', 'Michael Shannon', 'Aaron Taylor-Johnson'], ['James McAvoy', 'Michael Fassbender', 'Jennifer Lawrence', 'Nicholas Hoult'], ['Ryan Reynolds', 'Morena Baccarin', 'T.J. Miller', 'Ed Skrein'], ['Milla Jovovich', 'Iain Glen', 'Ali Larter', 'Shawn Roberts'], ['Chris Evans', 'Robert Downey Jr.,Scarlett Johansson', 'Sebastian Stan'], ['Matthew McConaughey', 'Anne Hathaway', 'Jessica Chastain', 'Mackenzie Foy'], ['Benedict Cumberbatch', 'Chiwetel Ejiofor', 'Rachel McAdams', 'Benedict Wong'], ['Denzel Washington', 'Chris Pratt', \"Ethan Hawke,Vincent D'Onofrio\"], ['John Francis Daley', 'Austin Pendleton', 'Colleen Camp', 'Neil Flynn'], ['Seth Rogen', 'Kristen Wiig', 'Jonah Hill', 'Alistair Abell'], ['Mahershala Ali', 'Shariff Earp', 'Duan Sanderson', 'Alex R. Hibbert'], ['Brittany Blanton', 'Ayse Howard', 'Roman Jossart,Nadia White'], ['Michael Keaton', 'Nick Offerman', 'John Carroll Lynch', 'Linda Cardellini'], ['Gabriel Chavarria', 'Demián Bichir', 'Theo Rossi,Tony Revolori'], ['Johnny Depp', 'Penélope Cruz', 'Ian McShane', 'Geoffrey Rush'], ['Jessica Chastain', 'Mark Strong', 'Gugu Mbatha-Raw,Michael Stuhlbarg'], ['Hermione Corfield', 'Addison Timlin', 'Joely Richardson,Jeremy Irvine'], ['Chris Pine', 'Zachary Quinto', 'Karl Urban', 'Zoe Saldana'], ['Charlize Theron', 'Javier Bardem', 'Adèle Exarchopoulos,Jared Harris'], ['Daisy Ridley', 'John Boyega', 'Oscar Isaac', 'Domhnall Gleeson'], ['Kate Beckinsale', 'Theo James', 'Tobias Menzies', 'Lara Pulver'], ['Jennifer Aniston', 'Kate Hudson', 'Julia Roberts', 'Jason Sudeikis'], ['Keanu Reeves', 'Michael Nyqvist', 'Alfie Allen', 'Willem Dafoe'], ['Christian Bale', 'Heath Ledger', 'Aaron Eckhart,Michael Caine'], ['Andrew Garfield', 'Adam Driver', 'Liam Neeson,Tadanobu Asano'], ['Stephen Lang', 'Jane Levy', 'Dylan Minnette', 'Daniel Zovatto'], ['Emilia Clarke', 'Sam Claflin', 'Janet McTeer', 'Charles Dance'], ['Gemma Arterton', 'Sam Claflin', 'Bill Nighy', 'Jack Huston'], ['Tom Hanks', 'Aaron Eckhart', 'Laura Linney', 'Valerie Mahaffey'], ['Ben Affleck', 'Henry Cavill', 'Amy Adams', 'Jesse Eisenberg'], ['Brian Cox', 'Emile Hirsch', 'Ophelia Lovibond', 'Michael McElhatton'], ['Emily Blunt', 'Haley Bennett', 'Rebecca Ferguson', 'Justin Theroux'], ['Dakota Johnson', 'Jamie Dornan', 'Jennifer Ehle,Eloise Mumford'], ['Christian Bale', 'Hugh Jackman', 'Scarlett Johansson', 'Michael Caine'], ['Colin Firth', 'Taron Egerton', 'Samuel L. Jackson,Michael Caine'], ['Mark Wahlberg', 'Michelle Monaghan', 'J.K. Simmons', 'John Goodman'], ['Tom Hardy', 'Charlize Theron', 'Nicholas Hoult', 'Zoë Kravitz'], ['Bryan Cranston', 'Jennifer Garner', \"Beverly D'Angelo,Jason O'Mara\"], ['Mark Wahlberg', 'Kurt Russell', 'Douglas M. Griffin', 'James DuMont'], ['Oscar Isaac', 'Charlotte Le Bon', 'Christian Bale', 'Daniel Giménez Cacho'], ['Brad Pitt', 'Marion Cotillard', 'Jared Harris', 'Vincent Ebrahim'], ['Lewis MacDougall', 'Sigourney Weaver', 'Felicity Jones,Toby Kebbell'], ['Will Smith', 'Edward Norton', 'Kate Winslet', 'Michael Peña'], ['Ginnifer Goodwin', 'Jason Bateman', 'Idris Elba', 'Jenny Slate'], ['Johnny Depp', 'Orlando Bloom', 'Keira Knightley,Geoffrey Rush'], ['Robert Downey Jr.', 'Chris Evans', 'Scarlett Johansson,Jeremy Renner'], ['Brad Pitt', 'Diane Kruger', 'Eli Roth,Mélanie Laurent'], ['Johnny Depp', 'Orlando Bloom', 'Keira Knightley', 'Jack Davenport'], ['Melissa McCarthy', 'Kristen Wiig', 'Kate McKinnon', 'Leslie Jones'], ['Leonardo DiCaprio', 'Joseph Gordon-Levitt', 'Ellen Page', 'Ken Watanabe'], ['Viggo Mortensen', 'George MacKay', 'Samantha Isler,Annalise Basso'], ['Leonardo DiCaprio', 'Jonah Hill', 'Margot Robbie,Matthew McConaughey'], ['Ben Affleck', 'Rosamund Pike', 'Neil Patrick Harris,Tyler Perry'], ['Vin Diesel', 'Paul Walker', 'Dwayne Johnson', 'Jason Statham'], ['Chris Pratt', 'Bryce Dallas Howard', 'Ty Simpkins,Judy Greer'], ['Ben Affleck', 'Elle Fanning', 'Brendan Gleeson', 'Chris Messina'], ['Sam Worthington', 'Zoe Saldana', 'Sigourney Weaver', 'Michelle Rodriguez'], ['Samuel L. Jackson', 'Kurt Russell', 'Jennifer Jason Leigh', 'Walton Goggins'], ['Ben Affleck', 'Anna Kendrick', 'J.K. Simmons', 'Jon Bernthal'], ['Hugh Jackman', 'Jake Gyllenhaal', 'Viola Davis,Melissa Leo'], ['Travis Fimmel', 'Paula Patton', 'Ben Foster', 'Dominic Cooper'], ['Emma Stone', 'Viola Davis', 'Octavia Spencer', 'Bryce Dallas Howard'], ['Jonah Hill', 'Miles Teller', 'Steve Lantz', 'Gregg Weiner'], ['Robert Downey Jr.', 'Chris Evans', 'Mark Ruffalo', 'Chris Hemsworth'], ['Russell Crowe', 'Ryan Gosling', 'Angourie Rice', 'Matt Bomer'], ['Ryûnosuke Kamiki', 'Mone Kamishiraishi', 'Ryô Narita', 'Aoi Yuki'], ['Aaron Poole', 'Kenneth Welsh,Daniel Fathers', 'Kathleen Munroe'], ['Kristen Stewart', 'Lars Eidinger', 'Sigrid Bouaziz,Anders Danielsen Lie'], ['Leonardo DiCaprio', 'Matt Damon', 'Jack Nicholson', 'Mark Wahlberg'], ['Tom Hardy', 'Emily Browning', 'Taron Egerton', 'Paul Anderson'], ['Chris Hemsworth', 'Anthony Hopkins', 'Natalie Portman', 'Tom Hiddleston'], ['Matt Damon', 'Jessica Chastain', 'Kristen Wiig', 'Kate Mara'], ['Mario Casas', 'Ana Wagener', 'José Coronado', 'Bárbara Lennie'], ['Henry Cavill', 'Armie Hammer', 'Alicia Vikander', 'Elizabeth Debicki'], ['Chris Pine', 'Ben Foster', 'Jeff Bridges', 'Gil Birmingham'], ['Robert De Niro', 'Leslie Mann', 'Danny DeVito', 'Edie Falco'], ['Alexander Skarsgård', 'Rory J. Saper', 'Christian Stevens', 'Christoph Waltz'], ['Eve Lindley', 'Richard Kind', 'Mark Consuelos', 'Katherine Reis'], ['Alicia Vikander', 'Domhnall Gleeson', 'Oscar Isaac,Sonoya Mizuno'], ['John Gallagher Jr.', 'Tony Goldwyn', 'Adria Arjona', 'John C. McGinley'], ['Chiwetel Ejiofor', 'Michael Kenneth Williams', 'Michael Fassbender', 'Brad Pitt'], ['Keanu Reeves', 'Jason Momoa', 'Jim Carrey', 'Diego Luna'], ['Gerard Butler', 'Lena Headey', 'David Wenham', 'Dominic West'], ['Daniel Radcliffe', 'Emma Watson', 'Rupert Grint', 'Michael Gambon'], ['Jason Bateman', 'Olivia Munn', 'T.J. Miller,Jennifer Aniston'], ['Elle Fanning', 'Christina Hendricks', 'Keanu Reeves', 'Karl Glusman'], ['Aamir Khan', 'Sakshi Tanwar', 'Fatima Sana Shaikh,Sanya Malhotra'], ['John Goodman', 'Mary Elizabeth Winstead', 'John Gallagher Jr.', 'Douglas M. Griffin'], ['Ellen DeGeneres', \"Albert Brooks,Ed O'Neill\", 'Kaitlin Olson'], ['Eva Green', 'Asa Butterfield', 'Samuel L. Jackson', 'Judi Dench'], ['Shailene Woodley', 'Theo James', 'Kate Winslet', 'Jai Courtney'], ['Zac Efron', 'Adam Devine', 'Anna Kendrick', 'Aubrey Plaza'], ['Scott Adkins', 'Teodora Duhovnikova', 'Alon Aboutboul', 'Julian Vergov'], ['Christian Bale', 'Tom Hardy', 'Anne Hathaway,Gary Oldman'], ['Neel Sethi', 'Bill Murray', 'Ben Kingsley', 'Idris Elba'], ['Mark Wahlberg', 'Nicola Peltz', 'Jack Reynor', 'Stanley Tucci'], ['Emma Roberts', 'Dave Franco', 'Emily Meade', 'Miles Heizer'], ['Meryl Streep', 'Pierce Brosnan', 'Amanda Seyfried,Stellan Skarsgård'], ['Leonardo DiCaprio', 'Tom Hardy', 'Will Poulter', 'Domhnall Gleeson'], ['Denzel Washington', 'Viola Davis', 'Stephen Henderson', 'Jovan Adepo'], ['Anna Kendrick', 'Meryl Streep', 'Chris Pine', 'Emily Blunt'], ['Blake Lively', 'Óscar Jaenada', 'Angelo Josue Lozano Corzo', 'Brett Cullen'], ['Miles Teller', 'J.K. Simmons', 'Melissa Benoist', 'Paul Reiser'], ['Vin Diesel', 'Paul Walker', 'Dwayne Johnson', 'Michelle Rodriguez'], ['Ryan Gosling', 'Bradley Cooper', 'Eva Mendes,Craig Van Hook'], ['Tommy Lee Jones', 'Javier Bardem', 'Josh Brolin', 'Woody Harrelson'], ['Leonardo DiCaprio', 'Carey Mulligan', 'Joel Edgerton,Tobey Maguire'], ['Leonardo DiCaprio', 'Emily Mortimer', 'Mark Ruffalo,Ben Kingsley'], ['Dakota Fanning', 'Guy Pearce', 'Kit Harington,Carice van Houten'], ['Chris Pine', 'Zachary Quinto', 'Simon Pegg', 'Leonard Nimoy'], ['Zachary Gordon', 'Robert Capron', 'Rachael Harris,Steve Zahn'], ['Christian Bale', 'Steve Carell', 'Ryan Gosling', 'Brad Pitt'], ['Brie Larson', 'Jacob Tremblay', 'Sean Bridgers,Wendy Crewson'], ['Jamie Foxx', 'Christoph Waltz', 'Leonardo DiCaprio,Kerry Washington'], ['Min-hee Kim', 'Jung-woo Ha', 'Jin-woong Jo', 'So-ri Moon'], ['Hailee Steinfeld', 'Haley Lu Richardson', 'Blake Jenner', 'Kyra Sedgwick'], ['Jackie Earle Haley', 'Patrick Wilson', 'Carla Gugino,Malin Akerman'], ['Michael Cera', 'Jonah Hill', 'Christopher Mintz-Plasse', 'Bill Hader'], ['Tom Hanks', 'Felicity Jones', 'Irrfan Khan', 'Ben Foster'], ['Mark Rylance', 'Ruby Barnhill', 'Penelope Wilton,Jemaine Clement'], ['Jennifer Lawrence', 'Josh Hutcherson', 'Liam Hemsworth,Stanley Tucci'], ['Morgan Saylor', 'Brian Marc', 'Justin Bartha', 'Adrian Martinez'], ['Emily Blunt', 'Josh Brolin', 'Benicio Del Toro', 'Jon Bernthal'], ['Chris Isaak', 'Kiefer Sutherland', 'C.H. Evans', 'Sandra Kinder'], ['Reiko Aylesworth', 'Steven Pasquale,Shareeka Epps', 'John Ortiz'], ['Idris Elba', 'Charlie Hunnam', 'Rinko Kikuchi,Charlie Day'], ['Steve Carell', 'Ryan Gosling', 'Julianne Moore', 'Emma Stone'], ['Michael Cera', 'Mary Elizabeth Winstead', 'Kieran Culkin', 'Alison Pill'], ['Simon Pegg', 'Nick Frost', 'Martin Freeman', 'Bill Nighy'], ['Armie Hammer', 'Annabelle Wallis,Tom Cullen', 'Clint Dyer'], ['Sharlto Copley', 'Brie Larson', 'Armie Hammer', 'Cillian Murphy'], ['Patrick Stewart', 'Ian McKellen', 'Hugh Jackman', 'James McAvoy'], ['Tom Cruise', 'Cobie Smulders', 'Aldis Hodge', 'Robert Knepper'], ['Daniel Craig', 'Eva Green', 'Judi Dench', 'Jeffrey Wright'], ['Kristen Stewart', 'Robert Pattinson', 'Billy Burke,Sarah Clarke'], ['Jesse Eisenberg', 'Mark Ruffalo', 'Woody Harrelson', 'Dave Franco'], ['Helen Mirren', 'Ryan Reynolds', 'Daniel Brühl', 'Katie Holmes'], ['John Krasinski', 'Pablo Schreiber', 'James Badge Dale,David Denman'], ['Daniel Craig', 'Christoph Waltz', 'Léa Seydoux', 'Ralph Fiennes'], ['Jake Gyllenhaal', 'Rene Russo', 'Bill Paxton', 'Riz Ahmed'], ['Charlize Theron', 'Art Parkinson', 'Matthew McConaughey', 'Ralph Fiennes'], ['Graham Skipper', 'Chase Williamson', 'Brea Grant,Barbara Crampton'], ['Joaquin Phoenix', 'Amy Adams', 'Scarlett Johansson,Rooney Mara'], ['Kristen Bell', 'Idina Menzel', 'Jonathan Groff', 'Josh Gad'], ['George Clooney', 'Britt Robertson', 'Hugh Laurie', 'Raffey Cassidy'], ['Gary Oldman', 'Keri Russell', 'Andy Serkis', 'Kodi Smit-McPhee'], ['Ben Stiller', 'Jack Black', 'Robert Downey Jr.', 'Jeff Kahn'], ['Vera Farmiga', 'Patrick Wilson', 'Madison Wolfe', \"Frances O'Connor\"], ['Paul Rudd', 'Michael Douglas', 'Corey Stoll', 'Evangeline Lilly'], ['Renée Zellweger', 'Gemma Jones', 'Jim Broadbent,Sally Phillips'], ['Anya Taylor-Joy', 'Ralph Ineson', 'Kate Dickie', 'Julian Richings'], ['Lily James', 'Cate Blanchett', 'Richard Madden,Helena Bonham Carter'], ['Tom Hughes', 'Charlotte Le Bon', 'Oona Chaplin', 'Barry Ward'], ['Taraneh Alidoosti', 'Shahab Hosseini', 'Babak Karimi,Farid Sajjadi Hosseini'], ['Aomi Muyock', 'Karl Glusman', 'Klara Kristin', 'Juan Saavedra'], ['Joe Alwyn', 'Garrett Hedlund', 'Arturo Castro', 'Mason Lee'], ['Mia Wasikowska', 'Jessica Chastain', 'Tom Hiddleston', 'Charlie Hunnam'], ['Ryan Gosling', 'Carey Mulligan', 'Bryan Cranston', 'Albert Brooks'], ['Amy Schumer', 'Bill Hader', 'Brie Larson', 'Colin Quinn'], ['Michael Fassbender', 'Alicia Vikander', 'Rachel Weisz', 'Florence Clery'], ['Erika Linder', 'Natalie Krill', 'Sebastian Pigott', 'Mayko Nguyen'], ['Mark Ruffalo', 'Michael Keaton', 'Rachel McAdams', 'Liev Schreiber'], ['Kate Mara', 'Anya Taylor-Joy', 'Rose Leslie', 'Michael Yare'], ['Tom Hardy', 'Nick Nolte', 'Joel Edgerton', 'Jennifer Morrison'], ['Chris Evans', 'Hugo Weaving', 'Samuel L. Jackson,Hayley Atwell'], ['Callan McAuliffe', 'Lorraine Nicholson', 'Daniel Eric Gold', 'Clifton Collins Jr.'], ['Emile Hirsch', 'Vince Vaughn', 'Catherine Keener', 'Marcia Gay Harden'], ['Benedict Cumberbatch', 'Keira Knightley', 'Matthew Goode', 'Allen Leech'], ['Dwayne Johnson', 'Kevin Hart', 'Danielle Nicolet', 'Amy Ryan'], ['Tom Cruise', 'Emily Blunt', 'Bill Paxton', 'Brendan Gleeson'], ['Dane DeHaan', 'Jason Isaacs', 'Mia Goth', 'Ivo Nandi'], ['Joseph Gordon-Levitt', 'Shailene Woodley', 'Melissa Leo,Zachary Quinto'], ['Robert Downey Jr.', 'Gwyneth Paltrow', 'Terrence Howard', 'Jeff Bridges'], ['Shailene Woodley', 'Theo James', 'Jeff Daniels,Naomi Watts'], ['James McAvoy', 'Michael Fassbender', 'Jennifer Lawrence', 'Kevin Bacon'], ['Garance Marillier', 'Ella Rumpf', 'Rabah Nait Oufella,Laurent Lucas'], ['Adam Driver', 'Golshifteh Farahani', 'Nellie', 'Rizwan Manji'], ['Kristen Wiig', 'Maya Rudolph', 'Rose Byrne', 'Terry Crews'], ['Gemma Arterton', 'Glenn Close', 'Dominique Tipper,Paddy Considine'], ['Dwayne Johnson', 'Carla Gugino', 'Alexandra Daddario,Colton Haynes'], ['Vanessa Hudgens', 'Selena Gomez', 'Ashley Benson,Rachel Korine'], ['Shia LaBeouf', 'Megan Fox', 'Josh Duhamel', 'Tyrese Gibson'], ['Josh Brolin', 'Elizabeth Olsen', 'Samuel L. Jackson', 'Sharlto Copley'], ['Chris Hemsworth', 'Natalie Portman', 'Tom Hiddleston,Stellan Skarsgård'], ['Brenton Thwaites', 'Nikolaj Coster-Waldau', 'Gerard Butler', 'Chadwick Boseman'], ['Chris Evans', 'Samuel L. Jackson,Scarlett Johansson', 'Robert Redford'], ['Lucas Till', 'Jane Levy', 'Thomas Lennon', 'Barry Pepper'], ['Mark Huberman', 'Susan Loughnane', 'Steve Oram,Catherine Walker'], ['Aaron Taylor-Johnson', 'Nicolas Cage', 'Chloë Grace Moretz', 'Garrett M. Brown'], ['Sharlto Copley', 'Tim Roth', 'Haley Bennett', 'Danila Kozlovsky'], ['Owen Wilson', 'Bonnie Hunt', 'Paul Newman', 'Larry the Cable Guy'], ['Maika Monroe', 'Keir Gilchrist', 'Olivia Luccardi,Lili Sepe'], ['Daniel Craig', 'Rooney Mara', 'Christopher Plummer,Stellan Skarsgård'], ['Jason Sudeikis', 'Jennifer Aniston', 'Emma Roberts', 'Ed Helms'], ['Sasha Lane', 'Shia LaBeouf', 'Riley Keough', 'McCaul Lombardi'], ['Colin Farrell', 'Rachel Weisz', 'Jessica Barden,Olivia Colman'], ['Adrien Brody', 'Laurence Fishburne', 'Topher Grace,Alice Braga'], ['Angelina Jolie', 'Elle Fanning', 'Sharlto Copley,Lesley Manville'], ['Noomi Rapace', 'Michael Chiklis', 'Kerry Bishé,Peter Stormare'], ['Ivana Baquero', 'Ariadna Gil', 'Sergi López,Maribel Verdú'], ['Patrick Wilson', 'Jessica Biel', 'Haley Bennett', 'Vincent Kartheiser'], ['Gerardo Taracena', 'Raoul Max Trujillo', 'Dalia Hernández,Rudy Youngblood'], ['Tom Cruise', 'Rebecca Ferguson', 'Jeremy Renner', 'Simon Pegg'], ['Chris Hemsworth', 'Jessica Chastain', 'Charlize Theron', 'Emily Blunt'], ['Logan Lerman', 'Emma Watson', 'Ezra Miller', 'Paul Rudd'], ['Natalie Portman', 'Peter Sarsgaard', 'Greta Gerwig,Billy Crudup'], ['Kate Beckinsale', 'Mel Raido', 'Duncan Joiner', 'Lucas Till'], ['Ralph Fiennes', 'F. Murray Abraham', 'Mathieu Amalric,Adrien Brody'], ['Saoirse Ronan', 'Max Irons', 'Jake Abel', 'Diane Kruger'], ['Brad Pitt', 'Shia LaBeouf', 'Logan Lerman', 'Michael Peña'], ['Amy Poehler', 'Bill Hader', 'Lewis Black', 'Mindy Kaling'], ['Luke Wilson', 'Eddie Izzard', 'J.K. Simmons', 'Lewis Black'], ['Arnold Schwarzenegger', 'Jason Clarke', 'Emilia Clarke,Jai Courtney'], ['Logan Lerman', 'Kevin McKidd', 'Steve Coogan,Brandon T. Jackson'], ['Hugh Jackman', 'Russell Crowe', 'Anne Hathaway,Amanda Seyfried'], ['Julianne Moore', 'Clive Owen', 'Chiwetel Ejiofor,Michael Caine'], ['Annette Bening', 'Elle Fanning', 'Greta Gerwig', 'Billy Crudup'], ['Melissa McCarthy', 'Rose Byrne', 'Jude Law', 'Jason Statham'], ['François Cluzet', 'Omar Sy', 'Anne Le Ny', 'Audrey Fleurot'], ['Diane Lane', 'Alec Baldwin', 'Arnaud Viard', 'Linda Gegusch'], ['Christos Stergioglou', 'Michele Valley', 'Angeliki Papoulia', 'Hristos Passalis'], [\"O'Shea Jackson Jr.\", 'Corey Hawkins', 'Jason Mitchell,Neil Brown Jr.'], ['Andrew Garfield', 'Emma Stone', 'Jamie Foxx', 'Paul Giamatti'], ['Patrick Wilson', 'Vera Farmiga', 'Ron Livingston', 'Lili Taylor'], ['Zach Galifianakis', 'Bradley Cooper', 'Justin Bartha', 'Ed Helms'], ['Alexander Skarsgård', 'Brooklyn Decker', 'Liam Neeson,Rihanna'], ['James Franco', 'Andy Serkis', 'Freida Pinto', 'Karin Konoval'], ['Teresa Palmer', 'Gabriel Bateman', 'Maria Bello,Billy Burke'], ['Richard Gere', 'Lior Ashkenazi', 'Michael Sheen,Charlotte Gainsbourg'], ['Michael Keaton', 'Zach Galifianakis,Edward Norton', 'Andrea Riseborough'], ['Natalie Portman', 'Mila Kunis', 'Vincent Cassel,Winona Ryder'], ['Tyler James Williams', 'Tessa Thompson', 'Kyle Gallner,Teyonah Parris'], ['Charlotte Gainsbourg', 'Stellan Skarsgård', 'Stacy Martin', 'Shia LaBeouf'], ['Megan Fox', 'Will Arnett', 'Tyler Perry', 'Laura Linney'], ['Keanu Reeves', 'Lorenza Izzo', 'Ana de Armas', 'Aaron Burns'], ['Robert De Niro', 'Zac Efron', 'Zoey Deutch', 'Aubrey Plaza'], ['Tom Hanks', 'Halle Berry', 'Hugh Grant', 'Hugo Weaving'], ['Hugh Jackman', 'Liev Schreiber', 'Ryan Reynolds', 'Danny Huston'], ['Sarah Hyland', 'Steven Krueger', 'Justin Chon', 'Clara Mamet'], ['Daniel Craig', 'Javier Bardem', 'Naomie Harris', 'Judi Dench'], ['Martin Freeman', 'Ian McKellen', 'Richard Armitage,Andy Serkis'], ['Jonah Hill', 'Channing Tatum', 'Ice Cube,Brie Larson'], ['Ferdia Walsh-Peelo', 'Aidan Gillen', 'Maria Doyle Kennedy', 'Jack Reynor'], ['Elle Fanning', 'Dane DeHaan', 'Carly Rae Jepsen', 'Maddie Ziegler'], ['Tom Cruise', 'Morgan Freeman', 'Andrea Riseborough', 'Olga Kurylenko'], ['Channing Tatum', 'Jonah Hill', 'Ice Cube,Nick Offerman'], ['Jake Gyllenhaal', 'Robert Downey Jr.', 'Mark Ruffalo,Anthony Edwards'], ['Blake Jenner', 'Tyler Hoechlin', 'Ryan Guzman,Zoey Deutch'], ['Robert Downey Jr.', 'Guy Pearce', 'Gwyneth Paltrow,Don Cheadle'], ['Jesse Eisenberg', 'Common', 'Mark Ruffalo', 'Woody Harrelson'], ['Robert Downey Jr.', 'Jude Law', 'Rachel McAdams', 'Mark Strong'], ['Kurt Russell', 'Zoë Bell', 'Rosario Dawson', 'Vanessa Ferlito'], ['Eddie Redmayne', 'Alicia Vikander', 'Amber Heard', 'Ben Whishaw'], ['Dwayne Johnson', 'John Hurt', 'Ian McShane', 'Joseph Fiennes'], ['Emily Browning', 'Vanessa Hudgens', 'Abbie Cornish,Jena Malone'], ['Zach Galifianakis', 'Isla Fisher', 'Jon Hamm', 'Gal Gadot'], ['Channing Tatum', 'Mila Kunis,Eddie Redmayne', 'Sean Bean'], ['Zach Galifianakis', 'Kristen Wiig', 'Owen Wilson', 'Ross Kimball'], ['Romain Duris', 'Charlotte Le Bon', 'Jalil Lespert', 'Camille Cottin'], ['Yoo Gong', 'Soo-an Kim', 'Yu-mi Jung', 'Dong-seok Ma'], ['Anna Kendrick', 'Brittany Snow', 'Rebel Wilson', 'Anna Camp'], ['Seth Rogen', 'Rose Byrne', 'Zac Efron', 'Chloë Grace Moretz'], ['Lily James', 'Jai Courtney', 'Christopher Plummer', 'Loïs van Wijk'], ['Henry Cavill', 'Amy Adams', 'Michael Shannon', 'Diane Lane'], ['Benjamin Walker', 'Teresa Palmer', 'Alexandra Daddario,Maggie Grace'], ['Ray Romano', 'Denis Leary', 'John Leguizamo', 'Chris Wedge'], ['Anne Hathaway', 'Meryl Streep', 'Adrian Grenier', 'Emily Blunt'], ['Bryan Cranston', 'John Leguizamo', 'Diane Kruger', 'Amy Ryan'], ['Daniel Day-Lewis', 'Paul Dano', 'Ciarán Hinds,Martin Stringer'], ['Denzel Washington', 'Marton Csokas', 'Chloë Grace Moretz', 'David Harbour'], ['Mark Wahlberg', 'Taylor Kitsch', 'Emile Hirsch', 'Ben Foster'], ['Kristen Connolly', 'Chris Hemsworth', 'Anna Hutchison,Fran Kranz'], ['Anna Faris', 'Colin Hanks', 'Emma Stone', 'Kat Dennings'], ['Jay Baruchel', 'Alice Eve', 'T.J. Miller', 'Mike Vogel'], ['Joaquin Phoenix', 'Josh Brolin', 'Owen Wilson,Katherine Waterston'], ['Mia Wasikowska', 'Johnny Depp', 'Helena Bonham Carter', 'Anne Hathaway'], ['Emile Hirsch', 'Zoë Kravitz', 'Zoey Deutch,Emory Cohen'], ['Lucas Black', 'Zachery Ty Bryan', 'Shad Moss', 'Damien Marzette'], ['Dakota Johnson', 'Rebel Wilson', 'Leslie Mann', 'Alison Brie'], ['Quinton Aaron', 'Sandra Bullock', 'Tim McGraw,Jae Head'], ['Léa Seydoux', 'Adèle Exarchopoulos', 'Salim Kechiouche', 'Aurélien Recoing'], ['Essie Davis', 'Noah Wiseman', 'Daniel Henshall', 'Hayley McElhinney'], ['Ian McKellen', 'Martin Freeman', 'Richard Armitage,Cate Blanchett'], ['Daniel Radcliffe', 'Emma Watson', 'Rupert Grint', 'Brendan Gleeson'], ['Chris Evans', 'Jamie Bell', 'Tilda Swinton', 'Ed Harris'], ['Chloë Grace Moretz', 'Matthew Zuk', 'Gabriela Lopez,Bailey Anne Borders'], ['Connor Paolo', 'Nick Damici', 'Laura Abramsen', 'A.C. Peterson'], ['Olivia DeJonge', 'Ed Oxenbould', 'Deanna Dunagan', 'Peter McRobbie'], ['Vin Diesel', 'Paul Walker', 'Dwayne Johnson', 'Jordana Brewster'], ['Channing Tatum', 'Jenna Dewan Tatum', 'Damaine Radcliff', \"De'Shawn Washington\"], ['Riley Keough', 'Jena Malone', 'Jessie Ok Gray', 'Cary Joji Fukunaga'], ['Gerard Butler', 'Tom Wilkinson', 'Idris Elba', 'Thandie Newton'], ['Justin Timberlake', 'Amanda Seyfried', 'Cillian Murphy,Olivia Wilde'], ['Jesse Eisenberg', 'Andrew Garfield', 'Justin Timberlake,Rooney Mara'], ['Vin Diesel', 'Rose Leslie', 'Elijah Wood', 'Ólafur Darri Ólafsson'], ['Daniel Radcliffe', 'James McAvoy', 'Jessica Brown Findlay', 'Andrew Scott'], ['Luke Treadaway', 'Bob the Cat', 'Ruta Gedmintas', 'Joanne Froggatt'], ['Anton Yelchin', 'Imogen Poots', 'Alia Shawkat,Patrick Stewart'], ['Chris Hemsworth', 'Viola Davis', 'Wei Tang', 'Leehom Wang'], ['Andy Samberg', 'Katie Crown,Kelsey Grammer', 'Jennifer Aniston'], ['Bradley Cooper', 'Sienna Miller', 'Kyle Gallner', 'Cole Konis'], ['Matthew McConaughey', 'Jennifer Garner', 'Jared Leto', 'Steve Zahn'], ['Daniel Day-Lewis', 'Sally Field', 'David Strathairn,Joseph Gordon-Levitt'], ['Daniel Brühl', 'Chris Hemsworth', 'Olivia Wilde,Alexandra Maria Lara'], ['Kate Bosworth', 'Thomas Jane', 'Jacob Tremblay,Annabeth Gish'], ['Bradley Cooper', 'Jennifer Lawrence', 'Robert De Niro', 'Jacki Weaver'], ['Alexi Pappas', 'Chase Offerle', 'Rachel Dratch', 'Andy Buckley'], ['Shailene Woodley', 'Ansel Elgort', 'Nat Wolff', 'Laura Dern'], ['Adam Sandler', 'Drew Barrymore', 'Wendi McLendon-Covey', 'Kevin Nealon'], ['Vin Diesel', 'Paul Walker', 'Michelle Rodriguez', 'Jordana Brewster'], ['Joseph Gordon-Levitt', 'Bruce Willis', 'Emily Blunt', 'Paul Dano'], ['Channing Tatum', 'Jamie Foxx', 'Maggie Gyllenhaal,Jason Clarke'], ['Bryce Dallas Howard', 'Robert Redford', 'Oakes Fegley,Oona Laurence'], ['Tobey Maguire', 'Kirsten Dunst', 'Topher Grace', 'Thomas Haden Church'], ['Logan Lerman', 'Matthew Macfadyen', 'Ray Stevenson', 'Milla Jovovich'], ['Charlie Cox', 'Claire Danes', 'Sienna Miller', 'Ian McKellen'], ['Christian Bale', 'Amy Adams', 'Bradley Cooper,Jennifer Lawrence'], ['Megan Fox', 'Amanda Seyfried', 'Adam Brody', 'Johnny Simmons'], ['Owen Wilson', 'Rachel McAdams', 'Kathy Bates', 'Kurt Fuller'], ['Florence Pugh', 'Christopher Fairbank', 'Cosmo Jarvis', 'Naomi Ackie'], ['Jennifer Lawrence', 'Robert De Niro', 'Bradley Cooper', 'Edgar Ramírez'], ['Kate Winslet', 'Judy Davis', 'Liam Hemsworth,Hugo Weaving'], ['Jesse Eisenberg', 'Kristen Stewart', 'Steve Carell', 'Blake Lively'], ['Shailene Woodley', 'Ansel Elgort', 'Theo James,Kate Winslet'], ['Ben Barnes', 'Julianne Moore', 'Jeff Bridges', 'Alicia Vikander'], ['Omar Sy', 'Clémence Poésy', 'Antoine Bertrand', 'Ashley Walters'], ['Eddie Redmayne', 'Felicity Jones', 'Tom Prior', 'Sophie Perry'], ['James Franco', 'Jonah Hill', 'Seth Rogen,Jay Baruchel'], ['Domhnall Gleeson', 'Rachel McAdams', 'Bill Nighy,Lydia Wilson'], ['Will Ferrell', 'John C. Reilly', 'Mary Steenburgen,Richard Jenkins'], ['Andy Powers', 'Laura Allen', 'Peter Stormare', 'Christian Distefano'], ['Chris Pine', 'Zachary Quinto', 'Zoe Saldana', 'Benedict Cumberbatch'], ['Jesse Eisenberg', 'Emma Stone', 'Woody Harrelson,Abigail Breslin'], ['Josh Brolin', 'George Clooney', 'Alden Ehrenreich', 'Ralph Fiennes'], ['Dev Patel', 'Freida Pinto', 'Saurabh Shukla', 'Anil Kapoor'], ['Kristen Stewart', 'Robert Pattinson', 'Taylor Lautner', 'Peter Facinelli'], ['William Fichtner', 'Jon Voight', 'Lia Marie Johnson,Gabriel Basso'], ['Andrew Garfield', 'Emma Stone', 'Rhys Ifans', 'Irrfan Khan'], ['Jack Huston', 'Toby Kebbell', 'Rodrigo Santoro,Nazanin Boniadi'], ['Jacob Latimore', 'Seychelle Gabriel', 'Dulé Hill', 'Storm Reid'], [\"Dylan O'Brien\", 'Kaya Scodelario', 'Will Poulter', 'Thomas Brodie-Sangster'], ['Kevin Costner', 'Ryan Reynolds', 'Gal Gadot', 'Gary Oldman'], ['Angelina Jolie', 'James McAvoy', 'Morgan Freeman', 'Terence Stamp'], ['Meryl Streep', 'Hugh Grant', 'Simon Helberg', 'Rebecca Ferguson'], ['Nicholas Hoult', 'Felicity Jones', 'Anthony Hopkins', 'Ben Kingsley'], ['Johnny Depp', 'Benedict Cumberbatch', 'Dakota Johnson', 'Joel Edgerton'], ['Michael B. Jordan', 'Sylvester Stallone', 'Tessa Thompson', 'Phylicia Rashad'], ['Paul Dano', 'Daniel Radcliffe', 'Mary Elizabeth Winstead', 'Antonia Ribero'], ['Sylvester Stallone', 'Jason Statham', 'Jet Li', 'Antonio Banderas'], ['Jemaine Clement', 'Taika Waititi,Cori Gonzalez-Macuer', 'Jonny Brugh'], ['Jake Gyllenhaal', 'Rachel McAdams', 'Oona Laurence,Forest Whitaker'], ['John Gallagher Jr.', 'Kate Siegel', 'Michael Trucco,Samantha Sloyan'], ['Tom Hanks', 'Mark Rylance', 'Alan Alda', 'Amy Ryan'], ['Chris Pratt', 'Will Ferrell', 'Elizabeth Banks', 'Will Arnett'], ['Jason Clarke', 'Ang Phula Sherpa', 'Thomas M. Wright', 'Martin Henderson'], ['Adam Sandler', 'Kevin James', 'Michelle Monaghan,Peter Dinklage'], ['Russell Crowe', 'Cate Blanchett', 'Matthew Macfadyen,Max von Sydow'], ['Hugh Jackman', 'Will Yun Lee', 'Tao Okamoto', 'Rila Fukushima'], ['Taylor Kitsch', 'Lynn Collins', 'Willem Dafoe,Samantha Morton'], ['Keegan-Michael Key', 'Jordan Peele', 'Tiffany Haddish,Method Man'], ['Sean Penn', 'Idris Elba', 'Jasmine Trinca', 'Javier Bardem'], ['Michael Fassbender', 'Kate Winslet', 'Seth Rogen', 'Jeff Daniels'], ['Tim Pigott-Smith', 'Naomi Battrick', 'Ellie Kendrick,James Cosmo'], ['Adam Sandler', 'Kevin James', 'Chris Rock', 'David Spade'], ['Blake Lively', 'Michiel Huisman', 'Harrison Ford,Kathy Baker'], ['Edward Norton', 'Liv Tyler', 'Tim Roth', 'William Hurt'], ['Vince Vaughn', 'Malin Akerman', 'Jon Favreau', 'Jason Bateman'], ['Simon Pegg', 'Kate Beckinsale', 'Sanjeev Bhaskar', 'Rob Riggle'], ['Channing Tatum', 'Alex Pettyfer', 'Olivia Munn,Matthew McConaughey'], ['Sandra Bullock', 'Jon Hamm', 'Michael Keaton', 'Pierre Coffin'], ['Natasha Henstridge', 'Lukas Hassel', 'Lin Shaye,Dominique Swain'], ['Tom Hardy', 'Kelly Adams', 'Luing Andrews,Katy Barker'], ['Steve Carell', 'Jason Segel', 'Russell Brand', 'Julie Andrews'], ['James Marsden', 'Michelle Monaghan', 'Luke Bracey,Liana Liberato'], ['Logan Marshall-Green', 'Emayatzy Corinealdi', 'Michiel Huisman', 'Tammy Blanchard'], ['Jessica Chastain', 'Joel Edgerton', 'Chris Pratt', 'Mark Strong'], ['Mandy Moore', 'Zachary Levi', 'Donna Murphy', 'Ron Perlman'], ['Jennifer Lawrence', 'Josh Hutcherson', 'Liam Hemsworth', 'Woody Harrelson'], ['Ed Helms', 'Christina Applegate', 'Skyler Gisondo', 'Steele Stebbins'], ['Liam Neeson', 'Maggie Grace', 'Famke Janssen', 'Leland Orser'], ['Anna Kendrick', 'Rebel Wilson', 'Hailee Steinfeld,Brittany Snow'], ['Billy Crystal', 'John Goodman', 'Steve Buscemi', 'Helen Mirren'], ['Isabelle Huppert', 'Laurent Lafitte', 'Anne Consigny,Charles Berling'], ['Jason Statham', 'Jessica Alba', 'Tommy Lee Jones,Michelle Yeoh'], ['Justin Long', 'Michael Parks', 'Haley Joel Osment,Genesis Rodriguez'], ['Alison Brie', 'Gerard Butler', 'Willem Dafoe', 'Gretchen Mol'], ['Keira Knightley', 'James McAvoy', 'Brenda Blethyn,Saoirse Ronan'], ['Daniel Radcliffe', 'Emma Watson', 'Rupert Grint', 'Bill Nighy'], ['Michael Fassbender', 'Carey Mulligan', 'James Badge Dale', 'Lucy Walters'], ['Saoirse Ronan', 'Cate Blanchett', 'Eric Bana', 'Vicky Krieps'], ['Lauren Birkell', 'Paul Borghese', 'Chira Cassel', 'Anthony Cirillo'], ['Lily James', 'Sam Riley', 'Jack Huston', 'Bella Heathcote'], ['Sullivan Stapleton', 'Eva Green', 'Lena Headey', 'Hans Matheson'], ['Gerard Butler', 'Aaron Eckhart', 'Morgan Freeman,Angela Bassett'], ['Brad Pitt', 'Cate Blanchett', 'Tilda Swinton', 'Julia Ormond'], ['Mickey Rourke', 'Jessica Alba', 'Josh Brolin', 'Joseph Gordon-Levitt'], ['Matt Damon', 'Edgar Ramírez', 'Joan Allen', 'Julia Stiles'], [\"Srdjan 'Zika' Todorovic\", 'Sergej Trifunovic,Jelena Gavrilovic', 'Slobodan Bestic'], ['Frank Grillo', 'Elizabeth Mitchell', 'Mykelti Williamson', 'Joseph Julian Soria'], ['Aamir Khan', 'Madhavan', 'Mona Singh', 'Sharman Joshi'], ['Ben Stiller', 'Owen Wilson', 'Penélope Cruz', 'Will Ferrell'], ['Brad Pitt', 'Mireille Enos', 'Daniella Kertesz', 'James Badge Dale'], ['Tom Cruise', 'Jeremy Renner', 'Simon Pegg', 'Paula Patton'], ['Marilyn Manson', 'Mark Boone Junior', 'Sam Quartin', 'Niko Nicotera'], ['James McAvoy', 'Jamie Bell', 'Eddie Marsan', 'Imogen Poots'], ['Scott Eastwood', 'Britt Robertson', 'Alan Alda', 'Jack Huston'], ['Naomi Watts', 'Ewan McGregor', 'Tom Holland', 'Oaklee Pendergast'], ['Aaron Taylor-Johnson', 'Chloë Grace Moretz,Christopher Mintz-Plasse', 'Jim Carrey'], ['Alex Karpovsky', 'Wyatt Russell', 'Meredith Hagner,Melanie Lynskey'], ['James Franco', 'Michelle Williams', 'Rachel Weisz', 'Mila Kunis'], ['Saoirse Ronan', 'Emory Cohen', 'Domhnall Gleeson,Jim Broadbent'], ['Dakota Fanning', 'Teri Hatcher', 'John Hodgman', 'Jennifer Saunders'], ['Ryan Gosling', 'Michelle Williams', 'John Doman,Faith Wladyka'], ['Logan Paul', 'Peyton List', 'Lia Marie Johnson,Calum Worthy'], ['Radha Mitchell', 'Laurie Holden', 'Sean Bean,Deborah Kara Unger'], ['Karl Urban', 'Olivia Thirlby', 'Lena Headey', 'Rachel Wood'], ['Sam Neill', 'Julian Dennison', 'Rima Te Wiata', 'Rachel House'], ['Ryan Potter', 'Scott Adsit', 'Jamie Chung,T.J. Miller'], ['Chloë Grace Moretz', 'Julianne Moore', 'Gabriella Wilde', 'Portia Doubleday'], ['Robert Downey Jr.', 'Mickey Rourke', 'Gwyneth Paltrow,Don Cheadle'], ['Jake Gyllenhaal', 'Naomi Watts', 'Chris Cooper,Judah Lewis'], ['Dennis Quaid', 'Ben Foster', 'Cam Gigandet', 'Antje Traue'], ['Gerard Butler', 'Aaron Eckhart', 'Morgan Freeman,Angela Bassett'], ['Alex Pettyfer', 'Timothy Olyphant', 'Dianna Agron', 'Teresa Palmer'], ['Mads Mikkelsen', 'Thomas Bo Larsen', 'Annika Wedderkopp', 'Lasse Fogelstrøm'], ['Sandra Bullock', 'Ryan Reynolds', 'Mary Steenburgen,Craig T. Nelson'], ['Will Ferrell', 'Kevin Hart', 'Alison Brie', 'T.I.'], ['Adam Sandler', 'Jennifer Aniston', 'Brooklyn Decker,Nicole Kidman'], ['Leonardo DiCaprio', 'Kate Winslet', 'Christopher Fitzgerald', 'Jonathan Roumie'], ['Ben Affleck', 'Rebecca Hall', 'Jon Hamm', 'Jeremy Renner'], ['Lauren Cohan', 'Rupert Evans', 'James Russell', 'Jim Norton'], ['Rachel Weisz', 'Tom Wilkinson', 'Timothy Spall', 'Andrew Scott'], ['Ethan Hawke', 'Sarah Snook', 'Noah Taylor', 'Madeleine West'], ['Jack Black', 'Dylan Minnette', 'Odeya Rush', 'Ryan Lee'], ['Robert Downey Jr.', 'Jude Law', 'Jared Harris', 'Rachel McAdams'], ['Angelina Jolie', 'Liev Schreiber', 'Chiwetel Ejiofor', 'Daniel Olbrychski'], ['Jake Gyllenhaal', 'Mélanie Laurent', 'Sarah Gadon,Isabella Rossellini'], ['Sharlto Copley', 'David James', 'Jason Cope', 'Nathalie Boltt'], ['Will Ferrell', 'Mark Wahlberg', 'Derek Jeter', 'Eva Mendes'], ['Denzel Washington', 'Russell Crowe', 'Chiwetel Ejiofor,Josh Brolin'], ['Kirsten Dunst', 'Jason Schwartzman', 'Rip Torn', 'Judy Davis'], ['John Cusack', 'Thandie Newton', 'Chiwetel Ejiofor,Amanda Peet'], ['Daniel Radcliffe', 'Emma Watson', 'Rupert Grint', 'Michael Gambon'], ['Ben Affleck', 'Bryan Cranston', 'John Goodman', 'Alan Arkin'], ['Taron Egerton', 'Hugh Jackman', 'Tom Costello', 'Jo Hartley'], ['Ulrich Mühe', 'Martina Gedeck,Sebastian Koch', 'Ulrich Tukur'], ['Dominic Monaghan', 'Ksenia Solo', \"Jennette McCurdy,Da'Vone McDonald\"], ['Alia Shawkat', 'Nancy Kwan', 'Annabelle Attanasio,Alfred Molina'], ['Michael Fassbender', 'Marion Cotillard', 'Jack Madigan,Frank Madigan'], ['Kristen Bell', 'Jason Segel', 'Paul Rudd', 'Mila Kunis'], ['Brenton Thwaites', 'Jeff Bridges', 'Meryl Streep', 'Taylor Swift'], ['Casey Affleck', 'Chiwetel Ejiofor', 'Anthony Mackie,Aaron Paul'], ['Giuseppe Battiston', 'Anna Foglietta', 'Marco Giallini,Edoardo Leo'], ['Jason Sudeikis', 'Josh Gad', 'Danny McBride', 'Maya Rudolph'], ['Jared Gilman', 'Kara Hayward', 'Bruce Willis', 'Bill Murray'], ['John Travolta', 'Queen Latifah', 'Nikki Blonsky,Michelle Pfeiffer'], ['Julianne Hough', 'Josh Duhamel', 'Cobie Smulders,David Lyons'], ['Will Smith', 'Margot Robbie', 'Rodrigo Santoro', 'Adrian Martinez'], ['Brad Garrett', 'Lou Romano', 'Patton Oswalt,Ian Holm'], ['Connor Paolo', 'Nick Damici', 'Kelly McGillis', 'Gregory Jones'], ['Denzel Washington', 'Mila Kunis', 'Ray Stevenson', 'Gary Oldman'], ['Mike Vogel', 'Jessica Lucas', 'Lizzy Caplan', 'T.J. Miller'], ['Edgar Ramírez', 'Luke Bracey', 'Ray Winstone', 'Teresa Palmer'], ['Scarlett Johansson', 'Jeremy McWilliams', 'Lynsey Taylor Mackay', 'Dougie McConnell'], ['Will Smith', 'Alice Braga', 'Charlie Tahan', 'Salli Richardson-Whitfield'], ['Will Smith', 'Tommy Lee Jones', 'Josh Brolin,Jemaine Clement'], ['Elle Fanning', 'AJ Michalka', 'Kyle Chandler', 'Joel Courtney'], ['Gerard Butler', 'Jamie Foxx', 'Leslie Bibb', 'Colm Meaney'], ['Edward Asner', 'Jordan Nagai', 'John Ratzenberger', 'Christopher Plummer'], [\"Dylan O'Brien\", 'Kaya Scodelario', 'Thomas Brodie-Sangster,Giancarlo Esposito'], ['Cate Blanchett', 'Rooney Mara', 'Sarah Paulson', 'Kyle Chandler'], ['Daniel Radcliffe', 'Toni Collette', 'Tracy Letts', 'Sam Trammell'], ['Michael Caine', 'Harvey Keitel', 'Rachel Weisz', 'Jane Fonda'], ['Jared Leto', 'Sarah Polley', 'Diane Kruger', 'Linh Dan Pham'], ['Riz Ahmed', 'Billie Piper', 'James Floyd', 'Cush Jumbo'], ['Aaron Taylor-Johnson', 'Taylor Kitsch', 'Blake Lively,Benicio Del Toro'], ['Zooey Deschanel', 'Joseph Gordon-Levitt', 'Geoffrey Arend', 'Chloë Grace Moretz'], ['Emma Stone', 'Stephen Merchant', 'Richard Gere', 'Liev Schreiber'], ['Sandra Bullock', 'George Clooney', 'Ed Harris', 'Orto Ignatiussen'], ['Asa Butterfield', 'David Thewlis', 'Rupert Friend', \"Zac Mattoon O'Brien\"], ['Mark Wahlberg', 'Michael Peña', 'Rhona Mitra', 'Danny Glover'], ['Mark Wahlberg', 'Zooey Deschanel', 'John Leguizamo', 'Ashlyn Sanchez'], ['Kurt Russell', 'Patrick Wilson', 'Matthew Fox', 'Richard Jenkins'], ['Channing Tatum', 'Joe Manganiello', 'Matt Bomer,Adam Rodriguez'], ['Emma Stone', 'Amanda Bynes', 'Penn Badgley', 'Dan Byrd'], ['Christian Bale', 'Joel Edgerton', 'Ben Kingsley', 'Sigourney Weaver'], ['Sharlto Copley', 'Dev Patel', 'Hugh Jackman,Sigourney Weaver'], ['Ian McKellen', 'Martin Freeman', 'Richard Armitage,Ken Stott'], ['Chiwetel Ejiofor', 'Thandie Newton', 'Anika Noni Rose,Joseph Mawle'], ['Jamie Dornan', 'Cillian Murphy', 'Brian Caspe', 'Karel Hermánek Jr.'], ['Michael Fassbender', 'Penélope Cruz', 'Cameron Diaz,Javier Bardem'], ['Anton Adasinsky', 'Aleksandr Armer', 'Vilen Babichev', 'Rostislav Bershauer'], ['Tina Fey', 'Margot Robbie', 'Martin Freeman', 'Alfred Molina'], ['Clive Owen', 'Catherine Keener', 'Liana Liberato,Jason Clarke'], ['Billy Magnussen', 'Terry Chen', 'Teresa Navarro,Vanessa Ross'], ['Matt Damon', 'Jodie Foster', 'Sharlto Copley', 'Alice Braga'], ['Lorenza Izzo', 'Ariel Levy', 'Aaron Burns', 'Kirby Bliss Blanton'], ['Aaron Taylor-Johnson', 'Elizabeth Olsen', 'Bryan Cranston', 'Ken Watanabe'], ['Jeremy Renner', 'Rachel Weisz', 'Edward Norton', 'Scott Glenn'], ['Russell Crowe', 'Abbie Cornish', 'Albert Finney', 'Marion Cotillard'], ['Alycia Debnam-Carey', 'William Moseley', 'Connor Paolo', 'Brit Morgan'], ['Denzel Washington', 'Paula Patton', 'Jim Caviezel', 'Val Kilmer'], ['Scarlett Johansson', 'Morgan Freeman', 'Min-sik Choi,Amr Waked'], ['Cynthia Nixon', 'Jennifer Ehle', 'Duncan Duff', 'Keith Carradine'], ['Aaron Paul', 'Dominic Cooper', 'Imogen Poots', 'Scott Mescudi'], ['Tom Cruise', 'Rosamund Pike', 'Richard Jenkins', 'Werner Herzog'], ['Adam Sandler', 'David Spade', 'Paula Patton', 'Kathryn Hahn'], ['Jim Carrey', 'Charlotte Gainsbourg', 'Marton Csokas', 'Kati Outinen'], ['Ewan McGregor', 'Jennifer Connelly', 'Dakota Fanning', 'Peter Riegert'], ['Ewan McGregor', 'Pierce Brosnan', 'Olivia Williams,Jon Bernthal'], ['Bradley Cooper', 'Anna Friel', 'Abbie Cornish', 'Robert De Niro'], ['James Badge Dale', 'Emily Mortimer', 'Bruce Greenwood,Max Martini'], ['Hilary Swank', 'Gerard Butler', 'Harry Connick Jr.', 'Lisa Kudrow'], ['Patrick Wilson', 'Lena Headey', 'Ray Winstone,Richard Dreyfuss'], ['Michael Shannon', 'Joel Edgerton', 'Kirsten Dunst', 'Adam Driver'], ['Keegan-Michael Key', 'Gillian Jacobs', 'Mike Birbiglia,Chris Gethard'], ['Mia Wasikowska', 'Johnny Depp', 'Helena Bonham Carter,Anne Hathaway'], ['Elisabeth Moss', 'Naomi Watts', 'Ron Perlman', 'Liev Schreiber'], ['Dave Johns', 'Hayley Squires', 'Sharon Percy', 'Briana Shann'], ['Jennifer Aniston', 'Vince Vaughn', 'Jon Favreau', 'Joey Lauren Adams'], ['Ruth Negga', 'Joel Edgerton', 'Will Dalton', 'Dean Mumford'], ['Miles Teller', 'Kate Mara', 'Michael B. Jordan', 'Jamie Bell'], ['Mia Goth', 'Martin McCann', 'Barry Ward', 'Andrew Simpson'], ['Emma Watson', 'Daniel Brühl', 'Michael Nyqvist,Richenda Carey'], ['Jennifer Lopez', 'Ryan Guzman', 'Kristin Chenoweth', 'John Corbett'], ['Jason Bateman', 'Rebecca Hall', 'Joel Edgerton', 'Allison Tolman'], ['Luke Evans', 'Dominic Cooper', 'Sarah Gadon', 'Art Parkinson'], ['Chris Hemsworth', 'Cillian Murphy', 'Brendan Gleeson,Ben Whishaw'], ['Luke Wilson', 'Maya Rudolph', 'Dax Shepard', 'Terry Crews'], ['Sylvester Stallone', 'Jason Statham', 'Jet Li', 'Dolph Lundgren'], ['Jane Levy', 'Shiloh Fernandez', 'Jessica Lucas', 'Lou Taylor Pucci'], ['Ethan Hawke', 'Juliet Rylance', 'James Ransone,Fred Dalton Thompson'], ['John C. Reilly', 'Jack McBrayer', 'Jane Lynch', 'Sarah Silverman'], ['Kristen Stewart', 'Chris Hemsworth', 'Charlize Theron', 'Sam Claflin'], ['Levi Miller', 'Hugh Jackman', 'Garrett Hedlund', 'Rooney Mara'], ['Shia LaBeouf', 'Rosie Huntington-Whiteley', 'Tyrese Gibson', 'Josh Duhamel'], ['Ellen Page', 'Michael Cera', 'Jennifer Garner', 'Jason Bateman'], ['Tom Hanks', 'Sarita Choudhury', 'Ben Whishaw,Alexander Black'], ['George Clooney', 'Julia Roberts', \"Jack O'Connell,Dominic West\"], ['Cameron Diaz', 'Leslie Mann', 'Kate Upton', 'Nikolaj Coster-Waldau'], ['Amy Adams', 'Susan Sarandon', 'James Marsden', 'Patrick Dempsey'], ['Robert De Niro', 'Anne Hathaway', 'Rene Russo,Anders Holm'], ['Steve Carell', 'Toni Collette', 'Greg Kinnear', 'Abigail Breslin'], ['Miles Teller', 'Aaron Eckhart', 'Katey Sagal', 'Ciarán Hinds'], ['Sam Worthington', 'Liam Neeson', 'Ralph Fiennes,Jason Flemyng'], ['Chris Pine', 'Casey Affleck', 'Ben Foster', 'Eric Bana'], ['Jeff Bridges', 'Garrett Hedlund', 'Olivia Wilde', 'Bruce Boxleitner'], ['Jennifer Lawrence', 'Josh Hutcherson', 'Liam Hemsworth', 'Philip Seymour Hoffman'], ['Ryan Gosling', 'Kirsten Dunst', 'Frank Langella', 'Lily Rabe'], ['Dave Bautista', 'Alain Moussi', 'Gina Carano', 'Jean-Claude Van Damme'], ['Noah Ringer', 'Nicola Peltz', 'Jackson Rathbone,Dev Patel'], ['Jason Segel', 'Cameron Diaz', 'Rob Corddry', 'Ellie Kemper'], ['Cameron Diaz', 'Matthew Morrison', 'J. Todd Smith', 'Dennis Quaid'], ['Brad Pitt', 'Robin Wright', 'Jonah Hill', 'Philip Seymour Hoffman'], ['Nicolas Cage', 'Eva Mendes', 'Sam Elliott', 'Matt Long'], [\"Jack O'Connell\", 'Miyavi', 'Domhnall Gleeson', 'Garrett Hedlund'], ['Henry Cavill', 'Mickey Rourke', 'John Hurt', 'Stephen Dorff'], ['Cillian Murphy', 'Rose Byrne', 'Chris Evans', 'Michelle Yeoh'], ['Kelly Macdonald,Billy Connolly', 'Emma Thompson', 'Julie Walters'], ['Michael Nyqvist', 'Noomi Rapace', 'Ewa Fröling,Lena Endre'], ['Naomi Watts', 'Robin Wright', 'Xavier Samuel', 'James Frecheville'], ['Tom Hardy', 'Noomi Rapace', 'James Gandolfini,Matthias Schoenaerts'], ['Amanda Bynes', 'Laura Ramsey', 'Channing Tatum,Vinnie Jones'], ['Will Ferrell', 'Mark Wahlberg', 'Linda Cardellini', 'Thomas Haden Church'], ['Kodi Smit-McPhee', 'Chloë Grace Moretz', 'Richard Jenkins', 'Cara Buono'], ['Sean Faris', 'Djimon Hounsou', 'Amber Heard', 'Cam Gigandet'], ['Sacha Baron Cohen', 'Mark Strong', 'Rebel Wilson,Freddie Crowder'], ['Sam Rockwell', 'Kevin Spacey', 'Dominique McElligott,Rosie Shaw'], ['Will Ferrell', 'Jonah Hill', 'Brad Pitt', 'Tina Fey'], ['Sean Penn', 'Ryan Gosling', 'Emma Stone', 'Giovanni Ribisi'], ['Mel Gibson', 'Erin Moriarty', 'Diego Luna', 'Michael Parks'], ['Jennifer Aniston', 'Jennifer Connelly', 'Morgan Lily,Trenton Rogers'], ['Jack Black', 'Bryan Cranston', 'Dustin Hoffman', 'Angelina Jolie'], ['Matt Vael', 'Simon Cotton', 'Kevin Leslie', 'Olivia Moyles'], [\"Fionn O'Shea\", 'Nicholas Galitzine', 'Andrew Scott', 'Moe Dunford'], ['Jennifer Lawrence', 'John Hawkes', 'Garret Dillahunt,Isaiah Stone'], ['Jason Bateman', 'Charlie Day', 'Jason Sudeikis', 'Steve Wiebe'], ['Anne Dorval', 'Antoine-Olivier Pilon', 'Suzanne Clément,Patrick Huard'], ['Ron Perlman', 'Selma Blair', 'Doug Jones', 'John Alexander'], ['Alice Englert', 'Viola Davis', 'Emma Thompson,Alden Ehrenreich'], ['Sandra Hüller', 'Peter Simonischek', 'Michael Wittenborn,Thomas Loibl'], ['Rachel Weisz', 'Mark Wahlberg', 'Saoirse Ronan', 'Susan Sarandon'], ['Brad Pitt', 'Casey Affleck', 'Sam Shepard', 'Mary-Louise Parker'], ['Joseph Gordon-Levitt', 'Scarlett Johansson,Julianne Moore', 'Tony Danza'], ['Idris Elba', 'Richard Madden', 'Charlotte Le Bon', 'Kelly Reilly'], ['Paul Sidhu', 'Branden Coles', 'Arielle Holmes', 'Kelcey Watson'], ['Matthew McConaughey', 'Gugu Mbatha-Raw', 'Mahershala Ali', 'Keri Russell'], ['Anna Kendrick', 'Sam Rockwell', 'Tim Roth', 'James Ransone'], ['Ben Stiller', 'Kristen Wiig', 'Jon Daly', 'Kathryn Hahn'], ['Shameik Moore', 'Tony Revolori', 'Kiersey Clemons,Kimberly Elise'], ['Kate Beckinsale', 'Michael Ealy', 'India Eisley', 'Stephen Rea'], ['Willem Dafoe', 'Charlotte Gainsbourg', 'Storm Acheche Sahlstrøm'], ['Jared Padalecki', 'Amanda Righetti', 'Derek Mears,Danielle Panabaker'], ['Liam Neeson', 'Forest Whitaker', 'Maggie Grace,Famke Janssen'], ['Colin Farrell', 'Bokeem Woodbine', 'Bryan Cranston,Kate Beckinsale'], ['Patrick Stewart', 'Hugh Jackman', 'Halle Berry', 'Famke Janssen'], ['Lyndsy Fonseca', 'Michael Doneger', 'Tommy Dewey,Bruce Campbell'], ['Keanu Reeves', 'Renée Zellweger', 'Gugu Mbatha-Raw', 'Gabriel Basso'], ['Ben Stiller', 'Robin Williams', 'Owen Wilson', 'Dick Van Dyke'], ['Jake Gyllenhaal', 'Anne Hathaway', 'Judy Greer', 'Oliver Platt'], ['James Franco', 'Seth Rogen', 'Randall Park', 'Lizzy Caplan'], ['Kang-ho Song', 'Hee-Bong Byun', 'Hae-il Park', 'Doona Bae'], ['Amber Perkins', 'Rachel Quinn', 'Dean Waite', 'Jael Elizabeth Steinmeyer'], ['Ben Burtt', 'Elissa Knight', 'Jeff Garlin', 'Fred Willard'], ['Seth Rogen', 'Katherine Heigl', 'Paul Rudd', 'Leslie Mann'], ['Jake Gyllenhaal', 'Michelle Monaghan', 'Vera Farmiga,Jeffrey Wright'], ['Tom Hardy', 'Shia LaBeouf', 'Guy Pearce', 'Jason Clarke'], ['Heather Sossaman', 'Matthew Bohrer', 'Courtney Halverson', 'Shelley Hennig'], ['Jason Biggs', 'Alyson Hannigan,Seann William Scott', 'Chris Klein'], ['Will Smith', 'Thandie Newton', 'Jaden Smith', 'Brian Howe'], ['Darío Grandinetti', 'María Marull', 'Mónica Villa', 'Rita Cortese'], ['Adam Sandler', 'Terry Crews', 'Jorge Garcia', 'Taylor Lautner'], ['Pierre Niney', 'Paula Beer', 'Ernst Stötzner', 'Marie Gruber'], [\"Sofia Black-D'Elia\", 'Analeigh Tipton,Travis Tope', 'Michael Kelly'], ['Clint Eastwood', 'Bee Vang', 'Christopher Carley,Ahney Her'], ['Bradley Cooper', 'Sienna Miller', 'Daniel Brühl', 'Riccardo Scamarcio'], ['Dan Crisafulli', 'Kay Whitney', 'Richard Garcia', 'Pat Cashman'], ['Emily Browning', 'Rachael Blake', 'Ewen Leslie', 'Bridgette Barrett'], ['Zoey Deutch', 'Lucy Fry', 'Danila Kozlovsky', 'Gabriel Byrne'], ['Johnny Depp', 'Helena Bonham Carter', 'Alan Rickman,Timothy Spall'], ['Anthony Hopkins', 'Jeffrey Dean Morgan', 'Abbie Cornish', 'Colin Farrell'], ['Patrick Wilson', 'Rose Byrne', 'Ty Simpkins', 'Lin Shaye'], ['Andy Samberg', 'Jorma Taccone,Akiva Schaffer', 'Sarah Silverman'], ['Ellie Kendrick', 'David Troughton', 'Jack Holden,Joe Blakemore'], ['Christian Bale', 'Johnny Depp', 'Christian Stolte', 'Jason Clarke'], ['Ellar Coltrane', 'Patricia Arquette', 'Ethan Hawke,Elijah Smith'], ['Megan Fox', 'Will Arnett', 'William Fichtner', 'Noel Fisher'], ['Naomi Watts', 'Viggo Mortensen', 'Armin Mueller-Stahl', 'Josef Altin'], ['Geoffrey Rush', 'Nicholas Hope', 'Sam Neill', 'Ewen Leslie'], ['Seth Rogen', 'James Franco', 'Gary Cole', 'Danny McBride'], [\"Dylan O'Brien\", 'Britt Robertson', 'Victoria Justice', 'James Frecheville'], ['Morgan Freeman', 'Ed Harris', 'Casey Affleck', 'Michelle Monaghan'], ['Sandra Bullock', 'Michael McDonald', 'Melissa McCarthy,Demián Bichir'], ['Isabelle Huppert', 'André Marcon', 'Roman Kolinka,Edith Scob'], ['Keira Knightley', 'Jude Law', 'Aaron Taylor-Johnson,Matthew Macfadyen'], ['Ethan Hawke', 'David Thewlis', 'Emma Watson,Dale Dickey'], ['Mark Wahlberg', 'Seth MacFarlane', 'Amanda Seyfried', 'Jessica Barth'], ['Mark Wahlberg', 'Dwayne Johnson', 'Anthony Mackie,Tony Shalhoub'], ['Leonardo DiCaprio', 'Djimon Hounsou', 'Jennifer Connelly', 'Kagiso Kuypers'], ['Colin Firth', 'Reese Witherspoon', 'Alessandro Nivola,James Hamrick'], ['Tom Hardy', 'Gary Oldman', 'Noomi Rapace', 'Joel Kinnaman'], ['Jeremy Renner', 'Anthony Mackie', 'Brian Geraghty,Guy Pearce'], ['Ryan Reynolds', 'Blake Lively', 'Peter Sarsgaard,Mark Strong'], ['Alexander Skarsgård', 'Michael Peña', 'Theo James', 'Tessa Thompson'], ['Thomas Jane', 'Marcia Gay Harden', 'Laurie Holden,Andre Braugher'], ['Sylvester Stallone', 'Arnold Schwarzenegger', '50 Cent', \"Vincent D'Onofrio\"], ['Lily Collins', 'Sam Claflin', 'Christian Cooke', 'Jaime Winstone'], ['Mae Whitman', 'Bella Thorne', 'Robbie Amell', 'Allison Janney'], ['Byung-hun Lee', 'Yoo Gong', 'Kang-ho Song', 'Ji-min Han'], ['Jennifer Lawrence', 'Josh Hutcherson', 'Liam Hemsworth', 'Woody Harrelson'], ['Tilda Swinton', 'John C. Reilly', 'Ezra Miller', 'Jasper Newell'], ['Kate Beckinsale', 'Chloë Sevigny', 'Xavier Samuel,Emma Greenwell'], ['Lily Collins', 'Jamie Campbell Bower', 'Robert Sheehan,Jemima West'], ['Will Smith', 'Rosario Dawson', 'Woody Harrelson,Michael Ealy'], ['Colin Firth', 'Geoffrey Rush', 'Helena Bonham Carter,Derek Jacobi'], ['Stuart Graham', 'Laine Megaw', 'Brian Milligan', 'Liam McMahon'], ['Hayden Christensen', 'Samuel L. Jackson', 'Jamie Bell,Rachel Bilson'], ['Tom Hanks', 'Tim Allen', 'Joan Cusack', 'Ned Beatty'], ['Gary Oldman', 'Colin Firth', 'Tom Hardy', 'Mark Strong'], ['Milla Jovovich', 'Sienna Guillory', 'Michelle Rodriguez', 'Aryana Engineer'], ['Alia Bhatt', 'Shah Rukh Khan', 'Kunal Kapoor', 'Priyanka Moodley'], ['Colin Firth', 'Jude Law', 'Nicole Kidman', 'Laura Linney'], ['Kit Harington', 'Emily Browning', 'Kiefer Sutherland', 'Adewale Akinnuoye-Agbaje'], ['Suraj Sharma', 'Irrfan Khan', 'Adil Hussain', 'Tabu'], ['Richard Gere', 'Joan Allen', 'Cary-Hiroyuki Tagawa,Sarah Roemer'], ['Channing Tatum', 'Rosario Dawson', 'Chris Pratt', 'Jenna Dewan Tatum'], ['Michael Pitt', 'Steven Yeun', 'Astrid Bergès-Frisbey', 'Brit Marling'], ['Bruce Willis', 'Justin Long', 'Timothy Olyphant', 'Maggie Q'], ['Wesley Elder', 'Christina Grimmie', 'Osric Chau', 'Olan Rogers'], ['Naomi Watts', 'Tim Roth', 'Michael Pitt', 'Brady Corbet'], ['Mark Wahlberg', 'Mila Kunis', 'Seth MacFarlane', 'Joel McHale'], ['Bruce Willis', 'Helen Mirren', 'Morgan Freeman,Mary-Louise Parker'], ['Nicole Kidman', 'Hugh Jackman', 'Shea Adams', 'Eddie Baroo'], ['Dwayne Johnson', 'Billy Bob Thornton', 'Maggie Grace', 'Mauricio Lopez'], ['Josh Stewart', 'Bill Engvall', 'Alex Essoe', 'Ronnie Gene Blevins'], ['Matt Damon', 'Emily Blunt', 'Lisa Thoreson', 'Florence Kastriner'], ['Sharlto Copley', 'Charlie Day', 'Richard Jenkins', 'Anna Kendrick'], ['Robert Downey Jr.', 'Robert Duvall', 'Vera Farmiga', 'Billy Bob Thornton'], ['Eric Bana', 'Rebecca Hall', 'Jim Broadbent', 'Ciarán Hinds'], ['Shia LaBeouf', 'Megan Fox', 'Josh Duhamel', 'Tyrese Gibson'], ['Emmanuel Garijo', 'Tom Hudson', 'Baptiste Goy', 'Axel Devillers'], ['Diego Luna', 'Zoe Saldana', 'Channing Tatum', 'Ron Perlman'], ['Lubna Azabal', 'Mélissa Désormeaux-Poulin', 'Maxim Gaudette', 'Mustafa Kamel'], ['Ben Stiller', 'Michelle Monaghan,Malin Akerman', 'Jerry Stiller'], ['Elijah Wood', 'Brittany Murphy', 'Hugh Jackman', 'Robin Williams'], ['Adrian Grenier', 'Kevin Connolly', 'Jerry Ferrara', 'Kevin Dillon'], ['Scott Speedman', 'Liv Tyler', 'Gemma Ward', 'Alex Fisher'], ['Russell Crowe', 'Jennifer Connelly', 'Anthony Hopkins', 'Emma Watson'], ['Seth Rogen', 'Rose Byrne', 'Zac Efron', 'Lisa Kudrow'], ['Charlotte Gainsbourg', 'Stellan Skarsgård', 'Willem Dafoe', 'Jamie Bell'], ['Reese Witherspoon', 'Laura Dern', 'Gaby Hoffmann,Michiel Huisman'], ['Adam Sandler', 'Salma Hayek', 'Kevin James', 'Chris Rock'], ['James Allen McCune', 'Callie Hernandez', 'Corbin Reid', 'Brandon Scott'], ['Jackie Chan', 'Jaden Smith', 'Taraji P. Henson', 'Wenwen Han'], ['Johnny Depp', 'Michelle Pfeiffer', 'Eva Green', 'Helena Bonham Carter'], ['Mila Kunis', 'Justin Timberlake', 'Patricia Clarkson', 'Jenna Elfman'], ['Edward Norton', 'Jessica Biel', 'Paul Giamatti', 'Rufus Sewell'], ['Liam Neeson', 'Bradley Cooper', 'Sharlto Copley,Jessica Biel'], ['Dan Stevens', 'Sheila Kelley', 'Maika Monroe', 'Joel David Moore'], ['Vince Vaughn', 'Owen Wilson', 'Rose Byrne', 'Aasif Mandvi'], ['Simon Pegg', 'Nick Frost', 'Seth Rogen', 'Mia Stallard'], ['Jessica Brown Findlay', 'Andrew Scott', 'Jeremy Irvine,Tom Wilkinson'], ['Tom Hanks', 'Audrey Tautou', 'Jean Reno', 'Ian McKellen'], ['Eddie Murphy', 'Britt Robertson', 'Natascha McElhone', 'Xavier Samuel'], ['Asa Butterfield', 'Chloë Grace Moretz', 'Christopher Lee', 'Ben Kingsley'], ['Emma Roberts', 'Kiernan Shipka', 'Lauren Holly', 'Lucy Boynton'], ['Leonardo DiCaprio', 'Russell Crowe', 'Mark Strong,Golshifteh Farahani'], ['Christian Bale', 'Cate Blanchett', 'Natalie Portman,Brian Dennehy'], ['Brendan Fraser', 'Jet Li', 'Maria Bello', 'Michelle Yeoh'], ['Melissa McCarthy', 'Kristen Bell', 'Peter Dinklage', 'Ella Anderson'], ['Edgar Ramírez', 'Usher Raymond', 'Robert De Niro', 'Rubén Blades'], ['Ricardo Darín', 'Soledad Villamil', 'Pablo Rago,Carla Quevedo'], ['Jeff Bridges', 'Matt Damon', 'Hailee Steinfeld,Josh Brolin'], ['Zac Efron', 'Wes Bentley', 'Emily Ratajkowski', 'Jonny Weston'], ['Seth MacFarlane', 'Charlize Theron', 'Liam Neeson,Amanda Seyfried'], ['Brian White', 'Karrueche Tran', 'Angelique Pereira,Jessica Vanessa DeLeon'], ['Lily Collins', 'Haley Bennett', 'Taissa Farmiga', 'Steve Tom'], ['Elizabeth Reaser', 'Lulu Wilson', 'Annalise Basso,Henry Thomas'], ['Logan Lerman', 'Alexandra Daddario', 'Brandon T. Jackson', 'Nathan Fillion'], ['Anthony Hopkins', 'Ryan Gosling', 'David Strathairn,Rosamund Pike'], ['Karen Gillan', 'Brenton Thwaites', 'Katee Sackhoff,Rory Cochrane'], ['Colin Farrell', 'Brendan Gleeson', 'Ciarán Hinds,Elizabeth Berrington'], ['Reese Witherspoon', 'Chris Pine', 'Tom Hardy', 'Til Schweiger'], ['Tatiana Pauhofová', 'Karl Markovics', 'Gedeon Burkhard,Simona Stasová'], ['Viggo Mortensen', 'Charlize Theron', 'Kodi Smit-McPhee,Robert Duvall'], ['Abbie Cornish', 'Dermot Mulroney', 'Justin Long,Diego Klattenhoff'], ['Larenz Tate', 'Meagan Good', 'Rotimi', 'Rick Gonzalez'], ['Jason Momoa', 'Ron Perlman', 'Rose McGowan,Stephen Lang'], ['Mark Wahlberg', 'Christian Bale', 'Amy Adams,Melissa Leo'], ['Freddie Highmore', 'Keri Russell', 'Jonathan Rhys Meyers', 'Terrence Howard'], ['Jon Favreau', 'Robert Downey Jr.', 'Scarlett Johansson,Dustin Hoffman'], ['Helen Mirren', 'Aaron Paul', 'Alan Rickman', 'Barkhad Abdi'], ['Shia LaBeouf', 'Michelle Monaghan', 'Rosario Dawson,Michael Chiklis'], ['Ethan Hawke', 'Lena Headey', 'Max Burkholder,Adelaide Kane'], ['Aamir Khan', 'Anushka Sharma', 'Sanjay Dutt,Boman Irani'], ['Harrison Ford', 'Asa Butterfield', 'Hailee Steinfeld', 'Abigail Breslin'], ['Harrison Ford', 'Cate Blanchett', 'Shia LaBeouf,Karen Allen'], ['Nat Wolff', 'Cara Delevingne', 'Austin Abrams', 'Justice Smith'], ['Tom Hiddleston', 'Jeremy Irons', 'Sienna Miller', 'Luke Evans'], ['Daniel Craig', 'Olga Kurylenko', 'Mathieu Amalric', 'Judi Dench'], ['Sigourney Weaver', 'Michelle Rodriguez', 'Tony Shalhoub,Anthony LaPaglia'], ['Jay Baruchel', 'Gerard Butler,Christopher Mintz-Plasse', 'Craig Ferguson'], ['Paul Giamatti', 'Bryce Dallas Howard', 'Jeffrey Wright', 'Bob Balaban'], ['Hugh Jackman', 'Rachel Weisz', 'Sean Patrick Thomas', 'Ellen Burstyn'], ['Owen Wilson', 'Larry the Cable Guy,Michael Caine', 'Emily Mortimer'], ['Malcolm McDowell', 'Richard Brake', 'Jeff Daniel Phillips,Sheri Moon Zombie'], ['Abigail Breslin', 'Wes Bentley', 'Logan Huffman,Alexander Ludwig'], ['Maddy Curley', 'John DeLuca', 'Nikki SooHoo', 'Drew Seeley'], ['Dev Patel', 'Jeremy Irons', 'Malcolm Sinclair', 'Raghuvir Joshi'], ['Liam Neeson', 'Diane Kruger', 'January Jones,Aidan Quinn'], ['Ryan Reynolds', 'Natalie Martinez', 'Matthew Goode,Ben Kingsley'], ['Kevin Costner', 'Demi Moore', 'William Hurt', 'Dane Cook'], ['Callum Turner', 'Grace Van Patten', 'Michal Vondel', 'Mike Birbiglia'], ['Chris Evans', 'Alice Eve', 'Emma Fitzpatrick', 'John Cullum'], ['Tom Hanks', 'Barkhad Abdi', 'Barkhad Abdirahman,Catherine Keener'], ['Rooney Mara', 'Eric Bana', 'Theo James', 'Aidan Turner'], ['Ben Winchell', 'Josh Brener', 'Maria Bello', 'Andy Garcia'], ['Adam Sandler', 'Andy Samberg', 'Selena Gomez', 'Kevin James'], ['Will Smith', 'Charlize Theron', 'Jason Bateman', 'Jae Head'], ['Amy Poehler', 'Tina Fey', 'Maya Rudolph', 'Ike Barinholtz'], ['Robert De Niro', 'Michelle Pfeiffer', 'Dianna Agron', \"John D'Leo\"], ['Seth Rogen', 'Elizabeth Banks', 'Craig Robinson', 'Gerry Bednob'], ['Gaspard Schlatter', 'Sixtine Murat', 'Paulin Jaccoud,Michel Vuillermoz'], ['Sam Worthington', 'Elizabeth Banks', 'Jamie Bell', 'Mandy Gonzalez'], ['Natalie Portman', 'Ashton Kutcher', 'Kevin Kline', 'Cary Elwes'], ['Christian Bale', 'Steve Zahn', 'Jeremy Davies', 'Zach Grenier'], ['Steve Carell', 'Kristen Wiig', 'Benjamin Bratt', 'Miranda Cosgrove'], ['Liam Neeson', 'Dan Stevens', 'David Harbour', 'Boyd Holbrook'], ['Simon Pegg', 'Nick Frost', 'Martin Freeman', 'Rosamund Pike'], ['Lily-Rose Depp', 'Harley Quinn Smith', 'Johnny Depp,Adam Brody'], ['Colin Farrell', 'Woody Harrelson', 'Sam Rockwell,Christopher Walken'], ['Ray Winstone', 'Crispin Glover', 'Angelina Jolie,Robin Wright'], ['Chris Pine', 'Kevin Costner', 'Keira Knightley,Kenneth Branagh'], ['John Cusack', 'Samuel L. Jackson', 'Mary McCormack', 'Paul Birchard'], ['Mark Wahlberg', 'Jessica Lange', 'John Goodman', 'Brie Larson'], ['Jake Gyllenhaal', 'Gemma Arterton', 'Ben Kingsley,Alfred Molina'], ['Miles Teller', 'Shailene Woodley', 'Kyle Chandler,Jennifer Jason Leigh'], ['David Oyelowo', 'Rosamund Pike', 'Tom Felton', 'Jack Davenport'], ['Nicolas Cage', 'Tom Sizemore', 'Thomas Jane,Matt Lanter'], ['Munro Chambers', 'Laurence Leboeuf', 'Michael Ironside', 'Edwin Wright'], ['Jessica Chastain', 'Nikolaj Coster-Waldau', 'Megan Charpentier', 'Isabelle Nélisse'], ['Vera Farmiga', 'Peter Sarsgaard', 'Isabelle Fuhrman', 'CCH Pounder'], ['Woody Allen', 'Penélope Cruz', 'Jesse Eisenberg', 'Ellen Page'], ['George Clooney', 'Meryl Streep', 'Bill Murray', 'Jason Schwartzman'], ['Denzel Washington', 'Clive Owen', 'Jodie Foster,Christopher Plummer'], ['Pierce Brosnan', 'Jason Barry', 'Karen Moskow', 'Kai Ryssdal'], ['James Franco', 'Amber Tamblyn', 'Kate Mara', 'Sean Bott'], ['Ward Horton', 'Annabelle Wallis', 'Alfre Woodard,Tony Amendola'], ['Katie Cassidy', 'Elizabeth Henstridge', 'Adam Campbell', 'Miles Fisher'], ['Michelle Williams', 'Kristin Scott Thomas', 'Margot Robbie,Eric Godon'], ['Christopher Plummer', 'Lily Cole', 'Heath Ledger,Andrew Garfield'], ['Dennis Quaid', 'Channing Tatum', 'Marlon Wayans,Adewale Akinnuoye-Agbaje'], ['Rebecca Hall', 'Michael C. Hall', 'Tracy Letts', 'Maria Dizzia'], ['Shia LaBeouf', 'Jai Courtney', 'Gary Oldman', 'Kate Mara'], ['Michael Vartan', 'Erin Moriarty', 'Nadine Velazquez,Ronnie Gene Blevins'], ['Naomi Watts', 'Charlie Heaton', 'Jacob Tremblay,Oliver Platt'], ['Mark Chao', 'Ni Ni', 'Dave Bautista', 'Sienna Guillory'], ['Kurt Russell', 'Rose McGowan', 'Danny Trejo', 'Zoë Bell'], ['Carmen Electra', 'Vanessa Lachey,Nicole Parker', 'Matt Lanter'], ['Sylvester Stallone', 'Antonio Tarver', 'Milo Ventimiglia', 'Burt Young'], ['Zachary Gordon', 'Robert Capron', 'Devon Bostick,Steve Zahn'], ['Mia Wasikowska', 'Michael Fassbender', 'Jamie Bell', 'Su Elliot'], ['Matthew McConaughey', 'Kate Hudson', 'Donald Sutherland', 'Alexis Dziena'], ['Sacha Baron Cohen', 'Anna Faris', 'John C. Reilly', 'Ben Kingsley'], ['Karl Urban', 'James Marsden', 'Wentworth Miller', 'Eric Stonestreet'], ['Adrian Titieni', 'Maria-Victoria Dragus', 'Lia Bugnar,Malina Manovici'], ['Adam Sandler', 'John Turturro', 'Emmanuelle Chriqui,Nick Swardson'], ['Ana de Armas', 'Keanu Reeves', 'Christopher McDonald', 'Mira Sorvino'], ['Ethan Hawke', 'Sally Hawkins', 'Kari Matchett', 'Zachary Bennett'], ['Jason Bateman', 'Jason Sudeikis', 'Charlie Day', 'Jennifer Aniston'], ['Tilda Swinton', 'Matthias Schoenaerts', 'Ralph Fiennes', 'Dakota Johnson'], ['Kirsten Dunst', 'Charlotte Gainsbourg', 'Kiefer Sutherland', 'Alexander Skarsgård'], ['Anika Noni Rose', 'Keith David', 'Oprah Winfrey', 'Bruno Campos'], ['Denzel Washington', 'Chris Pine', 'Rosario Dawson', 'Ethan Suplee'], ['Denzel Washington', 'Nadine Velazquez', 'Don Cheadle', 'John Goodman'], ['Jim Parsons', 'Rihanna', 'Steve Martin', 'Jennifer Lopez'], ['Geoffrey Rush', 'Jim Sturgess', 'Sylvia Hoeks,Donald Sutherland'], ['Sophie Nélisse', 'Josh Wiggins', 'Joe Cobden', 'Bill Paxton'], ['Chadwick Boseman', 'T.R. Knight', 'Harrison Ford,Nicole Beharie'], ['Jim Sturgess', 'Kate Bosworth', 'Kevin Spacey', 'Aaron Yoo'], ['Keira Knightley', 'Mark Ruffalo', 'Adam Levine', 'Hailee Steinfeld'], ['Christian Bale', 'Casey Affleck', 'Zoe Saldana', 'Woody Harrelson'], ['Rebecca Hall', 'Scarlett Johansson', 'Javier Bardem,Christopher Evan Welch'], ['Jack Black', 'Ian McShane,Angelina Jolie', 'Dustin Hoffman'], ['Ice Cube', 'Regina Hall', 'Anthony Anderson', 'Eve'], ['Christian Bale', 'Sam Worthington', 'Anton Yelchin', 'Moon Bloodgood'], ['Hilary Swank', 'Imelda Staunton', 'Patrick Dempsey', 'Scott Glenn'], ['Ted Levine', 'Kathleen Quinlan', 'Dan Byrd', 'Emilie de Ravin'], ['Angelina Jolie', 'Colm Feore', 'Amy Ryan', 'Gattlin Griffith'], ['Robert Pattinson', 'Emilie de Ravin', 'Caitlyn Rund,Moisés Acevedo'], ['Miyu Irino', 'Saori Hayami', 'Aoi Yuki', 'Kenshô Ono'], ['Steve Carell', 'Jennifer Garner', 'Ed Oxenbould', 'Dylan Minnette'], ['Tom Hardy', 'Olivia Colman', 'Ruth Wilson', 'Andrew Scott'], ['Jamie Dornan', 'Aiden Longworth', 'Sarah Gadon,Aaron Paul'], ['Daniel Radcliffe', 'Juno Temple', 'Max Minghella', 'Joe Anderson'], ['Logan Lerman', 'Sarah Gadon', 'Tijuana Ricks', 'Sue Dahlman'], ['Ezra Miller', 'Tye Sheridan', 'Billy Crudup', 'Olivia Thirlby'], ['Zachary Gordon', 'Devon Bostick', 'Robert Capron,Rachael Harris'], ['Tom Cruise', 'Michelle Monaghan', 'Ving Rhames', 'Philip Seymour Hoffman'], ['Rolf Lassgård', 'Bahar Pars', 'Filip Berg', 'Ida Engvoll'], ['Justin Chatwin', 'James Marsters', 'Yun-Fat Chow', 'Emmy Rossum'], ['Chris Hemsworth', 'Isabel Lucas', 'Josh Hutcherson', 'Josh Peck'], ['Anne Hathaway', 'Jim Sturgess', 'Patricia Clarkson,Tom Mison'], ['Katherine Heigl', 'Josh Duhamel', 'Josh Lucas', 'Alexis Clagett'], ['Jeremy Renner', 'Rose Byrne', 'Robert Carlyle', 'Harold Perrineau'], ['Nicholas Hoult', 'Teresa Palmer', 'John Malkovich,Analeigh Tipton'], ['Cate Blanchett', 'Alec Baldwin', 'Peter Sarsgaard', 'Sally Hawkins'], ['Dwayne Johnson', 'Channing Tatum', 'Adrianne Palicki,Byung-hun Lee'], ['Sam Worthington', 'Liam Neeson', 'Rosamund Pike', 'Ralph Fiennes'], ['Hiroki Hasegawa', 'Yutaka Takenouchi,Satomi Ishihara', 'Ren Ôsugi'], ['Emma Thompson', 'Tom Hanks', 'Annie Rose Buckley', 'Colin Farrell'], ['Johnny Depp', 'Rebecca Hall', 'Morgan Freeman', 'Cillian Murphy'], ['Jesse Eisenberg', 'Anne Hathaway', 'George Lopez,Karen Disher'], ['Nicholas Hoult', 'Kristen Stewart', 'Vernetta Lopez,Scott Lawrence'], ['Brad Pitt', 'Cate Blanchett', 'Gael García Bernal', 'Mohamed Akhzam'], ['Brad Pitt', 'Sean Penn', 'Jessica Chastain', 'Hunter McCracken'], ['Zac Efron', 'Taylor Schilling', 'Blythe Danner', 'Riley Thomas Stewart'], ['Elisabeth Shue', \"Jerry O'Connell\", 'Richard Dreyfuss,Ving Rhames'], ['Joseph Gordon-Levitt', 'Seth Rogen', 'Anna Kendrick', 'Bryce Dallas Howard'], ['Dylan Duffus', 'Scorcher,Shone Romulus', 'Jade Asha'], ['Paul Rudd', 'Leslie Mann', 'Maude Apatow', 'Iris Apatow'], ['Hugh Jackman', 'Evangeline Lilly', 'Dakota Goyo,Anthony Mackie'], ['Sarah Jessica Parker', 'Kim Cattrall', 'Cynthia Nixon', 'Kristin Davis'], ['Sylvester Stallone', 'Julie Benz', 'Matthew Marsden', 'Graham McTavish'], ['Rose McGowan', 'Freddy Rodríguez', 'Josh Brolin,Marley Shelton'], ['Will Smith', 'Alec Baldwin', 'Albert Brooks', 'David Morse'], ['Lee Pace', 'Catinca Untaru', 'Justine Waddell', 'Kim Uylenbroek'], ['Katherine Heigl', 'Gerard Butler', 'Bree Turner', 'Eric Winter'], ['Kate Hudson', 'Anne Hathaway', 'Candice Bergen', 'Bryan Greenberg'], ['Jason Sudeikis', 'Alison Brie', 'Jordan Carlos,Margarita Levieva'], ['Samuel L. Jackson', 'Julianna Margulies', 'Nathan Phillips', 'Rachel Blanchard'], ['Daniel Radcliffe', 'Zoe Kazan', 'Megan Park', 'Adam Driver'], ['Jay Baruchel', 'Cate Blanchett', 'Gerard Butler', 'Craig Ferguson'], ['Joel Kinnaman', 'Gary Oldman', 'Michael Keaton', 'Abbie Cornish'], ['Nat Wolff', 'James Franco', \"Vincent D'Onofrio\", 'Selena Gomez'], ['Sally Field', 'Max Greenfield', 'Tyne Daly', 'Wendi McLendon-Covey'], ['George Clooney', 'Brad Pitt', 'Matt Damon,Michael Mantell'], ['Nathan Fillion', 'Elizabeth Banks', 'Michael Rooker', 'Don Thompson'], ['Matt Damon', 'Kate Winslet', 'Jude Law', 'Gwyneth Paltrow'], ['Salma Hayek', 'Vincent Cassel', 'Toby Jones', 'John C. Reilly'], ['Ruth Wilson', 'Paula Prentiss', 'Lucy Boynton', 'Bob Balaban'], ['Josh Hutcherson', 'AnnaSophia Robb', 'Zooey Deschanel', 'Robert Patrick'], ['Emily Baldoni', 'Maury Sterling', 'Nicholas Brendon', 'Elizabeth Gracen'], ['Jamal Woolard', 'Anthony Mackie', 'Derek Luke,Momo Dione'], ['Jun Kunimura', 'Jung-min Hwang', 'Do-won Kwak', 'Woo-hee Chun'], ['Sylvester Stallone', 'Liam Hemsworth', 'Randy Couture,Jean-Claude Van Damme'], ['William Atherton', 'Blythe Auffarth', 'Blanche Baker,Kevin Chamberlin'], ['Ben Whishaw', 'Dustin Hoffman', 'Alan Rickman,Francesc Albiol'], ['Nicole Kidman', 'Daniel Craig', 'Dakota Blue Richards', 'Ben Walker'], ['Michael Fassbender', 'Dominic West', 'Olga Kurylenko,Andreas Wisniewski'], ['Tye Sheridan', 'Logan Miller', 'Joey Morgan,Sarah Dumont'], ['Zac Efron', 'Matthew Perry', 'Leslie Mann', 'Thomas Lennon'], ['Lake Bell', 'Pierce Brosnan', 'Owen Wilson,Chatchawai Kamonsakpitak'], ['Brandon Routh', 'Kevin Spacey', 'Kate Bosworth', 'James Marsden'], ['Kristen Stewart', 'Robert Pattinson', 'Taylor Lautner', 'Gil Birmingham'], ['Gabourey Sidibe', \"Mo'Nique\", 'Paula Patton', 'Mariah Carey'], ['Matthew McConaughey', 'Naomi Watts', 'Ken Watanabe,Ryoko Seta'], ['Zoey Deutch', 'Nicholas Braun', 'Mateo Arias', 'Israel Broussard'], ['Philip Seymour Hoffman', 'Joaquin Phoenix,Amy Adams', 'Jesse Plemons'], ['Kenny Wormald', 'Julianne Hough', 'Dennis Quaid,Andie MacDowell'], ['Chloë Grace Moretz', 'Mireille Enos', 'Jamie Blackley,Joshua Leonard'], ['Dan Stevens', 'Malin Akerman', 'Oliver Platt', 'Kerry Bishé'], ['Tye Sheridan', 'Emory Cohen', 'Bel Powley,Stephen Moyer'], ['Samantha Robinson', 'Jeffrey Vincent Parise', 'Laura Waddell', 'Gian Keys'], ['Will Ferrell', 'John C. Reilly', 'Sacha Baron Cohen', 'Gary Cole'], ['Dieter Laser', 'Ashley C. Williams', 'Ashlynn Yennie', 'Akihiro Kitamura'], ['Rainn Wilson', 'Ellen Page', 'Liv Tyler', 'Kevin Bacon'], ['Jamie Dornan', 'Mark Strong', \"Jason O'Mara\", 'Michael McElhatton'], ['George Clooney', 'Vera Farmiga', 'Anna Kendrick,Jason Bateman'], ['Vinnie Jones', 'Bradley Cooper', 'Leslie Bibb', 'Brooke Shields'], ['Kristen Stewart', 'Robert Pattinson', 'Taylor Lautner,Xavier Samuel'], ['Johnny Simmons', 'Gabriel Luna', 'Clifton Collins Jr.,David Acord'], ['Anna Faris', 'Chris Evans', 'Ari Graynor', 'Blythe Danner'], ['Vin Diesel', 'Karl Urban', 'Katee Sackhoff', 'Jordi Mollà'], ['Melissa George', 'Joshua McIvor', 'Jack Taylor,Michael Dorman'], ['Forest Whitaker', 'Oprah Winfrey', 'John Cusack', 'Jane Fonda'], ['Garrett Clayton', 'Christian Slater', 'Molly Ringwald,James Kelley'], ['Jaden Smith', 'David Denman', 'Will Smith,Sophie Okonedo'], ['Jahking Guillory', 'Christopher Jordan Wallace,Christopher Meyer', 'Kofi Siriboe'], ['Thomas Mann', 'RJ Cyler', 'Olivia Cooke', 'Nick Offerman'], ['George Clooney', 'Shailene Woodley', 'Amara Miller', 'Nick Krause'], ['Sarah Jessica Parker', 'Kim Cattrall', 'Kristin Davis', 'Cynthia Nixon'], ['Nick Robinson', 'Gabriel Basso', 'Moises Arias,Nick Offerman'], ['Jason Statham', 'Joan Allen', 'Tyrese Gibson', 'Ian McShane'], ['Zac Efron', 'Michael B. Jordan', 'Miles Teller', 'Imogen Poots'], ['Paul Bettany', 'Dennis Quaid', 'Charles S. Dutton', 'Lucas Black'], ['Jake Gyllenhaal', 'Michael Peña', 'Anna Kendrick', 'America Ferrera'], ['Kevin Costner', 'Hailee Steinfeld', 'Connie Nielsen', 'Amber Heard'], ['Josh Hartnett', 'Ben Kingsley', 'Morgan Freeman', 'Lucy Liu'], ['James McAvoy', 'Rosario Dawson', 'Vincent Cassel,Danny Sapani'], ['Ellen Page', 'Evan Rachel Wood', 'Max Minghella,Callum Keith Rennie'], ['Natalie Portman', 'Scarlett Johansson', 'Eric Bana,Jim Sturgess'], ['Sarah Butler', 'Jeff Branson', 'Andrew Howard,Daniel Franzese'], ['Viola Davis', 'Hayden Panettiere', 'Catalina Sandino Moreno', 'Ellen Burstyn'], ['Laura Dern', 'Jeremy Irons', 'Justin Theroux', 'Karolina Gruszka'], ['Lambert Wilson', 'Pierre Niney', 'Audrey Tautou,Laurent Lucas'], ['Joseph Gordon-Levitt', 'Charlotte Le Bon,Guillaume Baillargeon', 'Émilie Leclerc'], ['Anna Hutchison', 'Andrea Whitburn', 'Jennifer Koenig,Michael Dickson'], ['Johnny Depp', 'Armie Hammer', 'William Fichtner,Tom Wilkinson'], ['Alexandra Daddario', 'Tania Raymonde', 'Scott Eastwood', 'Trey Songz'], ['Shia LaBeouf', 'David Morse', 'Carrie-Anne Moss', 'Sarah Roemer'], ['Julianne Hough', 'Diego Boneta', 'Tom Cruise', 'Alec Baldwin'], ['Neve Campbell', 'Courteney Cox', 'David Arquette', 'Lucy Hale'], ['Madina Nalwanga', 'David Oyelowo', \"Lupita Nyong'o\", 'Martin Kabanza'], ['Nia Vardalos', 'John Corbett', 'Michael Constantine', 'Lainie Kazan'], ['Charlize Theron', 'Nicholas Hoult', 'Christina Hendricks', 'Chloë Grace Moretz'], ['Jason Biggs', 'Janet Montgomery,Ashley Tisdale', 'Bria L. Murphy'], ['Nathalie Baye', 'Vincent Cassel', 'Marion Cotillard', 'Léa Seydoux'], ['Antonio Banderas', 'Elena Anaya', 'Jan Cornet,Marisa Paredes'], ['Jennifer Garner', 'Kylie Rogers', 'Martin Henderson,Brighton Sharbino'], ['Quvenzhané Wallis', 'Cameron Diaz', 'Jamie Foxx', 'Rose Byrne'], ['Evan Rachel Wood', 'Jim Sturgess', 'Joe Anderson', 'Dana Fuchs'], ['Jake Johnson', 'Damon Wayans Jr.', 'Rob Riggle', 'Nina Dobrev'], ['Thomas Haden Church', 'Josh Wiggins', 'Luke Kleintank,Lauren Graham'], ['Danny McBride', 'Natalie Portman', 'James Franco', 'Rasmus Hardiker'], [\"Nicholas D'Agosto\", 'Emma Bell', 'Arlen Escarpeta', 'Miles Fisher'], ['Gabriella Wilde', 'Alex Pettyfer', 'Bruce Greenwood,Robert Patrick'], ['Morjana Alaoui', 'Mylène Jampanoï', 'Catherine Bégin,Robert Toupin'], ['David Oyelowo', 'Carmen Ejogo', 'Tim Roth', 'Lorraine Toussaint'], ['Rhona Mitra', 'Michael Sheen', 'Bill Nighy', 'Steven Mackintosh'], ['Darsheel Safary', 'Aamir Khan', 'Tanay Chheda', 'Sachet Engineer'], ['Topher Grace', 'Anna Faris', 'Dan Fogler', 'Teresa Palmer'], ['Milla Jovovich', 'Ali Larter', 'Wentworth Miller,Kim Coates'], ['Thomas Mann', 'Oliver Cooper', 'Jonathan Daniel Brown', 'Dax Flame'], ['Chiwetel Ejiofor', 'Nicole Kidman', 'Julia Roberts', 'Dean Norris'], ['Lauren German', 'Heather Matarazzo', 'Bijou Phillips', 'Roger Bart'], ['Robert Hoffman', 'Briana Evigan', 'Cassie Ventura', 'Adam G. Sevani'], ['Adam Pally', 'T.J. Miller', 'Thomas Middleditch,Shannon Woodward'], ['Kevin Spacey', 'Jennifer Garner', 'Robbie Amell,Cheryl Hines']]\n",
      "2015\n",
      "125\n",
      "--------------------------------------------------\n"
     ]
    },
    {
     "data": {
      "image/png": "[encoded data removed]",
      "text/plain": [
       "<Figure size 1600x640 with 1 Axes>"
      ]
     },
     "metadata": {},
     "output_type": "display_data"
    }
   ],
   "source": [
    "import pandas as pd\n",
    "import numpy as np\n",
    "from matplotlib import pyplot as plt\n",
    "\n",
    "file_path = \"IMDB-Movie-Data.csv\"\n",
    "df = pd.read_csv(file_path) #不加路径默认当前路径\n",
    "# 打印数据信息\n",
    "print(df.info())\n",
    "print(df.describe())\n",
    "# print(df.head(1))\n",
    "\n",
    "# # 获取平均评分\n",
    "# print(df[\"Rating\"].mean())\n",
    "print('-'*50)\n",
    "# 导演的人数\n",
    "print(len(set(df[\"Director\"].tolist())))\n",
    "print(len(df[\"Director\"].unique()))\n",
    "print(\"导演人数：\", df[\"Director\"].count())\n",
    "# # 获取演员的人数\n",
    "temp_actors_list = df[\"Actors\"].str.split(\", \").tolist()  #二维列表\n",
    "print(temp_actors_list)\n",
    "actors_list = [i for j in temp_actors_list for i in j]  #二维展为一维\n",
    "actors_num = len(set(actors_list))\n",
    "print(actors_num)\n",
    "\n",
    "# rating,runtime分布情况\n",
    "# 选择图形，直方图\n",
    "# 准备数据\n",
    "runtime_data = df[\"Runtime (Minutes)\"].values\n",
    "\n",
    "max_runtime = runtime_data.max()\n",
    "min_runtime = runtime_data.min()\n",
    "\n",
    "# 计算组数\n",
    "print(max_runtime - min_runtime)\n",
    "print('-'*50)\n",
    "num_bin = (max_runtime - min_runtime) // 5\n",
    "\n",
    "# 设置图形的大小\n",
    "plt.figure(figsize=(20, 8), dpi=80)\n",
    "# 第二个bins参数必须为int或sequence或str，bins代表划分为多少个单元\n",
    "plt.hist(runtime_data, int(num_bin))\n",
    "\n",
    "plt.xticks(range(min_runtime, max_runtime + 5, 5))\n",
    "\n",
    "plt.show()"
   ]
  },
  {
   "cell_type": "code",
   "execution_count": 117,
   "metadata": {
    "collapsed": false,
    "pycharm": {
     "name": "#%%\n"
    }
   },
   "outputs": [
    {
     "name": "stdout",
     "output_type": "stream",
     "text": [
      "<class 'pandas.core.frame.DataFrame'>\n",
      "RangeIndex: 1000 entries, 0 to 999\n",
      "Data columns (total 12 columns):\n",
      " #   Column              Non-Null Count  Dtype  \n",
      "---  ------              --------------  -----  \n",
      " 0   Rank                1000 non-null   int64  \n",
      " 1   Title               1000 non-null   object \n",
      " 2   Genre               1000 non-null   object \n",
      " 3   Description         1000 non-null   object \n",
      " 4   Director            1000 non-null   object \n",
      " 5   Actors              1000 non-null   object \n",
      " 6   Year                1000 non-null   int64  \n",
      " 7   Runtime (Minutes)   1000 non-null   int64  \n",
      " 8   Rating              1000 non-null   float64\n",
      " 9   Votes               1000 non-null   int64  \n",
      " 10  Revenue (Millions)  872 non-null    float64\n",
      " 11  Metascore           936 non-null    float64\n",
      "dtypes: float64(3), int64(4), object(5)\n",
      "memory usage: 93.9+ KB\n",
      "None\n",
      "   Rank                    Title                    Genre  \\\n",
      "0     1  Guardians of the Galaxy  Action,Adventure,Sci-Fi   \n",
      "\n",
      "                                         Description    Director  \\\n",
      "0  A group of intergalactic criminals are forced ...  James Gunn   \n",
      "\n",
      "                                              Actors  Year  Runtime (Minutes)  \\\n",
      "0  Chris Pratt, Vin Diesel, Bradley Cooper, Zoe S...  2014                121   \n",
      "\n",
      "   Rating   Votes  Revenue (Millions)  Metascore  \n",
      "0     8.1  757074              333.13       76.0  \n",
      "6.723199999999999\n",
      "644\n",
      "644\n",
      "2015\n",
      "--------------------------------------------------\n",
      "9.0 1.9\n",
      "7.1\n"
     ]
    },
    {
     "data": {
      "image/png": "[encoded data removed]",
      "text/plain": [
       "<Figure size 1600x640 with 1 Axes>"
      ]
     },
     "metadata": {},
     "output_type": "display_data"
    }
   ],
   "source": [
    "import pandas as pd\n",
    "import numpy as np\n",
    "from matplotlib import pyplot as plt\n",
    "\n",
    "file_path = \"IMDB-Movie-Data.csv\"\n",
    "df = pd.read_csv(file_path)\n",
    "# 打印数据信息\n",
    "print(df.info())\n",
    "\n",
    "print(df.head(1))\n",
    "\n",
    "# 获取平均评分\n",
    "print(df[\"Rating\"].mean())\n",
    "\n",
    "# 导演的人数\n",
    "print(len(set(df[\"Director\"].tolist())))\n",
    "print(len(df[\"Director\"].unique()))\n",
    "\n",
    "# 获取演员的人数\n",
    "temp_actors_list = df[\"Actors\"].str.split(\", \").tolist()\n",
    "actors_list = [i for j in temp_actors_list for i in j]\n",
    "actors_num = len(set(actors_list))\n",
    "print(actors_num)\n",
    "\n",
    "# rating,runtime分布情况\n",
    "# 选择图形，直方图\n",
    "# 准备数据\n",
    "runtime_data = df[\"Rating\"].values\n",
    "\n",
    "max_runtime = runtime_data.max()\n",
    "min_runtime = runtime_data.min()\n",
    "print('-'*50)\n",
    "print(max_runtime,min_runtime)\n",
    "# 计算组数\n",
    "print(max_runtime - min_runtime)\n",
    "num_bin = (max_runtime - min_runtime) // 0.5\n",
    "\n",
    "# 设置图形的大小\n",
    "plt.figure(figsize=(20, 8), dpi=80)\n",
    "# 第二个bins参数必须为int或sequence或str，bins代表划分为多少个单元\n",
    "plt.hist(runtime_data, int(num_bin))\n",
    "\n",
    "#因为range的步长不支持0.5\n",
    "_x = (np.arange(19,95,5)/10).tolist()\n",
    "\n",
    "plt.xticks(_x)\n",
    "\n",
    "plt.show()"
   ]
  },
  {
   "cell_type": "code",
   "execution_count": 124,
   "metadata": {},
   "outputs": [
    {
     "name": "stdout",
     "output_type": "stream",
     "text": [
      "0     Action,Adventure,Sci-Fi\n",
      "1    Adventure,Mystery,Sci-Fi\n",
      "2             Horror,Thriller\n",
      "Name: Genre, dtype: object\n",
      "['Romance', 'Comedy', 'Action', 'Mystery', 'Biography', 'Horror', 'Sport', 'History', 'Musical', 'Drama', 'Animation', 'Music', 'Western', 'Sci-Fi', 'War', 'Adventure', 'Family', 'Crime', 'Fantasy', 'Thriller']\n",
      "     Romance  Comedy  Action  Mystery  Biography  Horror  Sport  History  \\\n",
      "0        0.0     0.0     0.0      0.0        0.0     0.0    0.0      0.0   \n",
      "1        0.0     0.0     0.0      0.0        0.0     0.0    0.0      0.0   \n",
      "2        0.0     0.0     0.0      0.0        0.0     0.0    0.0      0.0   \n",
      "3        0.0     0.0     0.0      0.0        0.0     0.0    0.0      0.0   \n",
      "4        0.0     0.0     0.0      0.0        0.0     0.0    0.0      0.0   \n",
      "..       ...     ...     ...      ...        ...     ...    ...      ...   \n",
      "995      0.0     0.0     0.0      0.0        0.0     0.0    0.0      0.0   \n",
      "996      0.0     0.0     0.0      0.0        0.0     0.0    0.0      0.0   \n",
      "997      0.0     0.0     0.0      0.0        0.0     0.0    0.0      0.0   \n",
      "998      0.0     0.0     0.0      0.0        0.0     0.0    0.0      0.0   \n",
      "999      0.0     0.0     0.0      0.0        0.0     0.0    0.0      0.0   \n",
      "\n",
      "     Musical  Drama  Animation  Music  Western  Sci-Fi  War  Adventure  \\\n",
      "0        0.0    0.0        0.0    0.0      0.0     0.0  0.0        0.0   \n",
      "1        0.0    0.0        0.0    0.0      0.0     0.0  0.0        0.0   \n",
      "2        0.0    0.0        0.0    0.0      0.0     0.0  0.0        0.0   \n",
      "3        0.0    0.0        0.0    0.0      0.0     0.0  0.0        0.0   \n",
      "4        0.0    0.0        0.0    0.0      0.0     0.0  0.0        0.0   \n",
      "..       ...    ...        ...    ...      ...     ...  ...        ...   \n",
      "995      0.0    0.0        0.0    0.0      0.0     0.0  0.0        0.0   \n",
      "996      0.0    0.0        0.0    0.0      0.0     0.0  0.0        0.0   \n",
      "997      0.0    0.0        0.0    0.0      0.0     0.0  0.0        0.0   \n",
      "998      0.0    0.0        0.0    0.0      0.0     0.0  0.0        0.0   \n",
      "999      0.0    0.0        0.0    0.0      0.0     0.0  0.0        0.0   \n",
      "\n",
      "     Family  Crime  Fantasy  Thriller  \n",
      "0       0.0    0.0      0.0       0.0  \n",
      "1       0.0    0.0      0.0       0.0  \n",
      "2       0.0    0.0      0.0       0.0  \n",
      "3       0.0    0.0      0.0       0.0  \n",
      "4       0.0    0.0      0.0       0.0  \n",
      "..      ...    ...      ...       ...  \n",
      "995     0.0    0.0      0.0       0.0  \n",
      "996     0.0    0.0      0.0       0.0  \n",
      "997     0.0    0.0      0.0       0.0  \n",
      "998     0.0    0.0      0.0       0.0  \n",
      "999     0.0    0.0      0.0       0.0  \n",
      "\n",
      "[1000 rows x 20 columns]\n",
      "   Romance  Comedy  Action  Mystery  Biography  Horror  Sport  History  \\\n",
      "0      0.0     0.0     1.0      0.0        0.0     0.0    0.0      0.0   \n",
      "1      0.0     0.0     0.0      1.0        0.0     0.0    0.0      0.0   \n",
      "2      0.0     0.0     0.0      0.0        0.0     1.0    0.0      0.0   \n",
      "\n",
      "   Musical  Drama  Animation  Music  Western  Sci-Fi  War  Adventure  Family  \\\n",
      "0      0.0    0.0        0.0    0.0      0.0     1.0  0.0        1.0     0.0   \n",
      "1      0.0    0.0        0.0    0.0      0.0     1.0  0.0        1.0     0.0   \n",
      "2      0.0    0.0        0.0    0.0      0.0     0.0  0.0        0.0     0.0   \n",
      "\n",
      "   Crime  Fantasy  Thriller  \n",
      "0    0.0      0.0       0.0  \n",
      "1    0.0      0.0       0.0  \n",
      "2    0.0      0.0       1.0  \n",
      "Romance      141.0\n",
      "Comedy       279.0\n",
      "Action       303.0\n",
      "Mystery      106.0\n",
      "Biography     81.0\n",
      "Horror       119.0\n",
      "Sport         18.0\n",
      "History       29.0\n",
      "Musical        5.0\n",
      "Drama        513.0\n",
      "Animation     49.0\n",
      "Music         16.0\n",
      "Western        7.0\n",
      "Sci-Fi       120.0\n",
      "War           13.0\n",
      "Adventure    259.0\n",
      "Family        51.0\n",
      "Crime        150.0\n",
      "Fantasy      101.0\n",
      "Thriller     195.0\n",
      "dtype: float64\n"
     ]
    },
    {
     "data": {
      "image/png": "[encoded data removed]",
      "text/plain": [
       "<Figure size 1600x640 with 1 Axes>"
      ]
     },
     "metadata": {},
     "output_type": "display_data"
    }
   ],
   "source": [
    "import pandas as pd\n",
    "from matplotlib import pyplot as plt\n",
    "import numpy as np\n",
    "#导演要拍什么题材电影\n",
    "file_path = \"./IMDB-Movie-Data.csv\"\n",
    "\n",
    "df = pd.read_csv(file_path)\n",
    "print(df[\"Genre\"].head(3))  #看前几条数据，掌握格式，内容类型\n",
    "# 统计分类的列表\n",
    "temp_list = df[\"Genre\"].str.split(\",\").tolist()  # [[],[],[]]\n",
    "# 二维变为1位\n",
    "genre_list = list({i for j in temp_list for i in j})\n",
    "print(genre_list)\n",
    "# 构造全为0的数组，行是原来的样本数，列是题材类型数目，one-hot编码，\n",
    "zeros_df = pd.DataFrame(np.zeros((df.shape[0], len(genre_list))), columns=genre_list)\n",
    "print(zeros_df)\n",
    "\n",
    "# 给每个电影出现分类的位置赋值1\n",
    "for i in range(df.shape[0]):\n",
    "    # zeros_df.loc[0,[\"Sci-fi\",\"Mucical\"]] = 1\n",
    "    zeros_df.loc[i, temp_list[i]] = 1\n",
    "\n",
    "print(zeros_df.head(3))\n",
    "\n",
    "# 统计每个分类的电影的数量和，genre_count是什么类型？\n",
    "genre_count = zeros_df.sum(axis=0)\n",
    "print(genre_count)\n",
    "\n",
    "# 排序\n",
    "genre_count = genre_count.sort_values()\n",
    "_x = genre_count.index\n",
    "_y = genre_count.values\n",
    "# 画图\n",
    "plt.figure(figsize=(20, 8), dpi=80)\n",
    "plt.bar(genre_list, _y, width=0.4, color=\"orange\")\n",
    "plt.xticks(genre_list, _x)\n",
    "plt.show()"
   ]
  },
  {
   "cell_type": "markdown",
   "metadata": {},
   "source": [
    "# 9 Pandas分组与聚合"
   ]
  },
  {
   "cell_type": "code",
   "execution_count": 4,
   "metadata": {},
   "outputs": [
    {
     "name": "stdout",
     "output_type": "stream",
     "text": [
      "  key1   key2     data1     data2\n",
      "0    a    one  1.519334  0.903638\n",
      "1    b    one -0.121235  0.261999\n",
      "2    a    two  0.019896 -0.761579\n",
      "3    b  three  0.604957 -0.622730\n",
      "4    a    two -1.638921  1.076227\n",
      "5    b    two  1.242872 -0.792761\n",
      "6    a    one  0.765210  0.364216\n",
      "7    a  three  0.824253  0.144587\n",
      "<pandas.core.groupby.generic.DataFrameGroupBy object at 0x7f07929f4c50>\n",
      "<class 'pandas.core.groupby.generic.DataFrameGroupBy'>\n",
      "--------------------------------------------------\n",
      "0    1.519334\n",
      "1   -0.121235\n",
      "2    0.019896\n",
      "3    0.604957\n",
      "4   -1.638921\n",
      "5    1.242872\n",
      "6    0.765210\n",
      "7    0.824253\n",
      "Name: data1, dtype: float64\n",
      "<class 'pandas.core.groupby.generic.SeriesGroupBy'>\n"
     ]
    },
    {
     "ename": "TypeError",
     "evalue": "Could not convert onetwotwoonethree to numeric",
     "output_type": "error",
     "traceback": [
      "\u001b[0;31m---------------------------------------------------------------------------\u001b[0m",
      "\u001b[0;31mNotImplementedError\u001b[0m                       Traceback (most recent call last)",
      "File \u001b[0;32m~/.virtualenvs/deeplearn-study/lib/python3.11/site-packages/pandas/core/groupby/groupby.py:1490\u001b[0m, in \u001b[0;36mGroupBy._cython_agg_general.<locals>.array_func\u001b[0;34m(values)\u001b[0m\n\u001b[1;32m   1489\u001b[0m \u001b[39mtry\u001b[39;00m:\n\u001b[0;32m-> 1490\u001b[0m     result \u001b[39m=\u001b[39m \u001b[39mself\u001b[39;49m\u001b[39m.\u001b[39;49mgrouper\u001b[39m.\u001b[39;49m_cython_operation(\n\u001b[1;32m   1491\u001b[0m         \u001b[39m\"\u001b[39;49m\u001b[39maggregate\u001b[39;49m\u001b[39m\"\u001b[39;49m,\n\u001b[1;32m   1492\u001b[0m         values,\n\u001b[1;32m   1493\u001b[0m         how,\n\u001b[1;32m   1494\u001b[0m         axis\u001b[39m=\u001b[39;49mdata\u001b[39m.\u001b[39;49mndim \u001b[39m-\u001b[39;49m \u001b[39m1\u001b[39;49m,\n\u001b[1;32m   1495\u001b[0m         min_count\u001b[39m=\u001b[39;49mmin_count,\n\u001b[1;32m   1496\u001b[0m         \u001b[39m*\u001b[39;49m\u001b[39m*\u001b[39;49mkwargs,\n\u001b[1;32m   1497\u001b[0m     )\n\u001b[1;32m   1498\u001b[0m \u001b[39mexcept\u001b[39;00m \u001b[39mNotImplementedError\u001b[39;00m:\n\u001b[1;32m   1499\u001b[0m     \u001b[39m# generally if we have numeric_only=False\u001b[39;00m\n\u001b[1;32m   1500\u001b[0m     \u001b[39m# and non-applicable functions\u001b[39;00m\n\u001b[1;32m   1501\u001b[0m     \u001b[39m# try to python agg\u001b[39;00m\n\u001b[1;32m   1502\u001b[0m     \u001b[39m# TODO: shouldn't min_count matter?\u001b[39;00m\n",
      "File \u001b[0;32m~/.virtualenvs/deeplearn-study/lib/python3.11/site-packages/pandas/core/groupby/ops.py:959\u001b[0m, in \u001b[0;36mBaseGrouper._cython_operation\u001b[0;34m(self, kind, values, how, axis, min_count, **kwargs)\u001b[0m\n\u001b[1;32m    958\u001b[0m ngroups \u001b[39m=\u001b[39m \u001b[39mself\u001b[39m\u001b[39m.\u001b[39mngroups\n\u001b[0;32m--> 959\u001b[0m \u001b[39mreturn\u001b[39;00m cy_op\u001b[39m.\u001b[39;49mcython_operation(\n\u001b[1;32m    960\u001b[0m     values\u001b[39m=\u001b[39;49mvalues,\n\u001b[1;32m    961\u001b[0m     axis\u001b[39m=\u001b[39;49maxis,\n\u001b[1;32m    962\u001b[0m     min_count\u001b[39m=\u001b[39;49mmin_count,\n\u001b[1;32m    963\u001b[0m     comp_ids\u001b[39m=\u001b[39;49mids,\n\u001b[1;32m    964\u001b[0m     ngroups\u001b[39m=\u001b[39;49mngroups,\n\u001b[1;32m    965\u001b[0m     \u001b[39m*\u001b[39;49m\u001b[39m*\u001b[39;49mkwargs,\n\u001b[1;32m    966\u001b[0m )\n",
      "File \u001b[0;32m~/.virtualenvs/deeplearn-study/lib/python3.11/site-packages/pandas/core/groupby/ops.py:657\u001b[0m, in \u001b[0;36mWrappedCythonOp.cython_operation\u001b[0;34m(self, values, axis, min_count, comp_ids, ngroups, **kwargs)\u001b[0m\n\u001b[1;32m    649\u001b[0m     \u001b[39mreturn\u001b[39;00m \u001b[39mself\u001b[39m\u001b[39m.\u001b[39m_ea_wrap_cython_operation(\n\u001b[1;32m    650\u001b[0m         values,\n\u001b[1;32m    651\u001b[0m         min_count\u001b[39m=\u001b[39mmin_count,\n\u001b[0;32m   (...)\u001b[0m\n\u001b[1;32m    654\u001b[0m         \u001b[39m*\u001b[39m\u001b[39m*\u001b[39mkwargs,\n\u001b[1;32m    655\u001b[0m     )\n\u001b[0;32m--> 657\u001b[0m \u001b[39mreturn\u001b[39;00m \u001b[39mself\u001b[39;49m\u001b[39m.\u001b[39;49m_cython_op_ndim_compat(\n\u001b[1;32m    658\u001b[0m     values,\n\u001b[1;32m    659\u001b[0m     min_count\u001b[39m=\u001b[39;49mmin_count,\n\u001b[1;32m    660\u001b[0m     ngroups\u001b[39m=\u001b[39;49mngroups,\n\u001b[1;32m    661\u001b[0m     comp_ids\u001b[39m=\u001b[39;49mcomp_ids,\n\u001b[1;32m    662\u001b[0m     mask\u001b[39m=\u001b[39;49m\u001b[39mNone\u001b[39;49;00m,\n\u001b[1;32m    663\u001b[0m     \u001b[39m*\u001b[39;49m\u001b[39m*\u001b[39;49mkwargs,\n\u001b[1;32m    664\u001b[0m )\n",
      "File \u001b[0;32m~/.virtualenvs/deeplearn-study/lib/python3.11/site-packages/pandas/core/groupby/ops.py:497\u001b[0m, in \u001b[0;36mWrappedCythonOp._cython_op_ndim_compat\u001b[0;34m(self, values, min_count, ngroups, comp_ids, mask, result_mask, **kwargs)\u001b[0m\n\u001b[1;32m    495\u001b[0m     \u001b[39mreturn\u001b[39;00m res\u001b[39m.\u001b[39mT\n\u001b[0;32m--> 497\u001b[0m \u001b[39mreturn\u001b[39;00m \u001b[39mself\u001b[39;49m\u001b[39m.\u001b[39;49m_call_cython_op(\n\u001b[1;32m    498\u001b[0m     values,\n\u001b[1;32m    499\u001b[0m     min_count\u001b[39m=\u001b[39;49mmin_count,\n\u001b[1;32m    500\u001b[0m     ngroups\u001b[39m=\u001b[39;49mngroups,\n\u001b[1;32m    501\u001b[0m     comp_ids\u001b[39m=\u001b[39;49mcomp_ids,\n\u001b[1;32m    502\u001b[0m     mask\u001b[39m=\u001b[39;49mmask,\n\u001b[1;32m    503\u001b[0m     result_mask\u001b[39m=\u001b[39;49mresult_mask,\n\u001b[1;32m    504\u001b[0m     \u001b[39m*\u001b[39;49m\u001b[39m*\u001b[39;49mkwargs,\n\u001b[1;32m    505\u001b[0m )\n",
      "File \u001b[0;32m~/.virtualenvs/deeplearn-study/lib/python3.11/site-packages/pandas/core/groupby/ops.py:541\u001b[0m, in \u001b[0;36mWrappedCythonOp._call_cython_op\u001b[0;34m(self, values, min_count, ngroups, comp_ids, mask, result_mask, **kwargs)\u001b[0m\n\u001b[1;32m    540\u001b[0m out_shape \u001b[39m=\u001b[39m \u001b[39mself\u001b[39m\u001b[39m.\u001b[39m_get_output_shape(ngroups, values)\n\u001b[0;32m--> 541\u001b[0m func \u001b[39m=\u001b[39m \u001b[39mself\u001b[39;49m\u001b[39m.\u001b[39;49m_get_cython_function(\u001b[39mself\u001b[39;49m\u001b[39m.\u001b[39;49mkind, \u001b[39mself\u001b[39;49m\u001b[39m.\u001b[39;49mhow, values\u001b[39m.\u001b[39;49mdtype, is_numeric)\n\u001b[1;32m    542\u001b[0m values \u001b[39m=\u001b[39m \u001b[39mself\u001b[39m\u001b[39m.\u001b[39m_get_cython_vals(values)\n",
      "File \u001b[0;32m~/.virtualenvs/deeplearn-study/lib/python3.11/site-packages/pandas/core/groupby/ops.py:173\u001b[0m, in \u001b[0;36mWrappedCythonOp._get_cython_function\u001b[0;34m(cls, kind, how, dtype, is_numeric)\u001b[0m\n\u001b[1;32m    171\u001b[0m \u001b[39mif\u001b[39;00m \u001b[39m\"\u001b[39m\u001b[39mobject\u001b[39m\u001b[39m\"\u001b[39m \u001b[39mnot\u001b[39;00m \u001b[39min\u001b[39;00m f\u001b[39m.\u001b[39m__signatures__:\n\u001b[1;32m    172\u001b[0m     \u001b[39m# raise NotImplementedError here rather than TypeError later\u001b[39;00m\n\u001b[0;32m--> 173\u001b[0m     \u001b[39mraise\u001b[39;00m \u001b[39mNotImplementedError\u001b[39;00m(\n\u001b[1;32m    174\u001b[0m         \u001b[39mf\u001b[39m\u001b[39m\"\u001b[39m\u001b[39mfunction is not implemented for this dtype: \u001b[39m\u001b[39m\"\u001b[39m\n\u001b[1;32m    175\u001b[0m         \u001b[39mf\u001b[39m\u001b[39m\"\u001b[39m\u001b[39m[how->\u001b[39m\u001b[39m{\u001b[39;00mhow\u001b[39m}\u001b[39;00m\u001b[39m,dtype->\u001b[39m\u001b[39m{\u001b[39;00mdtype_str\u001b[39m}\u001b[39;00m\u001b[39m]\u001b[39m\u001b[39m\"\u001b[39m\n\u001b[1;32m    176\u001b[0m     )\n\u001b[1;32m    177\u001b[0m \u001b[39mreturn\u001b[39;00m f\n",
      "\u001b[0;31mNotImplementedError\u001b[0m: function is not implemented for this dtype: [how->mean,dtype->object]",
      "\nDuring handling of the above exception, another exception occurred:\n",
      "\u001b[0;31mValueError\u001b[0m                                Traceback (most recent call last)",
      "File \u001b[0;32m~/.virtualenvs/deeplearn-study/lib/python3.11/site-packages/pandas/core/nanops.py:1692\u001b[0m, in \u001b[0;36m_ensure_numeric\u001b[0;34m(x)\u001b[0m\n\u001b[1;32m   1691\u001b[0m \u001b[39mtry\u001b[39;00m:\n\u001b[0;32m-> 1692\u001b[0m     x \u001b[39m=\u001b[39m \u001b[39mfloat\u001b[39;49m(x)\n\u001b[1;32m   1693\u001b[0m \u001b[39mexcept\u001b[39;00m (\u001b[39mTypeError\u001b[39;00m, \u001b[39mValueError\u001b[39;00m):\n\u001b[1;32m   1694\u001b[0m     \u001b[39m# e.g. \"1+1j\" or \"foo\"\u001b[39;00m\n",
      "\u001b[0;31mValueError\u001b[0m: could not convert string to float: 'onetwotwoonethree'",
      "\nDuring handling of the above exception, another exception occurred:\n",
      "\u001b[0;31mValueError\u001b[0m                                Traceback (most recent call last)",
      "File \u001b[0;32m~/.virtualenvs/deeplearn-study/lib/python3.11/site-packages/pandas/core/nanops.py:1696\u001b[0m, in \u001b[0;36m_ensure_numeric\u001b[0;34m(x)\u001b[0m\n\u001b[1;32m   1695\u001b[0m \u001b[39mtry\u001b[39;00m:\n\u001b[0;32m-> 1696\u001b[0m     x \u001b[39m=\u001b[39m \u001b[39mcomplex\u001b[39;49m(x)\n\u001b[1;32m   1697\u001b[0m \u001b[39mexcept\u001b[39;00m \u001b[39mValueError\u001b[39;00m \u001b[39mas\u001b[39;00m err:\n\u001b[1;32m   1698\u001b[0m     \u001b[39m# e.g. \"foo\"\u001b[39;00m\n",
      "\u001b[0;31mValueError\u001b[0m: complex() arg is a malformed string",
      "\nThe above exception was the direct cause of the following exception:\n",
      "\u001b[0;31mTypeError\u001b[0m                                 Traceback (most recent call last)",
      "Cell \u001b[0;32mIn[4], line 23\u001b[0m\n\u001b[1;32m     21\u001b[0m \u001b[39m# 分组运算\u001b[39;00m\n\u001b[1;32m     22\u001b[0m grouped1 \u001b[39m=\u001b[39m df_obj\u001b[39m.\u001b[39mgroupby(\u001b[39m'\u001b[39m\u001b[39mkey1\u001b[39m\u001b[39m'\u001b[39m)\n\u001b[0;32m---> 23\u001b[0m \u001b[39mprint\u001b[39m(grouped1\u001b[39m.\u001b[39;49mmean())\n\u001b[1;32m     25\u001b[0m grouped2 \u001b[39m=\u001b[39m df_obj[\u001b[39m'\u001b[39m\u001b[39mdata1\u001b[39m\u001b[39m'\u001b[39m]\u001b[39m.\u001b[39mgroupby(df_obj[\u001b[39m'\u001b[39m\u001b[39mkey1\u001b[39m\u001b[39m'\u001b[39m])\n\u001b[1;32m     26\u001b[0m \u001b[39mprint\u001b[39m(grouped2\u001b[39m.\u001b[39mmean())\n",
      "File \u001b[0;32m~/.virtualenvs/deeplearn-study/lib/python3.11/site-packages/pandas/core/groupby/groupby.py:1855\u001b[0m, in \u001b[0;36mGroupBy.mean\u001b[0;34m(self, numeric_only, engine, engine_kwargs)\u001b[0m\n\u001b[1;32m   1853\u001b[0m     \u001b[39mreturn\u001b[39;00m \u001b[39mself\u001b[39m\u001b[39m.\u001b[39m_numba_agg_general(sliding_mean, engine_kwargs)\n\u001b[1;32m   1854\u001b[0m \u001b[39melse\u001b[39;00m:\n\u001b[0;32m-> 1855\u001b[0m     result \u001b[39m=\u001b[39m \u001b[39mself\u001b[39;49m\u001b[39m.\u001b[39;49m_cython_agg_general(\n\u001b[1;32m   1856\u001b[0m         \u001b[39m\"\u001b[39;49m\u001b[39mmean\u001b[39;49m\u001b[39m\"\u001b[39;49m,\n\u001b[1;32m   1857\u001b[0m         alt\u001b[39m=\u001b[39;49m\u001b[39mlambda\u001b[39;49;00m x: Series(x)\u001b[39m.\u001b[39;49mmean(numeric_only\u001b[39m=\u001b[39;49mnumeric_only),\n\u001b[1;32m   1858\u001b[0m         numeric_only\u001b[39m=\u001b[39;49mnumeric_only,\n\u001b[1;32m   1859\u001b[0m     )\n\u001b[1;32m   1860\u001b[0m     \u001b[39mreturn\u001b[39;00m result\u001b[39m.\u001b[39m__finalize__(\u001b[39mself\u001b[39m\u001b[39m.\u001b[39mobj, method\u001b[39m=\u001b[39m\u001b[39m\"\u001b[39m\u001b[39mgroupby\u001b[39m\u001b[39m\"\u001b[39m)\n",
      "File \u001b[0;32m~/.virtualenvs/deeplearn-study/lib/python3.11/site-packages/pandas/core/groupby/groupby.py:1507\u001b[0m, in \u001b[0;36mGroupBy._cython_agg_general\u001b[0;34m(self, how, alt, numeric_only, min_count, **kwargs)\u001b[0m\n\u001b[1;32m   1503\u001b[0m         result \u001b[39m=\u001b[39m \u001b[39mself\u001b[39m\u001b[39m.\u001b[39m_agg_py_fallback(values, ndim\u001b[39m=\u001b[39mdata\u001b[39m.\u001b[39mndim, alt\u001b[39m=\u001b[39malt)\n\u001b[1;32m   1505\u001b[0m     \u001b[39mreturn\u001b[39;00m result\n\u001b[0;32m-> 1507\u001b[0m new_mgr \u001b[39m=\u001b[39m data\u001b[39m.\u001b[39;49mgrouped_reduce(array_func)\n\u001b[1;32m   1508\u001b[0m res \u001b[39m=\u001b[39m \u001b[39mself\u001b[39m\u001b[39m.\u001b[39m_wrap_agged_manager(new_mgr)\n\u001b[1;32m   1509\u001b[0m out \u001b[39m=\u001b[39m \u001b[39mself\u001b[39m\u001b[39m.\u001b[39m_wrap_aggregated_output(res)\n",
      "File \u001b[0;32m~/.virtualenvs/deeplearn-study/lib/python3.11/site-packages/pandas/core/internals/managers.py:1503\u001b[0m, in \u001b[0;36mBlockManager.grouped_reduce\u001b[0;34m(self, func)\u001b[0m\n\u001b[1;32m   1499\u001b[0m \u001b[39mif\u001b[39;00m blk\u001b[39m.\u001b[39mis_object:\n\u001b[1;32m   1500\u001b[0m     \u001b[39m# split on object-dtype blocks bc some columns may raise\u001b[39;00m\n\u001b[1;32m   1501\u001b[0m     \u001b[39m#  while others do not.\u001b[39;00m\n\u001b[1;32m   1502\u001b[0m     \u001b[39mfor\u001b[39;00m sb \u001b[39min\u001b[39;00m blk\u001b[39m.\u001b[39m_split():\n\u001b[0;32m-> 1503\u001b[0m         applied \u001b[39m=\u001b[39m sb\u001b[39m.\u001b[39;49mapply(func)\n\u001b[1;32m   1504\u001b[0m         result_blocks \u001b[39m=\u001b[39m extend_blocks(applied, result_blocks)\n\u001b[1;32m   1505\u001b[0m \u001b[39melse\u001b[39;00m:\n",
      "File \u001b[0;32m~/.virtualenvs/deeplearn-study/lib/python3.11/site-packages/pandas/core/internals/blocks.py:329\u001b[0m, in \u001b[0;36mBlock.apply\u001b[0;34m(self, func, **kwargs)\u001b[0m\n\u001b[1;32m    323\u001b[0m \u001b[39m@final\u001b[39m\n\u001b[1;32m    324\u001b[0m \u001b[39mdef\u001b[39;00m \u001b[39mapply\u001b[39m(\u001b[39mself\u001b[39m, func, \u001b[39m*\u001b[39m\u001b[39m*\u001b[39mkwargs) \u001b[39m-\u001b[39m\u001b[39m>\u001b[39m \u001b[39mlist\u001b[39m[Block]:\n\u001b[1;32m    325\u001b[0m \u001b[39m    \u001b[39m\u001b[39m\"\"\"\u001b[39;00m\n\u001b[1;32m    326\u001b[0m \u001b[39m    apply the function to my values; return a block if we are not\u001b[39;00m\n\u001b[1;32m    327\u001b[0m \u001b[39m    one\u001b[39;00m\n\u001b[1;32m    328\u001b[0m \u001b[39m    \"\"\"\u001b[39;00m\n\u001b[0;32m--> 329\u001b[0m     result \u001b[39m=\u001b[39m func(\u001b[39mself\u001b[39;49m\u001b[39m.\u001b[39;49mvalues, \u001b[39m*\u001b[39;49m\u001b[39m*\u001b[39;49mkwargs)\n\u001b[1;32m    331\u001b[0m     \u001b[39mreturn\u001b[39;00m \u001b[39mself\u001b[39m\u001b[39m.\u001b[39m_split_op_result(result)\n",
      "File \u001b[0;32m~/.virtualenvs/deeplearn-study/lib/python3.11/site-packages/pandas/core/groupby/groupby.py:1503\u001b[0m, in \u001b[0;36mGroupBy._cython_agg_general.<locals>.array_func\u001b[0;34m(values)\u001b[0m\n\u001b[1;32m   1490\u001b[0m     result \u001b[39m=\u001b[39m \u001b[39mself\u001b[39m\u001b[39m.\u001b[39mgrouper\u001b[39m.\u001b[39m_cython_operation(\n\u001b[1;32m   1491\u001b[0m         \u001b[39m\"\u001b[39m\u001b[39maggregate\u001b[39m\u001b[39m\"\u001b[39m,\n\u001b[1;32m   1492\u001b[0m         values,\n\u001b[0;32m   (...)\u001b[0m\n\u001b[1;32m   1496\u001b[0m         \u001b[39m*\u001b[39m\u001b[39m*\u001b[39mkwargs,\n\u001b[1;32m   1497\u001b[0m     )\n\u001b[1;32m   1498\u001b[0m \u001b[39mexcept\u001b[39;00m \u001b[39mNotImplementedError\u001b[39;00m:\n\u001b[1;32m   1499\u001b[0m     \u001b[39m# generally if we have numeric_only=False\u001b[39;00m\n\u001b[1;32m   1500\u001b[0m     \u001b[39m# and non-applicable functions\u001b[39;00m\n\u001b[1;32m   1501\u001b[0m     \u001b[39m# try to python agg\u001b[39;00m\n\u001b[1;32m   1502\u001b[0m     \u001b[39m# TODO: shouldn't min_count matter?\u001b[39;00m\n\u001b[0;32m-> 1503\u001b[0m     result \u001b[39m=\u001b[39m \u001b[39mself\u001b[39;49m\u001b[39m.\u001b[39;49m_agg_py_fallback(values, ndim\u001b[39m=\u001b[39;49mdata\u001b[39m.\u001b[39;49mndim, alt\u001b[39m=\u001b[39;49malt)\n\u001b[1;32m   1505\u001b[0m \u001b[39mreturn\u001b[39;00m result\n",
      "File \u001b[0;32m~/.virtualenvs/deeplearn-study/lib/python3.11/site-packages/pandas/core/groupby/groupby.py:1457\u001b[0m, in \u001b[0;36mGroupBy._agg_py_fallback\u001b[0;34m(self, values, ndim, alt)\u001b[0m\n\u001b[1;32m   1452\u001b[0m     ser \u001b[39m=\u001b[39m df\u001b[39m.\u001b[39miloc[:, \u001b[39m0\u001b[39m]\n\u001b[1;32m   1454\u001b[0m \u001b[39m# We do not get here with UDFs, so we know that our dtype\u001b[39;00m\n\u001b[1;32m   1455\u001b[0m \u001b[39m#  should always be preserved by the implemented aggregations\u001b[39;00m\n\u001b[1;32m   1456\u001b[0m \u001b[39m# TODO: Is this exactly right; see WrappedCythonOp get_result_dtype?\u001b[39;00m\n\u001b[0;32m-> 1457\u001b[0m res_values \u001b[39m=\u001b[39m \u001b[39mself\u001b[39;49m\u001b[39m.\u001b[39;49mgrouper\u001b[39m.\u001b[39;49magg_series(ser, alt, preserve_dtype\u001b[39m=\u001b[39;49m\u001b[39mTrue\u001b[39;49;00m)\n\u001b[1;32m   1459\u001b[0m \u001b[39mif\u001b[39;00m \u001b[39misinstance\u001b[39m(values, Categorical):\n\u001b[1;32m   1460\u001b[0m     \u001b[39m# Because we only get here with known dtype-preserving\u001b[39;00m\n\u001b[1;32m   1461\u001b[0m     \u001b[39m#  reductions, we cast back to Categorical.\u001b[39;00m\n\u001b[1;32m   1462\u001b[0m     \u001b[39m# TODO: if we ever get \"rank\" working, exclude it here.\u001b[39;00m\n\u001b[1;32m   1463\u001b[0m     res_values \u001b[39m=\u001b[39m \u001b[39mtype\u001b[39m(values)\u001b[39m.\u001b[39m_from_sequence(res_values, dtype\u001b[39m=\u001b[39mvalues\u001b[39m.\u001b[39mdtype)\n",
      "File \u001b[0;32m~/.virtualenvs/deeplearn-study/lib/python3.11/site-packages/pandas/core/groupby/ops.py:994\u001b[0m, in \u001b[0;36mBaseGrouper.agg_series\u001b[0;34m(self, obj, func, preserve_dtype)\u001b[0m\n\u001b[1;32m    987\u001b[0m \u001b[39mif\u001b[39;00m \u001b[39mlen\u001b[39m(obj) \u001b[39m>\u001b[39m \u001b[39m0\u001b[39m \u001b[39mand\u001b[39;00m \u001b[39mnot\u001b[39;00m \u001b[39misinstance\u001b[39m(obj\u001b[39m.\u001b[39m_values, np\u001b[39m.\u001b[39mndarray):\n\u001b[1;32m    988\u001b[0m     \u001b[39m# we can preserve a little bit more aggressively with EA dtype\u001b[39;00m\n\u001b[1;32m    989\u001b[0m     \u001b[39m#  because maybe_cast_pointwise_result will do a try/except\u001b[39;00m\n\u001b[1;32m    990\u001b[0m     \u001b[39m#  with _from_sequence.  NB we are assuming here that _from_sequence\u001b[39;00m\n\u001b[1;32m    991\u001b[0m     \u001b[39m#  is sufficiently strict that it casts appropriately.\u001b[39;00m\n\u001b[1;32m    992\u001b[0m     preserve_dtype \u001b[39m=\u001b[39m \u001b[39mTrue\u001b[39;00m\n\u001b[0;32m--> 994\u001b[0m result \u001b[39m=\u001b[39m \u001b[39mself\u001b[39;49m\u001b[39m.\u001b[39;49m_aggregate_series_pure_python(obj, func)\n\u001b[1;32m    996\u001b[0m npvalues \u001b[39m=\u001b[39m lib\u001b[39m.\u001b[39mmaybe_convert_objects(result, try_float\u001b[39m=\u001b[39m\u001b[39mFalse\u001b[39;00m)\n\u001b[1;32m    997\u001b[0m \u001b[39mif\u001b[39;00m preserve_dtype:\n",
      "File \u001b[0;32m~/.virtualenvs/deeplearn-study/lib/python3.11/site-packages/pandas/core/groupby/ops.py:1015\u001b[0m, in \u001b[0;36mBaseGrouper._aggregate_series_pure_python\u001b[0;34m(self, obj, func)\u001b[0m\n\u001b[1;32m   1012\u001b[0m splitter \u001b[39m=\u001b[39m \u001b[39mself\u001b[39m\u001b[39m.\u001b[39m_get_splitter(obj, axis\u001b[39m=\u001b[39m\u001b[39m0\u001b[39m)\n\u001b[1;32m   1014\u001b[0m \u001b[39mfor\u001b[39;00m i, group \u001b[39min\u001b[39;00m \u001b[39menumerate\u001b[39m(splitter):\n\u001b[0;32m-> 1015\u001b[0m     res \u001b[39m=\u001b[39m func(group)\n\u001b[1;32m   1016\u001b[0m     res \u001b[39m=\u001b[39m libreduction\u001b[39m.\u001b[39mextract_result(res)\n\u001b[1;32m   1018\u001b[0m     \u001b[39mif\u001b[39;00m \u001b[39mnot\u001b[39;00m initialized:\n\u001b[1;32m   1019\u001b[0m         \u001b[39m# We only do this validation on the first iteration\u001b[39;00m\n",
      "File \u001b[0;32m~/.virtualenvs/deeplearn-study/lib/python3.11/site-packages/pandas/core/groupby/groupby.py:1857\u001b[0m, in \u001b[0;36mGroupBy.mean.<locals>.<lambda>\u001b[0;34m(x)\u001b[0m\n\u001b[1;32m   1853\u001b[0m     \u001b[39mreturn\u001b[39;00m \u001b[39mself\u001b[39m\u001b[39m.\u001b[39m_numba_agg_general(sliding_mean, engine_kwargs)\n\u001b[1;32m   1854\u001b[0m \u001b[39melse\u001b[39;00m:\n\u001b[1;32m   1855\u001b[0m     result \u001b[39m=\u001b[39m \u001b[39mself\u001b[39m\u001b[39m.\u001b[39m_cython_agg_general(\n\u001b[1;32m   1856\u001b[0m         \u001b[39m\"\u001b[39m\u001b[39mmean\u001b[39m\u001b[39m\"\u001b[39m,\n\u001b[0;32m-> 1857\u001b[0m         alt\u001b[39m=\u001b[39m\u001b[39mlambda\u001b[39;00m x: Series(x)\u001b[39m.\u001b[39;49mmean(numeric_only\u001b[39m=\u001b[39;49mnumeric_only),\n\u001b[1;32m   1858\u001b[0m         numeric_only\u001b[39m=\u001b[39mnumeric_only,\n\u001b[1;32m   1859\u001b[0m     )\n\u001b[1;32m   1860\u001b[0m     \u001b[39mreturn\u001b[39;00m result\u001b[39m.\u001b[39m__finalize__(\u001b[39mself\u001b[39m\u001b[39m.\u001b[39mobj, method\u001b[39m=\u001b[39m\u001b[39m\"\u001b[39m\u001b[39mgroupby\u001b[39m\u001b[39m\"\u001b[39m)\n",
      "File \u001b[0;32m~/.virtualenvs/deeplearn-study/lib/python3.11/site-packages/pandas/core/generic.py:11556\u001b[0m, in \u001b[0;36mNDFrame._add_numeric_operations.<locals>.mean\u001b[0;34m(self, axis, skipna, numeric_only, **kwargs)\u001b[0m\n\u001b[1;32m  11539\u001b[0m \u001b[39m@doc\u001b[39m(\n\u001b[1;32m  11540\u001b[0m     _num_doc,\n\u001b[1;32m  11541\u001b[0m     desc\u001b[39m=\u001b[39m\u001b[39m\"\u001b[39m\u001b[39mReturn the mean of the values over the requested axis.\u001b[39m\u001b[39m\"\u001b[39m,\n\u001b[0;32m   (...)\u001b[0m\n\u001b[1;32m  11554\u001b[0m     \u001b[39m*\u001b[39m\u001b[39m*\u001b[39mkwargs,\n\u001b[1;32m  11555\u001b[0m ):\n\u001b[0;32m> 11556\u001b[0m     \u001b[39mreturn\u001b[39;00m NDFrame\u001b[39m.\u001b[39;49mmean(\u001b[39mself\u001b[39;49m, axis, skipna, numeric_only, \u001b[39m*\u001b[39;49m\u001b[39m*\u001b[39;49mkwargs)\n",
      "File \u001b[0;32m~/.virtualenvs/deeplearn-study/lib/python3.11/site-packages/pandas/core/generic.py:11201\u001b[0m, in \u001b[0;36mNDFrame.mean\u001b[0;34m(self, axis, skipna, numeric_only, **kwargs)\u001b[0m\n\u001b[1;32m  11194\u001b[0m \u001b[39mdef\u001b[39;00m \u001b[39mmean\u001b[39m(\n\u001b[1;32m  11195\u001b[0m     \u001b[39mself\u001b[39m,\n\u001b[1;32m  11196\u001b[0m     axis: Axis \u001b[39m|\u001b[39m \u001b[39mNone\u001b[39;00m \u001b[39m=\u001b[39m \u001b[39m0\u001b[39m,\n\u001b[0;32m   (...)\u001b[0m\n\u001b[1;32m  11199\u001b[0m     \u001b[39m*\u001b[39m\u001b[39m*\u001b[39mkwargs,\n\u001b[1;32m  11200\u001b[0m ) \u001b[39m-\u001b[39m\u001b[39m>\u001b[39m Series \u001b[39m|\u001b[39m \u001b[39mfloat\u001b[39m:\n\u001b[0;32m> 11201\u001b[0m     \u001b[39mreturn\u001b[39;00m \u001b[39mself\u001b[39;49m\u001b[39m.\u001b[39;49m_stat_function(\n\u001b[1;32m  11202\u001b[0m         \u001b[39m\"\u001b[39;49m\u001b[39mmean\u001b[39;49m\u001b[39m\"\u001b[39;49m, nanops\u001b[39m.\u001b[39;49mnanmean, axis, skipna, numeric_only, \u001b[39m*\u001b[39;49m\u001b[39m*\u001b[39;49mkwargs\n\u001b[1;32m  11203\u001b[0m     )\n",
      "File \u001b[0;32m~/.virtualenvs/deeplearn-study/lib/python3.11/site-packages/pandas/core/generic.py:11158\u001b[0m, in \u001b[0;36mNDFrame._stat_function\u001b[0;34m(self, name, func, axis, skipna, numeric_only, **kwargs)\u001b[0m\n\u001b[1;32m  11154\u001b[0m     nv\u001b[39m.\u001b[39mvalidate_stat_func((), kwargs, fname\u001b[39m=\u001b[39mname)\n\u001b[1;32m  11156\u001b[0m validate_bool_kwarg(skipna, \u001b[39m\"\u001b[39m\u001b[39mskipna\u001b[39m\u001b[39m\"\u001b[39m, none_allowed\u001b[39m=\u001b[39m\u001b[39mFalse\u001b[39;00m)\n\u001b[0;32m> 11158\u001b[0m \u001b[39mreturn\u001b[39;00m \u001b[39mself\u001b[39;49m\u001b[39m.\u001b[39;49m_reduce(\n\u001b[1;32m  11159\u001b[0m     func, name\u001b[39m=\u001b[39;49mname, axis\u001b[39m=\u001b[39;49maxis, skipna\u001b[39m=\u001b[39;49mskipna, numeric_only\u001b[39m=\u001b[39;49mnumeric_only\n\u001b[1;32m  11160\u001b[0m )\n",
      "File \u001b[0;32m~/.virtualenvs/deeplearn-study/lib/python3.11/site-packages/pandas/core/series.py:4670\u001b[0m, in \u001b[0;36mSeries._reduce\u001b[0;34m(self, op, name, axis, skipna, numeric_only, filter_type, **kwds)\u001b[0m\n\u001b[1;32m   4665\u001b[0m     \u001b[39mraise\u001b[39;00m \u001b[39mTypeError\u001b[39;00m(\n\u001b[1;32m   4666\u001b[0m         \u001b[39mf\u001b[39m\u001b[39m\"\u001b[39m\u001b[39mSeries.\u001b[39m\u001b[39m{\u001b[39;00mname\u001b[39m}\u001b[39;00m\u001b[39m does not allow \u001b[39m\u001b[39m{\u001b[39;00mkwd_name\u001b[39m}\u001b[39;00m\u001b[39m=\u001b[39m\u001b[39m{\u001b[39;00mnumeric_only\u001b[39m}\u001b[39;00m\u001b[39m \u001b[39m\u001b[39m\"\u001b[39m\n\u001b[1;32m   4667\u001b[0m         \u001b[39m\"\u001b[39m\u001b[39mwith non-numeric dtypes.\u001b[39m\u001b[39m\"\u001b[39m\n\u001b[1;32m   4668\u001b[0m     )\n\u001b[1;32m   4669\u001b[0m \u001b[39mwith\u001b[39;00m np\u001b[39m.\u001b[39merrstate(\u001b[39mall\u001b[39m\u001b[39m=\u001b[39m\u001b[39m\"\u001b[39m\u001b[39mignore\u001b[39m\u001b[39m\"\u001b[39m):\n\u001b[0;32m-> 4670\u001b[0m     \u001b[39mreturn\u001b[39;00m op(delegate, skipna\u001b[39m=\u001b[39;49mskipna, \u001b[39m*\u001b[39;49m\u001b[39m*\u001b[39;49mkwds)\n",
      "File \u001b[0;32m~/.virtualenvs/deeplearn-study/lib/python3.11/site-packages/pandas/core/nanops.py:96\u001b[0m, in \u001b[0;36mdisallow.__call__.<locals>._f\u001b[0;34m(*args, **kwargs)\u001b[0m\n\u001b[1;32m     94\u001b[0m \u001b[39mtry\u001b[39;00m:\n\u001b[1;32m     95\u001b[0m     \u001b[39mwith\u001b[39;00m np\u001b[39m.\u001b[39merrstate(invalid\u001b[39m=\u001b[39m\u001b[39m\"\u001b[39m\u001b[39mignore\u001b[39m\u001b[39m\"\u001b[39m):\n\u001b[0;32m---> 96\u001b[0m         \u001b[39mreturn\u001b[39;00m f(\u001b[39m*\u001b[39;49margs, \u001b[39m*\u001b[39;49m\u001b[39m*\u001b[39;49mkwargs)\n\u001b[1;32m     97\u001b[0m \u001b[39mexcept\u001b[39;00m \u001b[39mValueError\u001b[39;00m \u001b[39mas\u001b[39;00m e:\n\u001b[1;32m     98\u001b[0m     \u001b[39m# we want to transform an object array\u001b[39;00m\n\u001b[1;32m     99\u001b[0m     \u001b[39m# ValueError message to the more typical TypeError\u001b[39;00m\n\u001b[1;32m    100\u001b[0m     \u001b[39m# e.g. this is normally a disallowed function on\u001b[39;00m\n\u001b[1;32m    101\u001b[0m     \u001b[39m# object arrays that contain strings\u001b[39;00m\n\u001b[1;32m    102\u001b[0m     \u001b[39mif\u001b[39;00m is_object_dtype(args[\u001b[39m0\u001b[39m]):\n",
      "File \u001b[0;32m~/.virtualenvs/deeplearn-study/lib/python3.11/site-packages/pandas/core/nanops.py:158\u001b[0m, in \u001b[0;36mbottleneck_switch.__call__.<locals>.f\u001b[0;34m(values, axis, skipna, **kwds)\u001b[0m\n\u001b[1;32m    156\u001b[0m         result \u001b[39m=\u001b[39m alt(values, axis\u001b[39m=\u001b[39maxis, skipna\u001b[39m=\u001b[39mskipna, \u001b[39m*\u001b[39m\u001b[39m*\u001b[39mkwds)\n\u001b[1;32m    157\u001b[0m \u001b[39melse\u001b[39;00m:\n\u001b[0;32m--> 158\u001b[0m     result \u001b[39m=\u001b[39m alt(values, axis\u001b[39m=\u001b[39;49maxis, skipna\u001b[39m=\u001b[39;49mskipna, \u001b[39m*\u001b[39;49m\u001b[39m*\u001b[39;49mkwds)\n\u001b[1;32m    160\u001b[0m \u001b[39mreturn\u001b[39;00m result\n",
      "File \u001b[0;32m~/.virtualenvs/deeplearn-study/lib/python3.11/site-packages/pandas/core/nanops.py:421\u001b[0m, in \u001b[0;36m_datetimelike_compat.<locals>.new_func\u001b[0;34m(values, axis, skipna, mask, **kwargs)\u001b[0m\n\u001b[1;32m    418\u001b[0m \u001b[39mif\u001b[39;00m datetimelike \u001b[39mand\u001b[39;00m mask \u001b[39mis\u001b[39;00m \u001b[39mNone\u001b[39;00m:\n\u001b[1;32m    419\u001b[0m     mask \u001b[39m=\u001b[39m isna(values)\n\u001b[0;32m--> 421\u001b[0m result \u001b[39m=\u001b[39m func(values, axis\u001b[39m=\u001b[39;49maxis, skipna\u001b[39m=\u001b[39;49mskipna, mask\u001b[39m=\u001b[39;49mmask, \u001b[39m*\u001b[39;49m\u001b[39m*\u001b[39;49mkwargs)\n\u001b[1;32m    423\u001b[0m \u001b[39mif\u001b[39;00m datetimelike:\n\u001b[1;32m    424\u001b[0m     result \u001b[39m=\u001b[39m _wrap_results(result, orig_values\u001b[39m.\u001b[39mdtype, fill_value\u001b[39m=\u001b[39miNaT)\n",
      "File \u001b[0;32m~/.virtualenvs/deeplearn-study/lib/python3.11/site-packages/pandas/core/nanops.py:727\u001b[0m, in \u001b[0;36mnanmean\u001b[0;34m(values, axis, skipna, mask)\u001b[0m\n\u001b[1;32m    724\u001b[0m     dtype_count \u001b[39m=\u001b[39m dtype\n\u001b[1;32m    726\u001b[0m count \u001b[39m=\u001b[39m _get_counts(values\u001b[39m.\u001b[39mshape, mask, axis, dtype\u001b[39m=\u001b[39mdtype_count)\n\u001b[0;32m--> 727\u001b[0m the_sum \u001b[39m=\u001b[39m _ensure_numeric(values\u001b[39m.\u001b[39;49msum(axis, dtype\u001b[39m=\u001b[39;49mdtype_sum))\n\u001b[1;32m    729\u001b[0m \u001b[39mif\u001b[39;00m axis \u001b[39mis\u001b[39;00m \u001b[39mnot\u001b[39;00m \u001b[39mNone\u001b[39;00m \u001b[39mand\u001b[39;00m \u001b[39mgetattr\u001b[39m(the_sum, \u001b[39m\"\u001b[39m\u001b[39mndim\u001b[39m\u001b[39m\"\u001b[39m, \u001b[39mFalse\u001b[39;00m):\n\u001b[1;32m    730\u001b[0m     count \u001b[39m=\u001b[39m cast(np\u001b[39m.\u001b[39mndarray, count)\n",
      "File \u001b[0;32m~/.virtualenvs/deeplearn-study/lib/python3.11/site-packages/pandas/core/nanops.py:1699\u001b[0m, in \u001b[0;36m_ensure_numeric\u001b[0;34m(x)\u001b[0m\n\u001b[1;32m   1696\u001b[0m             x \u001b[39m=\u001b[39m \u001b[39mcomplex\u001b[39m(x)\n\u001b[1;32m   1697\u001b[0m         \u001b[39mexcept\u001b[39;00m \u001b[39mValueError\u001b[39;00m \u001b[39mas\u001b[39;00m err:\n\u001b[1;32m   1698\u001b[0m             \u001b[39m# e.g. \"foo\"\u001b[39;00m\n\u001b[0;32m-> 1699\u001b[0m             \u001b[39mraise\u001b[39;00m \u001b[39mTypeError\u001b[39;00m(\u001b[39mf\u001b[39m\u001b[39m\"\u001b[39m\u001b[39mCould not convert \u001b[39m\u001b[39m{\u001b[39;00mx\u001b[39m}\u001b[39;00m\u001b[39m to numeric\u001b[39m\u001b[39m\"\u001b[39m) \u001b[39mfrom\u001b[39;00m \u001b[39merr\u001b[39;00m\n\u001b[1;32m   1700\u001b[0m \u001b[39mreturn\u001b[39;00m x\n",
      "\u001b[0;31mTypeError\u001b[0m: Could not convert onetwotwoonethree to numeric"
     ]
    }
   ],
   "source": [
    "import pandas as pd\n",
    "import numpy as np\n",
    "dict_obj = {'key1' : ['a', 'b', 'a', 'b', \n",
    "                      'a', 'b', 'a', 'a'],\n",
    "            'key2' : ['one', 'one', 'two', 'three',\n",
    "                      'two', 'two', 'one', 'three'],\n",
    "            'data1': np.random.randn(8),\n",
    "            'data2': np.random.randn(8)}\n",
    "df_obj = pd.DataFrame(dict_obj)\n",
    "\n",
    "print(df_obj)\n",
    "\n",
    "# dataframe根据key1进行分组，分组后的对象类型\n",
    "print(df_obj.groupby('key1'))\n",
    "print(type(df_obj.groupby('key1')))\n",
    "print('-'*50)\n",
    "print(df_obj['data1'])\n",
    "# dataframe的 data1 列根据 key1 进行分组\n",
    "print(type(df_obj['data1'].groupby(df_obj['key1'])))\n",
    "\n",
    "# 分组运算\n",
    "grouped1 = df_obj.groupby('key1')\n",
    "print(grouped1.mean())\n",
    "\n",
    "grouped2 = df_obj['data1'].groupby(df_obj['key1'])\n",
    "print(grouped2.mean())\n"
   ]
  },
  {
   "cell_type": "markdown",
   "metadata": {},
   "source": [
    "### 3. 按自定义的key分组"
   ]
  },
  {
   "cell_type": "code",
   "execution_count": 11,
   "metadata": {
    "scrolled": true
   },
   "outputs": [
    {
     "name": "stdout",
     "output_type": "stream",
     "text": [
      "  key1   key2     data1     data2\n",
      "0    a    one  1.519334  0.903638\n",
      "1    b    one -0.121235  0.261999\n",
      "2    a    two  0.019896 -0.761579\n",
      "3    b  three  0.604957 -0.622730\n",
      "4    a    two -1.638921  1.076227\n",
      "5    b    two  1.242872 -0.792761\n",
      "6    a    one  0.765210  0.364216\n",
      "7    a  three  0.824253  0.144587\n",
      "0    1\n",
      "1    1\n",
      "2    1\n",
      "3    3\n",
      "5    1\n",
      "7    1\n",
      "dtype: int64\n",
      "  key1         key2     data1     data2\n",
      "0    a          one  1.519334  0.903638\n",
      "1    b          one -0.121235  0.261999\n",
      "2    a          two  0.019896 -0.761579\n",
      "3  bab  threetwotwo  0.208908 -0.339264\n",
      "5    a          one  0.765210  0.364216\n",
      "7    a        three  0.824253  0.144587\n",
      "key1  key2 \n",
      "a     one      2\n",
      "      three    1\n",
      "      two      2\n",
      "b     one      1\n",
      "      three    1\n",
      "      two      1\n",
      "dtype: int64\n",
      "--------------------------------------------------\n",
      "key1  key2 \n",
      "a     one      2\n",
      "      three    1\n",
      "      two      2\n",
      "b     one      1\n",
      "      three    1\n",
      "      two      1\n",
      "dtype: int64\n",
      "--------------------------------------------------\n",
      "key2   key1\n",
      "one    a       2\n",
      "       b       1\n",
      "three  a       1\n",
      "       b       1\n",
      "two    a       2\n",
      "       b       1\n",
      "dtype: int64\n",
      "               data1     data2\n",
      "key2  key1                    \n",
      "one   a     1.142272  0.633927\n",
      "      b    -0.121235  0.261999\n",
      "three a     0.824253  0.144587\n",
      "      b     0.604957 -0.622730\n",
      "two   a    -0.809512  0.157324\n",
      "      b     1.242872 -0.792761\n",
      "MultiIndex([(  'one', 'a'),\n",
      "            (  'one', 'b'),\n",
      "            ('three', 'a'),\n",
      "            ('three', 'b'),\n",
      "            (  'two', 'a'),\n",
      "            (  'two', 'b')],\n",
      "           names=['key2', 'key1'])\n",
      "unstack\n",
      "          data1               data2          \n",
      "key1          a         b         a         b\n",
      "key2                                         \n",
      "one    1.142272 -0.121235  0.633927  0.261999\n",
      "three  0.824253  0.604957  0.144587 -0.622730\n",
      "two   -0.809512  1.242872  0.157324 -0.792761\n",
      "               data1     data2\n",
      "key2  key1                    \n",
      "one   a     1.142272  0.633927\n",
      "      b    -0.121235  0.261999\n",
      "three a     0.824253  0.144587\n",
      "      b     0.604957 -0.622730\n",
      "two   a    -0.809512  0.157324\n",
      "      b     1.242872 -0.792761\n",
      "MultiIndex([('data1', 'a'),\n",
      "            ('data1', 'b'),\n",
      "            ('data2', 'a'),\n",
      "            ('data2', 'b')],\n",
      "           names=[None, 'key1'])\n",
      "('one', 'a')\n",
      "  key1 key2     data1     data2\n",
      "0    a  one  1.519334  0.903638\n",
      "6    a  one  0.765210  0.364216\n",
      "<class 'pandas.core.frame.DataFrame'>\n",
      "('one', 'b')\n",
      "  key1 key2     data1     data2\n",
      "1    b  one -0.121235  0.261999\n",
      "<class 'pandas.core.frame.DataFrame'>\n",
      "('three', 'a')\n",
      "  key1   key2     data1     data2\n",
      "7    a  three  0.824253  0.144587\n",
      "<class 'pandas.core.frame.DataFrame'>\n",
      "('three', 'b')\n",
      "  key1   key2     data1    data2\n",
      "3    b  three  0.604957 -0.62273\n",
      "<class 'pandas.core.frame.DataFrame'>\n",
      "('two', 'a')\n",
      "  key1 key2     data1     data2\n",
      "2    a  two  0.019896 -0.761579\n",
      "4    a  two -1.638921  1.076227\n",
      "<class 'pandas.core.frame.DataFrame'>\n",
      "('two', 'b')\n",
      "  key1 key2     data1     data2\n",
      "5    b  two  1.242872 -0.792761\n",
      "<class 'pandas.core.frame.DataFrame'>\n"
     ]
    }
   ],
   "source": [
    "# # 按自定义key分组，列表\n",
    "self_def_key = [0, 1, 2, 3, 3, 3, 5, 7]\n",
    "print(df_obj)\n",
    "print(df_obj.groupby(self_def_key).size())  #等于mysql的count\n",
    "print(df_obj.groupby(self_def_key).sum()) \n",
    "# 按自定义key分组，多层列表\n",
    "print(df_obj.groupby([df_obj['key1'], df_obj['key2']]).size())\n",
    "\n",
    "# # 按多个列多层分组\n",
    "print('-'*50)\n",
    "grouped2 = df_obj.groupby(['key1', 'key2'])\n",
    "print(grouped2.size())\n",
    "\n",
    "# # 多层分组按key的顺序进行\n",
    "print('-'*50)\n",
    "grouped3 = df_obj.groupby(['key2', 'key1'])\n",
    "print(grouped3.size())\n",
    "print(grouped3.mean())\n",
    "# unstack可以将多层索引的结果转换成单层的dataframe\n",
    "print(grouped3.mean().index)\n",
    "print('unstack')\n",
    "print(grouped3.mean().unstack())  #竖变横\n",
    "print(grouped3.mean().unstack().stack())  #竖变横\n",
    "print(grouped3.mean().unstack().columns)\n",
    "# # 多层分组，根据key1 和 key2，做个性化处理\n",
    "for group_name, group_data in grouped3:\n",
    "    print(group_name)\n",
    "    print(group_data)\n",
    "    print(type(group_data))"
   ]
  },
  {
   "cell_type": "code",
   "execution_count": 12,
   "metadata": {},
   "outputs": [
    {
     "data": {
      "text/plain": [
       "[(('one', 'a'),\n",
       "    key1 key2     data1     data2\n",
       "  0    a  one  1.519334  0.903638\n",
       "  6    a  one  0.765210  0.364216),\n",
       " (('one', 'b'),\n",
       "    key1 key2     data1     data2\n",
       "  1    b  one -0.121235  0.261999),\n",
       " (('three', 'a'),\n",
       "    key1   key2     data1     data2\n",
       "  7    a  three  0.824253  0.144587),\n",
       " (('three', 'b'),\n",
       "    key1   key2     data1    data2\n",
       "  3    b  three  0.604957 -0.62273),\n",
       " (('two', 'a'),\n",
       "    key1 key2     data1     data2\n",
       "  2    a  two  0.019896 -0.761579\n",
       "  4    a  two -1.638921  1.076227),\n",
       " (('two', 'b'),\n",
       "    key1 key2     data1     data2\n",
       "  5    b  two  1.242872 -0.792761)]"
      ]
     },
     "execution_count": 12,
     "metadata": {},
     "output_type": "execute_result"
    }
   ],
   "source": [
    "list(grouped3)"
   ]
  },
  {
   "cell_type": "markdown",
   "metadata": {},
   "source": [
    "# 按类型分组"
   ]
  },
  {
   "cell_type": "code",
   "execution_count": 13,
   "metadata": {},
   "outputs": [
    {
     "name": "stdout",
     "output_type": "stream",
     "text": [
      "key1      object\n",
      "key2      object\n",
      "data1    float64\n",
      "data2    float64\n",
      "dtype: object\n"
     ]
    }
   ],
   "source": [
    "print(df_obj.dtypes)"
   ]
  },
  {
   "cell_type": "code",
   "execution_count": 18,
   "metadata": {},
   "outputs": [
    {
     "name": "stdout",
     "output_type": "stream",
     "text": [
      "  key1   key2     data1     data2     data3\n",
      "0    a    one  1.519334  0.903638  1.903638\n",
      "1    b    one -0.121235  0.261999  1.261999\n",
      "2    a    two  0.019896 -0.761579  0.238421\n",
      "3    b  three  0.604957 -0.622730  0.377270\n",
      "4    a    two -1.638921  1.076227  2.076227\n",
      "5    b    two  1.242872 -0.792761  0.207239\n",
      "6    a    one  0.765210  0.364216  1.364216\n",
      "7    a  three  0.824253  0.144587  1.144587\n",
      "float64    3\n",
      "object     2\n",
      "dtype: int64\n",
      "    float64  object\n",
      "0  4.326610    aone\n",
      "1  1.402762    bone\n",
      "2 -0.503262    atwo\n",
      "3  0.359498  bthree\n",
      "4  1.513533    atwo\n",
      "5  0.657350    btwo\n",
      "6  2.493641    aone\n",
      "7  2.113426  athree\n",
      "   a      b         c         d\n",
      "0  a    one  2.422972  1.903638\n",
      "1  b    one  0.140764  1.261999\n",
      "2  a    two -0.741683  0.238421\n",
      "3  b  three -0.017773  0.377270\n",
      "4  a    two -0.562694  2.076227\n",
      "5  b    two  0.450111  0.207239\n",
      "6  a    one  1.129425  1.364216\n",
      "7  a  three  0.968839  1.144587\n"
     ]
    }
   ],
   "source": [
    "#一列数据类型必须一致，因为现实生活中一个特征类型是一致的\n",
    "df_obj['data3']=df_obj['data2']+1\n",
    "print(df_obj)\n",
    "print(df_obj.groupby(df_obj.dtypes, axis=1).size())#按轴0没有意义\n",
    "print(df_obj.groupby(df_obj.dtypes, axis=1).sum()) \n",
    "self_column_key=['a',\"b\",'c','c','d']\n",
    "print(df_obj.groupby(self_column_key, axis=1).sum())   #通过自定义索引去让不同列相加"
   ]
  },
  {
   "cell_type": "markdown",
   "metadata": {},
   "source": [
    "### 2. 通过字典分组"
   ]
  },
  {
   "cell_type": "code",
   "execution_count": 19,
   "metadata": {},
   "outputs": [
    {
     "name": "stdout",
     "output_type": "stream",
     "text": [
      "   a  b  c  d  e\n",
      "A  7  8  7  8  5\n",
      "B  9  7  4  7  6\n",
      "C  6  3  1  4  3\n",
      "D  1  7  4  9  2\n",
      "E  6  7  9  1  6\n",
      "   a    b    c    d  e\n",
      "A  7  8.0  7.0  8.0  5\n",
      "B  9  NaN  NaN  NaN  6\n",
      "C  6  3.0  1.0  4.0  3\n",
      "D  1  7.0  4.0  9.0  2\n",
      "E  6  7.0  9.0  1.0  6\n",
      "C         1\n",
      "Java      2\n",
      "Python    2\n",
      "dtype: int64\n",
      "   C  Java  Python\n",
      "A  1     2       2\n",
      "B  0     1       1\n",
      "C  1     2       2\n",
      "D  1     2       2\n",
      "E  1     2       2\n",
      "     C  Java  Python\n",
      "A  8.0  12.0    15.0\n",
      "B  0.0   6.0     9.0\n",
      "C  4.0   4.0     9.0\n",
      "D  9.0   6.0     8.0\n",
      "E  1.0  15.0    13.0\n"
     ]
    }
   ],
   "source": [
    "df_obj2 = pd.DataFrame(np.random.randint(1, 10, (5,5)),\n",
    "                       columns=['a', 'b', 'c', 'd', 'e'],\n",
    "                       index=['A', 'B', 'C', 'D', 'E'])\n",
    "print(df_obj2)\n",
    "# 给指定某个部分的数据重新赋值为 np.NaN\n",
    "df_obj2.loc['B','b':'d']=np.NAN\n",
    "\n",
    "print(df_obj2)\n",
    "# 通过字典分组\n",
    "mapping_dict = {'a':'Python', 'b':'Python', 'c':'Java', 'd':'C', 'e':'Java'}\n",
    "print(df_obj2.groupby(mapping_dict, axis=1).size())\n",
    "print(df_obj2.groupby(mapping_dict, axis=1).count()) # 非NaN的个数\n",
    "print(df_obj2.groupby(mapping_dict, axis=1).sum())  #求和不记录nan,nan当为0\n"
   ]
  },
  {
   "cell_type": "code",
   "execution_count": 21,
   "metadata": {},
   "outputs": [],
   "source": [
    "str1='熊大'"
   ]
  },
  {
   "cell_type": "code",
   "execution_count": 22,
   "metadata": {},
   "outputs": [
    {
     "data": {
      "text/plain": [
       "'熊'"
      ]
     },
     "execution_count": 22,
     "metadata": {},
     "output_type": "execute_result"
    }
   ],
   "source": [
    "str1[0]"
   ]
  },
  {
   "cell_type": "code",
   "execution_count": 25,
   "metadata": {},
   "outputs": [
    {
     "name": "stdout",
     "output_type": "stream",
     "text": [
      "      a  b  c  d  ee\n",
      "AA    1  7  1  5   6\n",
      "BBBB  4  4  8  2   9\n",
      "CC    9  1  9  7   4\n",
      "D     2  4  7  9   8\n",
      "EE    1  9  2  8   6\n",
      "1    4\n",
      "2    1\n",
      "dtype: int64\n"
     ]
    },
    {
     "data": {
      "text/plain": [
       "1    1\n",
       "2    3\n",
       "4    1\n",
       "dtype: int64"
      ]
     },
     "execution_count": 25,
     "metadata": {},
     "output_type": "execute_result"
    }
   ],
   "source": [
    "# 通过函数分组\n",
    "df_obj3 = pd.DataFrame(np.random.randint(1, 10, (5,5)),\n",
    "                       columns=['a', 'b', 'c', 'd', 'ee'],\n",
    "                       index=['AA', 'BBBB', 'CC', 'D', 'EE'])\n",
    "#df_obj3\n",
    "\n",
    "def group_key(idx):\n",
    "    \"\"\"\n",
    "        idx 为列索引或行索引，默认为行索引\n",
    "    \"\"\"\n",
    "    #return idx\n",
    "    return len(idx)\n",
    "print(df_obj3)\n",
    "print(df_obj3.groupby(group_key,axis=1).size())\n",
    "\n",
    "# 以上自定义函数等价于\n",
    "df_obj3.groupby(len,axis=0).size()\n"
   ]
  },
  {
   "cell_type": "code",
   "execution_count": 26,
   "metadata": {},
   "outputs": [
    {
     "name": "stdout",
     "output_type": "stream",
     "text": [
      "language Python Java Python Java Python\n",
      "index1        A    A      B    C      B\n",
      "0             1    8      3    9      6\n",
      "1             3    4      2    2      5\n",
      "2             4    3      7    2      6\n",
      "3             5    9      9    5      7\n",
      "4             6    7      1    2      5\n",
      "language  Java  Python\n",
      "0           17      10\n",
      "1            6      10\n",
      "2            5      17\n",
      "3           14      21\n",
      "4            9      12\n",
      "index1   A   B  C\n",
      "0        9   9  9\n",
      "1        7   7  2\n",
      "2        7  13  2\n",
      "3       14  16  5\n",
      "4       13   6  2\n"
     ]
    }
   ],
   "source": [
    "# 通过索引级别分组\n",
    "columns = pd.MultiIndex.from_arrays([['Python', 'Java', 'Python', 'Java', 'Python'],\n",
    "                                     ['A', 'A', 'B', 'C', 'B']], \n",
    "                                    names=['language', 'index1'])\n",
    "df_obj4 = pd.DataFrame(np.random.randint(1, 10, (5, 5)), columns=columns)\n",
    "print(df_obj4)\n",
    "\n",
    "# 根据language进行分组\n",
    "print(df_obj4.groupby(level='language', axis=1).sum())\n",
    "# 根据index进行分组\n",
    "print(df_obj4.groupby(level='index1', axis=1).sum())\n"
   ]
  },
  {
   "cell_type": "markdown",
   "metadata": {},
   "source": [
    "## 聚合\n"
   ]
  },
  {
   "cell_type": "code",
   "execution_count": 31,
   "metadata": {},
   "outputs": [
    {
     "name": "stdout",
     "output_type": "stream",
     "text": [
      "                   key2     data1     data2     data3\n",
      "key1                                                 \n",
      "a     onetwotwoonethree  1.489772  1.727088  6.727088\n",
      "b           onethreetwo  1.726594 -1.153492  1.846508\n",
      "     key2     data1     data2     data3\n",
      "key1                                   \n",
      "a     two  1.519334  1.076227  2.076227\n",
      "b     two  1.242872  0.261999  1.261999\n",
      "     key2     data1     data2     data3\n",
      "key1                                   \n",
      "a     one -1.638921 -0.761579  0.238421\n",
      "b     one -0.121235 -0.792761  0.207239\n",
      "--------------------------------------------------\n",
      "--------------------------------------------------\n",
      "     data1                                                              \\\n",
      "     count      mean       std       min       25%       50%       75%   \n",
      "key1                                                                     \n",
      "a      5.0  0.297954  1.205808 -1.638921  0.019896  0.765210  0.824253   \n",
      "b      3.0  0.575531  0.682529 -0.121235  0.241861  0.604957  0.923914   \n",
      "\n",
      "               data2            ...                     data3            \\\n",
      "           max count      mean  ...       75%       max count      mean   \n",
      "key1                            ...                                       \n",
      "a     1.519334   5.0  0.345418  ...  0.903638  1.076227   5.0  1.345418   \n",
      "b     1.242872   3.0 -0.384497  ... -0.180366  0.261999   3.0  0.615503   \n",
      "\n",
      "                                                                  \n",
      "           std       min       25%       50%       75%       max  \n",
      "key1                                                              \n",
      "a     0.726605  0.238421  1.144587  1.364216  1.903638  2.076227  \n",
      "b     0.566300  0.207239  0.292255  0.377270  0.819634  1.261999  \n",
      "\n",
      "[2 rows x 24 columns]\n"
     ]
    }
   ],
   "source": [
    "dict_obj = {'key1' : ['a', 'b', 'a', 'b', \n",
    "                      'a', 'b', 'a', 'a'],\n",
    "            'key2' : ['one', 'one', 'two', 'three',\n",
    "                      'two', 'two', 'one', 'three'],\n",
    "            'data1': np.random.randint(1,10, 8),\n",
    "            'data2': np.random.randint(1,10, 8)}\n",
    "print(df_obj.groupby(\"key1\").sum())\n",
    "print(df_obj.groupby(\"key1\").max())\n",
    "print(df_obj.groupby(\"key1\").min())\n",
    "print('-'*50)\n",
    "#平均值\n",
    "# print(df_obj.groupby(\"key1\").mean())\n",
    "print('-'*50)\n",
    "print(df_obj.groupby(\"key1\").describe())"
   ]
  },
  {
   "cell_type": "code",
   "execution_count": 55,
   "metadata": {
    "collapsed": false,
    "pycharm": {
     "name": "#%%\n"
    }
   },
   "outputs": [
    {
     "name": "stdout",
     "output_type": "stream",
     "text": [
      "  key1   key2  data1  data2\n",
      "0    a    one      2      1\n",
      "1    b    one      5      6\n",
      "2    a    two      1      9\n",
      "3    b  three      3      8\n",
      "4    a    two      3      5\n",
      "5    b    two      9      1\n",
      "6    a    one      6      3\n",
      "7    a  three      8      8\n",
      "      data1  data2\n",
      "key1              \n",
      "a         7      8\n",
      "b         6      7\n",
      "   data\n",
      "0     1\n",
      "1     1\n",
      "2     8\n",
      "3     5\n",
      "4     2\n",
      "5     8\n",
      "6     3\n",
      "7     0\n"
     ]
    }
   ],
   "source": [
    "\n",
    "df_obj5 = pd.DataFrame(dict_obj)\n",
    "print(df_obj5)\n",
    "# 自定义聚合函数\n",
    "def peak_range(df):\n",
    "    \"\"\"\n",
    "        返回数值范围,df参数是groupby后的groupby对象\n",
    "    \"\"\"\n",
    "    #print type(df) #参数为索引所对应的记录\n",
    "    return df.max() - df.min()\n",
    "\n",
    "print(df_obj5.loc[:,['key1','data1','data2']].groupby('key1').agg(peak_range))\n",
    "print(df_obj5.loc[:,['data1','data2']].groupby(['data','data'],axis=1).max()-df_obj5.loc[:,['data1','data2']].groupby(['data','data'],axis=1).min())"
   ]
  },
  {
   "cell_type": "code",
   "execution_count": 40,
   "metadata": {},
   "outputs": [
    {
     "name": "stdout",
     "output_type": "stream",
     "text": [
      "         data1                                data2                           \n",
      "          mean       std count peak_range      mean       std count peak_range\n",
      "key1                                                                          \n",
      "a     0.297954  1.205808     5   3.158255  0.345418  0.726605     5   1.837806\n",
      "b     0.575531  0.682529     3   1.364107 -0.384497  0.566300     3   1.054759\n"
     ]
    }
   ],
   "source": [
    "# 同时应用多个聚合函数\n",
    "print(df_obj.loc[:,['key1','data1','data2']].groupby('key1').agg(['mean', 'std', 'count', peak_range]))"
   ]
  },
  {
   "cell_type": "code",
   "execution_count": null,
   "metadata": {},
   "outputs": [],
   "source": [
    "# 每列作用不同的聚合函数\n",
    "dict_mapping = {'data1':'mean',\n",
    "                'data2':'count'}\n",
    "print(df_obj.groupby('key1').agg(dict_mapping))\n"
   ]
  },
  {
   "cell_type": "markdown",
   "metadata": {},
   "source": [
    "# 星巴克全球开店"
   ]
  },
  {
   "cell_type": "code",
   "execution_count": 69,
   "metadata": {},
   "outputs": [
    {
     "name": "stdout",
     "output_type": "stream",
     "text": [
      "       Brand  Store Number     Store Name Ownership Type     Street Address  \\\n",
      "0  Starbucks  47370-257954  Meritxell, 96       Licensed  Av. Meritxell, 96   \n",
      "\n",
      "               City State/Province Country Postcode Phone Number  \\\n",
      "0  Andorra la Vella              7      AD    AD500    376818720   \n",
      "\n",
      "                  Timezone  Longitude  Latitude  \n",
      "0  GMT+1:00 Europe/Andorra       1.53     42.51  \n",
      "<class 'pandas.core.frame.DataFrame'>\n",
      "RangeIndex: 25600 entries, 0 to 25599\n",
      "Data columns (total 13 columns):\n",
      " #   Column          Non-Null Count  Dtype  \n",
      "---  ------          --------------  -----  \n",
      " 0   Brand           25600 non-null  object \n",
      " 1   Store Number    25600 non-null  object \n",
      " 2   Store Name      25600 non-null  object \n",
      " 3   Ownership Type  25600 non-null  object \n",
      " 4   Street Address  25598 non-null  object \n",
      " 5   City            25585 non-null  object \n",
      " 6   State/Province  25600 non-null  object \n",
      " 7   Country         25600 non-null  object \n",
      " 8   Postcode        24078 non-null  object \n",
      " 9   Phone Number    18739 non-null  object \n",
      " 10  Timezone        25600 non-null  object \n",
      " 11  Longitude       25599 non-null  float64\n",
      " 12  Latitude        25599 non-null  float64\n",
      "dtypes: float64(2), object(11)\n",
      "memory usage: 2.5+ MB\n",
      "None\n",
      "CN: Country\n",
      "AD        1\n",
      "AE      144\n",
      "AR      108\n",
      "AT       18\n",
      "AU       22\n",
      "      ...  \n",
      "TT        3\n",
      "TW      394\n",
      "US    13608\n",
      "VN       25\n",
      "ZA        3\n",
      "Length: 73, dtype: int64\n"
     ]
    },
    {
     "data": {
      "text/plain": [
       "Country\n",
       "AD        1\n",
       "AE      144\n",
       "AR      108\n",
       "AT       18\n",
       "AU       22\n",
       "      ...  \n",
       "TT        3\n",
       "TW      394\n",
       "US    13608\n",
       "VN       25\n",
       "ZA        3\n",
       "Length: 73, dtype: int64"
      ]
     },
     "execution_count": 69,
     "metadata": {},
     "output_type": "execute_result"
    }
   ],
   "source": [
    "import pandas as pd\n",
    "import numpy as np\n",
    "\n",
    "file_path = \"./starbucks_store_worldwide.csv\"\n",
    "\n",
    "df = pd.read_csv(file_path)\n",
    "print(df.head(1))\n",
    "print(df.info())  #数据总体有一个把控\n",
    "grouped=df.groupby(by='Country')\n",
    "print('CN:',grouped.size()['CN'])\n",
    "grouped.size()\n"
   ]
  },
  {
   "cell_type": "code",
   "execution_count": 66,
   "metadata": {},
   "outputs": [
    {
     "name": "stdout",
     "output_type": "stream",
     "text": [
      "Country\n",
      "AD        1\n",
      "AE      144\n",
      "AR      108\n",
      "AT       18\n",
      "AU       22\n",
      "      ...  \n",
      "TT        3\n",
      "TW      394\n",
      "US    13608\n",
      "VN       25\n",
      "ZA        3\n",
      "Name: Brand, Length: 73, dtype: int64\n",
      "13608\n",
      "2734\n"
     ]
    }
   ],
   "source": [
    "#任取一列求count，也可以用country列自身\n",
    "country_count = grouped[\"Brand\"].count()\n",
    "print(country_count)\n",
    "print(country_count[\"US\"])\n",
    "print(country_count[\"CN\"])"
   ]
  },
  {
   "cell_type": "code",
   "execution_count": 70,
   "metadata": {},
   "outputs": [
    {
     "data": {
      "text/plain": [
       "<BarContainer object of 31 artists>"
      ]
     },
     "execution_count": 70,
     "metadata": {},
     "output_type": "execute_result"
    },
    {
     "data": {
      "image/png": "[encoded data removed]",
      "text/plain": [
       "<Figure size 1600x800 with 1 Axes>"
      ]
     },
     "metadata": {},
     "output_type": "display_data"
    }
   ],
   "source": [
    "#中国不同省份的星巴克数量，图像绘制\n",
    "import matplotlib.pyplot as plt\n",
    "country_cn=df[df['Country']=='CN']\n",
    "china_province=country_cn.groupby(by=\"State/Province\").count()['Brand'].sort_values(ascending=False)\n",
    "plt.figure(figsize=(20,10),dpi=80)\n",
    "plt.bar(china_province.index,china_province.values)"
   ]
  },
  {
   "cell_type": "code",
   "execution_count": 71,
   "metadata": {
    "collapsed": false,
    "pycharm": {
     "name": "#%%\n"
    }
   },
   "outputs": [
    {
     "data": {
      "text/plain": [
       "Index(['31', '32', '44', '33', '11', '91', '51', '42', '35', '37', '12', '21',\n",
       "       '61', '50', '43', '34', '53', '13', '45', '41', '46', '23', '36', '22',\n",
       "       '92', '52', '15', '14', '62', '63', '64'],\n",
       "      dtype='object', name='State/Province')"
      ]
     },
     "execution_count": 71,
     "metadata": {},
     "output_type": "execute_result"
    }
   ],
   "source": [
    "china_province.index"
   ]
  },
  {
   "cell_type": "code",
   "execution_count": 72,
   "metadata": {},
   "outputs": [
    {
     "data": {
      "text/html": [
       "<div>\n",
       "<style scoped>\n",
       "    .dataframe tbody tr th:only-of-type {\n",
       "        vertical-align: middle;\n",
       "    }\n",
       "\n",
       "    .dataframe tbody tr th {\n",
       "        vertical-align: top;\n",
       "    }\n",
       "\n",
       "    .dataframe thead th {\n",
       "        text-align: right;\n",
       "    }\n",
       "</style>\n",
       "<table border=\"1\" class=\"dataframe\">\n",
       "  <thead>\n",
       "    <tr style=\"text-align: right;\">\n",
       "      <th></th>\n",
       "      <th></th>\n",
       "      <th>Brand</th>\n",
       "    </tr>\n",
       "    <tr>\n",
       "      <th>Country</th>\n",
       "      <th>State/Province</th>\n",
       "      <th></th>\n",
       "    </tr>\n",
       "  </thead>\n",
       "  <tbody>\n",
       "    <tr>\n",
       "      <th>AD</th>\n",
       "      <th>7</th>\n",
       "      <td>1</td>\n",
       "    </tr>\n",
       "    <tr>\n",
       "      <th rowspan=\"4\" valign=\"top\">AE</th>\n",
       "      <th>AJ</th>\n",
       "      <td>2</td>\n",
       "    </tr>\n",
       "    <tr>\n",
       "      <th>AZ</th>\n",
       "      <td>48</td>\n",
       "    </tr>\n",
       "    <tr>\n",
       "      <th>DU</th>\n",
       "      <td>82</td>\n",
       "    </tr>\n",
       "    <tr>\n",
       "      <th>FU</th>\n",
       "      <td>2</td>\n",
       "    </tr>\n",
       "    <tr>\n",
       "      <th>...</th>\n",
       "      <th>...</th>\n",
       "      <td>...</td>\n",
       "    </tr>\n",
       "    <tr>\n",
       "      <th rowspan=\"2\" valign=\"top\">US</th>\n",
       "      <th>WV</th>\n",
       "      <td>25</td>\n",
       "    </tr>\n",
       "    <tr>\n",
       "      <th>WY</th>\n",
       "      <td>23</td>\n",
       "    </tr>\n",
       "    <tr>\n",
       "      <th rowspan=\"2\" valign=\"top\">VN</th>\n",
       "      <th>HN</th>\n",
       "      <td>6</td>\n",
       "    </tr>\n",
       "    <tr>\n",
       "      <th>SG</th>\n",
       "      <td>19</td>\n",
       "    </tr>\n",
       "    <tr>\n",
       "      <th>ZA</th>\n",
       "      <th>GT</th>\n",
       "      <td>3</td>\n",
       "    </tr>\n",
       "  </tbody>\n",
       "</table>\n",
       "<p>545 rows × 1 columns</p>\n",
       "</div>"
      ],
      "text/plain": [
       "                        Brand\n",
       "Country State/Province       \n",
       "AD      7                   1\n",
       "AE      AJ                  2\n",
       "        AZ                 48\n",
       "        DU                 82\n",
       "        FU                  2\n",
       "...                       ...\n",
       "US      WV                 25\n",
       "        WY                 23\n",
       "VN      HN                  6\n",
       "        SG                 19\n",
       "ZA      GT                  3\n",
       "\n",
       "[545 rows x 1 columns]"
      ]
     },
     "execution_count": 72,
     "metadata": {},
     "output_type": "execute_result"
    }
   ],
   "source": [
    "grouped1 = df[[\"Brand\"]].groupby(by=[df[\"Country\"], df[\"State/Province\"]]).count()\n",
    "grouped1"
   ]
  },
  {
   "cell_type": "code",
   "execution_count": 73,
   "metadata": {},
   "outputs": [
    {
     "data": {
      "text/html": [
       "<div>\n",
       "<style scoped>\n",
       "    .dataframe tbody tr th:only-of-type {\n",
       "        vertical-align: middle;\n",
       "    }\n",
       "\n",
       "    .dataframe tbody tr th {\n",
       "        vertical-align: top;\n",
       "    }\n",
       "\n",
       "    .dataframe thead th {\n",
       "        text-align: right;\n",
       "    }\n",
       "</style>\n",
       "<table border=\"1\" class=\"dataframe\">\n",
       "  <thead>\n",
       "    <tr style=\"text-align: right;\">\n",
       "      <th></th>\n",
       "      <th></th>\n",
       "      <th>Brand</th>\n",
       "      <th>Store Number</th>\n",
       "      <th>Store Name</th>\n",
       "      <th>Ownership Type</th>\n",
       "      <th>Street Address</th>\n",
       "      <th>City</th>\n",
       "      <th>Postcode</th>\n",
       "      <th>Phone Number</th>\n",
       "      <th>Timezone</th>\n",
       "      <th>Longitude</th>\n",
       "      <th>Latitude</th>\n",
       "    </tr>\n",
       "    <tr>\n",
       "      <th>Country</th>\n",
       "      <th>State/Province</th>\n",
       "      <th></th>\n",
       "      <th></th>\n",
       "      <th></th>\n",
       "      <th></th>\n",
       "      <th></th>\n",
       "      <th></th>\n",
       "      <th></th>\n",
       "      <th></th>\n",
       "      <th></th>\n",
       "      <th></th>\n",
       "      <th></th>\n",
       "    </tr>\n",
       "  </thead>\n",
       "  <tbody>\n",
       "    <tr>\n",
       "      <th>AD</th>\n",
       "      <th>7</th>\n",
       "      <td>1</td>\n",
       "      <td>1</td>\n",
       "      <td>1</td>\n",
       "      <td>1</td>\n",
       "      <td>1</td>\n",
       "      <td>1</td>\n",
       "      <td>1</td>\n",
       "      <td>1</td>\n",
       "      <td>1</td>\n",
       "      <td>1</td>\n",
       "      <td>1</td>\n",
       "    </tr>\n",
       "    <tr>\n",
       "      <th rowspan=\"4\" valign=\"top\">AE</th>\n",
       "      <th>AJ</th>\n",
       "      <td>2</td>\n",
       "      <td>2</td>\n",
       "      <td>2</td>\n",
       "      <td>2</td>\n",
       "      <td>2</td>\n",
       "      <td>2</td>\n",
       "      <td>0</td>\n",
       "      <td>0</td>\n",
       "      <td>2</td>\n",
       "      <td>2</td>\n",
       "      <td>2</td>\n",
       "    </tr>\n",
       "    <tr>\n",
       "      <th>AZ</th>\n",
       "      <td>48</td>\n",
       "      <td>48</td>\n",
       "      <td>48</td>\n",
       "      <td>48</td>\n",
       "      <td>48</td>\n",
       "      <td>48</td>\n",
       "      <td>7</td>\n",
       "      <td>20</td>\n",
       "      <td>48</td>\n",
       "      <td>48</td>\n",
       "      <td>48</td>\n",
       "    </tr>\n",
       "    <tr>\n",
       "      <th>DU</th>\n",
       "      <td>82</td>\n",
       "      <td>82</td>\n",
       "      <td>82</td>\n",
       "      <td>82</td>\n",
       "      <td>82</td>\n",
       "      <td>82</td>\n",
       "      <td>16</td>\n",
       "      <td>50</td>\n",
       "      <td>82</td>\n",
       "      <td>82</td>\n",
       "      <td>82</td>\n",
       "    </tr>\n",
       "    <tr>\n",
       "      <th>FU</th>\n",
       "      <td>2</td>\n",
       "      <td>2</td>\n",
       "      <td>2</td>\n",
       "      <td>2</td>\n",
       "      <td>2</td>\n",
       "      <td>2</td>\n",
       "      <td>1</td>\n",
       "      <td>0</td>\n",
       "      <td>2</td>\n",
       "      <td>2</td>\n",
       "      <td>2</td>\n",
       "    </tr>\n",
       "    <tr>\n",
       "      <th>...</th>\n",
       "      <th>...</th>\n",
       "      <td>...</td>\n",
       "      <td>...</td>\n",
       "      <td>...</td>\n",
       "      <td>...</td>\n",
       "      <td>...</td>\n",
       "      <td>...</td>\n",
       "      <td>...</td>\n",
       "      <td>...</td>\n",
       "      <td>...</td>\n",
       "      <td>...</td>\n",
       "      <td>...</td>\n",
       "    </tr>\n",
       "    <tr>\n",
       "      <th rowspan=\"2\" valign=\"top\">US</th>\n",
       "      <th>WV</th>\n",
       "      <td>25</td>\n",
       "      <td>25</td>\n",
       "      <td>25</td>\n",
       "      <td>25</td>\n",
       "      <td>25</td>\n",
       "      <td>25</td>\n",
       "      <td>25</td>\n",
       "      <td>23</td>\n",
       "      <td>25</td>\n",
       "      <td>25</td>\n",
       "      <td>25</td>\n",
       "    </tr>\n",
       "    <tr>\n",
       "      <th>WY</th>\n",
       "      <td>23</td>\n",
       "      <td>23</td>\n",
       "      <td>23</td>\n",
       "      <td>23</td>\n",
       "      <td>23</td>\n",
       "      <td>23</td>\n",
       "      <td>23</td>\n",
       "      <td>22</td>\n",
       "      <td>23</td>\n",
       "      <td>23</td>\n",
       "      <td>23</td>\n",
       "    </tr>\n",
       "    <tr>\n",
       "      <th rowspan=\"2\" valign=\"top\">VN</th>\n",
       "      <th>HN</th>\n",
       "      <td>6</td>\n",
       "      <td>6</td>\n",
       "      <td>6</td>\n",
       "      <td>6</td>\n",
       "      <td>6</td>\n",
       "      <td>6</td>\n",
       "      <td>6</td>\n",
       "      <td>6</td>\n",
       "      <td>6</td>\n",
       "      <td>6</td>\n",
       "      <td>6</td>\n",
       "    </tr>\n",
       "    <tr>\n",
       "      <th>SG</th>\n",
       "      <td>19</td>\n",
       "      <td>19</td>\n",
       "      <td>19</td>\n",
       "      <td>19</td>\n",
       "      <td>19</td>\n",
       "      <td>19</td>\n",
       "      <td>19</td>\n",
       "      <td>17</td>\n",
       "      <td>19</td>\n",
       "      <td>19</td>\n",
       "      <td>19</td>\n",
       "    </tr>\n",
       "    <tr>\n",
       "      <th>ZA</th>\n",
       "      <th>GT</th>\n",
       "      <td>3</td>\n",
       "      <td>3</td>\n",
       "      <td>3</td>\n",
       "      <td>3</td>\n",
       "      <td>3</td>\n",
       "      <td>3</td>\n",
       "      <td>3</td>\n",
       "      <td>2</td>\n",
       "      <td>3</td>\n",
       "      <td>3</td>\n",
       "      <td>3</td>\n",
       "    </tr>\n",
       "  </tbody>\n",
       "</table>\n",
       "<p>545 rows × 11 columns</p>\n",
       "</div>"
      ],
      "text/plain": [
       "                        Brand  Store Number  Store Name  Ownership Type  \\\n",
       "Country State/Province                                                    \n",
       "AD      7                   1             1           1               1   \n",
       "AE      AJ                  2             2           2               2   \n",
       "        AZ                 48            48          48              48   \n",
       "        DU                 82            82          82              82   \n",
       "        FU                  2             2           2               2   \n",
       "...                       ...           ...         ...             ...   \n",
       "US      WV                 25            25          25              25   \n",
       "        WY                 23            23          23              23   \n",
       "VN      HN                  6             6           6               6   \n",
       "        SG                 19            19          19              19   \n",
       "ZA      GT                  3             3           3               3   \n",
       "\n",
       "                        Street Address  City  Postcode  Phone Number  \\\n",
       "Country State/Province                                                 \n",
       "AD      7                            1     1         1             1   \n",
       "AE      AJ                           2     2         0             0   \n",
       "        AZ                          48    48         7            20   \n",
       "        DU                          82    82        16            50   \n",
       "        FU                           2     2         1             0   \n",
       "...                                ...   ...       ...           ...   \n",
       "US      WV                          25    25        25            23   \n",
       "        WY                          23    23        23            22   \n",
       "VN      HN                           6     6         6             6   \n",
       "        SG                          19    19        19            17   \n",
       "ZA      GT                           3     3         3             2   \n",
       "\n",
       "                        Timezone  Longitude  Latitude  \n",
       "Country State/Province                                 \n",
       "AD      7                      1          1         1  \n",
       "AE      AJ                     2          2         2  \n",
       "        AZ                    48         48        48  \n",
       "        DU                    82         82        82  \n",
       "        FU                     2          2         2  \n",
       "...                          ...        ...       ...  \n",
       "US      WV                    25         25        25  \n",
       "        WY                    23         23        23  \n",
       "VN      HN                     6          6         6  \n",
       "        SG                    19         19        19  \n",
       "ZA      GT                     3          3         3  \n",
       "\n",
       "[545 rows x 11 columns]"
      ]
     },
     "execution_count": 73,
     "metadata": {},
     "output_type": "execute_result"
    }
   ],
   "source": [
    "grouped2 = df.groupby(by=[df[\"Country\"], df[\"State/Province\"]]).count()\n",
    "grouped2"
   ]
  },
  {
   "cell_type": "code",
   "execution_count": 74,
   "metadata": {},
   "outputs": [
    {
     "data": {
      "text/html": [
       "<div>\n",
       "<style scoped>\n",
       "    .dataframe tbody tr th:only-of-type {\n",
       "        vertical-align: middle;\n",
       "    }\n",
       "\n",
       "    .dataframe tbody tr th {\n",
       "        vertical-align: top;\n",
       "    }\n",
       "\n",
       "    .dataframe thead th {\n",
       "        text-align: right;\n",
       "    }\n",
       "</style>\n",
       "<table border=\"1\" class=\"dataframe\">\n",
       "  <thead>\n",
       "    <tr style=\"text-align: right;\">\n",
       "      <th></th>\n",
       "      <th>Brand</th>\n",
       "      <th>Store Number</th>\n",
       "      <th>Store Name</th>\n",
       "      <th>Ownership Type</th>\n",
       "      <th>Street Address</th>\n",
       "      <th>City</th>\n",
       "      <th>State/Province</th>\n",
       "      <th>Country</th>\n",
       "      <th>Postcode</th>\n",
       "      <th>Phone Number</th>\n",
       "      <th>Timezone</th>\n",
       "      <th>Longitude</th>\n",
       "      <th>Latitude</th>\n",
       "    </tr>\n",
       "  </thead>\n",
       "  <tbody>\n",
       "    <tr>\n",
       "      <th>3062</th>\n",
       "      <td>Starbucks</td>\n",
       "      <td>48862-265746</td>\n",
       "      <td>Changshu Fangta Street-GF</td>\n",
       "      <td>Joint Venture</td>\n",
       "      <td>Fangta Street and HeDong Street</td>\n",
       "      <td>Changshu</td>\n",
       "      <td>32</td>\n",
       "      <td>CN</td>\n",
       "      <td>215500</td>\n",
       "      <td>NaN</td>\n",
       "      <td>GMT+08:00 Asia/Beijing</td>\n",
       "      <td>120.75</td>\n",
       "      <td>31.64</td>\n",
       "    </tr>\n",
       "    <tr>\n",
       "      <th>3063</th>\n",
       "      <td>Starbucks</td>\n",
       "      <td>48238-258108</td>\n",
       "      <td>CZ Wujin Kaia Lomo Plaza Store-GF</td>\n",
       "      <td>Joint Venture</td>\n",
       "      <td>Huayuan St &amp; Yongsheng Road, Wujin District</td>\n",
       "      <td>Changzhou</td>\n",
       "      <td>32</td>\n",
       "      <td>CN</td>\n",
       "      <td>213000</td>\n",
       "      <td>NaN</td>\n",
       "      <td>GMT+08:00 Asia/Beijing</td>\n",
       "      <td>119.95</td>\n",
       "      <td>31.69</td>\n",
       "    </tr>\n",
       "    <tr>\n",
       "      <th>3064</th>\n",
       "      <td>Starbucks</td>\n",
       "      <td>26608-244608</td>\n",
       "      <td>Nanjing Sun Palace Store-GF</td>\n",
       "      <td>Joint Venture</td>\n",
       "      <td>No.3 yangguang Rd, Xuanwu</td>\n",
       "      <td>Nanjing</td>\n",
       "      <td>32</td>\n",
       "      <td>CN</td>\n",
       "      <td>210000</td>\n",
       "      <td>NaN</td>\n",
       "      <td>GMT+08:00 Asia/Beijing</td>\n",
       "      <td>118.81</td>\n",
       "      <td>32.06</td>\n",
       "    </tr>\n",
       "    <tr>\n",
       "      <th>3065</th>\n",
       "      <td>Starbucks</td>\n",
       "      <td>48586-263487</td>\n",
       "      <td>NT Haimen Zhongnan Plaza Store-GF</td>\n",
       "      <td>Joint Venture</td>\n",
       "      <td>Zhangjian Avenue&amp;Nanhai Road, Haimen City</td>\n",
       "      <td>Nantong</td>\n",
       "      <td>32</td>\n",
       "      <td>CN</td>\n",
       "      <td>226000</td>\n",
       "      <td>NaN</td>\n",
       "      <td>GMT+08:00 Asia/Beijing</td>\n",
       "      <td>121.17</td>\n",
       "      <td>31.88</td>\n",
       "    </tr>\n",
       "    <tr>\n",
       "      <th>3066</th>\n",
       "      <td>Starbucks</td>\n",
       "      <td>49404-268987</td>\n",
       "      <td>NT Rudong wenfeng Dept Store-GF</td>\n",
       "      <td>Joint Venture</td>\n",
       "      <td>No.19 North Qingyuan Rd, Rudong</td>\n",
       "      <td>Nantong</td>\n",
       "      <td>32</td>\n",
       "      <td>CN</td>\n",
       "      <td>226000</td>\n",
       "      <td>NaN</td>\n",
       "      <td>GMT+08:00 Asia/Beijing</td>\n",
       "      <td>121.18</td>\n",
       "      <td>32.31</td>\n",
       "    </tr>\n",
       "    <tr>\n",
       "      <th>...</th>\n",
       "      <td>...</td>\n",
       "      <td>...</td>\n",
       "      <td>...</td>\n",
       "      <td>...</td>\n",
       "      <td>...</td>\n",
       "      <td>...</td>\n",
       "      <td>...</td>\n",
       "      <td>...</td>\n",
       "      <td>...</td>\n",
       "      <td>...</td>\n",
       "      <td>...</td>\n",
       "      <td>...</td>\n",
       "      <td>...</td>\n",
       "    </tr>\n",
       "    <tr>\n",
       "      <th>3411</th>\n",
       "      <td>Starbucks</td>\n",
       "      <td>24743-238567</td>\n",
       "      <td>镇江丹阳吾悦广场店</td>\n",
       "      <td>Joint Venture</td>\n",
       "      <td>丹阳市开发区, 新民东路99号10#-102铺位</td>\n",
       "      <td>镇江市</td>\n",
       "      <td>32</td>\n",
       "      <td>CN</td>\n",
       "      <td>NaN</td>\n",
       "      <td>NaN</td>\n",
       "      <td>GMT+08:00 Asia/Beijing</td>\n",
       "      <td>119.61</td>\n",
       "      <td>32.00</td>\n",
       "    </tr>\n",
       "    <tr>\n",
       "      <th>3412</th>\n",
       "      <td>Starbucks</td>\n",
       "      <td>24065-234944</td>\n",
       "      <td>丹阳金鹰天地店</td>\n",
       "      <td>Joint Venture</td>\n",
       "      <td>丹阳市, 金鹰天地广场</td>\n",
       "      <td>镇江市</td>\n",
       "      <td>32</td>\n",
       "      <td>CN</td>\n",
       "      <td>212300</td>\n",
       "      <td>NaN</td>\n",
       "      <td>GMT+08:00 Asia/Beijing</td>\n",
       "      <td>119.58</td>\n",
       "      <td>31.99</td>\n",
       "    </tr>\n",
       "    <tr>\n",
       "      <th>3413</th>\n",
       "      <td>Starbucks</td>\n",
       "      <td>24740-238713</td>\n",
       "      <td>泰州靖江泰和国际城店</td>\n",
       "      <td>Joint Venture</td>\n",
       "      <td>车站路77号泰和国际城C1-01铺位</td>\n",
       "      <td>靖江市</td>\n",
       "      <td>32</td>\n",
       "      <td>CN</td>\n",
       "      <td>214500</td>\n",
       "      <td>NaN</td>\n",
       "      <td>GMT+08:00 Asia/Beijing</td>\n",
       "      <td>120.26</td>\n",
       "      <td>32.01</td>\n",
       "    </tr>\n",
       "    <tr>\n",
       "      <th>3414</th>\n",
       "      <td>Starbucks</td>\n",
       "      <td>24336-236945</td>\n",
       "      <td>泰州靖江文峰大世界店</td>\n",
       "      <td>Joint Venture</td>\n",
       "      <td>人民北路1号文峰大世界1层1-2单元, 通湖路333号</td>\n",
       "      <td>靖江市</td>\n",
       "      <td>32</td>\n",
       "      <td>CN</td>\n",
       "      <td>214500</td>\n",
       "      <td>NaN</td>\n",
       "      <td>GMT+08:00 Asia/Beijing</td>\n",
       "      <td>120.27</td>\n",
       "      <td>32.02</td>\n",
       "    </tr>\n",
       "    <tr>\n",
       "      <th>3415</th>\n",
       "      <td>Starbucks</td>\n",
       "      <td>47324-257587</td>\n",
       "      <td>扬州高邮世贸广场店</td>\n",
       "      <td>Joint Venture</td>\n",
       "      <td>江苏省扬州高邮市, 世贸广场一层A005/A006/A1015铺位</td>\n",
       "      <td>高邮市</td>\n",
       "      <td>32</td>\n",
       "      <td>CN</td>\n",
       "      <td>225600</td>\n",
       "      <td>NaN</td>\n",
       "      <td>GMT+08:00 Asia/Beijing</td>\n",
       "      <td>119.46</td>\n",
       "      <td>32.79</td>\n",
       "    </tr>\n",
       "  </tbody>\n",
       "</table>\n",
       "<p>354 rows × 13 columns</p>\n",
       "</div>"
      ],
      "text/plain": [
       "          Brand  Store Number                         Store Name  \\\n",
       "3062  Starbucks  48862-265746          Changshu Fangta Street-GF   \n",
       "3063  Starbucks  48238-258108  CZ Wujin Kaia Lomo Plaza Store-GF   \n",
       "3064  Starbucks  26608-244608        Nanjing Sun Palace Store-GF   \n",
       "3065  Starbucks  48586-263487  NT Haimen Zhongnan Plaza Store-GF   \n",
       "3066  Starbucks  49404-268987    NT Rudong wenfeng Dept Store-GF   \n",
       "...         ...           ...                                ...   \n",
       "3411  Starbucks  24743-238567                          镇江丹阳吾悦广场店   \n",
       "3412  Starbucks  24065-234944                            丹阳金鹰天地店   \n",
       "3413  Starbucks  24740-238713                         泰州靖江泰和国际城店   \n",
       "3414  Starbucks  24336-236945                         泰州靖江文峰大世界店   \n",
       "3415  Starbucks  47324-257587                          扬州高邮世贸广场店   \n",
       "\n",
       "     Ownership Type                               Street Address       City  \\\n",
       "3062  Joint Venture              Fangta Street and HeDong Street   Changshu   \n",
       "3063  Joint Venture  Huayuan St & Yongsheng Road, Wujin District  Changzhou   \n",
       "3064  Joint Venture                    No.3 yangguang Rd, Xuanwu    Nanjing   \n",
       "3065  Joint Venture    Zhangjian Avenue&Nanhai Road, Haimen City    Nantong   \n",
       "3066  Joint Venture              No.19 North Qingyuan Rd, Rudong    Nantong   \n",
       "...             ...                                          ...        ...   \n",
       "3411  Joint Venture                     丹阳市开发区, 新民东路99号10#-102铺位        镇江市   \n",
       "3412  Joint Venture                                  丹阳市, 金鹰天地广场        镇江市   \n",
       "3413  Joint Venture                           车站路77号泰和国际城C1-01铺位        靖江市   \n",
       "3414  Joint Venture                  人民北路1号文峰大世界1层1-2单元, 通湖路333号        靖江市   \n",
       "3415  Joint Venture            江苏省扬州高邮市, 世贸广场一层A005/A006/A1015铺位        高邮市   \n",
       "\n",
       "     State/Province Country Postcode Phone Number                Timezone  \\\n",
       "3062             32      CN   215500          NaN  GMT+08:00 Asia/Beijing   \n",
       "3063             32      CN   213000          NaN  GMT+08:00 Asia/Beijing   \n",
       "3064             32      CN   210000          NaN  GMT+08:00 Asia/Beijing   \n",
       "3065             32      CN   226000          NaN  GMT+08:00 Asia/Beijing   \n",
       "3066             32      CN   226000          NaN  GMT+08:00 Asia/Beijing   \n",
       "...             ...     ...      ...          ...                     ...   \n",
       "3411             32      CN      NaN          NaN  GMT+08:00 Asia/Beijing   \n",
       "3412             32      CN   212300          NaN  GMT+08:00 Asia/Beijing   \n",
       "3413             32      CN   214500          NaN  GMT+08:00 Asia/Beijing   \n",
       "3414             32      CN   214500          NaN  GMT+08:00 Asia/Beijing   \n",
       "3415             32      CN   225600          NaN  GMT+08:00 Asia/Beijing   \n",
       "\n",
       "      Longitude  Latitude  \n",
       "3062     120.75     31.64  \n",
       "3063     119.95     31.69  \n",
       "3064     118.81     32.06  \n",
       "3065     121.17     31.88  \n",
       "3066     121.18     32.31  \n",
       "...         ...       ...  \n",
       "3411     119.61     32.00  \n",
       "3412     119.58     31.99  \n",
       "3413     120.26     32.01  \n",
       "3414     120.27     32.02  \n",
       "3415     119.46     32.79  \n",
       "\n",
       "[354 rows x 13 columns]"
      ]
     },
     "execution_count": 74,
     "metadata": {},
     "output_type": "execute_result"
    }
   ],
   "source": [
    "country_cn[country_cn['State/Province']=='32']"
   ]
  },
  {
   "cell_type": "markdown",
   "metadata": {},
   "source": [
    "# 设置索引"
   ]
  },
  {
   "cell_type": "code",
   "execution_count": 75,
   "metadata": {},
   "outputs": [
    {
     "data": {
      "text/html": [
       "<div>\n",
       "<style scoped>\n",
       "    .dataframe tbody tr th:only-of-type {\n",
       "        vertical-align: middle;\n",
       "    }\n",
       "\n",
       "    .dataframe tbody tr th {\n",
       "        vertical-align: top;\n",
       "    }\n",
       "\n",
       "    .dataframe thead th {\n",
       "        text-align: right;\n",
       "    }\n",
       "</style>\n",
       "<table border=\"1\" class=\"dataframe\">\n",
       "  <thead>\n",
       "    <tr style=\"text-align: right;\">\n",
       "      <th></th>\n",
       "      <th>a</th>\n",
       "      <th>b</th>\n",
       "      <th>c</th>\n",
       "      <th>d</th>\n",
       "    </tr>\n",
       "  </thead>\n",
       "  <tbody>\n",
       "    <tr>\n",
       "      <th>0</th>\n",
       "      <td>0</td>\n",
       "      <td>7</td>\n",
       "      <td>one</td>\n",
       "      <td>h</td>\n",
       "    </tr>\n",
       "    <tr>\n",
       "      <th>1</th>\n",
       "      <td>1</td>\n",
       "      <td>6</td>\n",
       "      <td>one</td>\n",
       "      <td>j</td>\n",
       "    </tr>\n",
       "    <tr>\n",
       "      <th>2</th>\n",
       "      <td>2</td>\n",
       "      <td>5</td>\n",
       "      <td>one</td>\n",
       "      <td>k</td>\n",
       "    </tr>\n",
       "    <tr>\n",
       "      <th>3</th>\n",
       "      <td>3</td>\n",
       "      <td>4</td>\n",
       "      <td>two</td>\n",
       "      <td>l</td>\n",
       "    </tr>\n",
       "    <tr>\n",
       "      <th>4</th>\n",
       "      <td>4</td>\n",
       "      <td>3</td>\n",
       "      <td>two</td>\n",
       "      <td>m</td>\n",
       "    </tr>\n",
       "    <tr>\n",
       "      <th>5</th>\n",
       "      <td>5</td>\n",
       "      <td>2</td>\n",
       "      <td>two</td>\n",
       "      <td>n</td>\n",
       "    </tr>\n",
       "    <tr>\n",
       "      <th>6</th>\n",
       "      <td>6</td>\n",
       "      <td>1</td>\n",
       "      <td>two</td>\n",
       "      <td>o</td>\n",
       "    </tr>\n",
       "  </tbody>\n",
       "</table>\n",
       "</div>"
      ],
      "text/plain": [
       "   a  b    c  d\n",
       "0  0  7  one  h\n",
       "1  1  6  one  j\n",
       "2  2  5  one  k\n",
       "3  3  4  two  l\n",
       "4  4  3  two  m\n",
       "5  5  2  two  n\n",
       "6  6  1  two  o"
      ]
     },
     "execution_count": 75,
     "metadata": {},
     "output_type": "execute_result"
    }
   ],
   "source": [
    "#索引中单项不可变，但是整体可以换掉\n",
    "a = pd.DataFrame({'a': range(7),'b': range(7, 0, -1),\n",
    "                  'c': ['one','one','one','two','two','two', 'two'],\n",
    "                  'd': list(\"hjklmno\")})\n",
    "a"
   ]
  },
  {
   "cell_type": "code",
   "execution_count": 76,
   "metadata": {},
   "outputs": [
    {
     "name": "stdout",
     "output_type": "stream",
     "text": [
      "   a  b    c  d\n",
      "0  0  7  one  h\n",
      "1  1  6  one  j\n",
      "2  2  5  one  k\n",
      "3  3  4  two  l\n",
      "4  4  3  two  m\n",
      "5  5  2  two  n\n",
      "6  6  1  two  o\n",
      "   a  b    c  d\n",
      "a  0  7  one  h\n",
      "b  1  6  one  j\n",
      "c  2  5  one  k\n",
      "d  3  4  two  l\n",
      "e  4  3  two  m\n",
      "f  5  2  two  n\n",
      "g  6  1  two  o\n",
      "--------------------------------------------------\n",
      "   a  b    c  d\n",
      "0  0  7  one  h\n",
      "1  1  6  one  j\n",
      "2  2  5  one  k\n",
      "3  3  4  two  l\n",
      "4  4  3  two  m\n",
      "5  5  2  two  n\n",
      "6  6  1  two  o\n"
     ]
    },
    {
     "data": {
      "text/html": [
       "<div>\n",
       "<style scoped>\n",
       "    .dataframe tbody tr th:only-of-type {\n",
       "        vertical-align: middle;\n",
       "    }\n",
       "\n",
       "    .dataframe tbody tr th {\n",
       "        vertical-align: top;\n",
       "    }\n",
       "\n",
       "    .dataframe thead th {\n",
       "        text-align: right;\n",
       "    }\n",
       "</style>\n",
       "<table border=\"1\" class=\"dataframe\">\n",
       "  <thead>\n",
       "    <tr style=\"text-align: right;\">\n",
       "      <th></th>\n",
       "      <th>a</th>\n",
       "      <th>b</th>\n",
       "      <th>c</th>\n",
       "      <th>d</th>\n",
       "    </tr>\n",
       "  </thead>\n",
       "  <tbody>\n",
       "    <tr>\n",
       "      <th>a</th>\n",
       "      <td>NaN</td>\n",
       "      <td>NaN</td>\n",
       "      <td>NaN</td>\n",
       "      <td>NaN</td>\n",
       "    </tr>\n",
       "    <tr>\n",
       "      <th>b</th>\n",
       "      <td>NaN</td>\n",
       "      <td>NaN</td>\n",
       "      <td>NaN</td>\n",
       "      <td>NaN</td>\n",
       "    </tr>\n",
       "    <tr>\n",
       "      <th>c</th>\n",
       "      <td>NaN</td>\n",
       "      <td>NaN</td>\n",
       "      <td>NaN</td>\n",
       "      <td>NaN</td>\n",
       "    </tr>\n",
       "    <tr>\n",
       "      <th>d</th>\n",
       "      <td>NaN</td>\n",
       "      <td>NaN</td>\n",
       "      <td>NaN</td>\n",
       "      <td>NaN</td>\n",
       "    </tr>\n",
       "    <tr>\n",
       "      <th>e</th>\n",
       "      <td>NaN</td>\n",
       "      <td>NaN</td>\n",
       "      <td>NaN</td>\n",
       "      <td>NaN</td>\n",
       "    </tr>\n",
       "    <tr>\n",
       "      <th>f</th>\n",
       "      <td>NaN</td>\n",
       "      <td>NaN</td>\n",
       "      <td>NaN</td>\n",
       "      <td>NaN</td>\n",
       "    </tr>\n",
       "    <tr>\n",
       "      <th>g</th>\n",
       "      <td>NaN</td>\n",
       "      <td>NaN</td>\n",
       "      <td>NaN</td>\n",
       "      <td>NaN</td>\n",
       "    </tr>\n",
       "  </tbody>\n",
       "</table>\n",
       "</div>"
      ],
      "text/plain": [
       "    a   b    c    d\n",
       "a NaN NaN  NaN  NaN\n",
       "b NaN NaN  NaN  NaN\n",
       "c NaN NaN  NaN  NaN\n",
       "d NaN NaN  NaN  NaN\n",
       "e NaN NaN  NaN  NaN\n",
       "f NaN NaN  NaN  NaN\n",
       "g NaN NaN  NaN  NaN"
      ]
     },
     "execution_count": 76,
     "metadata": {},
     "output_type": "execute_result"
    }
   ],
   "source": [
    "c=a.copy()\n",
    "a.index=list('abcdefg')  #a的索引变了，a.index更换索引\n",
    "print(c)\n",
    "print(a)\n",
    "print('-'*50)\n",
    "b=c.reindex(list('abcdefg'))  #返回一个新的df，索引是设置了c的索引后，c索引不变,b是没有值\n",
    "print(c)\n",
    "b"
   ]
  },
  {
   "cell_type": "code",
   "execution_count": 78,
   "metadata": {
    "scrolled": true
   },
   "outputs": [
    {
     "name": "stdout",
     "output_type": "stream",
     "text": [
      "   a  b    c  d\n",
      "a  0  7  one  h\n",
      "b  1  6  one  j\n",
      "c  2  5  one  k\n",
      "d  3  4  two  l\n",
      "e  4  3  two  m\n",
      "f  5  2  two  n\n",
      "g  6  1  two  o\n",
      "       a  b\n",
      "c   d      \n",
      "one h  0  7\n",
      "    j  1  6\n",
      "    k  2  5\n",
      "two l  3  4\n",
      "    m  4  3\n",
      "    n  5  2\n",
      "    o  6  1\n"
     ]
    },
    {
     "data": {
      "text/html": [
       "<div>\n",
       "<style scoped>\n",
       "    .dataframe tbody tr th:only-of-type {\n",
       "        vertical-align: middle;\n",
       "    }\n",
       "\n",
       "    .dataframe tbody tr th {\n",
       "        vertical-align: top;\n",
       "    }\n",
       "\n",
       "    .dataframe thead th {\n",
       "        text-align: right;\n",
       "    }\n",
       "</style>\n",
       "<table border=\"1\" class=\"dataframe\">\n",
       "  <thead>\n",
       "    <tr style=\"text-align: right;\">\n",
       "      <th></th>\n",
       "      <th>a</th>\n",
       "      <th>b</th>\n",
       "      <th>c</th>\n",
       "      <th>d</th>\n",
       "    </tr>\n",
       "  </thead>\n",
       "  <tbody>\n",
       "    <tr>\n",
       "      <th>a</th>\n",
       "      <td>0</td>\n",
       "      <td>7</td>\n",
       "      <td>one</td>\n",
       "      <td>h</td>\n",
       "    </tr>\n",
       "    <tr>\n",
       "      <th>b</th>\n",
       "      <td>1</td>\n",
       "      <td>6</td>\n",
       "      <td>one</td>\n",
       "      <td>j</td>\n",
       "    </tr>\n",
       "    <tr>\n",
       "      <th>c</th>\n",
       "      <td>2</td>\n",
       "      <td>5</td>\n",
       "      <td>one</td>\n",
       "      <td>k</td>\n",
       "    </tr>\n",
       "    <tr>\n",
       "      <th>d</th>\n",
       "      <td>3</td>\n",
       "      <td>4</td>\n",
       "      <td>two</td>\n",
       "      <td>l</td>\n",
       "    </tr>\n",
       "    <tr>\n",
       "      <th>e</th>\n",
       "      <td>4</td>\n",
       "      <td>3</td>\n",
       "      <td>two</td>\n",
       "      <td>m</td>\n",
       "    </tr>\n",
       "    <tr>\n",
       "      <th>f</th>\n",
       "      <td>5</td>\n",
       "      <td>2</td>\n",
       "      <td>two</td>\n",
       "      <td>n</td>\n",
       "    </tr>\n",
       "    <tr>\n",
       "      <th>g</th>\n",
       "      <td>6</td>\n",
       "      <td>1</td>\n",
       "      <td>two</td>\n",
       "      <td>o</td>\n",
       "    </tr>\n",
       "  </tbody>\n",
       "</table>\n",
       "</div>"
      ],
      "text/plain": [
       "   a  b    c  d\n",
       "a  0  7  one  h\n",
       "b  1  6  one  j\n",
       "c  2  5  one  k\n",
       "d  3  4  two  l\n",
       "e  4  3  two  m\n",
       "f  5  2  two  n\n",
       "g  6  1  two  o"
      ]
     },
     "execution_count": 78,
     "metadata": {},
     "output_type": "execute_result"
    }
   ],
   "source": [
    "#让某些列变为索引，让c列，d列数据变为索引\n",
    "print(a)\n",
    "print(a.set_index(['c','d']))#a没变，返回修改后的df\n",
    "a"
   ]
  },
  {
   "cell_type": "markdown",
   "metadata": {},
   "source": [
    "### 时间序列"
   ]
  },
  {
   "cell_type": "code",
   "execution_count": 79,
   "metadata": {},
   "outputs": [
    {
     "data": {
      "text/plain": [
       "DatetimeIndex(['2019-01-01', '2019-01-02', '2019-01-03', '2019-01-04',\n",
       "               '2019-01-05', '2019-01-06', '2019-01-07', '2019-01-08',\n",
       "               '2019-01-09', '2019-01-10',\n",
       "               ...\n",
       "               '2019-09-15', '2019-09-16', '2019-09-17', '2019-09-18',\n",
       "               '2019-09-19', '2019-09-20', '2019-09-21', '2019-09-22',\n",
       "               '2019-09-23', '2019-09-24'],\n",
       "              dtype='datetime64[ns]', length=267, freq='D')"
      ]
     },
     "execution_count": 79,
     "metadata": {},
     "output_type": "execute_result"
    }
   ],
   "source": [
    "pd.date_range(start=\"20190101\", end=\"20190924\")"
   ]
  },
  {
   "cell_type": "code",
   "execution_count": 80,
   "metadata": {},
   "outputs": [
    {
     "data": {
      "text/plain": [
       "DatetimeIndex(['2021-07-12', '2021-07-13', '2021-07-14', '2021-07-15',\n",
       "               '2021-07-16', '2021-07-19', '2021-07-20', '2021-07-21',\n",
       "               '2021-07-22', '2021-07-23'],\n",
       "              dtype='datetime64[ns]', freq='B')"
      ]
     },
     "execution_count": 80,
     "metadata": {},
     "output_type": "execute_result"
    }
   ],
   "source": [
    "pd.date_range(start=\"20210712\",periods=10,freq='B')"
   ]
  },
  {
   "cell_type": "code",
   "execution_count": 81,
   "metadata": {},
   "outputs": [
    {
     "data": {
      "text/plain": [
       "DatetimeIndex(['2019-01-31', '2019-02-28', '2019-03-31', '2019-04-30',\n",
       "               '2019-05-31', '2019-06-30', '2019-07-31', '2019-08-31',\n",
       "               '2019-09-30', '2019-10-31'],\n",
       "              dtype='datetime64[ns]', freq='M')"
      ]
     },
     "execution_count": 81,
     "metadata": {},
     "output_type": "execute_result"
    }
   ],
   "source": [
    "pd.date_range(start=\"20190101\",periods=10,freq='M')"
   ]
  },
  {
   "cell_type": "code",
   "execution_count": 82,
   "metadata": {},
   "outputs": [
    {
     "data": {
      "text/plain": [
       "DatetimeIndex(['2019-01-01', '2019-02-01', '2019-03-01', '2019-04-01',\n",
       "               '2019-05-01', '2019-06-01', '2019-07-01', '2019-08-01',\n",
       "               '2019-09-01', '2019-10-01'],\n",
       "              dtype='datetime64[ns]', freq='MS')"
      ]
     },
     "execution_count": 82,
     "metadata": {},
     "output_type": "execute_result"
    }
   ],
   "source": [
    "pd.date_range(start=\"20190101\",periods=10,freq='MS')"
   ]
  },
  {
   "cell_type": "code",
   "execution_count": 83,
   "metadata": {},
   "outputs": [
    {
     "data": {
      "text/plain": [
       "DatetimeIndex(['2021-04-25', '2021-05-02', '2021-05-09', '2021-05-16',\n",
       "               '2021-05-23', '2021-05-30', '2021-06-06', '2021-06-13',\n",
       "               '2021-06-20', '2021-06-27'],\n",
       "              dtype='datetime64[ns]', freq='W-SUN')"
      ]
     },
     "execution_count": 83,
     "metadata": {},
     "output_type": "execute_result"
    }
   ],
   "source": [
    "pd.date_range(start=\"20210421\",periods=10,freq='W')  #拿每周的周日生成"
   ]
  },
  {
   "cell_type": "code",
   "execution_count": 84,
   "metadata": {},
   "outputs": [
    {
     "data": {
      "text/plain": [
       "0       3/11/2000\n",
       "1       3/12/2000\n",
       "2       3/13/2000\n",
       "3       3/11/2000\n",
       "4       3/12/2000\n",
       "          ...    \n",
       "2995    3/12/2000\n",
       "2996    3/13/2000\n",
       "2997    3/11/2000\n",
       "2998    3/12/2000\n",
       "2999    3/13/2000\n",
       "Length: 3000, dtype: object"
      ]
     },
     "execution_count": 84,
     "metadata": {},
     "output_type": "execute_result"
    }
   ],
   "source": [
    "s = pd.Series(['3/11/2000', '3/12/2000', '3/13/2000'] * 1000)\n",
    "s"
   ]
  },
  {
   "cell_type": "code",
   "execution_count": 85,
   "metadata": {},
   "outputs": [
    {
     "name": "stderr",
     "output_type": "stream",
     "text": [
      "<magic-timeit>:1: UserWarning: The argument 'infer_datetime_format' is deprecated and will be removed in a future version. A strict version of it is now the default, see https://pandas.pydata.org/pdeps/0004-consistent-to-datetime-parsing.html. You can safely remove this argument.\n",
      "<magic-timeit>:1: UserWarning: The argument 'infer_datetime_format' is deprecated and will be removed in a future version. A strict version of it is now the default, see https://pandas.pydata.org/pdeps/0004-consistent-to-datetime-parsing.html. You can safely remove this argument.\n",
      "<magic-timeit>:1: UserWarning: The argument 'infer_datetime_format' is deprecated and will be removed in a future version. A strict version of it is now the default, see https://pandas.pydata.org/pdeps/0004-consistent-to-datetime-parsing.html. You can safely remove this argument.\n",
      "<magic-timeit>:1: UserWarning: The argument 'infer_datetime_format' is deprecated and will be removed in a future version. A strict version of it is now the default, see https://pandas.pydata.org/pdeps/0004-consistent-to-datetime-parsing.html. You can safely remove this argument.\n",
      "<magic-timeit>:1: UserWarning: The argument 'infer_datetime_format' is deprecated and will be removed in a future version. A strict version of it is now the default, see https://pandas.pydata.org/pdeps/0004-consistent-to-datetime-parsing.html. You can safely remove this argument.\n",
      "<magic-timeit>:1: UserWarning: The argument 'infer_datetime_format' is deprecated and will be removed in a future version. A strict version of it is now the default, see https://pandas.pydata.org/pdeps/0004-consistent-to-datetime-parsing.html. You can safely remove this argument.\n",
      "<magic-timeit>:1: UserWarning: The argument 'infer_datetime_format' is deprecated and will be removed in a future version. A strict version of it is now the default, see https://pandas.pydata.org/pdeps/0004-consistent-to-datetime-parsing.html. You can safely remove this argument.\n",
      "<magic-timeit>:1: UserWarning: The argument 'infer_datetime_format' is deprecated and will be removed in a future version. A strict version of it is now the default, see https://pandas.pydata.org/pdeps/0004-consistent-to-datetime-parsing.html. You can safely remove this argument.\n",
      "<magic-timeit>:1: UserWarning: The argument 'infer_datetime_format' is deprecated and will be removed in a future version. A strict version of it is now the default, see https://pandas.pydata.org/pdeps/0004-consistent-to-datetime-parsing.html. You can safely remove this argument.\n",
      "<magic-timeit>:1: UserWarning: The argument 'infer_datetime_format' is deprecated and will be removed in a future version. A strict version of it is now the default, see https://pandas.pydata.org/pdeps/0004-consistent-to-datetime-parsing.html. You can safely remove this argument.\n",
      "<magic-timeit>:1: UserWarning: The argument 'infer_datetime_format' is deprecated and will be removed in a future version. A strict version of it is now the default, see https://pandas.pydata.org/pdeps/0004-consistent-to-datetime-parsing.html. You can safely remove this argument.\n",
      "<magic-timeit>:1: UserWarning: The argument 'infer_datetime_format' is deprecated and will be removed in a future version. A strict version of it is now the default, see https://pandas.pydata.org/pdeps/0004-consistent-to-datetime-parsing.html. You can safely remove this argument.\n",
      "<magic-timeit>:1: UserWarning: The argument 'infer_datetime_format' is deprecated and will be removed in a future version. A strict version of it is now the default, see https://pandas.pydata.org/pdeps/0004-consistent-to-datetime-parsing.html. You can safely remove this argument.\n",
      "<magic-timeit>:1: UserWarning: The argument 'infer_datetime_format' is deprecated and will be removed in a future version. A strict version of it is now the default, see https://pandas.pydata.org/pdeps/0004-consistent-to-datetime-parsing.html. You can safely remove this argument.\n",
      "<magic-timeit>:1: UserWarning: The argument 'infer_datetime_format' is deprecated and will be removed in a future version. A strict version of it is now the default, see https://pandas.pydata.org/pdeps/0004-consistent-to-datetime-parsing.html. You can safely remove this argument.\n",
      "<magic-timeit>:1: UserWarning: The argument 'infer_datetime_format' is deprecated and will be removed in a future version. A strict version of it is now the default, see https://pandas.pydata.org/pdeps/0004-consistent-to-datetime-parsing.html. You can safely remove this argument.\n",
      "<magic-timeit>:1: UserWarning: The argument 'infer_datetime_format' is deprecated and will be removed in a future version. A strict version of it is now the default, see https://pandas.pydata.org/pdeps/0004-consistent-to-datetime-parsing.html. You can safely remove this argument.\n",
      "<magic-timeit>:1: UserWarning: The argument 'infer_datetime_format' is deprecated and will be removed in a future version. A strict version of it is now the default, see https://pandas.pydata.org/pdeps/0004-consistent-to-datetime-parsing.html. You can safely remove this argument.\n",
      "<magic-timeit>:1: UserWarning: The argument 'infer_datetime_format' is deprecated and will be removed in a future version. A strict version of it is now the default, see https://pandas.pydata.org/pdeps/0004-consistent-to-datetime-parsing.html. You can safely remove this argument.\n",
      "<magic-timeit>:1: UserWarning: The argument 'infer_datetime_format' is deprecated and will be removed in a future version. A strict version of it is now the default, see https://pandas.pydata.org/pdeps/0004-consistent-to-datetime-parsing.html. You can safely remove this argument.\n",
      "<magic-timeit>:1: UserWarning: The argument 'infer_datetime_format' is deprecated and will be removed in a future version. A strict version of it is now the default, see https://pandas.pydata.org/pdeps/0004-consistent-to-datetime-parsing.html. You can safely remove this argument.\n",
      "<magic-timeit>:1: UserWarning: The argument 'infer_datetime_format' is deprecated and will be removed in a future version. A strict version of it is now the default, see https://pandas.pydata.org/pdeps/0004-consistent-to-datetime-parsing.html. You can safely remove this argument.\n",
      "<magic-timeit>:1: UserWarning: The argument 'infer_datetime_format' is deprecated and will be removed in a future version. A strict version of it is now the default, see https://pandas.pydata.org/pdeps/0004-consistent-to-datetime-parsing.html. You can safely remove this argument.\n",
      "<magic-timeit>:1: UserWarning: The argument 'infer_datetime_format' is deprecated and will be removed in a future version. A strict version of it is now the default, see https://pandas.pydata.org/pdeps/0004-consistent-to-datetime-parsing.html. You can safely remove this argument.\n",
      "<magic-timeit>:1: UserWarning: The argument 'infer_datetime_format' is deprecated and will be removed in a future version. A strict version of it is now the default, see https://pandas.pydata.org/pdeps/0004-consistent-to-datetime-parsing.html. You can safely remove this argument.\n",
      "<magic-timeit>:1: UserWarning: The argument 'infer_datetime_format' is deprecated and will be removed in a future version. A strict version of it is now the default, see https://pandas.pydata.org/pdeps/0004-consistent-to-datetime-parsing.html. You can safely remove this argument.\n",
      "<magic-timeit>:1: UserWarning: The argument 'infer_datetime_format' is deprecated and will be removed in a future version. A strict version of it is now the default, see https://pandas.pydata.org/pdeps/0004-consistent-to-datetime-parsing.html. You can safely remove this argument.\n",
      "<magic-timeit>:1: UserWarning: The argument 'infer_datetime_format' is deprecated and will be removed in a future version. A strict version of it is now the default, see https://pandas.pydata.org/pdeps/0004-consistent-to-datetime-parsing.html. You can safely remove this argument.\n",
      "<magic-timeit>:1: UserWarning: The argument 'infer_datetime_format' is deprecated and will be removed in a future version. A strict version of it is now the default, see https://pandas.pydata.org/pdeps/0004-consistent-to-datetime-parsing.html. You can safely remove this argument.\n",
      "<magic-timeit>:1: UserWarning: The argument 'infer_datetime_format' is deprecated and will be removed in a future version. A strict version of it is now the default, see https://pandas.pydata.org/pdeps/0004-consistent-to-datetime-parsing.html. You can safely remove this argument.\n",
      "<magic-timeit>:1: UserWarning: The argument 'infer_datetime_format' is deprecated and will be removed in a future version. A strict version of it is now the default, see https://pandas.pydata.org/pdeps/0004-consistent-to-datetime-parsing.html. You can safely remove this argument.\n",
      "<magic-timeit>:1: UserWarning: The argument 'infer_datetime_format' is deprecated and will be removed in a future version. A strict version of it is now the default, see https://pandas.pydata.org/pdeps/0004-consistent-to-datetime-parsing.html. You can safely remove this argument.\n",
      "<magic-timeit>:1: UserWarning: The argument 'infer_datetime_format' is deprecated and will be removed in a future version. A strict version of it is now the default, see https://pandas.pydata.org/pdeps/0004-consistent-to-datetime-parsing.html. You can safely remove this argument.\n",
      "<magic-timeit>:1: UserWarning: The argument 'infer_datetime_format' is deprecated and will be removed in a future version. A strict version of it is now the default, see https://pandas.pydata.org/pdeps/0004-consistent-to-datetime-parsing.html. You can safely remove this argument.\n",
      "<magic-timeit>:1: UserWarning: The argument 'infer_datetime_format' is deprecated and will be removed in a future version. A strict version of it is now the default, see https://pandas.pydata.org/pdeps/0004-consistent-to-datetime-parsing.html. You can safely remove this argument.\n",
      "<magic-timeit>:1: UserWarning: The argument 'infer_datetime_format' is deprecated and will be removed in a future version. A strict version of it is now the default, see https://pandas.pydata.org/pdeps/0004-consistent-to-datetime-parsing.html. You can safely remove this argument.\n",
      "<magic-timeit>:1: UserWarning: The argument 'infer_datetime_format' is deprecated and will be removed in a future version. A strict version of it is now the default, see https://pandas.pydata.org/pdeps/0004-consistent-to-datetime-parsing.html. You can safely remove this argument.\n",
      "<magic-timeit>:1: UserWarning: The argument 'infer_datetime_format' is deprecated and will be removed in a future version. A strict version of it is now the default, see https://pandas.pydata.org/pdeps/0004-consistent-to-datetime-parsing.html. You can safely remove this argument.\n",
      "<magic-timeit>:1: UserWarning: The argument 'infer_datetime_format' is deprecated and will be removed in a future version. A strict version of it is now the default, see https://pandas.pydata.org/pdeps/0004-consistent-to-datetime-parsing.html. You can safely remove this argument.\n",
      "<magic-timeit>:1: UserWarning: The argument 'infer_datetime_format' is deprecated and will be removed in a future version. A strict version of it is now the default, see https://pandas.pydata.org/pdeps/0004-consistent-to-datetime-parsing.html. You can safely remove this argument.\n",
      "<magic-timeit>:1: UserWarning: The argument 'infer_datetime_format' is deprecated and will be removed in a future version. A strict version of it is now the default, see https://pandas.pydata.org/pdeps/0004-consistent-to-datetime-parsing.html. You can safely remove this argument.\n",
      "<magic-timeit>:1: UserWarning: The argument 'infer_datetime_format' is deprecated and will be removed in a future version. A strict version of it is now the default, see https://pandas.pydata.org/pdeps/0004-consistent-to-datetime-parsing.html. You can safely remove this argument.\n",
      "<magic-timeit>:1: UserWarning: The argument 'infer_datetime_format' is deprecated and will be removed in a future version. A strict version of it is now the default, see https://pandas.pydata.org/pdeps/0004-consistent-to-datetime-parsing.html. You can safely remove this argument.\n",
      "<magic-timeit>:1: UserWarning: The argument 'infer_datetime_format' is deprecated and will be removed in a future version. A strict version of it is now the default, see https://pandas.pydata.org/pdeps/0004-consistent-to-datetime-parsing.html. You can safely remove this argument.\n",
      "<magic-timeit>:1: UserWarning: The argument 'infer_datetime_format' is deprecated and will be removed in a future version. A strict version of it is now the default, see https://pandas.pydata.org/pdeps/0004-consistent-to-datetime-parsing.html. You can safely remove this argument.\n",
      "<magic-timeit>:1: UserWarning: The argument 'infer_datetime_format' is deprecated and will be removed in a future version. A strict version of it is now the default, see https://pandas.pydata.org/pdeps/0004-consistent-to-datetime-parsing.html. You can safely remove this argument.\n",
      "<magic-timeit>:1: UserWarning: The argument 'infer_datetime_format' is deprecated and will be removed in a future version. A strict version of it is now the default, see https://pandas.pydata.org/pdeps/0004-consistent-to-datetime-parsing.html. You can safely remove this argument.\n",
      "<magic-timeit>:1: UserWarning: The argument 'infer_datetime_format' is deprecated and will be removed in a future version. A strict version of it is now the default, see https://pandas.pydata.org/pdeps/0004-consistent-to-datetime-parsing.html. You can safely remove this argument.\n",
      "<magic-timeit>:1: UserWarning: The argument 'infer_datetime_format' is deprecated and will be removed in a future version. A strict version of it is now the default, see https://pandas.pydata.org/pdeps/0004-consistent-to-datetime-parsing.html. You can safely remove this argument.\n",
      "<magic-timeit>:1: UserWarning: The argument 'infer_datetime_format' is deprecated and will be removed in a future version. A strict version of it is now the default, see https://pandas.pydata.org/pdeps/0004-consistent-to-datetime-parsing.html. You can safely remove this argument.\n",
      "<magic-timeit>:1: UserWarning: The argument 'infer_datetime_format' is deprecated and will be removed in a future version. A strict version of it is now the default, see https://pandas.pydata.org/pdeps/0004-consistent-to-datetime-parsing.html. You can safely remove this argument.\n",
      "<magic-timeit>:1: UserWarning: The argument 'infer_datetime_format' is deprecated and will be removed in a future version. A strict version of it is now the default, see https://pandas.pydata.org/pdeps/0004-consistent-to-datetime-parsing.html. You can safely remove this argument.\n",
      "<magic-timeit>:1: UserWarning: The argument 'infer_datetime_format' is deprecated and will be removed in a future version. A strict version of it is now the default, see https://pandas.pydata.org/pdeps/0004-consistent-to-datetime-parsing.html. You can safely remove this argument.\n",
      "<magic-timeit>:1: UserWarning: The argument 'infer_datetime_format' is deprecated and will be removed in a future version. A strict version of it is now the default, see https://pandas.pydata.org/pdeps/0004-consistent-to-datetime-parsing.html. You can safely remove this argument.\n",
      "<magic-timeit>:1: UserWarning: The argument 'infer_datetime_format' is deprecated and will be removed in a future version. A strict version of it is now the default, see https://pandas.pydata.org/pdeps/0004-consistent-to-datetime-parsing.html. You can safely remove this argument.\n",
      "<magic-timeit>:1: UserWarning: The argument 'infer_datetime_format' is deprecated and will be removed in a future version. A strict version of it is now the default, see https://pandas.pydata.org/pdeps/0004-consistent-to-datetime-parsing.html. You can safely remove this argument.\n",
      "<magic-timeit>:1: UserWarning: The argument 'infer_datetime_format' is deprecated and will be removed in a future version. A strict version of it is now the default, see https://pandas.pydata.org/pdeps/0004-consistent-to-datetime-parsing.html. You can safely remove this argument.\n",
      "<magic-timeit>:1: UserWarning: The argument 'infer_datetime_format' is deprecated and will be removed in a future version. A strict version of it is now the default, see https://pandas.pydata.org/pdeps/0004-consistent-to-datetime-parsing.html. You can safely remove this argument.\n",
      "<magic-timeit>:1: UserWarning: The argument 'infer_datetime_format' is deprecated and will be removed in a future version. A strict version of it is now the default, see https://pandas.pydata.org/pdeps/0004-consistent-to-datetime-parsing.html. You can safely remove this argument.\n",
      "<magic-timeit>:1: UserWarning: The argument 'infer_datetime_format' is deprecated and will be removed in a future version. A strict version of it is now the default, see https://pandas.pydata.org/pdeps/0004-consistent-to-datetime-parsing.html. You can safely remove this argument.\n",
      "<magic-timeit>:1: UserWarning: The argument 'infer_datetime_format' is deprecated and will be removed in a future version. A strict version of it is now the default, see https://pandas.pydata.org/pdeps/0004-consistent-to-datetime-parsing.html. You can safely remove this argument.\n",
      "<magic-timeit>:1: UserWarning: The argument 'infer_datetime_format' is deprecated and will be removed in a future version. A strict version of it is now the default, see https://pandas.pydata.org/pdeps/0004-consistent-to-datetime-parsing.html. You can safely remove this argument.\n",
      "<magic-timeit>:1: UserWarning: The argument 'infer_datetime_format' is deprecated and will be removed in a future version. A strict version of it is now the default, see https://pandas.pydata.org/pdeps/0004-consistent-to-datetime-parsing.html. You can safely remove this argument.\n",
      "<magic-timeit>:1: UserWarning: The argument 'infer_datetime_format' is deprecated and will be removed in a future version. A strict version of it is now the default, see https://pandas.pydata.org/pdeps/0004-consistent-to-datetime-parsing.html. You can safely remove this argument.\n",
      "<magic-timeit>:1: UserWarning: The argument 'infer_datetime_format' is deprecated and will be removed in a future version. A strict version of it is now the default, see https://pandas.pydata.org/pdeps/0004-consistent-to-datetime-parsing.html. You can safely remove this argument.\n",
      "<magic-timeit>:1: UserWarning: The argument 'infer_datetime_format' is deprecated and will be removed in a future version. A strict version of it is now the default, see https://pandas.pydata.org/pdeps/0004-consistent-to-datetime-parsing.html. You can safely remove this argument.\n",
      "<magic-timeit>:1: UserWarning: The argument 'infer_datetime_format' is deprecated and will be removed in a future version. A strict version of it is now the default, see https://pandas.pydata.org/pdeps/0004-consistent-to-datetime-parsing.html. You can safely remove this argument.\n",
      "<magic-timeit>:1: UserWarning: The argument 'infer_datetime_format' is deprecated and will be removed in a future version. A strict version of it is now the default, see https://pandas.pydata.org/pdeps/0004-consistent-to-datetime-parsing.html. You can safely remove this argument.\n",
      "<magic-timeit>:1: UserWarning: The argument 'infer_datetime_format' is deprecated and will be removed in a future version. A strict version of it is now the default, see https://pandas.pydata.org/pdeps/0004-consistent-to-datetime-parsing.html. You can safely remove this argument.\n",
      "<magic-timeit>:1: UserWarning: The argument 'infer_datetime_format' is deprecated and will be removed in a future version. A strict version of it is now the default, see https://pandas.pydata.org/pdeps/0004-consistent-to-datetime-parsing.html. You can safely remove this argument.\n",
      "<magic-timeit>:1: UserWarning: The argument 'infer_datetime_format' is deprecated and will be removed in a future version. A strict version of it is now the default, see https://pandas.pydata.org/pdeps/0004-consistent-to-datetime-parsing.html. You can safely remove this argument.\n",
      "<magic-timeit>:1: UserWarning: The argument 'infer_datetime_format' is deprecated and will be removed in a future version. A strict version of it is now the default, see https://pandas.pydata.org/pdeps/0004-consistent-to-datetime-parsing.html. You can safely remove this argument.\n",
      "<magic-timeit>:1: UserWarning: The argument 'infer_datetime_format' is deprecated and will be removed in a future version. A strict version of it is now the default, see https://pandas.pydata.org/pdeps/0004-consistent-to-datetime-parsing.html. You can safely remove this argument.\n",
      "<magic-timeit>:1: UserWarning: The argument 'infer_datetime_format' is deprecated and will be removed in a future version. A strict version of it is now the default, see https://pandas.pydata.org/pdeps/0004-consistent-to-datetime-parsing.html. You can safely remove this argument.\n",
      "<magic-timeit>:1: UserWarning: The argument 'infer_datetime_format' is deprecated and will be removed in a future version. A strict version of it is now the default, see https://pandas.pydata.org/pdeps/0004-consistent-to-datetime-parsing.html. You can safely remove this argument.\n",
      "<magic-timeit>:1: UserWarning: The argument 'infer_datetime_format' is deprecated and will be removed in a future version. A strict version of it is now the default, see https://pandas.pydata.org/pdeps/0004-consistent-to-datetime-parsing.html. You can safely remove this argument.\n",
      "<magic-timeit>:1: UserWarning: The argument 'infer_datetime_format' is deprecated and will be removed in a future version. A strict version of it is now the default, see https://pandas.pydata.org/pdeps/0004-consistent-to-datetime-parsing.html. You can safely remove this argument.\n",
      "<magic-timeit>:1: UserWarning: The argument 'infer_datetime_format' is deprecated and will be removed in a future version. A strict version of it is now the default, see https://pandas.pydata.org/pdeps/0004-consistent-to-datetime-parsing.html. You can safely remove this argument.\n",
      "<magic-timeit>:1: UserWarning: The argument 'infer_datetime_format' is deprecated and will be removed in a future version. A strict version of it is now the default, see https://pandas.pydata.org/pdeps/0004-consistent-to-datetime-parsing.html. You can safely remove this argument.\n",
      "<magic-timeit>:1: UserWarning: The argument 'infer_datetime_format' is deprecated and will be removed in a future version. A strict version of it is now the default, see https://pandas.pydata.org/pdeps/0004-consistent-to-datetime-parsing.html. You can safely remove this argument.\n",
      "<magic-timeit>:1: UserWarning: The argument 'infer_datetime_format' is deprecated and will be removed in a future version. A strict version of it is now the default, see https://pandas.pydata.org/pdeps/0004-consistent-to-datetime-parsing.html. You can safely remove this argument.\n",
      "<magic-timeit>:1: UserWarning: The argument 'infer_datetime_format' is deprecated and will be removed in a future version. A strict version of it is now the default, see https://pandas.pydata.org/pdeps/0004-consistent-to-datetime-parsing.html. You can safely remove this argument.\n",
      "<magic-timeit>:1: UserWarning: The argument 'infer_datetime_format' is deprecated and will be removed in a future version. A strict version of it is now the default, see https://pandas.pydata.org/pdeps/0004-consistent-to-datetime-parsing.html. You can safely remove this argument.\n",
      "<magic-timeit>:1: UserWarning: The argument 'infer_datetime_format' is deprecated and will be removed in a future version. A strict version of it is now the default, see https://pandas.pydata.org/pdeps/0004-consistent-to-datetime-parsing.html. You can safely remove this argument.\n",
      "<magic-timeit>:1: UserWarning: The argument 'infer_datetime_format' is deprecated and will be removed in a future version. A strict version of it is now the default, see https://pandas.pydata.org/pdeps/0004-consistent-to-datetime-parsing.html. You can safely remove this argument.\n",
      "<magic-timeit>:1: UserWarning: The argument 'infer_datetime_format' is deprecated and will be removed in a future version. A strict version of it is now the default, see https://pandas.pydata.org/pdeps/0004-consistent-to-datetime-parsing.html. You can safely remove this argument.\n",
      "<magic-timeit>:1: UserWarning: The argument 'infer_datetime_format' is deprecated and will be removed in a future version. A strict version of it is now the default, see https://pandas.pydata.org/pdeps/0004-consistent-to-datetime-parsing.html. You can safely remove this argument.\n",
      "<magic-timeit>:1: UserWarning: The argument 'infer_datetime_format' is deprecated and will be removed in a future version. A strict version of it is now the default, see https://pandas.pydata.org/pdeps/0004-consistent-to-datetime-parsing.html. You can safely remove this argument.\n",
      "<magic-timeit>:1: UserWarning: The argument 'infer_datetime_format' is deprecated and will be removed in a future version. A strict version of it is now the default, see https://pandas.pydata.org/pdeps/0004-consistent-to-datetime-parsing.html. You can safely remove this argument.\n",
      "<magic-timeit>:1: UserWarning: The argument 'infer_datetime_format' is deprecated and will be removed in a future version. A strict version of it is now the default, see https://pandas.pydata.org/pdeps/0004-consistent-to-datetime-parsing.html. You can safely remove this argument.\n",
      "<magic-timeit>:1: UserWarning: The argument 'infer_datetime_format' is deprecated and will be removed in a future version. A strict version of it is now the default, see https://pandas.pydata.org/pdeps/0004-consistent-to-datetime-parsing.html. You can safely remove this argument.\n",
      "<magic-timeit>:1: UserWarning: The argument 'infer_datetime_format' is deprecated and will be removed in a future version. A strict version of it is now the default, see https://pandas.pydata.org/pdeps/0004-consistent-to-datetime-parsing.html. You can safely remove this argument.\n",
      "<magic-timeit>:1: UserWarning: The argument 'infer_datetime_format' is deprecated and will be removed in a future version. A strict version of it is now the default, see https://pandas.pydata.org/pdeps/0004-consistent-to-datetime-parsing.html. You can safely remove this argument.\n",
      "<magic-timeit>:1: UserWarning: The argument 'infer_datetime_format' is deprecated and will be removed in a future version. A strict version of it is now the default, see https://pandas.pydata.org/pdeps/0004-consistent-to-datetime-parsing.html. You can safely remove this argument.\n",
      "<magic-timeit>:1: UserWarning: The argument 'infer_datetime_format' is deprecated and will be removed in a future version. A strict version of it is now the default, see https://pandas.pydata.org/pdeps/0004-consistent-to-datetime-parsing.html. You can safely remove this argument.\n",
      "<magic-timeit>:1: UserWarning: The argument 'infer_datetime_format' is deprecated and will be removed in a future version. A strict version of it is now the default, see https://pandas.pydata.org/pdeps/0004-consistent-to-datetime-parsing.html. You can safely remove this argument.\n",
      "<magic-timeit>:1: UserWarning: The argument 'infer_datetime_format' is deprecated and will be removed in a future version. A strict version of it is now the default, see https://pandas.pydata.org/pdeps/0004-consistent-to-datetime-parsing.html. You can safely remove this argument.\n",
      "<magic-timeit>:1: UserWarning: The argument 'infer_datetime_format' is deprecated and will be removed in a future version. A strict version of it is now the default, see https://pandas.pydata.org/pdeps/0004-consistent-to-datetime-parsing.html. You can safely remove this argument.\n",
      "<magic-timeit>:1: UserWarning: The argument 'infer_datetime_format' is deprecated and will be removed in a future version. A strict version of it is now the default, see https://pandas.pydata.org/pdeps/0004-consistent-to-datetime-parsing.html. You can safely remove this argument.\n",
      "<magic-timeit>:1: UserWarning: The argument 'infer_datetime_format' is deprecated and will be removed in a future version. A strict version of it is now the default, see https://pandas.pydata.org/pdeps/0004-consistent-to-datetime-parsing.html. You can safely remove this argument.\n",
      "<magic-timeit>:1: UserWarning: The argument 'infer_datetime_format' is deprecated and will be removed in a future version. A strict version of it is now the default, see https://pandas.pydata.org/pdeps/0004-consistent-to-datetime-parsing.html. You can safely remove this argument.\n",
      "<magic-timeit>:1: UserWarning: The argument 'infer_datetime_format' is deprecated and will be removed in a future version. A strict version of it is now the default, see https://pandas.pydata.org/pdeps/0004-consistent-to-datetime-parsing.html. You can safely remove this argument.\n",
      "<magic-timeit>:1: UserWarning: The argument 'infer_datetime_format' is deprecated and will be removed in a future version. A strict version of it is now the default, see https://pandas.pydata.org/pdeps/0004-consistent-to-datetime-parsing.html. You can safely remove this argument.\n",
      "<magic-timeit>:1: UserWarning: The argument 'infer_datetime_format' is deprecated and will be removed in a future version. A strict version of it is now the default, see https://pandas.pydata.org/pdeps/0004-consistent-to-datetime-parsing.html. You can safely remove this argument.\n",
      "<magic-timeit>:1: UserWarning: The argument 'infer_datetime_format' is deprecated and will be removed in a future version. A strict version of it is now the default, see https://pandas.pydata.org/pdeps/0004-consistent-to-datetime-parsing.html. You can safely remove this argument.\n",
      "<magic-timeit>:1: UserWarning: The argument 'infer_datetime_format' is deprecated and will be removed in a future version. A strict version of it is now the default, see https://pandas.pydata.org/pdeps/0004-consistent-to-datetime-parsing.html. You can safely remove this argument.\n",
      "<magic-timeit>:1: UserWarning: The argument 'infer_datetime_format' is deprecated and will be removed in a future version. A strict version of it is now the default, see https://pandas.pydata.org/pdeps/0004-consistent-to-datetime-parsing.html. You can safely remove this argument.\n",
      "<magic-timeit>:1: UserWarning: The argument 'infer_datetime_format' is deprecated and will be removed in a future version. A strict version of it is now the default, see https://pandas.pydata.org/pdeps/0004-consistent-to-datetime-parsing.html. You can safely remove this argument.\n",
      "<magic-timeit>:1: UserWarning: The argument 'infer_datetime_format' is deprecated and will be removed in a future version. A strict version of it is now the default, see https://pandas.pydata.org/pdeps/0004-consistent-to-datetime-parsing.html. You can safely remove this argument.\n",
      "<magic-timeit>:1: UserWarning: The argument 'infer_datetime_format' is deprecated and will be removed in a future version. A strict version of it is now the default, see https://pandas.pydata.org/pdeps/0004-consistent-to-datetime-parsing.html. You can safely remove this argument.\n",
      "<magic-timeit>:1: UserWarning: The argument 'infer_datetime_format' is deprecated and will be removed in a future version. A strict version of it is now the default, see https://pandas.pydata.org/pdeps/0004-consistent-to-datetime-parsing.html. You can safely remove this argument.\n",
      "<magic-timeit>:1: UserWarning: The argument 'infer_datetime_format' is deprecated and will be removed in a future version. A strict version of it is now the default, see https://pandas.pydata.org/pdeps/0004-consistent-to-datetime-parsing.html. You can safely remove this argument.\n",
      "<magic-timeit>:1: UserWarning: The argument 'infer_datetime_format' is deprecated and will be removed in a future version. A strict version of it is now the default, see https://pandas.pydata.org/pdeps/0004-consistent-to-datetime-parsing.html. You can safely remove this argument.\n",
      "<magic-timeit>:1: UserWarning: The argument 'infer_datetime_format' is deprecated and will be removed in a future version. A strict version of it is now the default, see https://pandas.pydata.org/pdeps/0004-consistent-to-datetime-parsing.html. You can safely remove this argument.\n",
      "<magic-timeit>:1: UserWarning: The argument 'infer_datetime_format' is deprecated and will be removed in a future version. A strict version of it is now the default, see https://pandas.pydata.org/pdeps/0004-consistent-to-datetime-parsing.html. You can safely remove this argument.\n",
      "<magic-timeit>:1: UserWarning: The argument 'infer_datetime_format' is deprecated and will be removed in a future version. A strict version of it is now the default, see https://pandas.pydata.org/pdeps/0004-consistent-to-datetime-parsing.html. You can safely remove this argument.\n",
      "<magic-timeit>:1: UserWarning: The argument 'infer_datetime_format' is deprecated and will be removed in a future version. A strict version of it is now the default, see https://pandas.pydata.org/pdeps/0004-consistent-to-datetime-parsing.html. You can safely remove this argument.\n",
      "<magic-timeit>:1: UserWarning: The argument 'infer_datetime_format' is deprecated and will be removed in a future version. A strict version of it is now the default, see https://pandas.pydata.org/pdeps/0004-consistent-to-datetime-parsing.html. You can safely remove this argument.\n",
      "<magic-timeit>:1: UserWarning: The argument 'infer_datetime_format' is deprecated and will be removed in a future version. A strict version of it is now the default, see https://pandas.pydata.org/pdeps/0004-consistent-to-datetime-parsing.html. You can safely remove this argument.\n",
      "<magic-timeit>:1: UserWarning: The argument 'infer_datetime_format' is deprecated and will be removed in a future version. A strict version of it is now the default, see https://pandas.pydata.org/pdeps/0004-consistent-to-datetime-parsing.html. You can safely remove this argument.\n",
      "<magic-timeit>:1: UserWarning: The argument 'infer_datetime_format' is deprecated and will be removed in a future version. A strict version of it is now the default, see https://pandas.pydata.org/pdeps/0004-consistent-to-datetime-parsing.html. You can safely remove this argument.\n",
      "<magic-timeit>:1: UserWarning: The argument 'infer_datetime_format' is deprecated and will be removed in a future version. A strict version of it is now the default, see https://pandas.pydata.org/pdeps/0004-consistent-to-datetime-parsing.html. You can safely remove this argument.\n",
      "<magic-timeit>:1: UserWarning: The argument 'infer_datetime_format' is deprecated and will be removed in a future version. A strict version of it is now the default, see https://pandas.pydata.org/pdeps/0004-consistent-to-datetime-parsing.html. You can safely remove this argument.\n",
      "<magic-timeit>:1: UserWarning: The argument 'infer_datetime_format' is deprecated and will be removed in a future version. A strict version of it is now the default, see https://pandas.pydata.org/pdeps/0004-consistent-to-datetime-parsing.html. You can safely remove this argument.\n",
      "<magic-timeit>:1: UserWarning: The argument 'infer_datetime_format' is deprecated and will be removed in a future version. A strict version of it is now the default, see https://pandas.pydata.org/pdeps/0004-consistent-to-datetime-parsing.html. You can safely remove this argument.\n",
      "<magic-timeit>:1: UserWarning: The argument 'infer_datetime_format' is deprecated and will be removed in a future version. A strict version of it is now the default, see https://pandas.pydata.org/pdeps/0004-consistent-to-datetime-parsing.html. You can safely remove this argument.\n",
      "<magic-timeit>:1: UserWarning: The argument 'infer_datetime_format' is deprecated and will be removed in a future version. A strict version of it is now the default, see https://pandas.pydata.org/pdeps/0004-consistent-to-datetime-parsing.html. You can safely remove this argument.\n",
      "<magic-timeit>:1: UserWarning: The argument 'infer_datetime_format' is deprecated and will be removed in a future version. A strict version of it is now the default, see https://pandas.pydata.org/pdeps/0004-consistent-to-datetime-parsing.html. You can safely remove this argument.\n",
      "<magic-timeit>:1: UserWarning: The argument 'infer_datetime_format' is deprecated and will be removed in a future version. A strict version of it is now the default, see https://pandas.pydata.org/pdeps/0004-consistent-to-datetime-parsing.html. You can safely remove this argument.\n",
      "<magic-timeit>:1: UserWarning: The argument 'infer_datetime_format' is deprecated and will be removed in a future version. A strict version of it is now the default, see https://pandas.pydata.org/pdeps/0004-consistent-to-datetime-parsing.html. You can safely remove this argument.\n",
      "<magic-timeit>:1: UserWarning: The argument 'infer_datetime_format' is deprecated and will be removed in a future version. A strict version of it is now the default, see https://pandas.pydata.org/pdeps/0004-consistent-to-datetime-parsing.html. You can safely remove this argument.\n",
      "<magic-timeit>:1: UserWarning: The argument 'infer_datetime_format' is deprecated and will be removed in a future version. A strict version of it is now the default, see https://pandas.pydata.org/pdeps/0004-consistent-to-datetime-parsing.html. You can safely remove this argument.\n",
      "<magic-timeit>:1: UserWarning: The argument 'infer_datetime_format' is deprecated and will be removed in a future version. A strict version of it is now the default, see https://pandas.pydata.org/pdeps/0004-consistent-to-datetime-parsing.html. You can safely remove this argument.\n",
      "<magic-timeit>:1: UserWarning: The argument 'infer_datetime_format' is deprecated and will be removed in a future version. A strict version of it is now the default, see https://pandas.pydata.org/pdeps/0004-consistent-to-datetime-parsing.html. You can safely remove this argument.\n",
      "<magic-timeit>:1: UserWarning: The argument 'infer_datetime_format' is deprecated and will be removed in a future version. A strict version of it is now the default, see https://pandas.pydata.org/pdeps/0004-consistent-to-datetime-parsing.html. You can safely remove this argument.\n",
      "<magic-timeit>:1: UserWarning: The argument 'infer_datetime_format' is deprecated and will be removed in a future version. A strict version of it is now the default, see https://pandas.pydata.org/pdeps/0004-consistent-to-datetime-parsing.html. You can safely remove this argument.\n",
      "<magic-timeit>:1: UserWarning: The argument 'infer_datetime_format' is deprecated and will be removed in a future version. A strict version of it is now the default, see https://pandas.pydata.org/pdeps/0004-consistent-to-datetime-parsing.html. You can safely remove this argument.\n",
      "<magic-timeit>:1: UserWarning: The argument 'infer_datetime_format' is deprecated and will be removed in a future version. A strict version of it is now the default, see https://pandas.pydata.org/pdeps/0004-consistent-to-datetime-parsing.html. You can safely remove this argument.\n",
      "<magic-timeit>:1: UserWarning: The argument 'infer_datetime_format' is deprecated and will be removed in a future version. A strict version of it is now the default, see https://pandas.pydata.org/pdeps/0004-consistent-to-datetime-parsing.html. You can safely remove this argument.\n",
      "<magic-timeit>:1: UserWarning: The argument 'infer_datetime_format' is deprecated and will be removed in a future version. A strict version of it is now the default, see https://pandas.pydata.org/pdeps/0004-consistent-to-datetime-parsing.html. You can safely remove this argument.\n",
      "<magic-timeit>:1: UserWarning: The argument 'infer_datetime_format' is deprecated and will be removed in a future version. A strict version of it is now the default, see https://pandas.pydata.org/pdeps/0004-consistent-to-datetime-parsing.html. You can safely remove this argument.\n",
      "<magic-timeit>:1: UserWarning: The argument 'infer_datetime_format' is deprecated and will be removed in a future version. A strict version of it is now the default, see https://pandas.pydata.org/pdeps/0004-consistent-to-datetime-parsing.html. You can safely remove this argument.\n",
      "<magic-timeit>:1: UserWarning: The argument 'infer_datetime_format' is deprecated and will be removed in a future version. A strict version of it is now the default, see https://pandas.pydata.org/pdeps/0004-consistent-to-datetime-parsing.html. You can safely remove this argument.\n",
      "<magic-timeit>:1: UserWarning: The argument 'infer_datetime_format' is deprecated and will be removed in a future version. A strict version of it is now the default, see https://pandas.pydata.org/pdeps/0004-consistent-to-datetime-parsing.html. You can safely remove this argument.\n",
      "<magic-timeit>:1: UserWarning: The argument 'infer_datetime_format' is deprecated and will be removed in a future version. A strict version of it is now the default, see https://pandas.pydata.org/pdeps/0004-consistent-to-datetime-parsing.html. You can safely remove this argument.\n",
      "<magic-timeit>:1: UserWarning: The argument 'infer_datetime_format' is deprecated and will be removed in a future version. A strict version of it is now the default, see https://pandas.pydata.org/pdeps/0004-consistent-to-datetime-parsing.html. You can safely remove this argument.\n",
      "<magic-timeit>:1: UserWarning: The argument 'infer_datetime_format' is deprecated and will be removed in a future version. A strict version of it is now the default, see https://pandas.pydata.org/pdeps/0004-consistent-to-datetime-parsing.html. You can safely remove this argument.\n",
      "<magic-timeit>:1: UserWarning: The argument 'infer_datetime_format' is deprecated and will be removed in a future version. A strict version of it is now the default, see https://pandas.pydata.org/pdeps/0004-consistent-to-datetime-parsing.html. You can safely remove this argument.\n",
      "<magic-timeit>:1: UserWarning: The argument 'infer_datetime_format' is deprecated and will be removed in a future version. A strict version of it is now the default, see https://pandas.pydata.org/pdeps/0004-consistent-to-datetime-parsing.html. You can safely remove this argument.\n",
      "<magic-timeit>:1: UserWarning: The argument 'infer_datetime_format' is deprecated and will be removed in a future version. A strict version of it is now the default, see https://pandas.pydata.org/pdeps/0004-consistent-to-datetime-parsing.html. You can safely remove this argument.\n",
      "<magic-timeit>:1: UserWarning: The argument 'infer_datetime_format' is deprecated and will be removed in a future version. A strict version of it is now the default, see https://pandas.pydata.org/pdeps/0004-consistent-to-datetime-parsing.html. You can safely remove this argument.\n",
      "<magic-timeit>:1: UserWarning: The argument 'infer_datetime_format' is deprecated and will be removed in a future version. A strict version of it is now the default, see https://pandas.pydata.org/pdeps/0004-consistent-to-datetime-parsing.html. You can safely remove this argument.\n",
      "<magic-timeit>:1: UserWarning: The argument 'infer_datetime_format' is deprecated and will be removed in a future version. A strict version of it is now the default, see https://pandas.pydata.org/pdeps/0004-consistent-to-datetime-parsing.html. You can safely remove this argument.\n",
      "<magic-timeit>:1: UserWarning: The argument 'infer_datetime_format' is deprecated and will be removed in a future version. A strict version of it is now the default, see https://pandas.pydata.org/pdeps/0004-consistent-to-datetime-parsing.html. You can safely remove this argument.\n",
      "<magic-timeit>:1: UserWarning: The argument 'infer_datetime_format' is deprecated and will be removed in a future version. A strict version of it is now the default, see https://pandas.pydata.org/pdeps/0004-consistent-to-datetime-parsing.html. You can safely remove this argument.\n",
      "<magic-timeit>:1: UserWarning: The argument 'infer_datetime_format' is deprecated and will be removed in a future version. A strict version of it is now the default, see https://pandas.pydata.org/pdeps/0004-consistent-to-datetime-parsing.html. You can safely remove this argument.\n",
      "<magic-timeit>:1: UserWarning: The argument 'infer_datetime_format' is deprecated and will be removed in a future version. A strict version of it is now the default, see https://pandas.pydata.org/pdeps/0004-consistent-to-datetime-parsing.html. You can safely remove this argument.\n",
      "<magic-timeit>:1: UserWarning: The argument 'infer_datetime_format' is deprecated and will be removed in a future version. A strict version of it is now the default, see https://pandas.pydata.org/pdeps/0004-consistent-to-datetime-parsing.html. You can safely remove this argument.\n",
      "<magic-timeit>:1: UserWarning: The argument 'infer_datetime_format' is deprecated and will be removed in a future version. A strict version of it is now the default, see https://pandas.pydata.org/pdeps/0004-consistent-to-datetime-parsing.html. You can safely remove this argument.\n",
      "<magic-timeit>:1: UserWarning: The argument 'infer_datetime_format' is deprecated and will be removed in a future version. A strict version of it is now the default, see https://pandas.pydata.org/pdeps/0004-consistent-to-datetime-parsing.html. You can safely remove this argument.\n",
      "<magic-timeit>:1: UserWarning: The argument 'infer_datetime_format' is deprecated and will be removed in a future version. A strict version of it is now the default, see https://pandas.pydata.org/pdeps/0004-consistent-to-datetime-parsing.html. You can safely remove this argument.\n",
      "<magic-timeit>:1: UserWarning: The argument 'infer_datetime_format' is deprecated and will be removed in a future version. A strict version of it is now the default, see https://pandas.pydata.org/pdeps/0004-consistent-to-datetime-parsing.html. You can safely remove this argument.\n",
      "<magic-timeit>:1: UserWarning: The argument 'infer_datetime_format' is deprecated and will be removed in a future version. A strict version of it is now the default, see https://pandas.pydata.org/pdeps/0004-consistent-to-datetime-parsing.html. You can safely remove this argument.\n",
      "<magic-timeit>:1: UserWarning: The argument 'infer_datetime_format' is deprecated and will be removed in a future version. A strict version of it is now the default, see https://pandas.pydata.org/pdeps/0004-consistent-to-datetime-parsing.html. You can safely remove this argument.\n",
      "<magic-timeit>:1: UserWarning: The argument 'infer_datetime_format' is deprecated and will be removed in a future version. A strict version of it is now the default, see https://pandas.pydata.org/pdeps/0004-consistent-to-datetime-parsing.html. You can safely remove this argument.\n",
      "<magic-timeit>:1: UserWarning: The argument 'infer_datetime_format' is deprecated and will be removed in a future version. A strict version of it is now the default, see https://pandas.pydata.org/pdeps/0004-consistent-to-datetime-parsing.html. You can safely remove this argument.\n",
      "<magic-timeit>:1: UserWarning: The argument 'infer_datetime_format' is deprecated and will be removed in a future version. A strict version of it is now the default, see https://pandas.pydata.org/pdeps/0004-consistent-to-datetime-parsing.html. You can safely remove this argument.\n",
      "<magic-timeit>:1: UserWarning: The argument 'infer_datetime_format' is deprecated and will be removed in a future version. A strict version of it is now the default, see https://pandas.pydata.org/pdeps/0004-consistent-to-datetime-parsing.html. You can safely remove this argument.\n",
      "<magic-timeit>:1: UserWarning: The argument 'infer_datetime_format' is deprecated and will be removed in a future version. A strict version of it is now the default, see https://pandas.pydata.org/pdeps/0004-consistent-to-datetime-parsing.html. You can safely remove this argument.\n",
      "<magic-timeit>:1: UserWarning: The argument 'infer_datetime_format' is deprecated and will be removed in a future version. A strict version of it is now the default, see https://pandas.pydata.org/pdeps/0004-consistent-to-datetime-parsing.html. You can safely remove this argument.\n",
      "<magic-timeit>:1: UserWarning: The argument 'infer_datetime_format' is deprecated and will be removed in a future version. A strict version of it is now the default, see https://pandas.pydata.org/pdeps/0004-consistent-to-datetime-parsing.html. You can safely remove this argument.\n",
      "<magic-timeit>:1: UserWarning: The argument 'infer_datetime_format' is deprecated and will be removed in a future version. A strict version of it is now the default, see https://pandas.pydata.org/pdeps/0004-consistent-to-datetime-parsing.html. You can safely remove this argument.\n",
      "<magic-timeit>:1: UserWarning: The argument 'infer_datetime_format' is deprecated and will be removed in a future version. A strict version of it is now the default, see https://pandas.pydata.org/pdeps/0004-consistent-to-datetime-parsing.html. You can safely remove this argument.\n",
      "<magic-timeit>:1: UserWarning: The argument 'infer_datetime_format' is deprecated and will be removed in a future version. A strict version of it is now the default, see https://pandas.pydata.org/pdeps/0004-consistent-to-datetime-parsing.html. You can safely remove this argument.\n",
      "<magic-timeit>:1: UserWarning: The argument 'infer_datetime_format' is deprecated and will be removed in a future version. A strict version of it is now the default, see https://pandas.pydata.org/pdeps/0004-consistent-to-datetime-parsing.html. You can safely remove this argument.\n",
      "<magic-timeit>:1: UserWarning: The argument 'infer_datetime_format' is deprecated and will be removed in a future version. A strict version of it is now the default, see https://pandas.pydata.org/pdeps/0004-consistent-to-datetime-parsing.html. You can safely remove this argument.\n",
      "<magic-timeit>:1: UserWarning: The argument 'infer_datetime_format' is deprecated and will be removed in a future version. A strict version of it is now the default, see https://pandas.pydata.org/pdeps/0004-consistent-to-datetime-parsing.html. You can safely remove this argument.\n",
      "<magic-timeit>:1: UserWarning: The argument 'infer_datetime_format' is deprecated and will be removed in a future version. A strict version of it is now the default, see https://pandas.pydata.org/pdeps/0004-consistent-to-datetime-parsing.html. You can safely remove this argument.\n",
      "<magic-timeit>:1: UserWarning: The argument 'infer_datetime_format' is deprecated and will be removed in a future version. A strict version of it is now the default, see https://pandas.pydata.org/pdeps/0004-consistent-to-datetime-parsing.html. You can safely remove this argument.\n",
      "<magic-timeit>:1: UserWarning: The argument 'infer_datetime_format' is deprecated and will be removed in a future version. A strict version of it is now the default, see https://pandas.pydata.org/pdeps/0004-consistent-to-datetime-parsing.html. You can safely remove this argument.\n",
      "<magic-timeit>:1: UserWarning: The argument 'infer_datetime_format' is deprecated and will be removed in a future version. A strict version of it is now the default, see https://pandas.pydata.org/pdeps/0004-consistent-to-datetime-parsing.html. You can safely remove this argument.\n",
      "<magic-timeit>:1: UserWarning: The argument 'infer_datetime_format' is deprecated and will be removed in a future version. A strict version of it is now the default, see https://pandas.pydata.org/pdeps/0004-consistent-to-datetime-parsing.html. You can safely remove this argument.\n",
      "<magic-timeit>:1: UserWarning: The argument 'infer_datetime_format' is deprecated and will be removed in a future version. A strict version of it is now the default, see https://pandas.pydata.org/pdeps/0004-consistent-to-datetime-parsing.html. You can safely remove this argument.\n",
      "<magic-timeit>:1: UserWarning: The argument 'infer_datetime_format' is deprecated and will be removed in a future version. A strict version of it is now the default, see https://pandas.pydata.org/pdeps/0004-consistent-to-datetime-parsing.html. You can safely remove this argument.\n",
      "<magic-timeit>:1: UserWarning: The argument 'infer_datetime_format' is deprecated and will be removed in a future version. A strict version of it is now the default, see https://pandas.pydata.org/pdeps/0004-consistent-to-datetime-parsing.html. You can safely remove this argument.\n",
      "<magic-timeit>:1: UserWarning: The argument 'infer_datetime_format' is deprecated and will be removed in a future version. A strict version of it is now the default, see https://pandas.pydata.org/pdeps/0004-consistent-to-datetime-parsing.html. You can safely remove this argument.\n",
      "<magic-timeit>:1: UserWarning: The argument 'infer_datetime_format' is deprecated and will be removed in a future version. A strict version of it is now the default, see https://pandas.pydata.org/pdeps/0004-consistent-to-datetime-parsing.html. You can safely remove this argument.\n",
      "<magic-timeit>:1: UserWarning: The argument 'infer_datetime_format' is deprecated and will be removed in a future version. A strict version of it is now the default, see https://pandas.pydata.org/pdeps/0004-consistent-to-datetime-parsing.html. You can safely remove this argument.\n",
      "<magic-timeit>:1: UserWarning: The argument 'infer_datetime_format' is deprecated and will be removed in a future version. A strict version of it is now the default, see https://pandas.pydata.org/pdeps/0004-consistent-to-datetime-parsing.html. You can safely remove this argument.\n",
      "<magic-timeit>:1: UserWarning: The argument 'infer_datetime_format' is deprecated and will be removed in a future version. A strict version of it is now the default, see https://pandas.pydata.org/pdeps/0004-consistent-to-datetime-parsing.html. You can safely remove this argument.\n",
      "<magic-timeit>:1: UserWarning: The argument 'infer_datetime_format' is deprecated and will be removed in a future version. A strict version of it is now the default, see https://pandas.pydata.org/pdeps/0004-consistent-to-datetime-parsing.html. You can safely remove this argument.\n",
      "<magic-timeit>:1: UserWarning: The argument 'infer_datetime_format' is deprecated and will be removed in a future version. A strict version of it is now the default, see https://pandas.pydata.org/pdeps/0004-consistent-to-datetime-parsing.html. You can safely remove this argument.\n",
      "<magic-timeit>:1: UserWarning: The argument 'infer_datetime_format' is deprecated and will be removed in a future version. A strict version of it is now the default, see https://pandas.pydata.org/pdeps/0004-consistent-to-datetime-parsing.html. You can safely remove this argument.\n",
      "<magic-timeit>:1: UserWarning: The argument 'infer_datetime_format' is deprecated and will be removed in a future version. A strict version of it is now the default, see https://pandas.pydata.org/pdeps/0004-consistent-to-datetime-parsing.html. You can safely remove this argument.\n",
      "<magic-timeit>:1: UserWarning: The argument 'infer_datetime_format' is deprecated and will be removed in a future version. A strict version of it is now the default, see https://pandas.pydata.org/pdeps/0004-consistent-to-datetime-parsing.html. You can safely remove this argument.\n",
      "<magic-timeit>:1: UserWarning: The argument 'infer_datetime_format' is deprecated and will be removed in a future version. A strict version of it is now the default, see https://pandas.pydata.org/pdeps/0004-consistent-to-datetime-parsing.html. You can safely remove this argument.\n",
      "<magic-timeit>:1: UserWarning: The argument 'infer_datetime_format' is deprecated and will be removed in a future version. A strict version of it is now the default, see https://pandas.pydata.org/pdeps/0004-consistent-to-datetime-parsing.html. You can safely remove this argument.\n",
      "<magic-timeit>:1: UserWarning: The argument 'infer_datetime_format' is deprecated and will be removed in a future version. A strict version of it is now the default, see https://pandas.pydata.org/pdeps/0004-consistent-to-datetime-parsing.html. You can safely remove this argument.\n",
      "<magic-timeit>:1: UserWarning: The argument 'infer_datetime_format' is deprecated and will be removed in a future version. A strict version of it is now the default, see https://pandas.pydata.org/pdeps/0004-consistent-to-datetime-parsing.html. You can safely remove this argument.\n",
      "<magic-timeit>:1: UserWarning: The argument 'infer_datetime_format' is deprecated and will be removed in a future version. A strict version of it is now the default, see https://pandas.pydata.org/pdeps/0004-consistent-to-datetime-parsing.html. You can safely remove this argument.\n",
      "<magic-timeit>:1: UserWarning: The argument 'infer_datetime_format' is deprecated and will be removed in a future version. A strict version of it is now the default, see https://pandas.pydata.org/pdeps/0004-consistent-to-datetime-parsing.html. You can safely remove this argument.\n",
      "<magic-timeit>:1: UserWarning: The argument 'infer_datetime_format' is deprecated and will be removed in a future version. A strict version of it is now the default, see https://pandas.pydata.org/pdeps/0004-consistent-to-datetime-parsing.html. You can safely remove this argument.\n",
      "<magic-timeit>:1: UserWarning: The argument 'infer_datetime_format' is deprecated and will be removed in a future version. A strict version of it is now the default, see https://pandas.pydata.org/pdeps/0004-consistent-to-datetime-parsing.html. You can safely remove this argument.\n",
      "<magic-timeit>:1: UserWarning: The argument 'infer_datetime_format' is deprecated and will be removed in a future version. A strict version of it is now the default, see https://pandas.pydata.org/pdeps/0004-consistent-to-datetime-parsing.html. You can safely remove this argument.\n",
      "<magic-timeit>:1: UserWarning: The argument 'infer_datetime_format' is deprecated and will be removed in a future version. A strict version of it is now the default, see https://pandas.pydata.org/pdeps/0004-consistent-to-datetime-parsing.html. You can safely remove this argument.\n",
      "<magic-timeit>:1: UserWarning: The argument 'infer_datetime_format' is deprecated and will be removed in a future version. A strict version of it is now the default, see https://pandas.pydata.org/pdeps/0004-consistent-to-datetime-parsing.html. You can safely remove this argument.\n",
      "<magic-timeit>:1: UserWarning: The argument 'infer_datetime_format' is deprecated and will be removed in a future version. A strict version of it is now the default, see https://pandas.pydata.org/pdeps/0004-consistent-to-datetime-parsing.html. You can safely remove this argument.\n",
      "<magic-timeit>:1: UserWarning: The argument 'infer_datetime_format' is deprecated and will be removed in a future version. A strict version of it is now the default, see https://pandas.pydata.org/pdeps/0004-consistent-to-datetime-parsing.html. You can safely remove this argument.\n",
      "<magic-timeit>:1: UserWarning: The argument 'infer_datetime_format' is deprecated and will be removed in a future version. A strict version of it is now the default, see https://pandas.pydata.org/pdeps/0004-consistent-to-datetime-parsing.html. You can safely remove this argument.\n",
      "<magic-timeit>:1: UserWarning: The argument 'infer_datetime_format' is deprecated and will be removed in a future version. A strict version of it is now the default, see https://pandas.pydata.org/pdeps/0004-consistent-to-datetime-parsing.html. You can safely remove this argument.\n",
      "<magic-timeit>:1: UserWarning: The argument 'infer_datetime_format' is deprecated and will be removed in a future version. A strict version of it is now the default, see https://pandas.pydata.org/pdeps/0004-consistent-to-datetime-parsing.html. You can safely remove this argument.\n",
      "<magic-timeit>:1: UserWarning: The argument 'infer_datetime_format' is deprecated and will be removed in a future version. A strict version of it is now the default, see https://pandas.pydata.org/pdeps/0004-consistent-to-datetime-parsing.html. You can safely remove this argument.\n",
      "<magic-timeit>:1: UserWarning: The argument 'infer_datetime_format' is deprecated and will be removed in a future version. A strict version of it is now the default, see https://pandas.pydata.org/pdeps/0004-consistent-to-datetime-parsing.html. You can safely remove this argument.\n",
      "<magic-timeit>:1: UserWarning: The argument 'infer_datetime_format' is deprecated and will be removed in a future version. A strict version of it is now the default, see https://pandas.pydata.org/pdeps/0004-consistent-to-datetime-parsing.html. You can safely remove this argument.\n",
      "<magic-timeit>:1: UserWarning: The argument 'infer_datetime_format' is deprecated and will be removed in a future version. A strict version of it is now the default, see https://pandas.pydata.org/pdeps/0004-consistent-to-datetime-parsing.html. You can safely remove this argument.\n",
      "<magic-timeit>:1: UserWarning: The argument 'infer_datetime_format' is deprecated and will be removed in a future version. A strict version of it is now the default, see https://pandas.pydata.org/pdeps/0004-consistent-to-datetime-parsing.html. You can safely remove this argument.\n",
      "<magic-timeit>:1: UserWarning: The argument 'infer_datetime_format' is deprecated and will be removed in a future version. A strict version of it is now the default, see https://pandas.pydata.org/pdeps/0004-consistent-to-datetime-parsing.html. You can safely remove this argument.\n",
      "<magic-timeit>:1: UserWarning: The argument 'infer_datetime_format' is deprecated and will be removed in a future version. A strict version of it is now the default, see https://pandas.pydata.org/pdeps/0004-consistent-to-datetime-parsing.html. You can safely remove this argument.\n",
      "<magic-timeit>:1: UserWarning: The argument 'infer_datetime_format' is deprecated and will be removed in a future version. A strict version of it is now the default, see https://pandas.pydata.org/pdeps/0004-consistent-to-datetime-parsing.html. You can safely remove this argument.\n",
      "<magic-timeit>:1: UserWarning: The argument 'infer_datetime_format' is deprecated and will be removed in a future version. A strict version of it is now the default, see https://pandas.pydata.org/pdeps/0004-consistent-to-datetime-parsing.html. You can safely remove this argument.\n",
      "<magic-timeit>:1: UserWarning: The argument 'infer_datetime_format' is deprecated and will be removed in a future version. A strict version of it is now the default, see https://pandas.pydata.org/pdeps/0004-consistent-to-datetime-parsing.html. You can safely remove this argument.\n",
      "<magic-timeit>:1: UserWarning: The argument 'infer_datetime_format' is deprecated and will be removed in a future version. A strict version of it is now the default, see https://pandas.pydata.org/pdeps/0004-consistent-to-datetime-parsing.html. You can safely remove this argument.\n",
      "<magic-timeit>:1: UserWarning: The argument 'infer_datetime_format' is deprecated and will be removed in a future version. A strict version of it is now the default, see https://pandas.pydata.org/pdeps/0004-consistent-to-datetime-parsing.html. You can safely remove this argument.\n",
      "<magic-timeit>:1: UserWarning: The argument 'infer_datetime_format' is deprecated and will be removed in a future version. A strict version of it is now the default, see https://pandas.pydata.org/pdeps/0004-consistent-to-datetime-parsing.html. You can safely remove this argument.\n",
      "<magic-timeit>:1: UserWarning: The argument 'infer_datetime_format' is deprecated and will be removed in a future version. A strict version of it is now the default, see https://pandas.pydata.org/pdeps/0004-consistent-to-datetime-parsing.html. You can safely remove this argument.\n",
      "<magic-timeit>:1: UserWarning: The argument 'infer_datetime_format' is deprecated and will be removed in a future version. A strict version of it is now the default, see https://pandas.pydata.org/pdeps/0004-consistent-to-datetime-parsing.html. You can safely remove this argument.\n",
      "<magic-timeit>:1: UserWarning: The argument 'infer_datetime_format' is deprecated and will be removed in a future version. A strict version of it is now the default, see https://pandas.pydata.org/pdeps/0004-consistent-to-datetime-parsing.html. You can safely remove this argument.\n",
      "<magic-timeit>:1: UserWarning: The argument 'infer_datetime_format' is deprecated and will be removed in a future version. A strict version of it is now the default, see https://pandas.pydata.org/pdeps/0004-consistent-to-datetime-parsing.html. You can safely remove this argument.\n",
      "<magic-timeit>:1: UserWarning: The argument 'infer_datetime_format' is deprecated and will be removed in a future version. A strict version of it is now the default, see https://pandas.pydata.org/pdeps/0004-consistent-to-datetime-parsing.html. You can safely remove this argument.\n",
      "<magic-timeit>:1: UserWarning: The argument 'infer_datetime_format' is deprecated and will be removed in a future version. A strict version of it is now the default, see https://pandas.pydata.org/pdeps/0004-consistent-to-datetime-parsing.html. You can safely remove this argument.\n",
      "<magic-timeit>:1: UserWarning: The argument 'infer_datetime_format' is deprecated and will be removed in a future version. A strict version of it is now the default, see https://pandas.pydata.org/pdeps/0004-consistent-to-datetime-parsing.html. You can safely remove this argument.\n",
      "<magic-timeit>:1: UserWarning: The argument 'infer_datetime_format' is deprecated and will be removed in a future version. A strict version of it is now the default, see https://pandas.pydata.org/pdeps/0004-consistent-to-datetime-parsing.html. You can safely remove this argument.\n",
      "<magic-timeit>:1: UserWarning: The argument 'infer_datetime_format' is deprecated and will be removed in a future version. A strict version of it is now the default, see https://pandas.pydata.org/pdeps/0004-consistent-to-datetime-parsing.html. You can safely remove this argument.\n",
      "<magic-timeit>:1: UserWarning: The argument 'infer_datetime_format' is deprecated and will be removed in a future version. A strict version of it is now the default, see https://pandas.pydata.org/pdeps/0004-consistent-to-datetime-parsing.html. You can safely remove this argument.\n",
      "<magic-timeit>:1: UserWarning: The argument 'infer_datetime_format' is deprecated and will be removed in a future version. A strict version of it is now the default, see https://pandas.pydata.org/pdeps/0004-consistent-to-datetime-parsing.html. You can safely remove this argument.\n",
      "<magic-timeit>:1: UserWarning: The argument 'infer_datetime_format' is deprecated and will be removed in a future version. A strict version of it is now the default, see https://pandas.pydata.org/pdeps/0004-consistent-to-datetime-parsing.html. You can safely remove this argument.\n",
      "<magic-timeit>:1: UserWarning: The argument 'infer_datetime_format' is deprecated and will be removed in a future version. A strict version of it is now the default, see https://pandas.pydata.org/pdeps/0004-consistent-to-datetime-parsing.html. You can safely remove this argument.\n",
      "<magic-timeit>:1: UserWarning: The argument 'infer_datetime_format' is deprecated and will be removed in a future version. A strict version of it is now the default, see https://pandas.pydata.org/pdeps/0004-consistent-to-datetime-parsing.html. You can safely remove this argument.\n",
      "<magic-timeit>:1: UserWarning: The argument 'infer_datetime_format' is deprecated and will be removed in a future version. A strict version of it is now the default, see https://pandas.pydata.org/pdeps/0004-consistent-to-datetime-parsing.html. You can safely remove this argument.\n",
      "<magic-timeit>:1: UserWarning: The argument 'infer_datetime_format' is deprecated and will be removed in a future version. A strict version of it is now the default, see https://pandas.pydata.org/pdeps/0004-consistent-to-datetime-parsing.html. You can safely remove this argument.\n",
      "<magic-timeit>:1: UserWarning: The argument 'infer_datetime_format' is deprecated and will be removed in a future version. A strict version of it is now the default, see https://pandas.pydata.org/pdeps/0004-consistent-to-datetime-parsing.html. You can safely remove this argument.\n",
      "<magic-timeit>:1: UserWarning: The argument 'infer_datetime_format' is deprecated and will be removed in a future version. A strict version of it is now the default, see https://pandas.pydata.org/pdeps/0004-consistent-to-datetime-parsing.html. You can safely remove this argument.\n",
      "<magic-timeit>:1: UserWarning: The argument 'infer_datetime_format' is deprecated and will be removed in a future version. A strict version of it is now the default, see https://pandas.pydata.org/pdeps/0004-consistent-to-datetime-parsing.html. You can safely remove this argument.\n",
      "<magic-timeit>:1: UserWarning: The argument 'infer_datetime_format' is deprecated and will be removed in a future version. A strict version of it is now the default, see https://pandas.pydata.org/pdeps/0004-consistent-to-datetime-parsing.html. You can safely remove this argument.\n",
      "<magic-timeit>:1: UserWarning: The argument 'infer_datetime_format' is deprecated and will be removed in a future version. A strict version of it is now the default, see https://pandas.pydata.org/pdeps/0004-consistent-to-datetime-parsing.html. You can safely remove this argument.\n",
      "<magic-timeit>:1: UserWarning: The argument 'infer_datetime_format' is deprecated and will be removed in a future version. A strict version of it is now the default, see https://pandas.pydata.org/pdeps/0004-consistent-to-datetime-parsing.html. You can safely remove this argument.\n",
      "<magic-timeit>:1: UserWarning: The argument 'infer_datetime_format' is deprecated and will be removed in a future version. A strict version of it is now the default, see https://pandas.pydata.org/pdeps/0004-consistent-to-datetime-parsing.html. You can safely remove this argument.\n",
      "<magic-timeit>:1: UserWarning: The argument 'infer_datetime_format' is deprecated and will be removed in a future version. A strict version of it is now the default, see https://pandas.pydata.org/pdeps/0004-consistent-to-datetime-parsing.html. You can safely remove this argument.\n",
      "<magic-timeit>:1: UserWarning: The argument 'infer_datetime_format' is deprecated and will be removed in a future version. A strict version of it is now the default, see https://pandas.pydata.org/pdeps/0004-consistent-to-datetime-parsing.html. You can safely remove this argument.\n",
      "<magic-timeit>:1: UserWarning: The argument 'infer_datetime_format' is deprecated and will be removed in a future version. A strict version of it is now the default, see https://pandas.pydata.org/pdeps/0004-consistent-to-datetime-parsing.html. You can safely remove this argument.\n",
      "<magic-timeit>:1: UserWarning: The argument 'infer_datetime_format' is deprecated and will be removed in a future version. A strict version of it is now the default, see https://pandas.pydata.org/pdeps/0004-consistent-to-datetime-parsing.html. You can safely remove this argument.\n",
      "<magic-timeit>:1: UserWarning: The argument 'infer_datetime_format' is deprecated and will be removed in a future version. A strict version of it is now the default, see https://pandas.pydata.org/pdeps/0004-consistent-to-datetime-parsing.html. You can safely remove this argument.\n",
      "<magic-timeit>:1: UserWarning: The argument 'infer_datetime_format' is deprecated and will be removed in a future version. A strict version of it is now the default, see https://pandas.pydata.org/pdeps/0004-consistent-to-datetime-parsing.html. You can safely remove this argument.\n",
      "<magic-timeit>:1: UserWarning: The argument 'infer_datetime_format' is deprecated and will be removed in a future version. A strict version of it is now the default, see https://pandas.pydata.org/pdeps/0004-consistent-to-datetime-parsing.html. You can safely remove this argument.\n",
      "<magic-timeit>:1: UserWarning: The argument 'infer_datetime_format' is deprecated and will be removed in a future version. A strict version of it is now the default, see https://pandas.pydata.org/pdeps/0004-consistent-to-datetime-parsing.html. You can safely remove this argument.\n",
      "<magic-timeit>:1: UserWarning: The argument 'infer_datetime_format' is deprecated and will be removed in a future version. A strict version of it is now the default, see https://pandas.pydata.org/pdeps/0004-consistent-to-datetime-parsing.html. You can safely remove this argument.\n",
      "<magic-timeit>:1: UserWarning: The argument 'infer_datetime_format' is deprecated and will be removed in a future version. A strict version of it is now the default, see https://pandas.pydata.org/pdeps/0004-consistent-to-datetime-parsing.html. You can safely remove this argument.\n",
      "<magic-timeit>:1: UserWarning: The argument 'infer_datetime_format' is deprecated and will be removed in a future version. A strict version of it is now the default, see https://pandas.pydata.org/pdeps/0004-consistent-to-datetime-parsing.html. You can safely remove this argument.\n",
      "<magic-timeit>:1: UserWarning: The argument 'infer_datetime_format' is deprecated and will be removed in a future version. A strict version of it is now the default, see https://pandas.pydata.org/pdeps/0004-consistent-to-datetime-parsing.html. You can safely remove this argument.\n",
      "<magic-timeit>:1: UserWarning: The argument 'infer_datetime_format' is deprecated and will be removed in a future version. A strict version of it is now the default, see https://pandas.pydata.org/pdeps/0004-consistent-to-datetime-parsing.html. You can safely remove this argument.\n",
      "<magic-timeit>:1: UserWarning: The argument 'infer_datetime_format' is deprecated and will be removed in a future version. A strict version of it is now the default, see https://pandas.pydata.org/pdeps/0004-consistent-to-datetime-parsing.html. You can safely remove this argument.\n",
      "<magic-timeit>:1: UserWarning: The argument 'infer_datetime_format' is deprecated and will be removed in a future version. A strict version of it is now the default, see https://pandas.pydata.org/pdeps/0004-consistent-to-datetime-parsing.html. You can safely remove this argument.\n",
      "<magic-timeit>:1: UserWarning: The argument 'infer_datetime_format' is deprecated and will be removed in a future version. A strict version of it is now the default, see https://pandas.pydata.org/pdeps/0004-consistent-to-datetime-parsing.html. You can safely remove this argument.\n",
      "<magic-timeit>:1: UserWarning: The argument 'infer_datetime_format' is deprecated and will be removed in a future version. A strict version of it is now the default, see https://pandas.pydata.org/pdeps/0004-consistent-to-datetime-parsing.html. You can safely remove this argument.\n",
      "<magic-timeit>:1: UserWarning: The argument 'infer_datetime_format' is deprecated and will be removed in a future version. A strict version of it is now the default, see https://pandas.pydata.org/pdeps/0004-consistent-to-datetime-parsing.html. You can safely remove this argument.\n",
      "<magic-timeit>:1: UserWarning: The argument 'infer_datetime_format' is deprecated and will be removed in a future version. A strict version of it is now the default, see https://pandas.pydata.org/pdeps/0004-consistent-to-datetime-parsing.html. You can safely remove this argument.\n",
      "<magic-timeit>:1: UserWarning: The argument 'infer_datetime_format' is deprecated and will be removed in a future version. A strict version of it is now the default, see https://pandas.pydata.org/pdeps/0004-consistent-to-datetime-parsing.html. You can safely remove this argument.\n",
      "<magic-timeit>:1: UserWarning: The argument 'infer_datetime_format' is deprecated and will be removed in a future version. A strict version of it is now the default, see https://pandas.pydata.org/pdeps/0004-consistent-to-datetime-parsing.html. You can safely remove this argument.\n",
      "<magic-timeit>:1: UserWarning: The argument 'infer_datetime_format' is deprecated and will be removed in a future version. A strict version of it is now the default, see https://pandas.pydata.org/pdeps/0004-consistent-to-datetime-parsing.html. You can safely remove this argument.\n",
      "<magic-timeit>:1: UserWarning: The argument 'infer_datetime_format' is deprecated and will be removed in a future version. A strict version of it is now the default, see https://pandas.pydata.org/pdeps/0004-consistent-to-datetime-parsing.html. You can safely remove this argument.\n",
      "<magic-timeit>:1: UserWarning: The argument 'infer_datetime_format' is deprecated and will be removed in a future version. A strict version of it is now the default, see https://pandas.pydata.org/pdeps/0004-consistent-to-datetime-parsing.html. You can safely remove this argument.\n",
      "<magic-timeit>:1: UserWarning: The argument 'infer_datetime_format' is deprecated and will be removed in a future version. A strict version of it is now the default, see https://pandas.pydata.org/pdeps/0004-consistent-to-datetime-parsing.html. You can safely remove this argument.\n",
      "<magic-timeit>:1: UserWarning: The argument 'infer_datetime_format' is deprecated and will be removed in a future version. A strict version of it is now the default, see https://pandas.pydata.org/pdeps/0004-consistent-to-datetime-parsing.html. You can safely remove this argument.\n",
      "<magic-timeit>:1: UserWarning: The argument 'infer_datetime_format' is deprecated and will be removed in a future version. A strict version of it is now the default, see https://pandas.pydata.org/pdeps/0004-consistent-to-datetime-parsing.html. You can safely remove this argument.\n",
      "<magic-timeit>:1: UserWarning: The argument 'infer_datetime_format' is deprecated and will be removed in a future version. A strict version of it is now the default, see https://pandas.pydata.org/pdeps/0004-consistent-to-datetime-parsing.html. You can safely remove this argument.\n",
      "<magic-timeit>:1: UserWarning: The argument 'infer_datetime_format' is deprecated and will be removed in a future version. A strict version of it is now the default, see https://pandas.pydata.org/pdeps/0004-consistent-to-datetime-parsing.html. You can safely remove this argument.\n",
      "<magic-timeit>:1: UserWarning: The argument 'infer_datetime_format' is deprecated and will be removed in a future version. A strict version of it is now the default, see https://pandas.pydata.org/pdeps/0004-consistent-to-datetime-parsing.html. You can safely remove this argument.\n",
      "<magic-timeit>:1: UserWarning: The argument 'infer_datetime_format' is deprecated and will be removed in a future version. A strict version of it is now the default, see https://pandas.pydata.org/pdeps/0004-consistent-to-datetime-parsing.html. You can safely remove this argument.\n",
      "<magic-timeit>:1: UserWarning: The argument 'infer_datetime_format' is deprecated and will be removed in a future version. A strict version of it is now the default, see https://pandas.pydata.org/pdeps/0004-consistent-to-datetime-parsing.html. You can safely remove this argument.\n",
      "<magic-timeit>:1: UserWarning: The argument 'infer_datetime_format' is deprecated and will be removed in a future version. A strict version of it is now the default, see https://pandas.pydata.org/pdeps/0004-consistent-to-datetime-parsing.html. You can safely remove this argument.\n",
      "<magic-timeit>:1: UserWarning: The argument 'infer_datetime_format' is deprecated and will be removed in a future version. A strict version of it is now the default, see https://pandas.pydata.org/pdeps/0004-consistent-to-datetime-parsing.html. You can safely remove this argument.\n",
      "<magic-timeit>:1: UserWarning: The argument 'infer_datetime_format' is deprecated and will be removed in a future version. A strict version of it is now the default, see https://pandas.pydata.org/pdeps/0004-consistent-to-datetime-parsing.html. You can safely remove this argument.\n",
      "<magic-timeit>:1: UserWarning: The argument 'infer_datetime_format' is deprecated and will be removed in a future version. A strict version of it is now the default, see https://pandas.pydata.org/pdeps/0004-consistent-to-datetime-parsing.html. You can safely remove this argument.\n",
      "<magic-timeit>:1: UserWarning: The argument 'infer_datetime_format' is deprecated and will be removed in a future version. A strict version of it is now the default, see https://pandas.pydata.org/pdeps/0004-consistent-to-datetime-parsing.html. You can safely remove this argument.\n",
      "<magic-timeit>:1: UserWarning: The argument 'infer_datetime_format' is deprecated and will be removed in a future version. A strict version of it is now the default, see https://pandas.pydata.org/pdeps/0004-consistent-to-datetime-parsing.html. You can safely remove this argument.\n",
      "<magic-timeit>:1: UserWarning: The argument 'infer_datetime_format' is deprecated and will be removed in a future version. A strict version of it is now the default, see https://pandas.pydata.org/pdeps/0004-consistent-to-datetime-parsing.html. You can safely remove this argument.\n",
      "<magic-timeit>:1: UserWarning: The argument 'infer_datetime_format' is deprecated and will be removed in a future version. A strict version of it is now the default, see https://pandas.pydata.org/pdeps/0004-consistent-to-datetime-parsing.html. You can safely remove this argument.\n",
      "<magic-timeit>:1: UserWarning: The argument 'infer_datetime_format' is deprecated and will be removed in a future version. A strict version of it is now the default, see https://pandas.pydata.org/pdeps/0004-consistent-to-datetime-parsing.html. You can safely remove this argument.\n",
      "<magic-timeit>:1: UserWarning: The argument 'infer_datetime_format' is deprecated and will be removed in a future version. A strict version of it is now the default, see https://pandas.pydata.org/pdeps/0004-consistent-to-datetime-parsing.html. You can safely remove this argument.\n",
      "<magic-timeit>:1: UserWarning: The argument 'infer_datetime_format' is deprecated and will be removed in a future version. A strict version of it is now the default, see https://pandas.pydata.org/pdeps/0004-consistent-to-datetime-parsing.html. You can safely remove this argument.\n",
      "<magic-timeit>:1: UserWarning: The argument 'infer_datetime_format' is deprecated and will be removed in a future version. A strict version of it is now the default, see https://pandas.pydata.org/pdeps/0004-consistent-to-datetime-parsing.html. You can safely remove this argument.\n",
      "<magic-timeit>:1: UserWarning: The argument 'infer_datetime_format' is deprecated and will be removed in a future version. A strict version of it is now the default, see https://pandas.pydata.org/pdeps/0004-consistent-to-datetime-parsing.html. You can safely remove this argument.\n",
      "<magic-timeit>:1: UserWarning: The argument 'infer_datetime_format' is deprecated and will be removed in a future version. A strict version of it is now the default, see https://pandas.pydata.org/pdeps/0004-consistent-to-datetime-parsing.html. You can safely remove this argument.\n",
      "<magic-timeit>:1: UserWarning: The argument 'infer_datetime_format' is deprecated and will be removed in a future version. A strict version of it is now the default, see https://pandas.pydata.org/pdeps/0004-consistent-to-datetime-parsing.html. You can safely remove this argument.\n",
      "<magic-timeit>:1: UserWarning: The argument 'infer_datetime_format' is deprecated and will be removed in a future version. A strict version of it is now the default, see https://pandas.pydata.org/pdeps/0004-consistent-to-datetime-parsing.html. You can safely remove this argument.\n",
      "<magic-timeit>:1: UserWarning: The argument 'infer_datetime_format' is deprecated and will be removed in a future version. A strict version of it is now the default, see https://pandas.pydata.org/pdeps/0004-consistent-to-datetime-parsing.html. You can safely remove this argument.\n",
      "<magic-timeit>:1: UserWarning: The argument 'infer_datetime_format' is deprecated and will be removed in a future version. A strict version of it is now the default, see https://pandas.pydata.org/pdeps/0004-consistent-to-datetime-parsing.html. You can safely remove this argument.\n",
      "<magic-timeit>:1: UserWarning: The argument 'infer_datetime_format' is deprecated and will be removed in a future version. A strict version of it is now the default, see https://pandas.pydata.org/pdeps/0004-consistent-to-datetime-parsing.html. You can safely remove this argument.\n",
      "<magic-timeit>:1: UserWarning: The argument 'infer_datetime_format' is deprecated and will be removed in a future version. A strict version of it is now the default, see https://pandas.pydata.org/pdeps/0004-consistent-to-datetime-parsing.html. You can safely remove this argument.\n",
      "<magic-timeit>:1: UserWarning: The argument 'infer_datetime_format' is deprecated and will be removed in a future version. A strict version of it is now the default, see https://pandas.pydata.org/pdeps/0004-consistent-to-datetime-parsing.html. You can safely remove this argument.\n",
      "<magic-timeit>:1: UserWarning: The argument 'infer_datetime_format' is deprecated and will be removed in a future version. A strict version of it is now the default, see https://pandas.pydata.org/pdeps/0004-consistent-to-datetime-parsing.html. You can safely remove this argument.\n",
      "<magic-timeit>:1: UserWarning: The argument 'infer_datetime_format' is deprecated and will be removed in a future version. A strict version of it is now the default, see https://pandas.pydata.org/pdeps/0004-consistent-to-datetime-parsing.html. You can safely remove this argument.\n",
      "<magic-timeit>:1: UserWarning: The argument 'infer_datetime_format' is deprecated and will be removed in a future version. A strict version of it is now the default, see https://pandas.pydata.org/pdeps/0004-consistent-to-datetime-parsing.html. You can safely remove this argument.\n",
      "<magic-timeit>:1: UserWarning: The argument 'infer_datetime_format' is deprecated and will be removed in a future version. A strict version of it is now the default, see https://pandas.pydata.org/pdeps/0004-consistent-to-datetime-parsing.html. You can safely remove this argument.\n",
      "<magic-timeit>:1: UserWarning: The argument 'infer_datetime_format' is deprecated and will be removed in a future version. A strict version of it is now the default, see https://pandas.pydata.org/pdeps/0004-consistent-to-datetime-parsing.html. You can safely remove this argument.\n",
      "<magic-timeit>:1: UserWarning: The argument 'infer_datetime_format' is deprecated and will be removed in a future version. A strict version of it is now the default, see https://pandas.pydata.org/pdeps/0004-consistent-to-datetime-parsing.html. You can safely remove this argument.\n",
      "<magic-timeit>:1: UserWarning: The argument 'infer_datetime_format' is deprecated and will be removed in a future version. A strict version of it is now the default, see https://pandas.pydata.org/pdeps/0004-consistent-to-datetime-parsing.html. You can safely remove this argument.\n",
      "<magic-timeit>:1: UserWarning: The argument 'infer_datetime_format' is deprecated and will be removed in a future version. A strict version of it is now the default, see https://pandas.pydata.org/pdeps/0004-consistent-to-datetime-parsing.html. You can safely remove this argument.\n",
      "<magic-timeit>:1: UserWarning: The argument 'infer_datetime_format' is deprecated and will be removed in a future version. A strict version of it is now the default, see https://pandas.pydata.org/pdeps/0004-consistent-to-datetime-parsing.html. You can safely remove this argument.\n",
      "<magic-timeit>:1: UserWarning: The argument 'infer_datetime_format' is deprecated and will be removed in a future version. A strict version of it is now the default, see https://pandas.pydata.org/pdeps/0004-consistent-to-datetime-parsing.html. You can safely remove this argument.\n",
      "<magic-timeit>:1: UserWarning: The argument 'infer_datetime_format' is deprecated and will be removed in a future version. A strict version of it is now the default, see https://pandas.pydata.org/pdeps/0004-consistent-to-datetime-parsing.html. You can safely remove this argument.\n",
      "<magic-timeit>:1: UserWarning: The argument 'infer_datetime_format' is deprecated and will be removed in a future version. A strict version of it is now the default, see https://pandas.pydata.org/pdeps/0004-consistent-to-datetime-parsing.html. You can safely remove this argument.\n",
      "<magic-timeit>:1: UserWarning: The argument 'infer_datetime_format' is deprecated and will be removed in a future version. A strict version of it is now the default, see https://pandas.pydata.org/pdeps/0004-consistent-to-datetime-parsing.html. You can safely remove this argument.\n",
      "<magic-timeit>:1: UserWarning: The argument 'infer_datetime_format' is deprecated and will be removed in a future version. A strict version of it is now the default, see https://pandas.pydata.org/pdeps/0004-consistent-to-datetime-parsing.html. You can safely remove this argument.\n",
      "<magic-timeit>:1: UserWarning: The argument 'infer_datetime_format' is deprecated and will be removed in a future version. A strict version of it is now the default, see https://pandas.pydata.org/pdeps/0004-consistent-to-datetime-parsing.html. You can safely remove this argument.\n",
      "<magic-timeit>:1: UserWarning: The argument 'infer_datetime_format' is deprecated and will be removed in a future version. A strict version of it is now the default, see https://pandas.pydata.org/pdeps/0004-consistent-to-datetime-parsing.html. You can safely remove this argument.\n",
      "<magic-timeit>:1: UserWarning: The argument 'infer_datetime_format' is deprecated and will be removed in a future version. A strict version of it is now the default, see https://pandas.pydata.org/pdeps/0004-consistent-to-datetime-parsing.html. You can safely remove this argument.\n",
      "<magic-timeit>:1: UserWarning: The argument 'infer_datetime_format' is deprecated and will be removed in a future version. A strict version of it is now the default, see https://pandas.pydata.org/pdeps/0004-consistent-to-datetime-parsing.html. You can safely remove this argument.\n",
      "<magic-timeit>:1: UserWarning: The argument 'infer_datetime_format' is deprecated and will be removed in a future version. A strict version of it is now the default, see https://pandas.pydata.org/pdeps/0004-consistent-to-datetime-parsing.html. You can safely remove this argument.\n",
      "<magic-timeit>:1: UserWarning: The argument 'infer_datetime_format' is deprecated and will be removed in a future version. A strict version of it is now the default, see https://pandas.pydata.org/pdeps/0004-consistent-to-datetime-parsing.html. You can safely remove this argument.\n",
      "<magic-timeit>:1: UserWarning: The argument 'infer_datetime_format' is deprecated and will be removed in a future version. A strict version of it is now the default, see https://pandas.pydata.org/pdeps/0004-consistent-to-datetime-parsing.html. You can safely remove this argument.\n",
      "<magic-timeit>:1: UserWarning: The argument 'infer_datetime_format' is deprecated and will be removed in a future version. A strict version of it is now the default, see https://pandas.pydata.org/pdeps/0004-consistent-to-datetime-parsing.html. You can safely remove this argument.\n",
      "<magic-timeit>:1: UserWarning: The argument 'infer_datetime_format' is deprecated and will be removed in a future version. A strict version of it is now the default, see https://pandas.pydata.org/pdeps/0004-consistent-to-datetime-parsing.html. You can safely remove this argument.\n",
      "<magic-timeit>:1: UserWarning: The argument 'infer_datetime_format' is deprecated and will be removed in a future version. A strict version of it is now the default, see https://pandas.pydata.org/pdeps/0004-consistent-to-datetime-parsing.html. You can safely remove this argument.\n",
      "<magic-timeit>:1: UserWarning: The argument 'infer_datetime_format' is deprecated and will be removed in a future version. A strict version of it is now the default, see https://pandas.pydata.org/pdeps/0004-consistent-to-datetime-parsing.html. You can safely remove this argument.\n",
      "<magic-timeit>:1: UserWarning: The argument 'infer_datetime_format' is deprecated and will be removed in a future version. A strict version of it is now the default, see https://pandas.pydata.org/pdeps/0004-consistent-to-datetime-parsing.html. You can safely remove this argument.\n",
      "<magic-timeit>:1: UserWarning: The argument 'infer_datetime_format' is deprecated and will be removed in a future version. A strict version of it is now the default, see https://pandas.pydata.org/pdeps/0004-consistent-to-datetime-parsing.html. You can safely remove this argument.\n",
      "<magic-timeit>:1: UserWarning: The argument 'infer_datetime_format' is deprecated and will be removed in a future version. A strict version of it is now the default, see https://pandas.pydata.org/pdeps/0004-consistent-to-datetime-parsing.html. You can safely remove this argument.\n",
      "<magic-timeit>:1: UserWarning: The argument 'infer_datetime_format' is deprecated and will be removed in a future version. A strict version of it is now the default, see https://pandas.pydata.org/pdeps/0004-consistent-to-datetime-parsing.html. You can safely remove this argument.\n",
      "<magic-timeit>:1: UserWarning: The argument 'infer_datetime_format' is deprecated and will be removed in a future version. A strict version of it is now the default, see https://pandas.pydata.org/pdeps/0004-consistent-to-datetime-parsing.html. You can safely remove this argument.\n",
      "<magic-timeit>:1: UserWarning: The argument 'infer_datetime_format' is deprecated and will be removed in a future version. A strict version of it is now the default, see https://pandas.pydata.org/pdeps/0004-consistent-to-datetime-parsing.html. You can safely remove this argument.\n",
      "<magic-timeit>:1: UserWarning: The argument 'infer_datetime_format' is deprecated and will be removed in a future version. A strict version of it is now the default, see https://pandas.pydata.org/pdeps/0004-consistent-to-datetime-parsing.html. You can safely remove this argument.\n",
      "<magic-timeit>:1: UserWarning: The argument 'infer_datetime_format' is deprecated and will be removed in a future version. A strict version of it is now the default, see https://pandas.pydata.org/pdeps/0004-consistent-to-datetime-parsing.html. You can safely remove this argument.\n",
      "<magic-timeit>:1: UserWarning: The argument 'infer_datetime_format' is deprecated and will be removed in a future version. A strict version of it is now the default, see https://pandas.pydata.org/pdeps/0004-consistent-to-datetime-parsing.html. You can safely remove this argument.\n",
      "<magic-timeit>:1: UserWarning: The argument 'infer_datetime_format' is deprecated and will be removed in a future version. A strict version of it is now the default, see https://pandas.pydata.org/pdeps/0004-consistent-to-datetime-parsing.html. You can safely remove this argument.\n",
      "<magic-timeit>:1: UserWarning: The argument 'infer_datetime_format' is deprecated and will be removed in a future version. A strict version of it is now the default, see https://pandas.pydata.org/pdeps/0004-consistent-to-datetime-parsing.html. You can safely remove this argument.\n",
      "<magic-timeit>:1: UserWarning: The argument 'infer_datetime_format' is deprecated and will be removed in a future version. A strict version of it is now the default, see https://pandas.pydata.org/pdeps/0004-consistent-to-datetime-parsing.html. You can safely remove this argument.\n",
      "<magic-timeit>:1: UserWarning: The argument 'infer_datetime_format' is deprecated and will be removed in a future version. A strict version of it is now the default, see https://pandas.pydata.org/pdeps/0004-consistent-to-datetime-parsing.html. You can safely remove this argument.\n",
      "<magic-timeit>:1: UserWarning: The argument 'infer_datetime_format' is deprecated and will be removed in a future version. A strict version of it is now the default, see https://pandas.pydata.org/pdeps/0004-consistent-to-datetime-parsing.html. You can safely remove this argument.\n",
      "<magic-timeit>:1: UserWarning: The argument 'infer_datetime_format' is deprecated and will be removed in a future version. A strict version of it is now the default, see https://pandas.pydata.org/pdeps/0004-consistent-to-datetime-parsing.html. You can safely remove this argument.\n",
      "<magic-timeit>:1: UserWarning: The argument 'infer_datetime_format' is deprecated and will be removed in a future version. A strict version of it is now the default, see https://pandas.pydata.org/pdeps/0004-consistent-to-datetime-parsing.html. You can safely remove this argument.\n",
      "<magic-timeit>:1: UserWarning: The argument 'infer_datetime_format' is deprecated and will be removed in a future version. A strict version of it is now the default, see https://pandas.pydata.org/pdeps/0004-consistent-to-datetime-parsing.html. You can safely remove this argument.\n",
      "<magic-timeit>:1: UserWarning: The argument 'infer_datetime_format' is deprecated and will be removed in a future version. A strict version of it is now the default, see https://pandas.pydata.org/pdeps/0004-consistent-to-datetime-parsing.html. You can safely remove this argument.\n",
      "<magic-timeit>:1: UserWarning: The argument 'infer_datetime_format' is deprecated and will be removed in a future version. A strict version of it is now the default, see https://pandas.pydata.org/pdeps/0004-consistent-to-datetime-parsing.html. You can safely remove this argument.\n",
      "<magic-timeit>:1: UserWarning: The argument 'infer_datetime_format' is deprecated and will be removed in a future version. A strict version of it is now the default, see https://pandas.pydata.org/pdeps/0004-consistent-to-datetime-parsing.html. You can safely remove this argument.\n",
      "<magic-timeit>:1: UserWarning: The argument 'infer_datetime_format' is deprecated and will be removed in a future version. A strict version of it is now the default, see https://pandas.pydata.org/pdeps/0004-consistent-to-datetime-parsing.html. You can safely remove this argument.\n",
      "<magic-timeit>:1: UserWarning: The argument 'infer_datetime_format' is deprecated and will be removed in a future version. A strict version of it is now the default, see https://pandas.pydata.org/pdeps/0004-consistent-to-datetime-parsing.html. You can safely remove this argument.\n",
      "<magic-timeit>:1: UserWarning: The argument 'infer_datetime_format' is deprecated and will be removed in a future version. A strict version of it is now the default, see https://pandas.pydata.org/pdeps/0004-consistent-to-datetime-parsing.html. You can safely remove this argument.\n",
      "<magic-timeit>:1: UserWarning: The argument 'infer_datetime_format' is deprecated and will be removed in a future version. A strict version of it is now the default, see https://pandas.pydata.org/pdeps/0004-consistent-to-datetime-parsing.html. You can safely remove this argument.\n",
      "<magic-timeit>:1: UserWarning: The argument 'infer_datetime_format' is deprecated and will be removed in a future version. A strict version of it is now the default, see https://pandas.pydata.org/pdeps/0004-consistent-to-datetime-parsing.html. You can safely remove this argument.\n",
      "<magic-timeit>:1: UserWarning: The argument 'infer_datetime_format' is deprecated and will be removed in a future version. A strict version of it is now the default, see https://pandas.pydata.org/pdeps/0004-consistent-to-datetime-parsing.html. You can safely remove this argument.\n",
      "<magic-timeit>:1: UserWarning: The argument 'infer_datetime_format' is deprecated and will be removed in a future version. A strict version of it is now the default, see https://pandas.pydata.org/pdeps/0004-consistent-to-datetime-parsing.html. You can safely remove this argument.\n",
      "<magic-timeit>:1: UserWarning: The argument 'infer_datetime_format' is deprecated and will be removed in a future version. A strict version of it is now the default, see https://pandas.pydata.org/pdeps/0004-consistent-to-datetime-parsing.html. You can safely remove this argument.\n",
      "<magic-timeit>:1: UserWarning: The argument 'infer_datetime_format' is deprecated and will be removed in a future version. A strict version of it is now the default, see https://pandas.pydata.org/pdeps/0004-consistent-to-datetime-parsing.html. You can safely remove this argument.\n",
      "<magic-timeit>:1: UserWarning: The argument 'infer_datetime_format' is deprecated and will be removed in a future version. A strict version of it is now the default, see https://pandas.pydata.org/pdeps/0004-consistent-to-datetime-parsing.html. You can safely remove this argument.\n",
      "<magic-timeit>:1: UserWarning: The argument 'infer_datetime_format' is deprecated and will be removed in a future version. A strict version of it is now the default, see https://pandas.pydata.org/pdeps/0004-consistent-to-datetime-parsing.html. You can safely remove this argument.\n",
      "<magic-timeit>:1: UserWarning: The argument 'infer_datetime_format' is deprecated and will be removed in a future version. A strict version of it is now the default, see https://pandas.pydata.org/pdeps/0004-consistent-to-datetime-parsing.html. You can safely remove this argument.\n",
      "<magic-timeit>:1: UserWarning: The argument 'infer_datetime_format' is deprecated and will be removed in a future version. A strict version of it is now the default, see https://pandas.pydata.org/pdeps/0004-consistent-to-datetime-parsing.html. You can safely remove this argument.\n",
      "<magic-timeit>:1: UserWarning: The argument 'infer_datetime_format' is deprecated and will be removed in a future version. A strict version of it is now the default, see https://pandas.pydata.org/pdeps/0004-consistent-to-datetime-parsing.html. You can safely remove this argument.\n",
      "<magic-timeit>:1: UserWarning: The argument 'infer_datetime_format' is deprecated and will be removed in a future version. A strict version of it is now the default, see https://pandas.pydata.org/pdeps/0004-consistent-to-datetime-parsing.html. You can safely remove this argument.\n",
      "<magic-timeit>:1: UserWarning: The argument 'infer_datetime_format' is deprecated and will be removed in a future version. A strict version of it is now the default, see https://pandas.pydata.org/pdeps/0004-consistent-to-datetime-parsing.html. You can safely remove this argument.\n",
      "<magic-timeit>:1: UserWarning: The argument 'infer_datetime_format' is deprecated and will be removed in a future version. A strict version of it is now the default, see https://pandas.pydata.org/pdeps/0004-consistent-to-datetime-parsing.html. You can safely remove this argument.\n",
      "<magic-timeit>:1: UserWarning: The argument 'infer_datetime_format' is deprecated and will be removed in a future version. A strict version of it is now the default, see https://pandas.pydata.org/pdeps/0004-consistent-to-datetime-parsing.html. You can safely remove this argument.\n",
      "<magic-timeit>:1: UserWarning: The argument 'infer_datetime_format' is deprecated and will be removed in a future version. A strict version of it is now the default, see https://pandas.pydata.org/pdeps/0004-consistent-to-datetime-parsing.html. You can safely remove this argument.\n",
      "<magic-timeit>:1: UserWarning: The argument 'infer_datetime_format' is deprecated and will be removed in a future version. A strict version of it is now the default, see https://pandas.pydata.org/pdeps/0004-consistent-to-datetime-parsing.html. You can safely remove this argument.\n",
      "<magic-timeit>:1: UserWarning: The argument 'infer_datetime_format' is deprecated and will be removed in a future version. A strict version of it is now the default, see https://pandas.pydata.org/pdeps/0004-consistent-to-datetime-parsing.html. You can safely remove this argument.\n",
      "<magic-timeit>:1: UserWarning: The argument 'infer_datetime_format' is deprecated and will be removed in a future version. A strict version of it is now the default, see https://pandas.pydata.org/pdeps/0004-consistent-to-datetime-parsing.html. You can safely remove this argument.\n",
      "<magic-timeit>:1: UserWarning: The argument 'infer_datetime_format' is deprecated and will be removed in a future version. A strict version of it is now the default, see https://pandas.pydata.org/pdeps/0004-consistent-to-datetime-parsing.html. You can safely remove this argument.\n",
      "<magic-timeit>:1: UserWarning: The argument 'infer_datetime_format' is deprecated and will be removed in a future version. A strict version of it is now the default, see https://pandas.pydata.org/pdeps/0004-consistent-to-datetime-parsing.html. You can safely remove this argument.\n",
      "<magic-timeit>:1: UserWarning: The argument 'infer_datetime_format' is deprecated and will be removed in a future version. A strict version of it is now the default, see https://pandas.pydata.org/pdeps/0004-consistent-to-datetime-parsing.html. You can safely remove this argument.\n",
      "<magic-timeit>:1: UserWarning: The argument 'infer_datetime_format' is deprecated and will be removed in a future version. A strict version of it is now the default, see https://pandas.pydata.org/pdeps/0004-consistent-to-datetime-parsing.html. You can safely remove this argument.\n",
      "<magic-timeit>:1: UserWarning: The argument 'infer_datetime_format' is deprecated and will be removed in a future version. A strict version of it is now the default, see https://pandas.pydata.org/pdeps/0004-consistent-to-datetime-parsing.html. You can safely remove this argument.\n",
      "<magic-timeit>:1: UserWarning: The argument 'infer_datetime_format' is deprecated and will be removed in a future version. A strict version of it is now the default, see https://pandas.pydata.org/pdeps/0004-consistent-to-datetime-parsing.html. You can safely remove this argument.\n",
      "<magic-timeit>:1: UserWarning: The argument 'infer_datetime_format' is deprecated and will be removed in a future version. A strict version of it is now the default, see https://pandas.pydata.org/pdeps/0004-consistent-to-datetime-parsing.html. You can safely remove this argument.\n",
      "<magic-timeit>:1: UserWarning: The argument 'infer_datetime_format' is deprecated and will be removed in a future version. A strict version of it is now the default, see https://pandas.pydata.org/pdeps/0004-consistent-to-datetime-parsing.html. You can safely remove this argument.\n",
      "<magic-timeit>:1: UserWarning: The argument 'infer_datetime_format' is deprecated and will be removed in a future version. A strict version of it is now the default, see https://pandas.pydata.org/pdeps/0004-consistent-to-datetime-parsing.html. You can safely remove this argument.\n",
      "<magic-timeit>:1: UserWarning: The argument 'infer_datetime_format' is deprecated and will be removed in a future version. A strict version of it is now the default, see https://pandas.pydata.org/pdeps/0004-consistent-to-datetime-parsing.html. You can safely remove this argument.\n",
      "<magic-timeit>:1: UserWarning: The argument 'infer_datetime_format' is deprecated and will be removed in a future version. A strict version of it is now the default, see https://pandas.pydata.org/pdeps/0004-consistent-to-datetime-parsing.html. You can safely remove this argument.\n",
      "<magic-timeit>:1: UserWarning: The argument 'infer_datetime_format' is deprecated and will be removed in a future version. A strict version of it is now the default, see https://pandas.pydata.org/pdeps/0004-consistent-to-datetime-parsing.html. You can safely remove this argument.\n",
      "<magic-timeit>:1: UserWarning: The argument 'infer_datetime_format' is deprecated and will be removed in a future version. A strict version of it is now the default, see https://pandas.pydata.org/pdeps/0004-consistent-to-datetime-parsing.html. You can safely remove this argument.\n",
      "<magic-timeit>:1: UserWarning: The argument 'infer_datetime_format' is deprecated and will be removed in a future version. A strict version of it is now the default, see https://pandas.pydata.org/pdeps/0004-consistent-to-datetime-parsing.html. You can safely remove this argument.\n",
      "<magic-timeit>:1: UserWarning: The argument 'infer_datetime_format' is deprecated and will be removed in a future version. A strict version of it is now the default, see https://pandas.pydata.org/pdeps/0004-consistent-to-datetime-parsing.html. You can safely remove this argument.\n",
      "<magic-timeit>:1: UserWarning: The argument 'infer_datetime_format' is deprecated and will be removed in a future version. A strict version of it is now the default, see https://pandas.pydata.org/pdeps/0004-consistent-to-datetime-parsing.html. You can safely remove this argument.\n",
      "<magic-timeit>:1: UserWarning: The argument 'infer_datetime_format' is deprecated and will be removed in a future version. A strict version of it is now the default, see https://pandas.pydata.org/pdeps/0004-consistent-to-datetime-parsing.html. You can safely remove this argument.\n",
      "<magic-timeit>:1: UserWarning: The argument 'infer_datetime_format' is deprecated and will be removed in a future version. A strict version of it is now the default, see https://pandas.pydata.org/pdeps/0004-consistent-to-datetime-parsing.html. You can safely remove this argument.\n",
      "<magic-timeit>:1: UserWarning: The argument 'infer_datetime_format' is deprecated and will be removed in a future version. A strict version of it is now the default, see https://pandas.pydata.org/pdeps/0004-consistent-to-datetime-parsing.html. You can safely remove this argument.\n",
      "<magic-timeit>:1: UserWarning: The argument 'infer_datetime_format' is deprecated and will be removed in a future version. A strict version of it is now the default, see https://pandas.pydata.org/pdeps/0004-consistent-to-datetime-parsing.html. You can safely remove this argument.\n",
      "<magic-timeit>:1: UserWarning: The argument 'infer_datetime_format' is deprecated and will be removed in a future version. A strict version of it is now the default, see https://pandas.pydata.org/pdeps/0004-consistent-to-datetime-parsing.html. You can safely remove this argument.\n",
      "<magic-timeit>:1: UserWarning: The argument 'infer_datetime_format' is deprecated and will be removed in a future version. A strict version of it is now the default, see https://pandas.pydata.org/pdeps/0004-consistent-to-datetime-parsing.html. You can safely remove this argument.\n",
      "<magic-timeit>:1: UserWarning: The argument 'infer_datetime_format' is deprecated and will be removed in a future version. A strict version of it is now the default, see https://pandas.pydata.org/pdeps/0004-consistent-to-datetime-parsing.html. You can safely remove this argument.\n",
      "<magic-timeit>:1: UserWarning: The argument 'infer_datetime_format' is deprecated and will be removed in a future version. A strict version of it is now the default, see https://pandas.pydata.org/pdeps/0004-consistent-to-datetime-parsing.html. You can safely remove this argument.\n",
      "<magic-timeit>:1: UserWarning: The argument 'infer_datetime_format' is deprecated and will be removed in a future version. A strict version of it is now the default, see https://pandas.pydata.org/pdeps/0004-consistent-to-datetime-parsing.html. You can safely remove this argument.\n",
      "<magic-timeit>:1: UserWarning: The argument 'infer_datetime_format' is deprecated and will be removed in a future version. A strict version of it is now the default, see https://pandas.pydata.org/pdeps/0004-consistent-to-datetime-parsing.html. You can safely remove this argument.\n",
      "<magic-timeit>:1: UserWarning: The argument 'infer_datetime_format' is deprecated and will be removed in a future version. A strict version of it is now the default, see https://pandas.pydata.org/pdeps/0004-consistent-to-datetime-parsing.html. You can safely remove this argument.\n",
      "<magic-timeit>:1: UserWarning: The argument 'infer_datetime_format' is deprecated and will be removed in a future version. A strict version of it is now the default, see https://pandas.pydata.org/pdeps/0004-consistent-to-datetime-parsing.html. You can safely remove this argument.\n",
      "<magic-timeit>:1: UserWarning: The argument 'infer_datetime_format' is deprecated and will be removed in a future version. A strict version of it is now the default, see https://pandas.pydata.org/pdeps/0004-consistent-to-datetime-parsing.html. You can safely remove this argument.\n",
      "<magic-timeit>:1: UserWarning: The argument 'infer_datetime_format' is deprecated and will be removed in a future version. A strict version of it is now the default, see https://pandas.pydata.org/pdeps/0004-consistent-to-datetime-parsing.html. You can safely remove this argument.\n",
      "<magic-timeit>:1: UserWarning: The argument 'infer_datetime_format' is deprecated and will be removed in a future version. A strict version of it is now the default, see https://pandas.pydata.org/pdeps/0004-consistent-to-datetime-parsing.html. You can safely remove this argument.\n",
      "<magic-timeit>:1: UserWarning: The argument 'infer_datetime_format' is deprecated and will be removed in a future version. A strict version of it is now the default, see https://pandas.pydata.org/pdeps/0004-consistent-to-datetime-parsing.html. You can safely remove this argument.\n",
      "<magic-timeit>:1: UserWarning: The argument 'infer_datetime_format' is deprecated and will be removed in a future version. A strict version of it is now the default, see https://pandas.pydata.org/pdeps/0004-consistent-to-datetime-parsing.html. You can safely remove this argument.\n",
      "<magic-timeit>:1: UserWarning: The argument 'infer_datetime_format' is deprecated and will be removed in a future version. A strict version of it is now the default, see https://pandas.pydata.org/pdeps/0004-consistent-to-datetime-parsing.html. You can safely remove this argument.\n",
      "<magic-timeit>:1: UserWarning: The argument 'infer_datetime_format' is deprecated and will be removed in a future version. A strict version of it is now the default, see https://pandas.pydata.org/pdeps/0004-consistent-to-datetime-parsing.html. You can safely remove this argument.\n",
      "<magic-timeit>:1: UserWarning: The argument 'infer_datetime_format' is deprecated and will be removed in a future version. A strict version of it is now the default, see https://pandas.pydata.org/pdeps/0004-consistent-to-datetime-parsing.html. You can safely remove this argument.\n",
      "<magic-timeit>:1: UserWarning: The argument 'infer_datetime_format' is deprecated and will be removed in a future version. A strict version of it is now the default, see https://pandas.pydata.org/pdeps/0004-consistent-to-datetime-parsing.html. You can safely remove this argument.\n",
      "<magic-timeit>:1: UserWarning: The argument 'infer_datetime_format' is deprecated and will be removed in a future version. A strict version of it is now the default, see https://pandas.pydata.org/pdeps/0004-consistent-to-datetime-parsing.html. You can safely remove this argument.\n",
      "<magic-timeit>:1: UserWarning: The argument 'infer_datetime_format' is deprecated and will be removed in a future version. A strict version of it is now the default, see https://pandas.pydata.org/pdeps/0004-consistent-to-datetime-parsing.html. You can safely remove this argument.\n",
      "<magic-timeit>:1: UserWarning: The argument 'infer_datetime_format' is deprecated and will be removed in a future version. A strict version of it is now the default, see https://pandas.pydata.org/pdeps/0004-consistent-to-datetime-parsing.html. You can safely remove this argument.\n",
      "<magic-timeit>:1: UserWarning: The argument 'infer_datetime_format' is deprecated and will be removed in a future version. A strict version of it is now the default, see https://pandas.pydata.org/pdeps/0004-consistent-to-datetime-parsing.html. You can safely remove this argument.\n",
      "<magic-timeit>:1: UserWarning: The argument 'infer_datetime_format' is deprecated and will be removed in a future version. A strict version of it is now the default, see https://pandas.pydata.org/pdeps/0004-consistent-to-datetime-parsing.html. You can safely remove this argument.\n",
      "<magic-timeit>:1: UserWarning: The argument 'infer_datetime_format' is deprecated and will be removed in a future version. A strict version of it is now the default, see https://pandas.pydata.org/pdeps/0004-consistent-to-datetime-parsing.html. You can safely remove this argument.\n",
      "<magic-timeit>:1: UserWarning: The argument 'infer_datetime_format' is deprecated and will be removed in a future version. A strict version of it is now the default, see https://pandas.pydata.org/pdeps/0004-consistent-to-datetime-parsing.html. You can safely remove this argument.\n",
      "<magic-timeit>:1: UserWarning: The argument 'infer_datetime_format' is deprecated and will be removed in a future version. A strict version of it is now the default, see https://pandas.pydata.org/pdeps/0004-consistent-to-datetime-parsing.html. You can safely remove this argument.\n",
      "<magic-timeit>:1: UserWarning: The argument 'infer_datetime_format' is deprecated and will be removed in a future version. A strict version of it is now the default, see https://pandas.pydata.org/pdeps/0004-consistent-to-datetime-parsing.html. You can safely remove this argument.\n",
      "<magic-timeit>:1: UserWarning: The argument 'infer_datetime_format' is deprecated and will be removed in a future version. A strict version of it is now the default, see https://pandas.pydata.org/pdeps/0004-consistent-to-datetime-parsing.html. You can safely remove this argument.\n",
      "<magic-timeit>:1: UserWarning: The argument 'infer_datetime_format' is deprecated and will be removed in a future version. A strict version of it is now the default, see https://pandas.pydata.org/pdeps/0004-consistent-to-datetime-parsing.html. You can safely remove this argument.\n",
      "<magic-timeit>:1: UserWarning: The argument 'infer_datetime_format' is deprecated and will be removed in a future version. A strict version of it is now the default, see https://pandas.pydata.org/pdeps/0004-consistent-to-datetime-parsing.html. You can safely remove this argument.\n",
      "<magic-timeit>:1: UserWarning: The argument 'infer_datetime_format' is deprecated and will be removed in a future version. A strict version of it is now the default, see https://pandas.pydata.org/pdeps/0004-consistent-to-datetime-parsing.html. You can safely remove this argument.\n",
      "<magic-timeit>:1: UserWarning: The argument 'infer_datetime_format' is deprecated and will be removed in a future version. A strict version of it is now the default, see https://pandas.pydata.org/pdeps/0004-consistent-to-datetime-parsing.html. You can safely remove this argument.\n",
      "<magic-timeit>:1: UserWarning: The argument 'infer_datetime_format' is deprecated and will be removed in a future version. A strict version of it is now the default, see https://pandas.pydata.org/pdeps/0004-consistent-to-datetime-parsing.html. You can safely remove this argument.\n",
      "<magic-timeit>:1: UserWarning: The argument 'infer_datetime_format' is deprecated and will be removed in a future version. A strict version of it is now the default, see https://pandas.pydata.org/pdeps/0004-consistent-to-datetime-parsing.html. You can safely remove this argument.\n",
      "<magic-timeit>:1: UserWarning: The argument 'infer_datetime_format' is deprecated and will be removed in a future version. A strict version of it is now the default, see https://pandas.pydata.org/pdeps/0004-consistent-to-datetime-parsing.html. You can safely remove this argument.\n",
      "<magic-timeit>:1: UserWarning: The argument 'infer_datetime_format' is deprecated and will be removed in a future version. A strict version of it is now the default, see https://pandas.pydata.org/pdeps/0004-consistent-to-datetime-parsing.html. You can safely remove this argument.\n",
      "<magic-timeit>:1: UserWarning: The argument 'infer_datetime_format' is deprecated and will be removed in a future version. A strict version of it is now the default, see https://pandas.pydata.org/pdeps/0004-consistent-to-datetime-parsing.html. You can safely remove this argument.\n",
      "<magic-timeit>:1: UserWarning: The argument 'infer_datetime_format' is deprecated and will be removed in a future version. A strict version of it is now the default, see https://pandas.pydata.org/pdeps/0004-consistent-to-datetime-parsing.html. You can safely remove this argument.\n",
      "<magic-timeit>:1: UserWarning: The argument 'infer_datetime_format' is deprecated and will be removed in a future version. A strict version of it is now the default, see https://pandas.pydata.org/pdeps/0004-consistent-to-datetime-parsing.html. You can safely remove this argument.\n",
      "<magic-timeit>:1: UserWarning: The argument 'infer_datetime_format' is deprecated and will be removed in a future version. A strict version of it is now the default, see https://pandas.pydata.org/pdeps/0004-consistent-to-datetime-parsing.html. You can safely remove this argument.\n",
      "<magic-timeit>:1: UserWarning: The argument 'infer_datetime_format' is deprecated and will be removed in a future version. A strict version of it is now the default, see https://pandas.pydata.org/pdeps/0004-consistent-to-datetime-parsing.html. You can safely remove this argument.\n",
      "<magic-timeit>:1: UserWarning: The argument 'infer_datetime_format' is deprecated and will be removed in a future version. A strict version of it is now the default, see https://pandas.pydata.org/pdeps/0004-consistent-to-datetime-parsing.html. You can safely remove this argument.\n",
      "<magic-timeit>:1: UserWarning: The argument 'infer_datetime_format' is deprecated and will be removed in a future version. A strict version of it is now the default, see https://pandas.pydata.org/pdeps/0004-consistent-to-datetime-parsing.html. You can safely remove this argument.\n",
      "<magic-timeit>:1: UserWarning: The argument 'infer_datetime_format' is deprecated and will be removed in a future version. A strict version of it is now the default, see https://pandas.pydata.org/pdeps/0004-consistent-to-datetime-parsing.html. You can safely remove this argument.\n",
      "<magic-timeit>:1: UserWarning: The argument 'infer_datetime_format' is deprecated and will be removed in a future version. A strict version of it is now the default, see https://pandas.pydata.org/pdeps/0004-consistent-to-datetime-parsing.html. You can safely remove this argument.\n",
      "<magic-timeit>:1: UserWarning: The argument 'infer_datetime_format' is deprecated and will be removed in a future version. A strict version of it is now the default, see https://pandas.pydata.org/pdeps/0004-consistent-to-datetime-parsing.html. You can safely remove this argument.\n",
      "<magic-timeit>:1: UserWarning: The argument 'infer_datetime_format' is deprecated and will be removed in a future version. A strict version of it is now the default, see https://pandas.pydata.org/pdeps/0004-consistent-to-datetime-parsing.html. You can safely remove this argument.\n",
      "<magic-timeit>:1: UserWarning: The argument 'infer_datetime_format' is deprecated and will be removed in a future version. A strict version of it is now the default, see https://pandas.pydata.org/pdeps/0004-consistent-to-datetime-parsing.html. You can safely remove this argument.\n",
      "<magic-timeit>:1: UserWarning: The argument 'infer_datetime_format' is deprecated and will be removed in a future version. A strict version of it is now the default, see https://pandas.pydata.org/pdeps/0004-consistent-to-datetime-parsing.html. You can safely remove this argument.\n",
      "<magic-timeit>:1: UserWarning: The argument 'infer_datetime_format' is deprecated and will be removed in a future version. A strict version of it is now the default, see https://pandas.pydata.org/pdeps/0004-consistent-to-datetime-parsing.html. You can safely remove this argument.\n",
      "<magic-timeit>:1: UserWarning: The argument 'infer_datetime_format' is deprecated and will be removed in a future version. A strict version of it is now the default, see https://pandas.pydata.org/pdeps/0004-consistent-to-datetime-parsing.html. You can safely remove this argument.\n",
      "<magic-timeit>:1: UserWarning: The argument 'infer_datetime_format' is deprecated and will be removed in a future version. A strict version of it is now the default, see https://pandas.pydata.org/pdeps/0004-consistent-to-datetime-parsing.html. You can safely remove this argument.\n",
      "<magic-timeit>:1: UserWarning: The argument 'infer_datetime_format' is deprecated and will be removed in a future version. A strict version of it is now the default, see https://pandas.pydata.org/pdeps/0004-consistent-to-datetime-parsing.html. You can safely remove this argument.\n",
      "<magic-timeit>:1: UserWarning: The argument 'infer_datetime_format' is deprecated and will be removed in a future version. A strict version of it is now the default, see https://pandas.pydata.org/pdeps/0004-consistent-to-datetime-parsing.html. You can safely remove this argument.\n",
      "<magic-timeit>:1: UserWarning: The argument 'infer_datetime_format' is deprecated and will be removed in a future version. A strict version of it is now the default, see https://pandas.pydata.org/pdeps/0004-consistent-to-datetime-parsing.html. You can safely remove this argument.\n",
      "<magic-timeit>:1: UserWarning: The argument 'infer_datetime_format' is deprecated and will be removed in a future version. A strict version of it is now the default, see https://pandas.pydata.org/pdeps/0004-consistent-to-datetime-parsing.html. You can safely remove this argument.\n",
      "<magic-timeit>:1: UserWarning: The argument 'infer_datetime_format' is deprecated and will be removed in a future version. A strict version of it is now the default, see https://pandas.pydata.org/pdeps/0004-consistent-to-datetime-parsing.html. You can safely remove this argument.\n",
      "<magic-timeit>:1: UserWarning: The argument 'infer_datetime_format' is deprecated and will be removed in a future version. A strict version of it is now the default, see https://pandas.pydata.org/pdeps/0004-consistent-to-datetime-parsing.html. You can safely remove this argument.\n",
      "<magic-timeit>:1: UserWarning: The argument 'infer_datetime_format' is deprecated and will be removed in a future version. A strict version of it is now the default, see https://pandas.pydata.org/pdeps/0004-consistent-to-datetime-parsing.html. You can safely remove this argument.\n",
      "<magic-timeit>:1: UserWarning: The argument 'infer_datetime_format' is deprecated and will be removed in a future version. A strict version of it is now the default, see https://pandas.pydata.org/pdeps/0004-consistent-to-datetime-parsing.html. You can safely remove this argument.\n",
      "<magic-timeit>:1: UserWarning: The argument 'infer_datetime_format' is deprecated and will be removed in a future version. A strict version of it is now the default, see https://pandas.pydata.org/pdeps/0004-consistent-to-datetime-parsing.html. You can safely remove this argument.\n",
      "<magic-timeit>:1: UserWarning: The argument 'infer_datetime_format' is deprecated and will be removed in a future version. A strict version of it is now the default, see https://pandas.pydata.org/pdeps/0004-consistent-to-datetime-parsing.html. You can safely remove this argument.\n",
      "<magic-timeit>:1: UserWarning: The argument 'infer_datetime_format' is deprecated and will be removed in a future version. A strict version of it is now the default, see https://pandas.pydata.org/pdeps/0004-consistent-to-datetime-parsing.html. You can safely remove this argument.\n",
      "<magic-timeit>:1: UserWarning: The argument 'infer_datetime_format' is deprecated and will be removed in a future version. A strict version of it is now the default, see https://pandas.pydata.org/pdeps/0004-consistent-to-datetime-parsing.html. You can safely remove this argument.\n",
      "<magic-timeit>:1: UserWarning: The argument 'infer_datetime_format' is deprecated and will be removed in a future version. A strict version of it is now the default, see https://pandas.pydata.org/pdeps/0004-consistent-to-datetime-parsing.html. You can safely remove this argument.\n",
      "<magic-timeit>:1: UserWarning: The argument 'infer_datetime_format' is deprecated and will be removed in a future version. A strict version of it is now the default, see https://pandas.pydata.org/pdeps/0004-consistent-to-datetime-parsing.html. You can safely remove this argument.\n",
      "<magic-timeit>:1: UserWarning: The argument 'infer_datetime_format' is deprecated and will be removed in a future version. A strict version of it is now the default, see https://pandas.pydata.org/pdeps/0004-consistent-to-datetime-parsing.html. You can safely remove this argument.\n",
      "<magic-timeit>:1: UserWarning: The argument 'infer_datetime_format' is deprecated and will be removed in a future version. A strict version of it is now the default, see https://pandas.pydata.org/pdeps/0004-consistent-to-datetime-parsing.html. You can safely remove this argument.\n",
      "<magic-timeit>:1: UserWarning: The argument 'infer_datetime_format' is deprecated and will be removed in a future version. A strict version of it is now the default, see https://pandas.pydata.org/pdeps/0004-consistent-to-datetime-parsing.html. You can safely remove this argument.\n",
      "<magic-timeit>:1: UserWarning: The argument 'infer_datetime_format' is deprecated and will be removed in a future version. A strict version of it is now the default, see https://pandas.pydata.org/pdeps/0004-consistent-to-datetime-parsing.html. You can safely remove this argument.\n",
      "<magic-timeit>:1: UserWarning: The argument 'infer_datetime_format' is deprecated and will be removed in a future version. A strict version of it is now the default, see https://pandas.pydata.org/pdeps/0004-consistent-to-datetime-parsing.html. You can safely remove this argument.\n",
      "<magic-timeit>:1: UserWarning: The argument 'infer_datetime_format' is deprecated and will be removed in a future version. A strict version of it is now the default, see https://pandas.pydata.org/pdeps/0004-consistent-to-datetime-parsing.html. You can safely remove this argument.\n",
      "<magic-timeit>:1: UserWarning: The argument 'infer_datetime_format' is deprecated and will be removed in a future version. A strict version of it is now the default, see https://pandas.pydata.org/pdeps/0004-consistent-to-datetime-parsing.html. You can safely remove this argument.\n",
      "<magic-timeit>:1: UserWarning: The argument 'infer_datetime_format' is deprecated and will be removed in a future version. A strict version of it is now the default, see https://pandas.pydata.org/pdeps/0004-consistent-to-datetime-parsing.html. You can safely remove this argument.\n",
      "<magic-timeit>:1: UserWarning: The argument 'infer_datetime_format' is deprecated and will be removed in a future version. A strict version of it is now the default, see https://pandas.pydata.org/pdeps/0004-consistent-to-datetime-parsing.html. You can safely remove this argument.\n",
      "<magic-timeit>:1: UserWarning: The argument 'infer_datetime_format' is deprecated and will be removed in a future version. A strict version of it is now the default, see https://pandas.pydata.org/pdeps/0004-consistent-to-datetime-parsing.html. You can safely remove this argument.\n",
      "<magic-timeit>:1: UserWarning: The argument 'infer_datetime_format' is deprecated and will be removed in a future version. A strict version of it is now the default, see https://pandas.pydata.org/pdeps/0004-consistent-to-datetime-parsing.html. You can safely remove this argument.\n",
      "<magic-timeit>:1: UserWarning: The argument 'infer_datetime_format' is deprecated and will be removed in a future version. A strict version of it is now the default, see https://pandas.pydata.org/pdeps/0004-consistent-to-datetime-parsing.html. You can safely remove this argument.\n",
      "<magic-timeit>:1: UserWarning: The argument 'infer_datetime_format' is deprecated and will be removed in a future version. A strict version of it is now the default, see https://pandas.pydata.org/pdeps/0004-consistent-to-datetime-parsing.html. You can safely remove this argument.\n",
      "<magic-timeit>:1: UserWarning: The argument 'infer_datetime_format' is deprecated and will be removed in a future version. A strict version of it is now the default, see https://pandas.pydata.org/pdeps/0004-consistent-to-datetime-parsing.html. You can safely remove this argument.\n",
      "<magic-timeit>:1: UserWarning: The argument 'infer_datetime_format' is deprecated and will be removed in a future version. A strict version of it is now the default, see https://pandas.pydata.org/pdeps/0004-consistent-to-datetime-parsing.html. You can safely remove this argument.\n",
      "<magic-timeit>:1: UserWarning: The argument 'infer_datetime_format' is deprecated and will be removed in a future version. A strict version of it is now the default, see https://pandas.pydata.org/pdeps/0004-consistent-to-datetime-parsing.html. You can safely remove this argument.\n",
      "<magic-timeit>:1: UserWarning: The argument 'infer_datetime_format' is deprecated and will be removed in a future version. A strict version of it is now the default, see https://pandas.pydata.org/pdeps/0004-consistent-to-datetime-parsing.html. You can safely remove this argument.\n",
      "<magic-timeit>:1: UserWarning: The argument 'infer_datetime_format' is deprecated and will be removed in a future version. A strict version of it is now the default, see https://pandas.pydata.org/pdeps/0004-consistent-to-datetime-parsing.html. You can safely remove this argument.\n",
      "<magic-timeit>:1: UserWarning: The argument 'infer_datetime_format' is deprecated and will be removed in a future version. A strict version of it is now the default, see https://pandas.pydata.org/pdeps/0004-consistent-to-datetime-parsing.html. You can safely remove this argument.\n",
      "<magic-timeit>:1: UserWarning: The argument 'infer_datetime_format' is deprecated and will be removed in a future version. A strict version of it is now the default, see https://pandas.pydata.org/pdeps/0004-consistent-to-datetime-parsing.html. You can safely remove this argument.\n",
      "<magic-timeit>:1: UserWarning: The argument 'infer_datetime_format' is deprecated and will be removed in a future version. A strict version of it is now the default, see https://pandas.pydata.org/pdeps/0004-consistent-to-datetime-parsing.html. You can safely remove this argument.\n",
      "<magic-timeit>:1: UserWarning: The argument 'infer_datetime_format' is deprecated and will be removed in a future version. A strict version of it is now the default, see https://pandas.pydata.org/pdeps/0004-consistent-to-datetime-parsing.html. You can safely remove this argument.\n",
      "<magic-timeit>:1: UserWarning: The argument 'infer_datetime_format' is deprecated and will be removed in a future version. A strict version of it is now the default, see https://pandas.pydata.org/pdeps/0004-consistent-to-datetime-parsing.html. You can safely remove this argument.\n",
      "<magic-timeit>:1: UserWarning: The argument 'infer_datetime_format' is deprecated and will be removed in a future version. A strict version of it is now the default, see https://pandas.pydata.org/pdeps/0004-consistent-to-datetime-parsing.html. You can safely remove this argument.\n",
      "<magic-timeit>:1: UserWarning: The argument 'infer_datetime_format' is deprecated and will be removed in a future version. A strict version of it is now the default, see https://pandas.pydata.org/pdeps/0004-consistent-to-datetime-parsing.html. You can safely remove this argument.\n",
      "<magic-timeit>:1: UserWarning: The argument 'infer_datetime_format' is deprecated and will be removed in a future version. A strict version of it is now the default, see https://pandas.pydata.org/pdeps/0004-consistent-to-datetime-parsing.html. You can safely remove this argument.\n",
      "<magic-timeit>:1: UserWarning: The argument 'infer_datetime_format' is deprecated and will be removed in a future version. A strict version of it is now the default, see https://pandas.pydata.org/pdeps/0004-consistent-to-datetime-parsing.html. You can safely remove this argument.\n",
      "<magic-timeit>:1: UserWarning: The argument 'infer_datetime_format' is deprecated and will be removed in a future version. A strict version of it is now the default, see https://pandas.pydata.org/pdeps/0004-consistent-to-datetime-parsing.html. You can safely remove this argument.\n",
      "<magic-timeit>:1: UserWarning: The argument 'infer_datetime_format' is deprecated and will be removed in a future version. A strict version of it is now the default, see https://pandas.pydata.org/pdeps/0004-consistent-to-datetime-parsing.html. You can safely remove this argument.\n",
      "<magic-timeit>:1: UserWarning: The argument 'infer_datetime_format' is deprecated and will be removed in a future version. A strict version of it is now the default, see https://pandas.pydata.org/pdeps/0004-consistent-to-datetime-parsing.html. You can safely remove this argument.\n",
      "<magic-timeit>:1: UserWarning: The argument 'infer_datetime_format' is deprecated and will be removed in a future version. A strict version of it is now the default, see https://pandas.pydata.org/pdeps/0004-consistent-to-datetime-parsing.html. You can safely remove this argument.\n",
      "<magic-timeit>:1: UserWarning: The argument 'infer_datetime_format' is deprecated and will be removed in a future version. A strict version of it is now the default, see https://pandas.pydata.org/pdeps/0004-consistent-to-datetime-parsing.html. You can safely remove this argument.\n",
      "<magic-timeit>:1: UserWarning: The argument 'infer_datetime_format' is deprecated and will be removed in a future version. A strict version of it is now the default, see https://pandas.pydata.org/pdeps/0004-consistent-to-datetime-parsing.html. You can safely remove this argument.\n",
      "<magic-timeit>:1: UserWarning: The argument 'infer_datetime_format' is deprecated and will be removed in a future version. A strict version of it is now the default, see https://pandas.pydata.org/pdeps/0004-consistent-to-datetime-parsing.html. You can safely remove this argument.\n",
      "<magic-timeit>:1: UserWarning: The argument 'infer_datetime_format' is deprecated and will be removed in a future version. A strict version of it is now the default, see https://pandas.pydata.org/pdeps/0004-consistent-to-datetime-parsing.html. You can safely remove this argument.\n",
      "<magic-timeit>:1: UserWarning: The argument 'infer_datetime_format' is deprecated and will be removed in a future version. A strict version of it is now the default, see https://pandas.pydata.org/pdeps/0004-consistent-to-datetime-parsing.html. You can safely remove this argument.\n",
      "<magic-timeit>:1: UserWarning: The argument 'infer_datetime_format' is deprecated and will be removed in a future version. A strict version of it is now the default, see https://pandas.pydata.org/pdeps/0004-consistent-to-datetime-parsing.html. You can safely remove this argument.\n",
      "<magic-timeit>:1: UserWarning: The argument 'infer_datetime_format' is deprecated and will be removed in a future version. A strict version of it is now the default, see https://pandas.pydata.org/pdeps/0004-consistent-to-datetime-parsing.html. You can safely remove this argument.\n",
      "<magic-timeit>:1: UserWarning: The argument 'infer_datetime_format' is deprecated and will be removed in a future version. A strict version of it is now the default, see https://pandas.pydata.org/pdeps/0004-consistent-to-datetime-parsing.html. You can safely remove this argument.\n",
      "<magic-timeit>:1: UserWarning: The argument 'infer_datetime_format' is deprecated and will be removed in a future version. A strict version of it is now the default, see https://pandas.pydata.org/pdeps/0004-consistent-to-datetime-parsing.html. You can safely remove this argument.\n",
      "<magic-timeit>:1: UserWarning: The argument 'infer_datetime_format' is deprecated and will be removed in a future version. A strict version of it is now the default, see https://pandas.pydata.org/pdeps/0004-consistent-to-datetime-parsing.html. You can safely remove this argument.\n",
      "<magic-timeit>:1: UserWarning: The argument 'infer_datetime_format' is deprecated and will be removed in a future version. A strict version of it is now the default, see https://pandas.pydata.org/pdeps/0004-consistent-to-datetime-parsing.html. You can safely remove this argument.\n",
      "<magic-timeit>:1: UserWarning: The argument 'infer_datetime_format' is deprecated and will be removed in a future version. A strict version of it is now the default, see https://pandas.pydata.org/pdeps/0004-consistent-to-datetime-parsing.html. You can safely remove this argument.\n",
      "<magic-timeit>:1: UserWarning: The argument 'infer_datetime_format' is deprecated and will be removed in a future version. A strict version of it is now the default, see https://pandas.pydata.org/pdeps/0004-consistent-to-datetime-parsing.html. You can safely remove this argument.\n",
      "<magic-timeit>:1: UserWarning: The argument 'infer_datetime_format' is deprecated and will be removed in a future version. A strict version of it is now the default, see https://pandas.pydata.org/pdeps/0004-consistent-to-datetime-parsing.html. You can safely remove this argument.\n",
      "<magic-timeit>:1: UserWarning: The argument 'infer_datetime_format' is deprecated and will be removed in a future version. A strict version of it is now the default, see https://pandas.pydata.org/pdeps/0004-consistent-to-datetime-parsing.html. You can safely remove this argument.\n",
      "<magic-timeit>:1: UserWarning: The argument 'infer_datetime_format' is deprecated and will be removed in a future version. A strict version of it is now the default, see https://pandas.pydata.org/pdeps/0004-consistent-to-datetime-parsing.html. You can safely remove this argument.\n",
      "<magic-timeit>:1: UserWarning: The argument 'infer_datetime_format' is deprecated and will be removed in a future version. A strict version of it is now the default, see https://pandas.pydata.org/pdeps/0004-consistent-to-datetime-parsing.html. You can safely remove this argument.\n",
      "<magic-timeit>:1: UserWarning: The argument 'infer_datetime_format' is deprecated and will be removed in a future version. A strict version of it is now the default, see https://pandas.pydata.org/pdeps/0004-consistent-to-datetime-parsing.html. You can safely remove this argument.\n",
      "<magic-timeit>:1: UserWarning: The argument 'infer_datetime_format' is deprecated and will be removed in a future version. A strict version of it is now the default, see https://pandas.pydata.org/pdeps/0004-consistent-to-datetime-parsing.html. You can safely remove this argument.\n",
      "<magic-timeit>:1: UserWarning: The argument 'infer_datetime_format' is deprecated and will be removed in a future version. A strict version of it is now the default, see https://pandas.pydata.org/pdeps/0004-consistent-to-datetime-parsing.html. You can safely remove this argument.\n",
      "<magic-timeit>:1: UserWarning: The argument 'infer_datetime_format' is deprecated and will be removed in a future version. A strict version of it is now the default, see https://pandas.pydata.org/pdeps/0004-consistent-to-datetime-parsing.html. You can safely remove this argument.\n",
      "<magic-timeit>:1: UserWarning: The argument 'infer_datetime_format' is deprecated and will be removed in a future version. A strict version of it is now the default, see https://pandas.pydata.org/pdeps/0004-consistent-to-datetime-parsing.html. You can safely remove this argument.\n",
      "<magic-timeit>:1: UserWarning: The argument 'infer_datetime_format' is deprecated and will be removed in a future version. A strict version of it is now the default, see https://pandas.pydata.org/pdeps/0004-consistent-to-datetime-parsing.html. You can safely remove this argument.\n",
      "<magic-timeit>:1: UserWarning: The argument 'infer_datetime_format' is deprecated and will be removed in a future version. A strict version of it is now the default, see https://pandas.pydata.org/pdeps/0004-consistent-to-datetime-parsing.html. You can safely remove this argument.\n",
      "<magic-timeit>:1: UserWarning: The argument 'infer_datetime_format' is deprecated and will be removed in a future version. A strict version of it is now the default, see https://pandas.pydata.org/pdeps/0004-consistent-to-datetime-parsing.html. You can safely remove this argument.\n",
      "<magic-timeit>:1: UserWarning: The argument 'infer_datetime_format' is deprecated and will be removed in a future version. A strict version of it is now the default, see https://pandas.pydata.org/pdeps/0004-consistent-to-datetime-parsing.html. You can safely remove this argument.\n",
      "<magic-timeit>:1: UserWarning: The argument 'infer_datetime_format' is deprecated and will be removed in a future version. A strict version of it is now the default, see https://pandas.pydata.org/pdeps/0004-consistent-to-datetime-parsing.html. You can safely remove this argument.\n",
      "<magic-timeit>:1: UserWarning: The argument 'infer_datetime_format' is deprecated and will be removed in a future version. A strict version of it is now the default, see https://pandas.pydata.org/pdeps/0004-consistent-to-datetime-parsing.html. You can safely remove this argument.\n",
      "<magic-timeit>:1: UserWarning: The argument 'infer_datetime_format' is deprecated and will be removed in a future version. A strict version of it is now the default, see https://pandas.pydata.org/pdeps/0004-consistent-to-datetime-parsing.html. You can safely remove this argument.\n",
      "<magic-timeit>:1: UserWarning: The argument 'infer_datetime_format' is deprecated and will be removed in a future version. A strict version of it is now the default, see https://pandas.pydata.org/pdeps/0004-consistent-to-datetime-parsing.html. You can safely remove this argument.\n",
      "<magic-timeit>:1: UserWarning: The argument 'infer_datetime_format' is deprecated and will be removed in a future version. A strict version of it is now the default, see https://pandas.pydata.org/pdeps/0004-consistent-to-datetime-parsing.html. You can safely remove this argument.\n",
      "<magic-timeit>:1: UserWarning: The argument 'infer_datetime_format' is deprecated and will be removed in a future version. A strict version of it is now the default, see https://pandas.pydata.org/pdeps/0004-consistent-to-datetime-parsing.html. You can safely remove this argument.\n",
      "<magic-timeit>:1: UserWarning: The argument 'infer_datetime_format' is deprecated and will be removed in a future version. A strict version of it is now the default, see https://pandas.pydata.org/pdeps/0004-consistent-to-datetime-parsing.html. You can safely remove this argument.\n",
      "<magic-timeit>:1: UserWarning: The argument 'infer_datetime_format' is deprecated and will be removed in a future version. A strict version of it is now the default, see https://pandas.pydata.org/pdeps/0004-consistent-to-datetime-parsing.html. You can safely remove this argument.\n",
      "<magic-timeit>:1: UserWarning: The argument 'infer_datetime_format' is deprecated and will be removed in a future version. A strict version of it is now the default, see https://pandas.pydata.org/pdeps/0004-consistent-to-datetime-parsing.html. You can safely remove this argument.\n",
      "<magic-timeit>:1: UserWarning: The argument 'infer_datetime_format' is deprecated and will be removed in a future version. A strict version of it is now the default, see https://pandas.pydata.org/pdeps/0004-consistent-to-datetime-parsing.html. You can safely remove this argument.\n",
      "<magic-timeit>:1: UserWarning: The argument 'infer_datetime_format' is deprecated and will be removed in a future version. A strict version of it is now the default, see https://pandas.pydata.org/pdeps/0004-consistent-to-datetime-parsing.html. You can safely remove this argument.\n",
      "<magic-timeit>:1: UserWarning: The argument 'infer_datetime_format' is deprecated and will be removed in a future version. A strict version of it is now the default, see https://pandas.pydata.org/pdeps/0004-consistent-to-datetime-parsing.html. You can safely remove this argument.\n",
      "<magic-timeit>:1: UserWarning: The argument 'infer_datetime_format' is deprecated and will be removed in a future version. A strict version of it is now the default, see https://pandas.pydata.org/pdeps/0004-consistent-to-datetime-parsing.html. You can safely remove this argument.\n",
      "<magic-timeit>:1: UserWarning: The argument 'infer_datetime_format' is deprecated and will be removed in a future version. A strict version of it is now the default, see https://pandas.pydata.org/pdeps/0004-consistent-to-datetime-parsing.html. You can safely remove this argument.\n",
      "<magic-timeit>:1: UserWarning: The argument 'infer_datetime_format' is deprecated and will be removed in a future version. A strict version of it is now the default, see https://pandas.pydata.org/pdeps/0004-consistent-to-datetime-parsing.html. You can safely remove this argument.\n",
      "<magic-timeit>:1: UserWarning: The argument 'infer_datetime_format' is deprecated and will be removed in a future version. A strict version of it is now the default, see https://pandas.pydata.org/pdeps/0004-consistent-to-datetime-parsing.html. You can safely remove this argument.\n",
      "<magic-timeit>:1: UserWarning: The argument 'infer_datetime_format' is deprecated and will be removed in a future version. A strict version of it is now the default, see https://pandas.pydata.org/pdeps/0004-consistent-to-datetime-parsing.html. You can safely remove this argument.\n",
      "<magic-timeit>:1: UserWarning: The argument 'infer_datetime_format' is deprecated and will be removed in a future version. A strict version of it is now the default, see https://pandas.pydata.org/pdeps/0004-consistent-to-datetime-parsing.html. You can safely remove this argument.\n",
      "<magic-timeit>:1: UserWarning: The argument 'infer_datetime_format' is deprecated and will be removed in a future version. A strict version of it is now the default, see https://pandas.pydata.org/pdeps/0004-consistent-to-datetime-parsing.html. You can safely remove this argument.\n",
      "<magic-timeit>:1: UserWarning: The argument 'infer_datetime_format' is deprecated and will be removed in a future version. A strict version of it is now the default, see https://pandas.pydata.org/pdeps/0004-consistent-to-datetime-parsing.html. You can safely remove this argument.\n",
      "<magic-timeit>:1: UserWarning: The argument 'infer_datetime_format' is deprecated and will be removed in a future version. A strict version of it is now the default, see https://pandas.pydata.org/pdeps/0004-consistent-to-datetime-parsing.html. You can safely remove this argument.\n",
      "<magic-timeit>:1: UserWarning: The argument 'infer_datetime_format' is deprecated and will be removed in a future version. A strict version of it is now the default, see https://pandas.pydata.org/pdeps/0004-consistent-to-datetime-parsing.html. You can safely remove this argument.\n",
      "<magic-timeit>:1: UserWarning: The argument 'infer_datetime_format' is deprecated and will be removed in a future version. A strict version of it is now the default, see https://pandas.pydata.org/pdeps/0004-consistent-to-datetime-parsing.html. You can safely remove this argument.\n",
      "<magic-timeit>:1: UserWarning: The argument 'infer_datetime_format' is deprecated and will be removed in a future version. A strict version of it is now the default, see https://pandas.pydata.org/pdeps/0004-consistent-to-datetime-parsing.html. You can safely remove this argument.\n",
      "<magic-timeit>:1: UserWarning: The argument 'infer_datetime_format' is deprecated and will be removed in a future version. A strict version of it is now the default, see https://pandas.pydata.org/pdeps/0004-consistent-to-datetime-parsing.html. You can safely remove this argument.\n",
      "<magic-timeit>:1: UserWarning: The argument 'infer_datetime_format' is deprecated and will be removed in a future version. A strict version of it is now the default, see https://pandas.pydata.org/pdeps/0004-consistent-to-datetime-parsing.html. You can safely remove this argument.\n",
      "<magic-timeit>:1: UserWarning: The argument 'infer_datetime_format' is deprecated and will be removed in a future version. A strict version of it is now the default, see https://pandas.pydata.org/pdeps/0004-consistent-to-datetime-parsing.html. You can safely remove this argument.\n",
      "<magic-timeit>:1: UserWarning: The argument 'infer_datetime_format' is deprecated and will be removed in a future version. A strict version of it is now the default, see https://pandas.pydata.org/pdeps/0004-consistent-to-datetime-parsing.html. You can safely remove this argument.\n",
      "<magic-timeit>:1: UserWarning: The argument 'infer_datetime_format' is deprecated and will be removed in a future version. A strict version of it is now the default, see https://pandas.pydata.org/pdeps/0004-consistent-to-datetime-parsing.html. You can safely remove this argument.\n",
      "<magic-timeit>:1: UserWarning: The argument 'infer_datetime_format' is deprecated and will be removed in a future version. A strict version of it is now the default, see https://pandas.pydata.org/pdeps/0004-consistent-to-datetime-parsing.html. You can safely remove this argument.\n",
      "<magic-timeit>:1: UserWarning: The argument 'infer_datetime_format' is deprecated and will be removed in a future version. A strict version of it is now the default, see https://pandas.pydata.org/pdeps/0004-consistent-to-datetime-parsing.html. You can safely remove this argument.\n",
      "<magic-timeit>:1: UserWarning: The argument 'infer_datetime_format' is deprecated and will be removed in a future version. A strict version of it is now the default, see https://pandas.pydata.org/pdeps/0004-consistent-to-datetime-parsing.html. You can safely remove this argument.\n",
      "<magic-timeit>:1: UserWarning: The argument 'infer_datetime_format' is deprecated and will be removed in a future version. A strict version of it is now the default, see https://pandas.pydata.org/pdeps/0004-consistent-to-datetime-parsing.html. You can safely remove this argument.\n",
      "<magic-timeit>:1: UserWarning: The argument 'infer_datetime_format' is deprecated and will be removed in a future version. A strict version of it is now the default, see https://pandas.pydata.org/pdeps/0004-consistent-to-datetime-parsing.html. You can safely remove this argument.\n",
      "<magic-timeit>:1: UserWarning: The argument 'infer_datetime_format' is deprecated and will be removed in a future version. A strict version of it is now the default, see https://pandas.pydata.org/pdeps/0004-consistent-to-datetime-parsing.html. You can safely remove this argument.\n",
      "<magic-timeit>:1: UserWarning: The argument 'infer_datetime_format' is deprecated and will be removed in a future version. A strict version of it is now the default, see https://pandas.pydata.org/pdeps/0004-consistent-to-datetime-parsing.html. You can safely remove this argument.\n",
      "<magic-timeit>:1: UserWarning: The argument 'infer_datetime_format' is deprecated and will be removed in a future version. A strict version of it is now the default, see https://pandas.pydata.org/pdeps/0004-consistent-to-datetime-parsing.html. You can safely remove this argument.\n",
      "<magic-timeit>:1: UserWarning: The argument 'infer_datetime_format' is deprecated and will be removed in a future version. A strict version of it is now the default, see https://pandas.pydata.org/pdeps/0004-consistent-to-datetime-parsing.html. You can safely remove this argument.\n",
      "<magic-timeit>:1: UserWarning: The argument 'infer_datetime_format' is deprecated and will be removed in a future version. A strict version of it is now the default, see https://pandas.pydata.org/pdeps/0004-consistent-to-datetime-parsing.html. You can safely remove this argument.\n",
      "<magic-timeit>:1: UserWarning: The argument 'infer_datetime_format' is deprecated and will be removed in a future version. A strict version of it is now the default, see https://pandas.pydata.org/pdeps/0004-consistent-to-datetime-parsing.html. You can safely remove this argument.\n",
      "<magic-timeit>:1: UserWarning: The argument 'infer_datetime_format' is deprecated and will be removed in a future version. A strict version of it is now the default, see https://pandas.pydata.org/pdeps/0004-consistent-to-datetime-parsing.html. You can safely remove this argument.\n",
      "<magic-timeit>:1: UserWarning: The argument 'infer_datetime_format' is deprecated and will be removed in a future version. A strict version of it is now the default, see https://pandas.pydata.org/pdeps/0004-consistent-to-datetime-parsing.html. You can safely remove this argument.\n",
      "<magic-timeit>:1: UserWarning: The argument 'infer_datetime_format' is deprecated and will be removed in a future version. A strict version of it is now the default, see https://pandas.pydata.org/pdeps/0004-consistent-to-datetime-parsing.html. You can safely remove this argument.\n",
      "<magic-timeit>:1: UserWarning: The argument 'infer_datetime_format' is deprecated and will be removed in a future version. A strict version of it is now the default, see https://pandas.pydata.org/pdeps/0004-consistent-to-datetime-parsing.html. You can safely remove this argument.\n",
      "<magic-timeit>:1: UserWarning: The argument 'infer_datetime_format' is deprecated and will be removed in a future version. A strict version of it is now the default, see https://pandas.pydata.org/pdeps/0004-consistent-to-datetime-parsing.html. You can safely remove this argument.\n",
      "<magic-timeit>:1: UserWarning: The argument 'infer_datetime_format' is deprecated and will be removed in a future version. A strict version of it is now the default, see https://pandas.pydata.org/pdeps/0004-consistent-to-datetime-parsing.html. You can safely remove this argument.\n",
      "<magic-timeit>:1: UserWarning: The argument 'infer_datetime_format' is deprecated and will be removed in a future version. A strict version of it is now the default, see https://pandas.pydata.org/pdeps/0004-consistent-to-datetime-parsing.html. You can safely remove this argument.\n",
      "<magic-timeit>:1: UserWarning: The argument 'infer_datetime_format' is deprecated and will be removed in a future version. A strict version of it is now the default, see https://pandas.pydata.org/pdeps/0004-consistent-to-datetime-parsing.html. You can safely remove this argument.\n",
      "<magic-timeit>:1: UserWarning: The argument 'infer_datetime_format' is deprecated and will be removed in a future version. A strict version of it is now the default, see https://pandas.pydata.org/pdeps/0004-consistent-to-datetime-parsing.html. You can safely remove this argument.\n",
      "<magic-timeit>:1: UserWarning: The argument 'infer_datetime_format' is deprecated and will be removed in a future version. A strict version of it is now the default, see https://pandas.pydata.org/pdeps/0004-consistent-to-datetime-parsing.html. You can safely remove this argument.\n",
      "<magic-timeit>:1: UserWarning: The argument 'infer_datetime_format' is deprecated and will be removed in a future version. A strict version of it is now the default, see https://pandas.pydata.org/pdeps/0004-consistent-to-datetime-parsing.html. You can safely remove this argument.\n",
      "<magic-timeit>:1: UserWarning: The argument 'infer_datetime_format' is deprecated and will be removed in a future version. A strict version of it is now the default, see https://pandas.pydata.org/pdeps/0004-consistent-to-datetime-parsing.html. You can safely remove this argument.\n",
      "<magic-timeit>:1: UserWarning: The argument 'infer_datetime_format' is deprecated and will be removed in a future version. A strict version of it is now the default, see https://pandas.pydata.org/pdeps/0004-consistent-to-datetime-parsing.html. You can safely remove this argument.\n",
      "<magic-timeit>:1: UserWarning: The argument 'infer_datetime_format' is deprecated and will be removed in a future version. A strict version of it is now the default, see https://pandas.pydata.org/pdeps/0004-consistent-to-datetime-parsing.html. You can safely remove this argument.\n",
      "<magic-timeit>:1: UserWarning: The argument 'infer_datetime_format' is deprecated and will be removed in a future version. A strict version of it is now the default, see https://pandas.pydata.org/pdeps/0004-consistent-to-datetime-parsing.html. You can safely remove this argument.\n",
      "<magic-timeit>:1: UserWarning: The argument 'infer_datetime_format' is deprecated and will be removed in a future version. A strict version of it is now the default, see https://pandas.pydata.org/pdeps/0004-consistent-to-datetime-parsing.html. You can safely remove this argument.\n",
      "<magic-timeit>:1: UserWarning: The argument 'infer_datetime_format' is deprecated and will be removed in a future version. A strict version of it is now the default, see https://pandas.pydata.org/pdeps/0004-consistent-to-datetime-parsing.html. You can safely remove this argument.\n",
      "<magic-timeit>:1: UserWarning: The argument 'infer_datetime_format' is deprecated and will be removed in a future version. A strict version of it is now the default, see https://pandas.pydata.org/pdeps/0004-consistent-to-datetime-parsing.html. You can safely remove this argument.\n",
      "<magic-timeit>:1: UserWarning: The argument 'infer_datetime_format' is deprecated and will be removed in a future version. A strict version of it is now the default, see https://pandas.pydata.org/pdeps/0004-consistent-to-datetime-parsing.html. You can safely remove this argument.\n",
      "<magic-timeit>:1: UserWarning: The argument 'infer_datetime_format' is deprecated and will be removed in a future version. A strict version of it is now the default, see https://pandas.pydata.org/pdeps/0004-consistent-to-datetime-parsing.html. You can safely remove this argument.\n",
      "<magic-timeit>:1: UserWarning: The argument 'infer_datetime_format' is deprecated and will be removed in a future version. A strict version of it is now the default, see https://pandas.pydata.org/pdeps/0004-consistent-to-datetime-parsing.html. You can safely remove this argument.\n",
      "<magic-timeit>:1: UserWarning: The argument 'infer_datetime_format' is deprecated and will be removed in a future version. A strict version of it is now the default, see https://pandas.pydata.org/pdeps/0004-consistent-to-datetime-parsing.html. You can safely remove this argument.\n",
      "<magic-timeit>:1: UserWarning: The argument 'infer_datetime_format' is deprecated and will be removed in a future version. A strict version of it is now the default, see https://pandas.pydata.org/pdeps/0004-consistent-to-datetime-parsing.html. You can safely remove this argument.\n",
      "<magic-timeit>:1: UserWarning: The argument 'infer_datetime_format' is deprecated and will be removed in a future version. A strict version of it is now the default, see https://pandas.pydata.org/pdeps/0004-consistent-to-datetime-parsing.html. You can safely remove this argument.\n",
      "<magic-timeit>:1: UserWarning: The argument 'infer_datetime_format' is deprecated and will be removed in a future version. A strict version of it is now the default, see https://pandas.pydata.org/pdeps/0004-consistent-to-datetime-parsing.html. You can safely remove this argument.\n",
      "<magic-timeit>:1: UserWarning: The argument 'infer_datetime_format' is deprecated and will be removed in a future version. A strict version of it is now the default, see https://pandas.pydata.org/pdeps/0004-consistent-to-datetime-parsing.html. You can safely remove this argument.\n",
      "<magic-timeit>:1: UserWarning: The argument 'infer_datetime_format' is deprecated and will be removed in a future version. A strict version of it is now the default, see https://pandas.pydata.org/pdeps/0004-consistent-to-datetime-parsing.html. You can safely remove this argument.\n",
      "<magic-timeit>:1: UserWarning: The argument 'infer_datetime_format' is deprecated and will be removed in a future version. A strict version of it is now the default, see https://pandas.pydata.org/pdeps/0004-consistent-to-datetime-parsing.html. You can safely remove this argument.\n",
      "<magic-timeit>:1: UserWarning: The argument 'infer_datetime_format' is deprecated and will be removed in a future version. A strict version of it is now the default, see https://pandas.pydata.org/pdeps/0004-consistent-to-datetime-parsing.html. You can safely remove this argument.\n",
      "<magic-timeit>:1: UserWarning: The argument 'infer_datetime_format' is deprecated and will be removed in a future version. A strict version of it is now the default, see https://pandas.pydata.org/pdeps/0004-consistent-to-datetime-parsing.html. You can safely remove this argument.\n",
      "<magic-timeit>:1: UserWarning: The argument 'infer_datetime_format' is deprecated and will be removed in a future version. A strict version of it is now the default, see https://pandas.pydata.org/pdeps/0004-consistent-to-datetime-parsing.html. You can safely remove this argument.\n",
      "<magic-timeit>:1: UserWarning: The argument 'infer_datetime_format' is deprecated and will be removed in a future version. A strict version of it is now the default, see https://pandas.pydata.org/pdeps/0004-consistent-to-datetime-parsing.html. You can safely remove this argument.\n",
      "<magic-timeit>:1: UserWarning: The argument 'infer_datetime_format' is deprecated and will be removed in a future version. A strict version of it is now the default, see https://pandas.pydata.org/pdeps/0004-consistent-to-datetime-parsing.html. You can safely remove this argument.\n",
      "<magic-timeit>:1: UserWarning: The argument 'infer_datetime_format' is deprecated and will be removed in a future version. A strict version of it is now the default, see https://pandas.pydata.org/pdeps/0004-consistent-to-datetime-parsing.html. You can safely remove this argument.\n",
      "<magic-timeit>:1: UserWarning: The argument 'infer_datetime_format' is deprecated and will be removed in a future version. A strict version of it is now the default, see https://pandas.pydata.org/pdeps/0004-consistent-to-datetime-parsing.html. You can safely remove this argument.\n",
      "<magic-timeit>:1: UserWarning: The argument 'infer_datetime_format' is deprecated and will be removed in a future version. A strict version of it is now the default, see https://pandas.pydata.org/pdeps/0004-consistent-to-datetime-parsing.html. You can safely remove this argument.\n",
      "<magic-timeit>:1: UserWarning: The argument 'infer_datetime_format' is deprecated and will be removed in a future version. A strict version of it is now the default, see https://pandas.pydata.org/pdeps/0004-consistent-to-datetime-parsing.html. You can safely remove this argument.\n",
      "<magic-timeit>:1: UserWarning: The argument 'infer_datetime_format' is deprecated and will be removed in a future version. A strict version of it is now the default, see https://pandas.pydata.org/pdeps/0004-consistent-to-datetime-parsing.html. You can safely remove this argument.\n",
      "<magic-timeit>:1: UserWarning: The argument 'infer_datetime_format' is deprecated and will be removed in a future version. A strict version of it is now the default, see https://pandas.pydata.org/pdeps/0004-consistent-to-datetime-parsing.html. You can safely remove this argument.\n",
      "<magic-timeit>:1: UserWarning: The argument 'infer_datetime_format' is deprecated and will be removed in a future version. A strict version of it is now the default, see https://pandas.pydata.org/pdeps/0004-consistent-to-datetime-parsing.html. You can safely remove this argument.\n",
      "<magic-timeit>:1: UserWarning: The argument 'infer_datetime_format' is deprecated and will be removed in a future version. A strict version of it is now the default, see https://pandas.pydata.org/pdeps/0004-consistent-to-datetime-parsing.html. You can safely remove this argument.\n",
      "<magic-timeit>:1: UserWarning: The argument 'infer_datetime_format' is deprecated and will be removed in a future version. A strict version of it is now the default, see https://pandas.pydata.org/pdeps/0004-consistent-to-datetime-parsing.html. You can safely remove this argument.\n",
      "<magic-timeit>:1: UserWarning: The argument 'infer_datetime_format' is deprecated and will be removed in a future version. A strict version of it is now the default, see https://pandas.pydata.org/pdeps/0004-consistent-to-datetime-parsing.html. You can safely remove this argument.\n",
      "<magic-timeit>:1: UserWarning: The argument 'infer_datetime_format' is deprecated and will be removed in a future version. A strict version of it is now the default, see https://pandas.pydata.org/pdeps/0004-consistent-to-datetime-parsing.html. You can safely remove this argument.\n",
      "<magic-timeit>:1: UserWarning: The argument 'infer_datetime_format' is deprecated and will be removed in a future version. A strict version of it is now the default, see https://pandas.pydata.org/pdeps/0004-consistent-to-datetime-parsing.html. You can safely remove this argument.\n",
      "<magic-timeit>:1: UserWarning: The argument 'infer_datetime_format' is deprecated and will be removed in a future version. A strict version of it is now the default, see https://pandas.pydata.org/pdeps/0004-consistent-to-datetime-parsing.html. You can safely remove this argument.\n",
      "<magic-timeit>:1: UserWarning: The argument 'infer_datetime_format' is deprecated and will be removed in a future version. A strict version of it is now the default, see https://pandas.pydata.org/pdeps/0004-consistent-to-datetime-parsing.html. You can safely remove this argument.\n",
      "<magic-timeit>:1: UserWarning: The argument 'infer_datetime_format' is deprecated and will be removed in a future version. A strict version of it is now the default, see https://pandas.pydata.org/pdeps/0004-consistent-to-datetime-parsing.html. You can safely remove this argument.\n",
      "<magic-timeit>:1: UserWarning: The argument 'infer_datetime_format' is deprecated and will be removed in a future version. A strict version of it is now the default, see https://pandas.pydata.org/pdeps/0004-consistent-to-datetime-parsing.html. You can safely remove this argument.\n",
      "<magic-timeit>:1: UserWarning: The argument 'infer_datetime_format' is deprecated and will be removed in a future version. A strict version of it is now the default, see https://pandas.pydata.org/pdeps/0004-consistent-to-datetime-parsing.html. You can safely remove this argument.\n",
      "<magic-timeit>:1: UserWarning: The argument 'infer_datetime_format' is deprecated and will be removed in a future version. A strict version of it is now the default, see https://pandas.pydata.org/pdeps/0004-consistent-to-datetime-parsing.html. You can safely remove this argument.\n",
      "<magic-timeit>:1: UserWarning: The argument 'infer_datetime_format' is deprecated and will be removed in a future version. A strict version of it is now the default, see https://pandas.pydata.org/pdeps/0004-consistent-to-datetime-parsing.html. You can safely remove this argument.\n",
      "<magic-timeit>:1: UserWarning: The argument 'infer_datetime_format' is deprecated and will be removed in a future version. A strict version of it is now the default, see https://pandas.pydata.org/pdeps/0004-consistent-to-datetime-parsing.html. You can safely remove this argument.\n",
      "<magic-timeit>:1: UserWarning: The argument 'infer_datetime_format' is deprecated and will be removed in a future version. A strict version of it is now the default, see https://pandas.pydata.org/pdeps/0004-consistent-to-datetime-parsing.html. You can safely remove this argument.\n",
      "<magic-timeit>:1: UserWarning: The argument 'infer_datetime_format' is deprecated and will be removed in a future version. A strict version of it is now the default, see https://pandas.pydata.org/pdeps/0004-consistent-to-datetime-parsing.html. You can safely remove this argument.\n",
      "<magic-timeit>:1: UserWarning: The argument 'infer_datetime_format' is deprecated and will be removed in a future version. A strict version of it is now the default, see https://pandas.pydata.org/pdeps/0004-consistent-to-datetime-parsing.html. You can safely remove this argument.\n",
      "<magic-timeit>:1: UserWarning: The argument 'infer_datetime_format' is deprecated and will be removed in a future version. A strict version of it is now the default, see https://pandas.pydata.org/pdeps/0004-consistent-to-datetime-parsing.html. You can safely remove this argument.\n",
      "<magic-timeit>:1: UserWarning: The argument 'infer_datetime_format' is deprecated and will be removed in a future version. A strict version of it is now the default, see https://pandas.pydata.org/pdeps/0004-consistent-to-datetime-parsing.html. You can safely remove this argument.\n",
      "<magic-timeit>:1: UserWarning: The argument 'infer_datetime_format' is deprecated and will be removed in a future version. A strict version of it is now the default, see https://pandas.pydata.org/pdeps/0004-consistent-to-datetime-parsing.html. You can safely remove this argument.\n",
      "<magic-timeit>:1: UserWarning: The argument 'infer_datetime_format' is deprecated and will be removed in a future version. A strict version of it is now the default, see https://pandas.pydata.org/pdeps/0004-consistent-to-datetime-parsing.html. You can safely remove this argument.\n",
      "<magic-timeit>:1: UserWarning: The argument 'infer_datetime_format' is deprecated and will be removed in a future version. A strict version of it is now the default, see https://pandas.pydata.org/pdeps/0004-consistent-to-datetime-parsing.html. You can safely remove this argument.\n",
      "<magic-timeit>:1: UserWarning: The argument 'infer_datetime_format' is deprecated and will be removed in a future version. A strict version of it is now the default, see https://pandas.pydata.org/pdeps/0004-consistent-to-datetime-parsing.html. You can safely remove this argument.\n",
      "<magic-timeit>:1: UserWarning: The argument 'infer_datetime_format' is deprecated and will be removed in a future version. A strict version of it is now the default, see https://pandas.pydata.org/pdeps/0004-consistent-to-datetime-parsing.html. You can safely remove this argument.\n",
      "<magic-timeit>:1: UserWarning: The argument 'infer_datetime_format' is deprecated and will be removed in a future version. A strict version of it is now the default, see https://pandas.pydata.org/pdeps/0004-consistent-to-datetime-parsing.html. You can safely remove this argument.\n",
      "<magic-timeit>:1: UserWarning: The argument 'infer_datetime_format' is deprecated and will be removed in a future version. A strict version of it is now the default, see https://pandas.pydata.org/pdeps/0004-consistent-to-datetime-parsing.html. You can safely remove this argument.\n",
      "<magic-timeit>:1: UserWarning: The argument 'infer_datetime_format' is deprecated and will be removed in a future version. A strict version of it is now the default, see https://pandas.pydata.org/pdeps/0004-consistent-to-datetime-parsing.html. You can safely remove this argument.\n",
      "<magic-timeit>:1: UserWarning: The argument 'infer_datetime_format' is deprecated and will be removed in a future version. A strict version of it is now the default, see https://pandas.pydata.org/pdeps/0004-consistent-to-datetime-parsing.html. You can safely remove this argument.\n",
      "<magic-timeit>:1: UserWarning: The argument 'infer_datetime_format' is deprecated and will be removed in a future version. A strict version of it is now the default, see https://pandas.pydata.org/pdeps/0004-consistent-to-datetime-parsing.html. You can safely remove this argument.\n",
      "<magic-timeit>:1: UserWarning: The argument 'infer_datetime_format' is deprecated and will be removed in a future version. A strict version of it is now the default, see https://pandas.pydata.org/pdeps/0004-consistent-to-datetime-parsing.html. You can safely remove this argument.\n",
      "<magic-timeit>:1: UserWarning: The argument 'infer_datetime_format' is deprecated and will be removed in a future version. A strict version of it is now the default, see https://pandas.pydata.org/pdeps/0004-consistent-to-datetime-parsing.html. You can safely remove this argument.\n",
      "<magic-timeit>:1: UserWarning: The argument 'infer_datetime_format' is deprecated and will be removed in a future version. A strict version of it is now the default, see https://pandas.pydata.org/pdeps/0004-consistent-to-datetime-parsing.html. You can safely remove this argument.\n",
      "<magic-timeit>:1: UserWarning: The argument 'infer_datetime_format' is deprecated and will be removed in a future version. A strict version of it is now the default, see https://pandas.pydata.org/pdeps/0004-consistent-to-datetime-parsing.html. You can safely remove this argument.\n",
      "<magic-timeit>:1: UserWarning: The argument 'infer_datetime_format' is deprecated and will be removed in a future version. A strict version of it is now the default, see https://pandas.pydata.org/pdeps/0004-consistent-to-datetime-parsing.html. You can safely remove this argument.\n",
      "<magic-timeit>:1: UserWarning: The argument 'infer_datetime_format' is deprecated and will be removed in a future version. A strict version of it is now the default, see https://pandas.pydata.org/pdeps/0004-consistent-to-datetime-parsing.html. You can safely remove this argument.\n",
      "<magic-timeit>:1: UserWarning: The argument 'infer_datetime_format' is deprecated and will be removed in a future version. A strict version of it is now the default, see https://pandas.pydata.org/pdeps/0004-consistent-to-datetime-parsing.html. You can safely remove this argument.\n",
      "<magic-timeit>:1: UserWarning: The argument 'infer_datetime_format' is deprecated and will be removed in a future version. A strict version of it is now the default, see https://pandas.pydata.org/pdeps/0004-consistent-to-datetime-parsing.html. You can safely remove this argument.\n",
      "<magic-timeit>:1: UserWarning: The argument 'infer_datetime_format' is deprecated and will be removed in a future version. A strict version of it is now the default, see https://pandas.pydata.org/pdeps/0004-consistent-to-datetime-parsing.html. You can safely remove this argument.\n",
      "<magic-timeit>:1: UserWarning: The argument 'infer_datetime_format' is deprecated and will be removed in a future version. A strict version of it is now the default, see https://pandas.pydata.org/pdeps/0004-consistent-to-datetime-parsing.html. You can safely remove this argument.\n",
      "<magic-timeit>:1: UserWarning: The argument 'infer_datetime_format' is deprecated and will be removed in a future version. A strict version of it is now the default, see https://pandas.pydata.org/pdeps/0004-consistent-to-datetime-parsing.html. You can safely remove this argument.\n",
      "<magic-timeit>:1: UserWarning: The argument 'infer_datetime_format' is deprecated and will be removed in a future version. A strict version of it is now the default, see https://pandas.pydata.org/pdeps/0004-consistent-to-datetime-parsing.html. You can safely remove this argument.\n",
      "<magic-timeit>:1: UserWarning: The argument 'infer_datetime_format' is deprecated and will be removed in a future version. A strict version of it is now the default, see https://pandas.pydata.org/pdeps/0004-consistent-to-datetime-parsing.html. You can safely remove this argument.\n",
      "<magic-timeit>:1: UserWarning: The argument 'infer_datetime_format' is deprecated and will be removed in a future version. A strict version of it is now the default, see https://pandas.pydata.org/pdeps/0004-consistent-to-datetime-parsing.html. You can safely remove this argument.\n",
      "<magic-timeit>:1: UserWarning: The argument 'infer_datetime_format' is deprecated and will be removed in a future version. A strict version of it is now the default, see https://pandas.pydata.org/pdeps/0004-consistent-to-datetime-parsing.html. You can safely remove this argument.\n",
      "<magic-timeit>:1: UserWarning: The argument 'infer_datetime_format' is deprecated and will be removed in a future version. A strict version of it is now the default, see https://pandas.pydata.org/pdeps/0004-consistent-to-datetime-parsing.html. You can safely remove this argument.\n",
      "<magic-timeit>:1: UserWarning: The argument 'infer_datetime_format' is deprecated and will be removed in a future version. A strict version of it is now the default, see https://pandas.pydata.org/pdeps/0004-consistent-to-datetime-parsing.html. You can safely remove this argument.\n",
      "<magic-timeit>:1: UserWarning: The argument 'infer_datetime_format' is deprecated and will be removed in a future version. A strict version of it is now the default, see https://pandas.pydata.org/pdeps/0004-consistent-to-datetime-parsing.html. You can safely remove this argument.\n",
      "<magic-timeit>:1: UserWarning: The argument 'infer_datetime_format' is deprecated and will be removed in a future version. A strict version of it is now the default, see https://pandas.pydata.org/pdeps/0004-consistent-to-datetime-parsing.html. You can safely remove this argument.\n",
      "<magic-timeit>:1: UserWarning: The argument 'infer_datetime_format' is deprecated and will be removed in a future version. A strict version of it is now the default, see https://pandas.pydata.org/pdeps/0004-consistent-to-datetime-parsing.html. You can safely remove this argument.\n",
      "<magic-timeit>:1: UserWarning: The argument 'infer_datetime_format' is deprecated and will be removed in a future version. A strict version of it is now the default, see https://pandas.pydata.org/pdeps/0004-consistent-to-datetime-parsing.html. You can safely remove this argument.\n",
      "<magic-timeit>:1: UserWarning: The argument 'infer_datetime_format' is deprecated and will be removed in a future version. A strict version of it is now the default, see https://pandas.pydata.org/pdeps/0004-consistent-to-datetime-parsing.html. You can safely remove this argument.\n",
      "<magic-timeit>:1: UserWarning: The argument 'infer_datetime_format' is deprecated and will be removed in a future version. A strict version of it is now the default, see https://pandas.pydata.org/pdeps/0004-consistent-to-datetime-parsing.html. You can safely remove this argument.\n",
      "<magic-timeit>:1: UserWarning: The argument 'infer_datetime_format' is deprecated and will be removed in a future version. A strict version of it is now the default, see https://pandas.pydata.org/pdeps/0004-consistent-to-datetime-parsing.html. You can safely remove this argument.\n",
      "<magic-timeit>:1: UserWarning: The argument 'infer_datetime_format' is deprecated and will be removed in a future version. A strict version of it is now the default, see https://pandas.pydata.org/pdeps/0004-consistent-to-datetime-parsing.html. You can safely remove this argument.\n",
      "<magic-timeit>:1: UserWarning: The argument 'infer_datetime_format' is deprecated and will be removed in a future version. A strict version of it is now the default, see https://pandas.pydata.org/pdeps/0004-consistent-to-datetime-parsing.html. You can safely remove this argument.\n",
      "<magic-timeit>:1: UserWarning: The argument 'infer_datetime_format' is deprecated and will be removed in a future version. A strict version of it is now the default, see https://pandas.pydata.org/pdeps/0004-consistent-to-datetime-parsing.html. You can safely remove this argument.\n",
      "<magic-timeit>:1: UserWarning: The argument 'infer_datetime_format' is deprecated and will be removed in a future version. A strict version of it is now the default, see https://pandas.pydata.org/pdeps/0004-consistent-to-datetime-parsing.html. You can safely remove this argument.\n",
      "<magic-timeit>:1: UserWarning: The argument 'infer_datetime_format' is deprecated and will be removed in a future version. A strict version of it is now the default, see https://pandas.pydata.org/pdeps/0004-consistent-to-datetime-parsing.html. You can safely remove this argument.\n",
      "<magic-timeit>:1: UserWarning: The argument 'infer_datetime_format' is deprecated and will be removed in a future version. A strict version of it is now the default, see https://pandas.pydata.org/pdeps/0004-consistent-to-datetime-parsing.html. You can safely remove this argument.\n",
      "<magic-timeit>:1: UserWarning: The argument 'infer_datetime_format' is deprecated and will be removed in a future version. A strict version of it is now the default, see https://pandas.pydata.org/pdeps/0004-consistent-to-datetime-parsing.html. You can safely remove this argument.\n",
      "<magic-timeit>:1: UserWarning: The argument 'infer_datetime_format' is deprecated and will be removed in a future version. A strict version of it is now the default, see https://pandas.pydata.org/pdeps/0004-consistent-to-datetime-parsing.html. You can safely remove this argument.\n",
      "<magic-timeit>:1: UserWarning: The argument 'infer_datetime_format' is deprecated and will be removed in a future version. A strict version of it is now the default, see https://pandas.pydata.org/pdeps/0004-consistent-to-datetime-parsing.html. You can safely remove this argument.\n",
      "<magic-timeit>:1: UserWarning: The argument 'infer_datetime_format' is deprecated and will be removed in a future version. A strict version of it is now the default, see https://pandas.pydata.org/pdeps/0004-consistent-to-datetime-parsing.html. You can safely remove this argument.\n",
      "<magic-timeit>:1: UserWarning: The argument 'infer_datetime_format' is deprecated and will be removed in a future version. A strict version of it is now the default, see https://pandas.pydata.org/pdeps/0004-consistent-to-datetime-parsing.html. You can safely remove this argument.\n",
      "<magic-timeit>:1: UserWarning: The argument 'infer_datetime_format' is deprecated and will be removed in a future version. A strict version of it is now the default, see https://pandas.pydata.org/pdeps/0004-consistent-to-datetime-parsing.html. You can safely remove this argument.\n",
      "<magic-timeit>:1: UserWarning: The argument 'infer_datetime_format' is deprecated and will be removed in a future version. A strict version of it is now the default, see https://pandas.pydata.org/pdeps/0004-consistent-to-datetime-parsing.html. You can safely remove this argument.\n",
      "<magic-timeit>:1: UserWarning: The argument 'infer_datetime_format' is deprecated and will be removed in a future version. A strict version of it is now the default, see https://pandas.pydata.org/pdeps/0004-consistent-to-datetime-parsing.html. You can safely remove this argument.\n",
      "<magic-timeit>:1: UserWarning: The argument 'infer_datetime_format' is deprecated and will be removed in a future version. A strict version of it is now the default, see https://pandas.pydata.org/pdeps/0004-consistent-to-datetime-parsing.html. You can safely remove this argument.\n",
      "<magic-timeit>:1: UserWarning: The argument 'infer_datetime_format' is deprecated and will be removed in a future version. A strict version of it is now the default, see https://pandas.pydata.org/pdeps/0004-consistent-to-datetime-parsing.html. You can safely remove this argument.\n",
      "<magic-timeit>:1: UserWarning: The argument 'infer_datetime_format' is deprecated and will be removed in a future version. A strict version of it is now the default, see https://pandas.pydata.org/pdeps/0004-consistent-to-datetime-parsing.html. You can safely remove this argument.\n",
      "<magic-timeit>:1: UserWarning: The argument 'infer_datetime_format' is deprecated and will be removed in a future version. A strict version of it is now the default, see https://pandas.pydata.org/pdeps/0004-consistent-to-datetime-parsing.html. You can safely remove this argument.\n",
      "<magic-timeit>:1: UserWarning: The argument 'infer_datetime_format' is deprecated and will be removed in a future version. A strict version of it is now the default, see https://pandas.pydata.org/pdeps/0004-consistent-to-datetime-parsing.html. You can safely remove this argument.\n",
      "<magic-timeit>:1: UserWarning: The argument 'infer_datetime_format' is deprecated and will be removed in a future version. A strict version of it is now the default, see https://pandas.pydata.org/pdeps/0004-consistent-to-datetime-parsing.html. You can safely remove this argument.\n",
      "<magic-timeit>:1: UserWarning: The argument 'infer_datetime_format' is deprecated and will be removed in a future version. A strict version of it is now the default, see https://pandas.pydata.org/pdeps/0004-consistent-to-datetime-parsing.html. You can safely remove this argument.\n",
      "<magic-timeit>:1: UserWarning: The argument 'infer_datetime_format' is deprecated and will be removed in a future version. A strict version of it is now the default, see https://pandas.pydata.org/pdeps/0004-consistent-to-datetime-parsing.html. You can safely remove this argument.\n",
      "<magic-timeit>:1: UserWarning: The argument 'infer_datetime_format' is deprecated and will be removed in a future version. A strict version of it is now the default, see https://pandas.pydata.org/pdeps/0004-consistent-to-datetime-parsing.html. You can safely remove this argument.\n",
      "<magic-timeit>:1: UserWarning: The argument 'infer_datetime_format' is deprecated and will be removed in a future version. A strict version of it is now the default, see https://pandas.pydata.org/pdeps/0004-consistent-to-datetime-parsing.html. You can safely remove this argument.\n",
      "<magic-timeit>:1: UserWarning: The argument 'infer_datetime_format' is deprecated and will be removed in a future version. A strict version of it is now the default, see https://pandas.pydata.org/pdeps/0004-consistent-to-datetime-parsing.html. You can safely remove this argument.\n",
      "<magic-timeit>:1: UserWarning: The argument 'infer_datetime_format' is deprecated and will be removed in a future version. A strict version of it is now the default, see https://pandas.pydata.org/pdeps/0004-consistent-to-datetime-parsing.html. You can safely remove this argument.\n",
      "<magic-timeit>:1: UserWarning: The argument 'infer_datetime_format' is deprecated and will be removed in a future version. A strict version of it is now the default, see https://pandas.pydata.org/pdeps/0004-consistent-to-datetime-parsing.html. You can safely remove this argument.\n",
      "<magic-timeit>:1: UserWarning: The argument 'infer_datetime_format' is deprecated and will be removed in a future version. A strict version of it is now the default, see https://pandas.pydata.org/pdeps/0004-consistent-to-datetime-parsing.html. You can safely remove this argument.\n",
      "<magic-timeit>:1: UserWarning: The argument 'infer_datetime_format' is deprecated and will be removed in a future version. A strict version of it is now the default, see https://pandas.pydata.org/pdeps/0004-consistent-to-datetime-parsing.html. You can safely remove this argument.\n",
      "<magic-timeit>:1: UserWarning: The argument 'infer_datetime_format' is deprecated and will be removed in a future version. A strict version of it is now the default, see https://pandas.pydata.org/pdeps/0004-consistent-to-datetime-parsing.html. You can safely remove this argument.\n",
      "<magic-timeit>:1: UserWarning: The argument 'infer_datetime_format' is deprecated and will be removed in a future version. A strict version of it is now the default, see https://pandas.pydata.org/pdeps/0004-consistent-to-datetime-parsing.html. You can safely remove this argument.\n",
      "<magic-timeit>:1: UserWarning: The argument 'infer_datetime_format' is deprecated and will be removed in a future version. A strict version of it is now the default, see https://pandas.pydata.org/pdeps/0004-consistent-to-datetime-parsing.html. You can safely remove this argument.\n",
      "<magic-timeit>:1: UserWarning: The argument 'infer_datetime_format' is deprecated and will be removed in a future version. A strict version of it is now the default, see https://pandas.pydata.org/pdeps/0004-consistent-to-datetime-parsing.html. You can safely remove this argument.\n",
      "<magic-timeit>:1: UserWarning: The argument 'infer_datetime_format' is deprecated and will be removed in a future version. A strict version of it is now the default, see https://pandas.pydata.org/pdeps/0004-consistent-to-datetime-parsing.html. You can safely remove this argument.\n",
      "<magic-timeit>:1: UserWarning: The argument 'infer_datetime_format' is deprecated and will be removed in a future version. A strict version of it is now the default, see https://pandas.pydata.org/pdeps/0004-consistent-to-datetime-parsing.html. You can safely remove this argument.\n",
      "<magic-timeit>:1: UserWarning: The argument 'infer_datetime_format' is deprecated and will be removed in a future version. A strict version of it is now the default, see https://pandas.pydata.org/pdeps/0004-consistent-to-datetime-parsing.html. You can safely remove this argument.\n",
      "<magic-timeit>:1: UserWarning: The argument 'infer_datetime_format' is deprecated and will be removed in a future version. A strict version of it is now the default, see https://pandas.pydata.org/pdeps/0004-consistent-to-datetime-parsing.html. You can safely remove this argument.\n",
      "<magic-timeit>:1: UserWarning: The argument 'infer_datetime_format' is deprecated and will be removed in a future version. A strict version of it is now the default, see https://pandas.pydata.org/pdeps/0004-consistent-to-datetime-parsing.html. You can safely remove this argument.\n",
      "<magic-timeit>:1: UserWarning: The argument 'infer_datetime_format' is deprecated and will be removed in a future version. A strict version of it is now the default, see https://pandas.pydata.org/pdeps/0004-consistent-to-datetime-parsing.html. You can safely remove this argument.\n",
      "<magic-timeit>:1: UserWarning: The argument 'infer_datetime_format' is deprecated and will be removed in a future version. A strict version of it is now the default, see https://pandas.pydata.org/pdeps/0004-consistent-to-datetime-parsing.html. You can safely remove this argument.\n",
      "<magic-timeit>:1: UserWarning: The argument 'infer_datetime_format' is deprecated and will be removed in a future version. A strict version of it is now the default, see https://pandas.pydata.org/pdeps/0004-consistent-to-datetime-parsing.html. You can safely remove this argument.\n",
      "<magic-timeit>:1: UserWarning: The argument 'infer_datetime_format' is deprecated and will be removed in a future version. A strict version of it is now the default, see https://pandas.pydata.org/pdeps/0004-consistent-to-datetime-parsing.html. You can safely remove this argument.\n",
      "<magic-timeit>:1: UserWarning: The argument 'infer_datetime_format' is deprecated and will be removed in a future version. A strict version of it is now the default, see https://pandas.pydata.org/pdeps/0004-consistent-to-datetime-parsing.html. You can safely remove this argument.\n",
      "<magic-timeit>:1: UserWarning: The argument 'infer_datetime_format' is deprecated and will be removed in a future version. A strict version of it is now the default, see https://pandas.pydata.org/pdeps/0004-consistent-to-datetime-parsing.html. You can safely remove this argument.\n",
      "<magic-timeit>:1: UserWarning: The argument 'infer_datetime_format' is deprecated and will be removed in a future version. A strict version of it is now the default, see https://pandas.pydata.org/pdeps/0004-consistent-to-datetime-parsing.html. You can safely remove this argument.\n",
      "<magic-timeit>:1: UserWarning: The argument 'infer_datetime_format' is deprecated and will be removed in a future version. A strict version of it is now the default, see https://pandas.pydata.org/pdeps/0004-consistent-to-datetime-parsing.html. You can safely remove this argument.\n",
      "<magic-timeit>:1: UserWarning: The argument 'infer_datetime_format' is deprecated and will be removed in a future version. A strict version of it is now the default, see https://pandas.pydata.org/pdeps/0004-consistent-to-datetime-parsing.html. You can safely remove this argument.\n",
      "<magic-timeit>:1: UserWarning: The argument 'infer_datetime_format' is deprecated and will be removed in a future version. A strict version of it is now the default, see https://pandas.pydata.org/pdeps/0004-consistent-to-datetime-parsing.html. You can safely remove this argument.\n",
      "<magic-timeit>:1: UserWarning: The argument 'infer_datetime_format' is deprecated and will be removed in a future version. A strict version of it is now the default, see https://pandas.pydata.org/pdeps/0004-consistent-to-datetime-parsing.html. You can safely remove this argument.\n",
      "<magic-timeit>:1: UserWarning: The argument 'infer_datetime_format' is deprecated and will be removed in a future version. A strict version of it is now the default, see https://pandas.pydata.org/pdeps/0004-consistent-to-datetime-parsing.html. You can safely remove this argument.\n",
      "<magic-timeit>:1: UserWarning: The argument 'infer_datetime_format' is deprecated and will be removed in a future version. A strict version of it is now the default, see https://pandas.pydata.org/pdeps/0004-consistent-to-datetime-parsing.html. You can safely remove this argument.\n",
      "<magic-timeit>:1: UserWarning: The argument 'infer_datetime_format' is deprecated and will be removed in a future version. A strict version of it is now the default, see https://pandas.pydata.org/pdeps/0004-consistent-to-datetime-parsing.html. You can safely remove this argument.\n",
      "<magic-timeit>:1: UserWarning: The argument 'infer_datetime_format' is deprecated and will be removed in a future version. A strict version of it is now the default, see https://pandas.pydata.org/pdeps/0004-consistent-to-datetime-parsing.html. You can safely remove this argument.\n",
      "<magic-timeit>:1: UserWarning: The argument 'infer_datetime_format' is deprecated and will be removed in a future version. A strict version of it is now the default, see https://pandas.pydata.org/pdeps/0004-consistent-to-datetime-parsing.html. You can safely remove this argument.\n",
      "<magic-timeit>:1: UserWarning: The argument 'infer_datetime_format' is deprecated and will be removed in a future version. A strict version of it is now the default, see https://pandas.pydata.org/pdeps/0004-consistent-to-datetime-parsing.html. You can safely remove this argument.\n",
      "<magic-timeit>:1: UserWarning: The argument 'infer_datetime_format' is deprecated and will be removed in a future version. A strict version of it is now the default, see https://pandas.pydata.org/pdeps/0004-consistent-to-datetime-parsing.html. You can safely remove this argument.\n",
      "<magic-timeit>:1: UserWarning: The argument 'infer_datetime_format' is deprecated and will be removed in a future version. A strict version of it is now the default, see https://pandas.pydata.org/pdeps/0004-consistent-to-datetime-parsing.html. You can safely remove this argument.\n",
      "<magic-timeit>:1: UserWarning: The argument 'infer_datetime_format' is deprecated and will be removed in a future version. A strict version of it is now the default, see https://pandas.pydata.org/pdeps/0004-consistent-to-datetime-parsing.html. You can safely remove this argument.\n",
      "<magic-timeit>:1: UserWarning: The argument 'infer_datetime_format' is deprecated and will be removed in a future version. A strict version of it is now the default, see https://pandas.pydata.org/pdeps/0004-consistent-to-datetime-parsing.html. You can safely remove this argument.\n",
      "<magic-timeit>:1: UserWarning: The argument 'infer_datetime_format' is deprecated and will be removed in a future version. A strict version of it is now the default, see https://pandas.pydata.org/pdeps/0004-consistent-to-datetime-parsing.html. You can safely remove this argument.\n",
      "<magic-timeit>:1: UserWarning: The argument 'infer_datetime_format' is deprecated and will be removed in a future version. A strict version of it is now the default, see https://pandas.pydata.org/pdeps/0004-consistent-to-datetime-parsing.html. You can safely remove this argument.\n",
      "<magic-timeit>:1: UserWarning: The argument 'infer_datetime_format' is deprecated and will be removed in a future version. A strict version of it is now the default, see https://pandas.pydata.org/pdeps/0004-consistent-to-datetime-parsing.html. You can safely remove this argument.\n",
      "<magic-timeit>:1: UserWarning: The argument 'infer_datetime_format' is deprecated and will be removed in a future version. A strict version of it is now the default, see https://pandas.pydata.org/pdeps/0004-consistent-to-datetime-parsing.html. You can safely remove this argument.\n",
      "<magic-timeit>:1: UserWarning: The argument 'infer_datetime_format' is deprecated and will be removed in a future version. A strict version of it is now the default, see https://pandas.pydata.org/pdeps/0004-consistent-to-datetime-parsing.html. You can safely remove this argument.\n",
      "<magic-timeit>:1: UserWarning: The argument 'infer_datetime_format' is deprecated and will be removed in a future version. A strict version of it is now the default, see https://pandas.pydata.org/pdeps/0004-consistent-to-datetime-parsing.html. You can safely remove this argument.\n",
      "<magic-timeit>:1: UserWarning: The argument 'infer_datetime_format' is deprecated and will be removed in a future version. A strict version of it is now the default, see https://pandas.pydata.org/pdeps/0004-consistent-to-datetime-parsing.html. You can safely remove this argument.\n",
      "<magic-timeit>:1: UserWarning: The argument 'infer_datetime_format' is deprecated and will be removed in a future version. A strict version of it is now the default, see https://pandas.pydata.org/pdeps/0004-consistent-to-datetime-parsing.html. You can safely remove this argument.\n",
      "<magic-timeit>:1: UserWarning: The argument 'infer_datetime_format' is deprecated and will be removed in a future version. A strict version of it is now the default, see https://pandas.pydata.org/pdeps/0004-consistent-to-datetime-parsing.html. You can safely remove this argument.\n",
      "<magic-timeit>:1: UserWarning: The argument 'infer_datetime_format' is deprecated and will be removed in a future version. A strict version of it is now the default, see https://pandas.pydata.org/pdeps/0004-consistent-to-datetime-parsing.html. You can safely remove this argument.\n",
      "<magic-timeit>:1: UserWarning: The argument 'infer_datetime_format' is deprecated and will be removed in a future version. A strict version of it is now the default, see https://pandas.pydata.org/pdeps/0004-consistent-to-datetime-parsing.html. You can safely remove this argument.\n",
      "<magic-timeit>:1: UserWarning: The argument 'infer_datetime_format' is deprecated and will be removed in a future version. A strict version of it is now the default, see https://pandas.pydata.org/pdeps/0004-consistent-to-datetime-parsing.html. You can safely remove this argument.\n",
      "<magic-timeit>:1: UserWarning: The argument 'infer_datetime_format' is deprecated and will be removed in a future version. A strict version of it is now the default, see https://pandas.pydata.org/pdeps/0004-consistent-to-datetime-parsing.html. You can safely remove this argument.\n",
      "<magic-timeit>:1: UserWarning: The argument 'infer_datetime_format' is deprecated and will be removed in a future version. A strict version of it is now the default, see https://pandas.pydata.org/pdeps/0004-consistent-to-datetime-parsing.html. You can safely remove this argument.\n",
      "<magic-timeit>:1: UserWarning: The argument 'infer_datetime_format' is deprecated and will be removed in a future version. A strict version of it is now the default, see https://pandas.pydata.org/pdeps/0004-consistent-to-datetime-parsing.html. You can safely remove this argument.\n",
      "<magic-timeit>:1: UserWarning: The argument 'infer_datetime_format' is deprecated and will be removed in a future version. A strict version of it is now the default, see https://pandas.pydata.org/pdeps/0004-consistent-to-datetime-parsing.html. You can safely remove this argument.\n",
      "<magic-timeit>:1: UserWarning: The argument 'infer_datetime_format' is deprecated and will be removed in a future version. A strict version of it is now the default, see https://pandas.pydata.org/pdeps/0004-consistent-to-datetime-parsing.html. You can safely remove this argument.\n",
      "<magic-timeit>:1: UserWarning: The argument 'infer_datetime_format' is deprecated and will be removed in a future version. A strict version of it is now the default, see https://pandas.pydata.org/pdeps/0004-consistent-to-datetime-parsing.html. You can safely remove this argument.\n",
      "<magic-timeit>:1: UserWarning: The argument 'infer_datetime_format' is deprecated and will be removed in a future version. A strict version of it is now the default, see https://pandas.pydata.org/pdeps/0004-consistent-to-datetime-parsing.html. You can safely remove this argument.\n",
      "<magic-timeit>:1: UserWarning: The argument 'infer_datetime_format' is deprecated and will be removed in a future version. A strict version of it is now the default, see https://pandas.pydata.org/pdeps/0004-consistent-to-datetime-parsing.html. You can safely remove this argument.\n",
      "<magic-timeit>:1: UserWarning: The argument 'infer_datetime_format' is deprecated and will be removed in a future version. A strict version of it is now the default, see https://pandas.pydata.org/pdeps/0004-consistent-to-datetime-parsing.html. You can safely remove this argument.\n",
      "<magic-timeit>:1: UserWarning: The argument 'infer_datetime_format' is deprecated and will be removed in a future version. A strict version of it is now the default, see https://pandas.pydata.org/pdeps/0004-consistent-to-datetime-parsing.html. You can safely remove this argument.\n",
      "<magic-timeit>:1: UserWarning: The argument 'infer_datetime_format' is deprecated and will be removed in a future version. A strict version of it is now the default, see https://pandas.pydata.org/pdeps/0004-consistent-to-datetime-parsing.html. You can safely remove this argument.\n",
      "<magic-timeit>:1: UserWarning: The argument 'infer_datetime_format' is deprecated and will be removed in a future version. A strict version of it is now the default, see https://pandas.pydata.org/pdeps/0004-consistent-to-datetime-parsing.html. You can safely remove this argument.\n",
      "<magic-timeit>:1: UserWarning: The argument 'infer_datetime_format' is deprecated and will be removed in a future version. A strict version of it is now the default, see https://pandas.pydata.org/pdeps/0004-consistent-to-datetime-parsing.html. You can safely remove this argument.\n",
      "<magic-timeit>:1: UserWarning: The argument 'infer_datetime_format' is deprecated and will be removed in a future version. A strict version of it is now the default, see https://pandas.pydata.org/pdeps/0004-consistent-to-datetime-parsing.html. You can safely remove this argument.\n",
      "<magic-timeit>:1: UserWarning: The argument 'infer_datetime_format' is deprecated and will be removed in a future version. A strict version of it is now the default, see https://pandas.pydata.org/pdeps/0004-consistent-to-datetime-parsing.html. You can safely remove this argument.\n",
      "<magic-timeit>:1: UserWarning: The argument 'infer_datetime_format' is deprecated and will be removed in a future version. A strict version of it is now the default, see https://pandas.pydata.org/pdeps/0004-consistent-to-datetime-parsing.html. You can safely remove this argument.\n",
      "<magic-timeit>:1: UserWarning: The argument 'infer_datetime_format' is deprecated and will be removed in a future version. A strict version of it is now the default, see https://pandas.pydata.org/pdeps/0004-consistent-to-datetime-parsing.html. You can safely remove this argument.\n",
      "<magic-timeit>:1: UserWarning: The argument 'infer_datetime_format' is deprecated and will be removed in a future version. A strict version of it is now the default, see https://pandas.pydata.org/pdeps/0004-consistent-to-datetime-parsing.html. You can safely remove this argument.\n",
      "<magic-timeit>:1: UserWarning: The argument 'infer_datetime_format' is deprecated and will be removed in a future version. A strict version of it is now the default, see https://pandas.pydata.org/pdeps/0004-consistent-to-datetime-parsing.html. You can safely remove this argument.\n",
      "<magic-timeit>:1: UserWarning: The argument 'infer_datetime_format' is deprecated and will be removed in a future version. A strict version of it is now the default, see https://pandas.pydata.org/pdeps/0004-consistent-to-datetime-parsing.html. You can safely remove this argument.\n",
      "<magic-timeit>:1: UserWarning: The argument 'infer_datetime_format' is deprecated and will be removed in a future version. A strict version of it is now the default, see https://pandas.pydata.org/pdeps/0004-consistent-to-datetime-parsing.html. You can safely remove this argument.\n",
      "<magic-timeit>:1: UserWarning: The argument 'infer_datetime_format' is deprecated and will be removed in a future version. A strict version of it is now the default, see https://pandas.pydata.org/pdeps/0004-consistent-to-datetime-parsing.html. You can safely remove this argument.\n",
      "<magic-timeit>:1: UserWarning: The argument 'infer_datetime_format' is deprecated and will be removed in a future version. A strict version of it is now the default, see https://pandas.pydata.org/pdeps/0004-consistent-to-datetime-parsing.html. You can safely remove this argument.\n",
      "<magic-timeit>:1: UserWarning: The argument 'infer_datetime_format' is deprecated and will be removed in a future version. A strict version of it is now the default, see https://pandas.pydata.org/pdeps/0004-consistent-to-datetime-parsing.html. You can safely remove this argument.\n",
      "<magic-timeit>:1: UserWarning: The argument 'infer_datetime_format' is deprecated and will be removed in a future version. A strict version of it is now the default, see https://pandas.pydata.org/pdeps/0004-consistent-to-datetime-parsing.html. You can safely remove this argument.\n",
      "<magic-timeit>:1: UserWarning: The argument 'infer_datetime_format' is deprecated and will be removed in a future version. A strict version of it is now the default, see https://pandas.pydata.org/pdeps/0004-consistent-to-datetime-parsing.html. You can safely remove this argument.\n",
      "<magic-timeit>:1: UserWarning: The argument 'infer_datetime_format' is deprecated and will be removed in a future version. A strict version of it is now the default, see https://pandas.pydata.org/pdeps/0004-consistent-to-datetime-parsing.html. You can safely remove this argument.\n",
      "<magic-timeit>:1: UserWarning: The argument 'infer_datetime_format' is deprecated and will be removed in a future version. A strict version of it is now the default, see https://pandas.pydata.org/pdeps/0004-consistent-to-datetime-parsing.html. You can safely remove this argument.\n",
      "<magic-timeit>:1: UserWarning: The argument 'infer_datetime_format' is deprecated and will be removed in a future version. A strict version of it is now the default, see https://pandas.pydata.org/pdeps/0004-consistent-to-datetime-parsing.html. You can safely remove this argument.\n",
      "<magic-timeit>:1: UserWarning: The argument 'infer_datetime_format' is deprecated and will be removed in a future version. A strict version of it is now the default, see https://pandas.pydata.org/pdeps/0004-consistent-to-datetime-parsing.html. You can safely remove this argument.\n",
      "<magic-timeit>:1: UserWarning: The argument 'infer_datetime_format' is deprecated and will be removed in a future version. A strict version of it is now the default, see https://pandas.pydata.org/pdeps/0004-consistent-to-datetime-parsing.html. You can safely remove this argument.\n",
      "<magic-timeit>:1: UserWarning: The argument 'infer_datetime_format' is deprecated and will be removed in a future version. A strict version of it is now the default, see https://pandas.pydata.org/pdeps/0004-consistent-to-datetime-parsing.html. You can safely remove this argument.\n",
      "<magic-timeit>:1: UserWarning: The argument 'infer_datetime_format' is deprecated and will be removed in a future version. A strict version of it is now the default, see https://pandas.pydata.org/pdeps/0004-consistent-to-datetime-parsing.html. You can safely remove this argument.\n",
      "<magic-timeit>:1: UserWarning: The argument 'infer_datetime_format' is deprecated and will be removed in a future version. A strict version of it is now the default, see https://pandas.pydata.org/pdeps/0004-consistent-to-datetime-parsing.html. You can safely remove this argument.\n",
      "<magic-timeit>:1: UserWarning: The argument 'infer_datetime_format' is deprecated and will be removed in a future version. A strict version of it is now the default, see https://pandas.pydata.org/pdeps/0004-consistent-to-datetime-parsing.html. You can safely remove this argument.\n",
      "<magic-timeit>:1: UserWarning: The argument 'infer_datetime_format' is deprecated and will be removed in a future version. A strict version of it is now the default, see https://pandas.pydata.org/pdeps/0004-consistent-to-datetime-parsing.html. You can safely remove this argument.\n",
      "<magic-timeit>:1: UserWarning: The argument 'infer_datetime_format' is deprecated and will be removed in a future version. A strict version of it is now the default, see https://pandas.pydata.org/pdeps/0004-consistent-to-datetime-parsing.html. You can safely remove this argument.\n",
      "<magic-timeit>:1: UserWarning: The argument 'infer_datetime_format' is deprecated and will be removed in a future version. A strict version of it is now the default, see https://pandas.pydata.org/pdeps/0004-consistent-to-datetime-parsing.html. You can safely remove this argument.\n",
      "<magic-timeit>:1: UserWarning: The argument 'infer_datetime_format' is deprecated and will be removed in a future version. A strict version of it is now the default, see https://pandas.pydata.org/pdeps/0004-consistent-to-datetime-parsing.html. You can safely remove this argument.\n",
      "<magic-timeit>:1: UserWarning: The argument 'infer_datetime_format' is deprecated and will be removed in a future version. A strict version of it is now the default, see https://pandas.pydata.org/pdeps/0004-consistent-to-datetime-parsing.html. You can safely remove this argument.\n",
      "<magic-timeit>:1: UserWarning: The argument 'infer_datetime_format' is deprecated and will be removed in a future version. A strict version of it is now the default, see https://pandas.pydata.org/pdeps/0004-consistent-to-datetime-parsing.html. You can safely remove this argument.\n",
      "<magic-timeit>:1: UserWarning: The argument 'infer_datetime_format' is deprecated and will be removed in a future version. A strict version of it is now the default, see https://pandas.pydata.org/pdeps/0004-consistent-to-datetime-parsing.html. You can safely remove this argument.\n",
      "<magic-timeit>:1: UserWarning: The argument 'infer_datetime_format' is deprecated and will be removed in a future version. A strict version of it is now the default, see https://pandas.pydata.org/pdeps/0004-consistent-to-datetime-parsing.html. You can safely remove this argument.\n",
      "<magic-timeit>:1: UserWarning: The argument 'infer_datetime_format' is deprecated and will be removed in a future version. A strict version of it is now the default, see https://pandas.pydata.org/pdeps/0004-consistent-to-datetime-parsing.html. You can safely remove this argument.\n",
      "<magic-timeit>:1: UserWarning: The argument 'infer_datetime_format' is deprecated and will be removed in a future version. A strict version of it is now the default, see https://pandas.pydata.org/pdeps/0004-consistent-to-datetime-parsing.html. You can safely remove this argument.\n",
      "<magic-timeit>:1: UserWarning: The argument 'infer_datetime_format' is deprecated and will be removed in a future version. A strict version of it is now the default, see https://pandas.pydata.org/pdeps/0004-consistent-to-datetime-parsing.html. You can safely remove this argument.\n",
      "<magic-timeit>:1: UserWarning: The argument 'infer_datetime_format' is deprecated and will be removed in a future version. A strict version of it is now the default, see https://pandas.pydata.org/pdeps/0004-consistent-to-datetime-parsing.html. You can safely remove this argument.\n",
      "<magic-timeit>:1: UserWarning: The argument 'infer_datetime_format' is deprecated and will be removed in a future version. A strict version of it is now the default, see https://pandas.pydata.org/pdeps/0004-consistent-to-datetime-parsing.html. You can safely remove this argument.\n",
      "<magic-timeit>:1: UserWarning: The argument 'infer_datetime_format' is deprecated and will be removed in a future version. A strict version of it is now the default, see https://pandas.pydata.org/pdeps/0004-consistent-to-datetime-parsing.html. You can safely remove this argument.\n",
      "<magic-timeit>:1: UserWarning: The argument 'infer_datetime_format' is deprecated and will be removed in a future version. A strict version of it is now the default, see https://pandas.pydata.org/pdeps/0004-consistent-to-datetime-parsing.html. You can safely remove this argument.\n",
      "<magic-timeit>:1: UserWarning: The argument 'infer_datetime_format' is deprecated and will be removed in a future version. A strict version of it is now the default, see https://pandas.pydata.org/pdeps/0004-consistent-to-datetime-parsing.html. You can safely remove this argument.\n",
      "<magic-timeit>:1: UserWarning: The argument 'infer_datetime_format' is deprecated and will be removed in a future version. A strict version of it is now the default, see https://pandas.pydata.org/pdeps/0004-consistent-to-datetime-parsing.html. You can safely remove this argument.\n",
      "<magic-timeit>:1: UserWarning: The argument 'infer_datetime_format' is deprecated and will be removed in a future version. A strict version of it is now the default, see https://pandas.pydata.org/pdeps/0004-consistent-to-datetime-parsing.html. You can safely remove this argument.\n",
      "<magic-timeit>:1: UserWarning: The argument 'infer_datetime_format' is deprecated and will be removed in a future version. A strict version of it is now the default, see https://pandas.pydata.org/pdeps/0004-consistent-to-datetime-parsing.html. You can safely remove this argument.\n",
      "<magic-timeit>:1: UserWarning: The argument 'infer_datetime_format' is deprecated and will be removed in a future version. A strict version of it is now the default, see https://pandas.pydata.org/pdeps/0004-consistent-to-datetime-parsing.html. You can safely remove this argument.\n",
      "<magic-timeit>:1: UserWarning: The argument 'infer_datetime_format' is deprecated and will be removed in a future version. A strict version of it is now the default, see https://pandas.pydata.org/pdeps/0004-consistent-to-datetime-parsing.html. You can safely remove this argument.\n",
      "<magic-timeit>:1: UserWarning: The argument 'infer_datetime_format' is deprecated and will be removed in a future version. A strict version of it is now the default, see https://pandas.pydata.org/pdeps/0004-consistent-to-datetime-parsing.html. You can safely remove this argument.\n",
      "<magic-timeit>:1: UserWarning: The argument 'infer_datetime_format' is deprecated and will be removed in a future version. A strict version of it is now the default, see https://pandas.pydata.org/pdeps/0004-consistent-to-datetime-parsing.html. You can safely remove this argument.\n",
      "<magic-timeit>:1: UserWarning: The argument 'infer_datetime_format' is deprecated and will be removed in a future version. A strict version of it is now the default, see https://pandas.pydata.org/pdeps/0004-consistent-to-datetime-parsing.html. You can safely remove this argument.\n",
      "<magic-timeit>:1: UserWarning: The argument 'infer_datetime_format' is deprecated and will be removed in a future version. A strict version of it is now the default, see https://pandas.pydata.org/pdeps/0004-consistent-to-datetime-parsing.html. You can safely remove this argument.\n",
      "<magic-timeit>:1: UserWarning: The argument 'infer_datetime_format' is deprecated and will be removed in a future version. A strict version of it is now the default, see https://pandas.pydata.org/pdeps/0004-consistent-to-datetime-parsing.html. You can safely remove this argument.\n",
      "<magic-timeit>:1: UserWarning: The argument 'infer_datetime_format' is deprecated and will be removed in a future version. A strict version of it is now the default, see https://pandas.pydata.org/pdeps/0004-consistent-to-datetime-parsing.html. You can safely remove this argument.\n",
      "<magic-timeit>:1: UserWarning: The argument 'infer_datetime_format' is deprecated and will be removed in a future version. A strict version of it is now the default, see https://pandas.pydata.org/pdeps/0004-consistent-to-datetime-parsing.html. You can safely remove this argument.\n",
      "<magic-timeit>:1: UserWarning: The argument 'infer_datetime_format' is deprecated and will be removed in a future version. A strict version of it is now the default, see https://pandas.pydata.org/pdeps/0004-consistent-to-datetime-parsing.html. You can safely remove this argument.\n",
      "<magic-timeit>:1: UserWarning: The argument 'infer_datetime_format' is deprecated and will be removed in a future version. A strict version of it is now the default, see https://pandas.pydata.org/pdeps/0004-consistent-to-datetime-parsing.html. You can safely remove this argument.\n",
      "<magic-timeit>:1: UserWarning: The argument 'infer_datetime_format' is deprecated and will be removed in a future version. A strict version of it is now the default, see https://pandas.pydata.org/pdeps/0004-consistent-to-datetime-parsing.html. You can safely remove this argument.\n",
      "<magic-timeit>:1: UserWarning: The argument 'infer_datetime_format' is deprecated and will be removed in a future version. A strict version of it is now the default, see https://pandas.pydata.org/pdeps/0004-consistent-to-datetime-parsing.html. You can safely remove this argument.\n",
      "<magic-timeit>:1: UserWarning: The argument 'infer_datetime_format' is deprecated and will be removed in a future version. A strict version of it is now the default, see https://pandas.pydata.org/pdeps/0004-consistent-to-datetime-parsing.html. You can safely remove this argument.\n",
      "<magic-timeit>:1: UserWarning: The argument 'infer_datetime_format' is deprecated and will be removed in a future version. A strict version of it is now the default, see https://pandas.pydata.org/pdeps/0004-consistent-to-datetime-parsing.html. You can safely remove this argument.\n",
      "<magic-timeit>:1: UserWarning: The argument 'infer_datetime_format' is deprecated and will be removed in a future version. A strict version of it is now the default, see https://pandas.pydata.org/pdeps/0004-consistent-to-datetime-parsing.html. You can safely remove this argument.\n",
      "<magic-timeit>:1: UserWarning: The argument 'infer_datetime_format' is deprecated and will be removed in a future version. A strict version of it is now the default, see https://pandas.pydata.org/pdeps/0004-consistent-to-datetime-parsing.html. You can safely remove this argument.\n",
      "<magic-timeit>:1: UserWarning: The argument 'infer_datetime_format' is deprecated and will be removed in a future version. A strict version of it is now the default, see https://pandas.pydata.org/pdeps/0004-consistent-to-datetime-parsing.html. You can safely remove this argument.\n",
      "<magic-timeit>:1: UserWarning: The argument 'infer_datetime_format' is deprecated and will be removed in a future version. A strict version of it is now the default, see https://pandas.pydata.org/pdeps/0004-consistent-to-datetime-parsing.html. You can safely remove this argument.\n",
      "<magic-timeit>:1: UserWarning: The argument 'infer_datetime_format' is deprecated and will be removed in a future version. A strict version of it is now the default, see https://pandas.pydata.org/pdeps/0004-consistent-to-datetime-parsing.html. You can safely remove this argument.\n",
      "<magic-timeit>:1: UserWarning: The argument 'infer_datetime_format' is deprecated and will be removed in a future version. A strict version of it is now the default, see https://pandas.pydata.org/pdeps/0004-consistent-to-datetime-parsing.html. You can safely remove this argument.\n",
      "<magic-timeit>:1: UserWarning: The argument 'infer_datetime_format' is deprecated and will be removed in a future version. A strict version of it is now the default, see https://pandas.pydata.org/pdeps/0004-consistent-to-datetime-parsing.html. You can safely remove this argument.\n",
      "<magic-timeit>:1: UserWarning: The argument 'infer_datetime_format' is deprecated and will be removed in a future version. A strict version of it is now the default, see https://pandas.pydata.org/pdeps/0004-consistent-to-datetime-parsing.html. You can safely remove this argument.\n",
      "<magic-timeit>:1: UserWarning: The argument 'infer_datetime_format' is deprecated and will be removed in a future version. A strict version of it is now the default, see https://pandas.pydata.org/pdeps/0004-consistent-to-datetime-parsing.html. You can safely remove this argument.\n",
      "<magic-timeit>:1: UserWarning: The argument 'infer_datetime_format' is deprecated and will be removed in a future version. A strict version of it is now the default, see https://pandas.pydata.org/pdeps/0004-consistent-to-datetime-parsing.html. You can safely remove this argument.\n",
      "<magic-timeit>:1: UserWarning: The argument 'infer_datetime_format' is deprecated and will be removed in a future version. A strict version of it is now the default, see https://pandas.pydata.org/pdeps/0004-consistent-to-datetime-parsing.html. You can safely remove this argument.\n"
     ]
    },
    {
     "name": "stdout",
     "output_type": "stream",
     "text": [
      "2.08 ms ± 41.9 µs per loop (mean ± std. dev. of 7 runs, 100 loops each)\n"
     ]
    },
    {
     "name": "stderr",
     "output_type": "stream",
     "text": [
      "<magic-timeit>:1: UserWarning: The argument 'infer_datetime_format' is deprecated and will be removed in a future version. A strict version of it is now the default, see https://pandas.pydata.org/pdeps/0004-consistent-to-datetime-parsing.html. You can safely remove this argument.\n",
      "<magic-timeit>:1: UserWarning: The argument 'infer_datetime_format' is deprecated and will be removed in a future version. A strict version of it is now the default, see https://pandas.pydata.org/pdeps/0004-consistent-to-datetime-parsing.html. You can safely remove this argument.\n",
      "<magic-timeit>:1: UserWarning: The argument 'infer_datetime_format' is deprecated and will be removed in a future version. A strict version of it is now the default, see https://pandas.pydata.org/pdeps/0004-consistent-to-datetime-parsing.html. You can safely remove this argument.\n",
      "<magic-timeit>:1: UserWarning: The argument 'infer_datetime_format' is deprecated and will be removed in a future version. A strict version of it is now the default, see https://pandas.pydata.org/pdeps/0004-consistent-to-datetime-parsing.html. You can safely remove this argument.\n",
      "<magic-timeit>:1: UserWarning: The argument 'infer_datetime_format' is deprecated and will be removed in a future version. A strict version of it is now the default, see https://pandas.pydata.org/pdeps/0004-consistent-to-datetime-parsing.html. You can safely remove this argument.\n",
      "<magic-timeit>:1: UserWarning: The argument 'infer_datetime_format' is deprecated and will be removed in a future version. A strict version of it is now the default, see https://pandas.pydata.org/pdeps/0004-consistent-to-datetime-parsing.html. You can safely remove this argument.\n",
      "<magic-timeit>:1: UserWarning: The argument 'infer_datetime_format' is deprecated and will be removed in a future version. A strict version of it is now the default, see https://pandas.pydata.org/pdeps/0004-consistent-to-datetime-parsing.html. You can safely remove this argument.\n",
      "<magic-timeit>:1: UserWarning: The argument 'infer_datetime_format' is deprecated and will be removed in a future version. A strict version of it is now the default, see https://pandas.pydata.org/pdeps/0004-consistent-to-datetime-parsing.html. You can safely remove this argument.\n",
      "<magic-timeit>:1: UserWarning: The argument 'infer_datetime_format' is deprecated and will be removed in a future version. A strict version of it is now the default, see https://pandas.pydata.org/pdeps/0004-consistent-to-datetime-parsing.html. You can safely remove this argument.\n",
      "<magic-timeit>:1: UserWarning: The argument 'infer_datetime_format' is deprecated and will be removed in a future version. A strict version of it is now the default, see https://pandas.pydata.org/pdeps/0004-consistent-to-datetime-parsing.html. You can safely remove this argument.\n",
      "<magic-timeit>:1: UserWarning: The argument 'infer_datetime_format' is deprecated and will be removed in a future version. A strict version of it is now the default, see https://pandas.pydata.org/pdeps/0004-consistent-to-datetime-parsing.html. You can safely remove this argument.\n",
      "<magic-timeit>:1: UserWarning: The argument 'infer_datetime_format' is deprecated and will be removed in a future version. A strict version of it is now the default, see https://pandas.pydata.org/pdeps/0004-consistent-to-datetime-parsing.html. You can safely remove this argument.\n",
      "<magic-timeit>:1: UserWarning: The argument 'infer_datetime_format' is deprecated and will be removed in a future version. A strict version of it is now the default, see https://pandas.pydata.org/pdeps/0004-consistent-to-datetime-parsing.html. You can safely remove this argument.\n",
      "<magic-timeit>:1: UserWarning: The argument 'infer_datetime_format' is deprecated and will be removed in a future version. A strict version of it is now the default, see https://pandas.pydata.org/pdeps/0004-consistent-to-datetime-parsing.html. You can safely remove this argument.\n",
      "<magic-timeit>:1: UserWarning: The argument 'infer_datetime_format' is deprecated and will be removed in a future version. A strict version of it is now the default, see https://pandas.pydata.org/pdeps/0004-consistent-to-datetime-parsing.html. You can safely remove this argument.\n",
      "<magic-timeit>:1: UserWarning: The argument 'infer_datetime_format' is deprecated and will be removed in a future version. A strict version of it is now the default, see https://pandas.pydata.org/pdeps/0004-consistent-to-datetime-parsing.html. You can safely remove this argument.\n",
      "<magic-timeit>:1: UserWarning: The argument 'infer_datetime_format' is deprecated and will be removed in a future version. A strict version of it is now the default, see https://pandas.pydata.org/pdeps/0004-consistent-to-datetime-parsing.html. You can safely remove this argument.\n",
      "<magic-timeit>:1: UserWarning: The argument 'infer_datetime_format' is deprecated and will be removed in a future version. A strict version of it is now the default, see https://pandas.pydata.org/pdeps/0004-consistent-to-datetime-parsing.html. You can safely remove this argument.\n",
      "<magic-timeit>:1: UserWarning: The argument 'infer_datetime_format' is deprecated and will be removed in a future version. A strict version of it is now the default, see https://pandas.pydata.org/pdeps/0004-consistent-to-datetime-parsing.html. You can safely remove this argument.\n"
     ]
    }
   ],
   "source": [
    "#timeit可以统计执行耗时，to_datetime把字符串转为时间格式\n",
    "%timeit pd.to_datetime(s, infer_datetime_format=True)  "
   ]
  },
  {
   "attachments": {},
   "cell_type": "markdown",
   "metadata": {},
   "source": [
    "### 实战美国911数据\n",
    "\n"
   ]
  },
  {
   "cell_type": "code",
   "execution_count": null,
   "metadata": {},
   "outputs": [],
   "source": []
  },
  {
   "cell_type": "code",
   "execution_count": 171,
   "metadata": {},
   "outputs": [
    {
     "name": "stdout",
     "output_type": "stream",
     "text": [
      "   No  year  month  day  hour  season  PM_Dongsi  PM_Dongsihuan  \\\n",
      "0   1  2010      1    1     0       4        NaN            NaN   \n",
      "1   2  2010      1    1     1       4        NaN            NaN   \n",
      "2   3  2010      1    1     2       4        NaN            NaN   \n",
      "3   4  2010      1    1     3       4        NaN            NaN   \n",
      "4   5  2010      1    1     4       4        NaN            NaN   \n",
      "5   6  2010      1    1     5       4        NaN            NaN   \n",
      "6   7  2010      1    1     6       4        NaN            NaN   \n",
      "7   8  2010      1    1     7       4        NaN            NaN   \n",
      "8   9  2010      1    1     8       4        NaN            NaN   \n",
      "9  10  2010      1    1     9       4        NaN            NaN   \n",
      "\n",
      "   PM_Nongzhanguan  PM_US Post  DEWP  HUMI    PRES  TEMP cbwd    Iws  \\\n",
      "0              NaN         NaN -21.0  43.0  1021.0 -11.0   NW   1.79   \n",
      "1              NaN         NaN -21.0  47.0  1020.0 -12.0   NW   4.92   \n",
      "2              NaN         NaN -21.0  43.0  1019.0 -11.0   NW   6.71   \n",
      "3              NaN         NaN -21.0  55.0  1019.0 -14.0   NW   9.84   \n",
      "4              NaN         NaN -20.0  51.0  1018.0 -12.0   NW  12.97   \n",
      "5              NaN         NaN -19.0  47.0  1017.0 -10.0   NW  16.10   \n",
      "6              NaN         NaN -19.0  44.0  1017.0  -9.0   NW  19.23   \n",
      "7              NaN         NaN -19.0  44.0  1017.0  -9.0   NW  21.02   \n",
      "8              NaN         NaN -19.0  44.0  1017.0  -9.0   NW  24.15   \n",
      "9              NaN         NaN -20.0  37.0  1017.0  -8.0   NW  27.28   \n",
      "\n",
      "   precipitation  Iprec          datetime  \n",
      "0            0.0    0.0  2010-01-01 00:00  \n",
      "1            0.0    0.0  2010-01-01 01:00  \n",
      "2            0.0    0.0  2010-01-01 02:00  \n",
      "3            0.0    0.0  2010-01-01 03:00  \n",
      "4            0.0    0.0  2010-01-01 04:00  \n",
      "5            0.0    0.0  2010-01-01 05:00  \n",
      "6            0.0    0.0  2010-01-01 06:00  \n",
      "7            0.0    0.0  2010-01-01 07:00  \n",
      "8            0.0    0.0  2010-01-01 08:00  \n",
      "9            0.0    0.0  2010-01-01 09:00  \n"
     ]
    }
   ],
   "source": [
    "file_path = \"./pm2.5/BeijingPM20100101_20151231.csv\"\n",
    "\n",
    "df = pd.read_csv(file_path)\n",
    "# print(df.head(10))\n",
    "\n",
    "# 把分开的时间字符串通过periodIndex的方法转化为pandas的时间类型\n",
    "period = pd.PeriodIndex(year=df[\"year\"], month=df[\"month\"], day=df[\"day\"],\n",
    "                        hour=df[\"hour\"], freq=\"H\")\n",
    "df[\"datetime\"] = period\n",
    "print(df.head(10))\n",
    "# 把datetime 设置为索引\n",
    "df.set_index(\"datetime\", inplace=True)"
   ]
  },
  {
   "cell_type": "code",
   "execution_count": 173,
   "metadata": {},
   "outputs": [
    {
     "name": "stdout",
     "output_type": "stream",
     "text": [
      "            PM_Dongsi  PM_Dongsihuan  PM_Nongzhanguan  PM_US Post       DEWP  \\\n",
      "datetime                                                                       \n",
      "2010-01-01        NaN            NaN              NaN   71.627586 -18.255952   \n",
      "2010-01-08        NaN            NaN              NaN   69.910714 -19.035714   \n",
      "2010-01-15        NaN            NaN              NaN  163.654762 -12.630952   \n",
      "2010-01-22        NaN            NaN              NaN   68.069307 -17.404762   \n",
      "2010-01-29        NaN            NaN              NaN   53.583333 -17.565476   \n",
      "\n",
      "                 HUMI         PRES       TEMP        Iws  precipitation  \\\n",
      "datetime                                                                  \n",
      "2010-01-01  54.395833  1027.910714 -10.202381  43.859821       0.066667   \n",
      "2010-01-08  49.386905  1030.035714 -10.029762  45.392083       0.000000   \n",
      "2010-01-15  57.755952  1030.386905  -4.946429  17.492976       0.000000   \n",
      "2010-01-22  34.095238  1026.196429  -2.672619  54.854048       0.000000   \n",
      "2010-01-29  34.928571  1025.273810  -2.083333  26.625119       0.000000   \n",
      "\n",
      "               Iprec  \n",
      "datetime              \n",
      "2010-01-01  0.786905  \n",
      "2010-01-08  0.000000  \n",
      "2010-01-15  0.000000  \n",
      "2010-01-22  0.000000  \n",
      "2010-01-29  0.000000  \n"
     ]
    }
   ],
   "source": [
    "\n",
    "\n",
    "# 进行降采样，进行降采样，行索引必须是pd的时间类型\n",
    "# print(list(df.dtypes.index))\n",
    "# df = df.loc[:,[col for col in df.dtypes.index if df.dtypes[col]=='float64']].resample(\"7D\").mean()\n",
    "df = df.select_dtypes('float64').resample(\"7D\").mean()\n",
    "print(df.head())\n"
   ]
  },
  {
   "cell_type": "code",
   "execution_count": 174,
   "metadata": {},
   "outputs": [
    {
     "data": {
      "text/plain": [
       "PM_Dongsi           206.271084\n",
       "PM_Dongsihuan       219.377358\n",
       "PM_Nongzhanguan     199.566265\n",
       "PM_US Post          209.244048\n",
       "DEWP                 -8.559524\n",
       "HUMI                 70.136905\n",
       "PRES               1029.934524\n",
       "TEMP                 -3.202381\n",
       "Iws                   8.713750\n",
       "precipitation         0.000000\n",
       "Iprec                 0.000000\n",
       "Name: 2015-12-25, dtype: float64"
      ]
     },
     "execution_count": 174,
     "metadata": {},
     "output_type": "execute_result"
    }
   ],
   "source": [
    "df.iloc[312]"
   ]
  },
  {
   "cell_type": "code",
   "execution_count": 180,
   "metadata": {},
   "outputs": [
    {
     "name": "stdout",
     "output_type": "stream",
     "text": [
      "clj;f;da\n"
     ]
    }
   ],
   "source": [
    "s=\"abcdalsfjal;sdfja;lsdfjaf\"\n",
    "print(s[2::3])"
   ]
  },
  {
   "cell_type": "code",
   "execution_count": 184,
   "metadata": {},
   "outputs": [
    {
     "name": "stdout",
     "output_type": "stream",
     "text": [
      "datetime\n",
      "2013-01-11     65.333333\n",
      "2013-01-18    161.054217\n",
      "2013-01-25    224.006098\n",
      "2013-02-01     61.145570\n",
      "2013-02-08    110.478788\n",
      "                 ...    \n",
      "2014-11-07     51.617284\n",
      "2014-11-14    149.935065\n",
      "2014-11-21    142.590062\n",
      "2014-11-28     82.012346\n",
      "2014-12-05    105.767857\n",
      "Freq: 7D, Name: PM_Nongzhanguan, Length: 100, dtype: float64\n",
      "155 155\n"
     ]
    },
    {
     "data": {
      "image/png": "[encoded data removed]",
      "text/plain": [
       "<Figure size 1600x640 with 1 Axes>"
      ]
     },
     "metadata": {},
     "output_type": "display_data"
    }
   ],
   "source": [
    "#对比农展馆和美国测试的数据\n",
    "df= df.loc[:,[\"PM_US Post\",\"PM_Nongzhanguan\"]]\n",
    "df=df.dropna()  #任何一个为空，整个样本去掉\n",
    "data=df.loc[:,\"PM_US Post\"]\n",
    "data_china = df.loc[:,\"PM_Nongzhanguan\"]\n",
    "\n",
    "\n",
    "\n",
    "print(data_china.head(100))\n",
    "# 画图\n",
    "_x = data.index\n",
    "_x = [i.strftime(\"%Y-%m-%d\") for i in _x]\n",
    "_x_china = [i.strftime(\"%Y-%m-%d\") for i in data_china.index]\n",
    "print(len(_x), len(_x_china))\n",
    "_y = data.values  #美国的\n",
    "_y_china = data_china.values\n",
    "\n",
    "plt.figure(figsize=(20, 8), dpi=80)\n",
    "\n",
    "plt.plot(range(len(_x)), _y, label=\"US_POST\", alpha=0.7)\n",
    "plt.plot(range(len(_x_china)), _y_china, label=\"CN_POST\", alpha=0.7)\n",
    "\n",
    "plt.xticks(range(0, len(_x_china),10), list(_x_china)[::10], rotation=45)\n",
    "\n",
    "plt.legend(loc=\"best\")\n",
    "\n",
    "plt.show()"
   ]
  },
  {
   "cell_type": "markdown",
   "metadata": {},
   "source": [
    "### 分组运算"
   ]
  },
  {
   "cell_type": "code",
   "execution_count": 190,
   "metadata": {},
   "outputs": [
    {
     "name": "stdout",
     "output_type": "stream",
     "text": [
      "  key1   key2  data1  data2\n",
      "0    a    one      5      6\n",
      "1    b    one      8      7\n",
      "2    a    two      1      9\n",
      "3    b  three      3      5\n",
      "4    a    two      8      1\n",
      "5    b    two      9      8\n",
      "6    a    one      4      1\n",
      "7    a  three      9      7\n",
      "               sum_key2  sum_data1  sum_data2\n",
      "key1                                         \n",
      "a     onetwotwoonethree         27         24\n",
      "b           onethreetwo         20         20\n"
     ]
    }
   ],
   "source": [
    "dict_obj = {'key1' : ['a', 'b', 'a', 'b', \n",
    "                      'a', 'b', 'a', 'a'],\n",
    "            'key2' : ['one', 'one', 'two', 'three',\n",
    "                      'two', 'two', 'one', 'three'],\n",
    "            'data1': np.random.randint(1, 10, 8),\n",
    "            'data2': np.random.randint(1, 10, 8)}\n",
    "df_obj = pd.DataFrame(dict_obj)\n",
    "print(df_obj)\n",
    "\n",
    "# 按key1分组后，计算data1，data2的统计信息并附加到原始表格中，并添加表头前缀\n",
    "k1_sum = df_obj.groupby('key1').sum().add_prefix('sum_')\n",
    "print(k1_sum)"
   ]
  },
  {
   "cell_type": "code",
   "execution_count": 186,
   "metadata": {},
   "outputs": [
    {
     "data": {
      "text/html": [
       "<div>\n",
       "<style scoped>\n",
       "    .dataframe tbody tr th:only-of-type {\n",
       "        vertical-align: middle;\n",
       "    }\n",
       "\n",
       "    .dataframe tbody tr th {\n",
       "        vertical-align: top;\n",
       "    }\n",
       "\n",
       "    .dataframe thead th {\n",
       "        text-align: right;\n",
       "    }\n",
       "</style>\n",
       "<table border=\"1\" class=\"dataframe\">\n",
       "  <thead>\n",
       "    <tr style=\"text-align: right;\">\n",
       "      <th></th>\n",
       "      <th>key1</th>\n",
       "      <th>key2</th>\n",
       "      <th>data1</th>\n",
       "      <th>data2</th>\n",
       "    </tr>\n",
       "  </thead>\n",
       "  <tbody>\n",
       "    <tr>\n",
       "      <th>0</th>\n",
       "      <td>a</td>\n",
       "      <td>one</td>\n",
       "      <td>4</td>\n",
       "      <td>8</td>\n",
       "    </tr>\n",
       "    <tr>\n",
       "      <th>1</th>\n",
       "      <td>b</td>\n",
       "      <td>one</td>\n",
       "      <td>8</td>\n",
       "      <td>8</td>\n",
       "    </tr>\n",
       "    <tr>\n",
       "      <th>2</th>\n",
       "      <td>a</td>\n",
       "      <td>two</td>\n",
       "      <td>4</td>\n",
       "      <td>6</td>\n",
       "    </tr>\n",
       "    <tr>\n",
       "      <th>3</th>\n",
       "      <td>b</td>\n",
       "      <td>three</td>\n",
       "      <td>4</td>\n",
       "      <td>4</td>\n",
       "    </tr>\n",
       "    <tr>\n",
       "      <th>4</th>\n",
       "      <td>a</td>\n",
       "      <td>two</td>\n",
       "      <td>2</td>\n",
       "      <td>2</td>\n",
       "    </tr>\n",
       "    <tr>\n",
       "      <th>5</th>\n",
       "      <td>b</td>\n",
       "      <td>two</td>\n",
       "      <td>1</td>\n",
       "      <td>6</td>\n",
       "    </tr>\n",
       "    <tr>\n",
       "      <th>6</th>\n",
       "      <td>a</td>\n",
       "      <td>one</td>\n",
       "      <td>4</td>\n",
       "      <td>8</td>\n",
       "    </tr>\n",
       "    <tr>\n",
       "      <th>7</th>\n",
       "      <td>a</td>\n",
       "      <td>three</td>\n",
       "      <td>9</td>\n",
       "      <td>6</td>\n",
       "    </tr>\n",
       "  </tbody>\n",
       "</table>\n",
       "</div>"
      ],
      "text/plain": [
       "  key1   key2  data1  data2\n",
       "0    a    one      4      8\n",
       "1    b    one      8      8\n",
       "2    a    two      4      6\n",
       "3    b  three      4      4\n",
       "4    a    two      2      2\n",
       "5    b    two      1      6\n",
       "6    a    one      4      8\n",
       "7    a  three      9      6"
      ]
     },
     "execution_count": 186,
     "metadata": {},
     "output_type": "execute_result"
    }
   ],
   "source": [
    "df_obj"
   ]
  },
  {
   "cell_type": "code",
   "execution_count": 187,
   "metadata": {
    "collapsed": false,
    "pycharm": {
     "name": "#%%\n"
    }
   },
   "outputs": [
    {
     "data": {
      "text/html": [
       "<div>\n",
       "<style scoped>\n",
       "    .dataframe tbody tr th:only-of-type {\n",
       "        vertical-align: middle;\n",
       "    }\n",
       "\n",
       "    .dataframe tbody tr th {\n",
       "        vertical-align: top;\n",
       "    }\n",
       "\n",
       "    .dataframe thead th {\n",
       "        text-align: right;\n",
       "    }\n",
       "</style>\n",
       "<table border=\"1\" class=\"dataframe\">\n",
       "  <thead>\n",
       "    <tr style=\"text-align: right;\">\n",
       "      <th></th>\n",
       "      <th>sum_key2</th>\n",
       "      <th>sum_data1</th>\n",
       "      <th>sum_data2</th>\n",
       "    </tr>\n",
       "    <tr>\n",
       "      <th>key1</th>\n",
       "      <th></th>\n",
       "      <th></th>\n",
       "      <th></th>\n",
       "    </tr>\n",
       "  </thead>\n",
       "  <tbody>\n",
       "    <tr>\n",
       "      <th>a</th>\n",
       "      <td>onetwotwoonethree</td>\n",
       "      <td>23</td>\n",
       "      <td>30</td>\n",
       "    </tr>\n",
       "    <tr>\n",
       "      <th>b</th>\n",
       "      <td>onethreetwo</td>\n",
       "      <td>13</td>\n",
       "      <td>18</td>\n",
       "    </tr>\n",
       "  </tbody>\n",
       "</table>\n",
       "</div>"
      ],
      "text/plain": [
       "               sum_key2  sum_data1  sum_data2\n",
       "key1                                         \n",
       "a     onetwotwoonethree         23         30\n",
       "b           onethreetwo         13         18"
      ]
     },
     "execution_count": 187,
     "metadata": {},
     "output_type": "execute_result"
    }
   ],
   "source": [
    "k1_sum"
   ]
  },
  {
   "cell_type": "code",
   "execution_count": 194,
   "metadata": {},
   "outputs": [
    {
     "data": {
      "text/html": [
       "<div>\n",
       "<style scoped>\n",
       "    .dataframe tbody tr th:only-of-type {\n",
       "        vertical-align: middle;\n",
       "    }\n",
       "\n",
       "    .dataframe tbody tr th {\n",
       "        vertical-align: top;\n",
       "    }\n",
       "\n",
       "    .dataframe thead th {\n",
       "        text-align: right;\n",
       "    }\n",
       "</style>\n",
       "<table border=\"1\" class=\"dataframe\">\n",
       "  <thead>\n",
       "    <tr style=\"text-align: right;\">\n",
       "      <th></th>\n",
       "      <th>key1</th>\n",
       "      <th>key2</th>\n",
       "      <th>data1</th>\n",
       "      <th>data2</th>\n",
       "      <th>sum_key2</th>\n",
       "      <th>sum_data1</th>\n",
       "      <th>sum_data2</th>\n",
       "    </tr>\n",
       "  </thead>\n",
       "  <tbody>\n",
       "  </tbody>\n",
       "</table>\n",
       "</div>"
      ],
      "text/plain": [
       "Empty DataFrame\n",
       "Columns: [key1, key2, data1, data2, sum_key2, sum_data1, sum_data2]\n",
       "Index: []"
      ]
     },
     "execution_count": 194,
     "metadata": {},
     "output_type": "execute_result"
    }
   ],
   "source": [
    "# 两个df之间进行连接\n",
    "#和mysql的join是一致的，on 连接条件\n",
    "k1_sum_merge = pd.merge(df_obj, k1_sum, left_on='key1', right_index= True)\n",
    "k1_sum_merge"
   ]
  },
  {
   "cell_type": "code",
   "execution_count": null,
   "metadata": {},
   "outputs": [],
   "source": [
    "# 方法2，使用transform\n",
    "k1_sum_tf = df_obj.groupby('key1').transform(np.sum).add_prefix('sum_')\n",
    "k1_sum_tf\n",
    "# df_obj[k1_sum_tf.columns] = k1_sum_tf\n",
    "# print(df_obj)"
   ]
  },
  {
   "cell_type": "code",
   "execution_count": null,
   "metadata": {},
   "outputs": [],
   "source": [
    "df_obj.groupby('key1').mean()"
   ]
  },
  {
   "cell_type": "code",
   "execution_count": null,
   "metadata": {},
   "outputs": [],
   "source": [
    "df_obj"
   ]
  },
  {
   "cell_type": "code",
   "execution_count": null,
   "metadata": {},
   "outputs": [],
   "source": [
    "df_obj.groupby('key1').transform(np.mean)"
   ]
  },
  {
   "cell_type": "code",
   "execution_count": null,
   "metadata": {},
   "outputs": [],
   "source": [
    "def diff_mean(s):\n",
    "    \"\"\"\n",
    "        返回数据与均值的差值\n",
    "    \"\"\"\n",
    "    return s - s.mean()\n",
    "\n",
    "print(df_obj.groupby('key1').transform(diff_mean))"
   ]
  },
  {
   "cell_type": "markdown",
   "metadata": {},
   "source": [
    "# 星际争霸"
   ]
  },
  {
   "cell_type": "code",
   "execution_count": 201,
   "metadata": {},
   "outputs": [
    {
     "data": {
      "text/html": [
       "<div>\n",
       "<style scoped>\n",
       "    .dataframe tbody tr th:only-of-type {\n",
       "        vertical-align: middle;\n",
       "    }\n",
       "\n",
       "    .dataframe tbody tr th {\n",
       "        vertical-align: top;\n",
       "    }\n",
       "\n",
       "    .dataframe thead th {\n",
       "        text-align: right;\n",
       "    }\n",
       "</style>\n",
       "<table border=\"1\" class=\"dataframe\">\n",
       "  <thead>\n",
       "    <tr style=\"text-align: right;\">\n",
       "      <th></th>\n",
       "      <th>LeagueIndex</th>\n",
       "      <th>Age</th>\n",
       "      <th>HoursPerWeek</th>\n",
       "      <th>TotalHours</th>\n",
       "      <th>APM</th>\n",
       "    </tr>\n",
       "  </thead>\n",
       "  <tbody>\n",
       "    <tr>\n",
       "      <th>0</th>\n",
       "      <td>5</td>\n",
       "      <td>27.0</td>\n",
       "      <td>10.0</td>\n",
       "      <td>3000.0</td>\n",
       "      <td>143.7180</td>\n",
       "    </tr>\n",
       "    <tr>\n",
       "      <th>1</th>\n",
       "      <td>5</td>\n",
       "      <td>23.0</td>\n",
       "      <td>10.0</td>\n",
       "      <td>5000.0</td>\n",
       "      <td>129.2322</td>\n",
       "    </tr>\n",
       "    <tr>\n",
       "      <th>2</th>\n",
       "      <td>4</td>\n",
       "      <td>30.0</td>\n",
       "      <td>10.0</td>\n",
       "      <td>200.0</td>\n",
       "      <td>69.9612</td>\n",
       "    </tr>\n",
       "    <tr>\n",
       "      <th>3</th>\n",
       "      <td>3</td>\n",
       "      <td>19.0</td>\n",
       "      <td>20.0</td>\n",
       "      <td>400.0</td>\n",
       "      <td>107.6016</td>\n",
       "    </tr>\n",
       "    <tr>\n",
       "      <th>4</th>\n",
       "      <td>3</td>\n",
       "      <td>32.0</td>\n",
       "      <td>10.0</td>\n",
       "      <td>500.0</td>\n",
       "      <td>122.8908</td>\n",
       "    </tr>\n",
       "    <tr>\n",
       "      <th>...</th>\n",
       "      <td>...</td>\n",
       "      <td>...</td>\n",
       "      <td>...</td>\n",
       "      <td>...</td>\n",
       "      <td>...</td>\n",
       "    </tr>\n",
       "    <tr>\n",
       "      <th>3390</th>\n",
       "      <td>8</td>\n",
       "      <td>NaN</td>\n",
       "      <td>NaN</td>\n",
       "      <td>NaN</td>\n",
       "      <td>259.6296</td>\n",
       "    </tr>\n",
       "    <tr>\n",
       "      <th>3391</th>\n",
       "      <td>8</td>\n",
       "      <td>NaN</td>\n",
       "      <td>NaN</td>\n",
       "      <td>NaN</td>\n",
       "      <td>314.6700</td>\n",
       "    </tr>\n",
       "    <tr>\n",
       "      <th>3392</th>\n",
       "      <td>8</td>\n",
       "      <td>NaN</td>\n",
       "      <td>NaN</td>\n",
       "      <td>NaN</td>\n",
       "      <td>299.4282</td>\n",
       "    </tr>\n",
       "    <tr>\n",
       "      <th>3393</th>\n",
       "      <td>8</td>\n",
       "      <td>NaN</td>\n",
       "      <td>NaN</td>\n",
       "      <td>NaN</td>\n",
       "      <td>375.8664</td>\n",
       "    </tr>\n",
       "    <tr>\n",
       "      <th>3394</th>\n",
       "      <td>8</td>\n",
       "      <td>NaN</td>\n",
       "      <td>NaN</td>\n",
       "      <td>NaN</td>\n",
       "      <td>348.3576</td>\n",
       "    </tr>\n",
       "  </tbody>\n",
       "</table>\n",
       "<p>3395 rows × 5 columns</p>\n",
       "</div>"
      ],
      "text/plain": [
       "      LeagueIndex   Age  HoursPerWeek  TotalHours       APM\n",
       "0               5  27.0          10.0      3000.0  143.7180\n",
       "1               5  23.0          10.0      5000.0  129.2322\n",
       "2               4  30.0          10.0       200.0   69.9612\n",
       "3               3  19.0          20.0       400.0  107.6016\n",
       "4               3  32.0          10.0       500.0  122.8908\n",
       "...           ...   ...           ...         ...       ...\n",
       "3390            8   NaN           NaN         NaN  259.6296\n",
       "3391            8   NaN           NaN         NaN  314.6700\n",
       "3392            8   NaN           NaN         NaN  299.4282\n",
       "3393            8   NaN           NaN         NaN  375.8664\n",
       "3394            8   NaN           NaN         NaN  348.3576\n",
       "\n",
       "[3395 rows x 5 columns]"
      ]
     },
     "execution_count": 201,
     "metadata": {},
     "output_type": "execute_result"
    }
   ],
   "source": [
    "dataset_path = './starcraft.csv'\n",
    "df_data = pd.read_csv(dataset_path, usecols=['LeagueIndex', 'Age', 'HoursPerWeek', \n",
    "                                             'TotalHours', 'APM'])\n",
    "df_data"
   ]
  },
  {
   "cell_type": "code",
   "execution_count": 207,
   "metadata": {},
   "outputs": [
    {
     "name": "stdout",
     "output_type": "stream",
     "text": [
      "                  LeagueIndex   Age  HoursPerWeek  TotalHours       APM\n",
      "LeagueIndex                                                            \n",
      "1           2214            1  20.0          12.0       730.0  172.9530\n",
      "            2246            1  27.0           8.0       250.0  141.6282\n",
      "            1753            1  20.0          28.0       100.0  139.6362\n",
      "2           3062            2  20.0           6.0       100.0  179.6250\n",
      "            3229            2  16.0          24.0       110.0  156.7380\n",
      "            1520            2  29.0           6.0       250.0  151.6470\n",
      "3           1557            3  22.0           6.0       200.0  226.6554\n",
      "            484             3  19.0          42.0       450.0  220.0692\n",
      "            2883            3  16.0           8.0       800.0  208.9500\n",
      "4           2688            4  26.0          24.0       990.0  249.0210\n",
      "            1759            4  16.0           6.0        75.0  229.9122\n",
      "            2637            4  23.0          24.0       650.0  227.2272\n",
      "5           3277            5  18.0          16.0       950.0  372.6426\n",
      "            93              5  17.0          36.0       720.0  335.4990\n",
      "            202             5  37.0          14.0       800.0  327.7218\n",
      "6           734             6  16.0          28.0       730.0  389.8314\n",
      "            2746            6  16.0          28.0      4000.0  350.4114\n",
      "            1810            6  21.0          14.0       730.0  323.2506\n",
      "7           3127            7  23.0          42.0      2000.0  298.7952\n",
      "            104             7  21.0          24.0      1000.0  286.4538\n",
      "            1654            7  18.0          98.0       700.0  236.0316\n",
      "8           3393            8   NaN           NaN         NaN  375.8664\n",
      "            3373            8   NaN           NaN         NaN  364.8504\n",
      "            3372            8   NaN           NaN         NaN  355.3518\n"
     ]
    }
   ],
   "source": [
    "def top_n(df, n=3, column='APM'):\n",
    "    \"\"\"\n",
    "        返回每个分组按 column 的 top n 数据\n",
    "    \"\"\"\n",
    "    return df.sort_values(by=column, ascending=False)[:n]\n",
    "\n",
    "print(df_data.groupby('LeagueIndex').apply(top_n))"
   ]
  },
  {
   "cell_type": "code",
   "execution_count": 198,
   "metadata": {},
   "outputs": [
    {
     "data": {
      "text/html": [
       "<div>\n",
       "<style scoped>\n",
       "    .dataframe tbody tr th:only-of-type {\n",
       "        vertical-align: middle;\n",
       "    }\n",
       "\n",
       "    .dataframe tbody tr th {\n",
       "        vertical-align: top;\n",
       "    }\n",
       "\n",
       "    .dataframe thead th {\n",
       "        text-align: right;\n",
       "    }\n",
       "</style>\n",
       "<table border=\"1\" class=\"dataframe\">\n",
       "  <thead>\n",
       "    <tr style=\"text-align: right;\">\n",
       "      <th></th>\n",
       "      <th></th>\n",
       "      <th>LeagueIndex</th>\n",
       "      <th>Age</th>\n",
       "      <th>HoursPerWeek</th>\n",
       "      <th>TotalHours</th>\n",
       "      <th>APM</th>\n",
       "    </tr>\n",
       "    <tr>\n",
       "      <th>LeagueIndex</th>\n",
       "      <th></th>\n",
       "      <th></th>\n",
       "      <th></th>\n",
       "      <th></th>\n",
       "      <th></th>\n",
       "      <th></th>\n",
       "    </tr>\n",
       "  </thead>\n",
       "  <tbody>\n",
       "    <tr>\n",
       "      <th rowspan=\"6\" valign=\"top\">1</th>\n",
       "      <th>3146</th>\n",
       "      <td>1</td>\n",
       "      <td>40.0</td>\n",
       "      <td>12.0</td>\n",
       "      <td>150.0</td>\n",
       "      <td>38.5590</td>\n",
       "    </tr>\n",
       "    <tr>\n",
       "      <th>3040</th>\n",
       "      <td>1</td>\n",
       "      <td>39.0</td>\n",
       "      <td>10.0</td>\n",
       "      <td>500.0</td>\n",
       "      <td>29.8764</td>\n",
       "    </tr>\n",
       "    <tr>\n",
       "      <th>721</th>\n",
       "      <td>1</td>\n",
       "      <td>38.0</td>\n",
       "      <td>16.0</td>\n",
       "      <td>300.0</td>\n",
       "      <td>71.5950</td>\n",
       "    </tr>\n",
       "    <tr>\n",
       "      <th>3298</th>\n",
       "      <td>1</td>\n",
       "      <td>37.0</td>\n",
       "      <td>12.0</td>\n",
       "      <td>300.0</td>\n",
       "      <td>22.0596</td>\n",
       "    </tr>\n",
       "    <tr>\n",
       "      <th>2444</th>\n",
       "      <td>1</td>\n",
       "      <td>35.0</td>\n",
       "      <td>12.0</td>\n",
       "      <td>450.0</td>\n",
       "      <td>46.8606</td>\n",
       "    </tr>\n",
       "    <tr>\n",
       "      <th>835</th>\n",
       "      <td>1</td>\n",
       "      <td>35.0</td>\n",
       "      <td>14.0</td>\n",
       "      <td>50.0</td>\n",
       "      <td>32.8884</td>\n",
       "    </tr>\n",
       "    <tr>\n",
       "      <th rowspan=\"6\" valign=\"top\">2</th>\n",
       "      <th>920</th>\n",
       "      <td>2</td>\n",
       "      <td>43.0</td>\n",
       "      <td>10.0</td>\n",
       "      <td>730.0</td>\n",
       "      <td>86.0586</td>\n",
       "    </tr>\n",
       "    <tr>\n",
       "      <th>2437</th>\n",
       "      <td>2</td>\n",
       "      <td>41.0</td>\n",
       "      <td>4.0</td>\n",
       "      <td>200.0</td>\n",
       "      <td>54.2166</td>\n",
       "    </tr>\n",
       "    <tr>\n",
       "      <th>1175</th>\n",
       "      <td>2</td>\n",
       "      <td>41.0</td>\n",
       "      <td>8.0</td>\n",
       "      <td>250.0</td>\n",
       "      <td>54.2406</td>\n",
       "    </tr>\n",
       "    <tr>\n",
       "      <th>479</th>\n",
       "      <td>2</td>\n",
       "      <td>40.0</td>\n",
       "      <td>14.0</td>\n",
       "      <td>500.0</td>\n",
       "      <td>51.8358</td>\n",
       "    </tr>\n",
       "    <tr>\n",
       "      <th>1053</th>\n",
       "      <td>2</td>\n",
       "      <td>37.0</td>\n",
       "      <td>30.0</td>\n",
       "      <td>125.0</td>\n",
       "      <td>49.8960</td>\n",
       "    </tr>\n",
       "    <tr>\n",
       "      <th>2456</th>\n",
       "      <td>2</td>\n",
       "      <td>36.0</td>\n",
       "      <td>12.0</td>\n",
       "      <td>300.0</td>\n",
       "      <td>67.7856</td>\n",
       "    </tr>\n",
       "    <tr>\n",
       "      <th rowspan=\"6\" valign=\"top\">3</th>\n",
       "      <th>1258</th>\n",
       "      <td>3</td>\n",
       "      <td>41.0</td>\n",
       "      <td>14.0</td>\n",
       "      <td>800.0</td>\n",
       "      <td>77.6472</td>\n",
       "    </tr>\n",
       "    <tr>\n",
       "      <th>2972</th>\n",
       "      <td>3</td>\n",
       "      <td>40.0</td>\n",
       "      <td>10.0</td>\n",
       "      <td>500.0</td>\n",
       "      <td>60.5970</td>\n",
       "    </tr>\n",
       "    <tr>\n",
       "      <th>3176</th>\n",
       "      <td>3</td>\n",
       "      <td>40.0</td>\n",
       "      <td>16.0</td>\n",
       "      <td>580.0</td>\n",
       "      <td>46.8714</td>\n",
       "    </tr>\n",
       "    <tr>\n",
       "      <th>2882</th>\n",
       "      <td>3</td>\n",
       "      <td>39.0</td>\n",
       "      <td>12.0</td>\n",
       "      <td>450.0</td>\n",
       "      <td>53.7690</td>\n",
       "    </tr>\n",
       "    <tr>\n",
       "      <th>630</th>\n",
       "      <td>3</td>\n",
       "      <td>38.0</td>\n",
       "      <td>16.0</td>\n",
       "      <td>730.0</td>\n",
       "      <td>97.9920</td>\n",
       "    </tr>\n",
       "    <tr>\n",
       "      <th>3179</th>\n",
       "      <td>3</td>\n",
       "      <td>38.0</td>\n",
       "      <td>16.0</td>\n",
       "      <td>450.0</td>\n",
       "      <td>87.4404</td>\n",
       "    </tr>\n",
       "    <tr>\n",
       "      <th rowspan=\"6\" valign=\"top\">4</th>\n",
       "      <th>1696</th>\n",
       "      <td>4</td>\n",
       "      <td>44.0</td>\n",
       "      <td>6.0</td>\n",
       "      <td>500.0</td>\n",
       "      <td>89.5266</td>\n",
       "    </tr>\n",
       "    <tr>\n",
       "      <th>1729</th>\n",
       "      <td>4</td>\n",
       "      <td>39.0</td>\n",
       "      <td>8.0</td>\n",
       "      <td>500.0</td>\n",
       "      <td>86.7246</td>\n",
       "    </tr>\n",
       "    <tr>\n",
       "      <th>1298</th>\n",
       "      <td>4</td>\n",
       "      <td>36.0</td>\n",
       "      <td>10.0</td>\n",
       "      <td>400.0</td>\n",
       "      <td>73.6980</td>\n",
       "    </tr>\n",
       "    <tr>\n",
       "      <th>1106</th>\n",
       "      <td>4</td>\n",
       "      <td>35.0</td>\n",
       "      <td>16.0</td>\n",
       "      <td>800.0</td>\n",
       "      <td>107.0412</td>\n",
       "    </tr>\n",
       "    <tr>\n",
       "      <th>2298</th>\n",
       "      <td>4</td>\n",
       "      <td>35.0</td>\n",
       "      <td>6.0</td>\n",
       "      <td>350.0</td>\n",
       "      <td>112.3818</td>\n",
       "    </tr>\n",
       "    <tr>\n",
       "      <th>769</th>\n",
       "      <td>4</td>\n",
       "      <td>35.0</td>\n",
       "      <td>20.0</td>\n",
       "      <td>800.0</td>\n",
       "      <td>53.6736</td>\n",
       "    </tr>\n",
       "    <tr>\n",
       "      <th rowspan=\"6\" valign=\"top\">5</th>\n",
       "      <th>202</th>\n",
       "      <td>5</td>\n",
       "      <td>37.0</td>\n",
       "      <td>14.0</td>\n",
       "      <td>800.0</td>\n",
       "      <td>327.7218</td>\n",
       "    </tr>\n",
       "    <tr>\n",
       "      <th>2745</th>\n",
       "      <td>5</td>\n",
       "      <td>37.0</td>\n",
       "      <td>18.0</td>\n",
       "      <td>1000.0</td>\n",
       "      <td>123.4098</td>\n",
       "    </tr>\n",
       "    <tr>\n",
       "      <th>653</th>\n",
       "      <td>5</td>\n",
       "      <td>35.0</td>\n",
       "      <td>12.0</td>\n",
       "      <td>800.0</td>\n",
       "      <td>115.0644</td>\n",
       "    </tr>\n",
       "    <tr>\n",
       "      <th>3310</th>\n",
       "      <td>5</td>\n",
       "      <td>34.0</td>\n",
       "      <td>4.0</td>\n",
       "      <td>364.0</td>\n",
       "      <td>77.5512</td>\n",
       "    </tr>\n",
       "    <tr>\n",
       "      <th>1647</th>\n",
       "      <td>5</td>\n",
       "      <td>34.0</td>\n",
       "      <td>10.0</td>\n",
       "      <td>2400.0</td>\n",
       "      <td>96.9942</td>\n",
       "    </tr>\n",
       "    <tr>\n",
       "      <th>3225</th>\n",
       "      <td>5</td>\n",
       "      <td>33.0</td>\n",
       "      <td>8.0</td>\n",
       "      <td>300.0</td>\n",
       "      <td>106.8924</td>\n",
       "    </tr>\n",
       "    <tr>\n",
       "      <th rowspan=\"6\" valign=\"top\">6</th>\n",
       "      <th>3069</th>\n",
       "      <td>6</td>\n",
       "      <td>31.0</td>\n",
       "      <td>8.0</td>\n",
       "      <td>800.0</td>\n",
       "      <td>133.1790</td>\n",
       "    </tr>\n",
       "    <tr>\n",
       "      <th>2706</th>\n",
       "      <td>6</td>\n",
       "      <td>31.0</td>\n",
       "      <td>8.0</td>\n",
       "      <td>700.0</td>\n",
       "      <td>66.9918</td>\n",
       "    </tr>\n",
       "    <tr>\n",
       "      <th>929</th>\n",
       "      <td>6</td>\n",
       "      <td>30.0</td>\n",
       "      <td>28.0</td>\n",
       "      <td>1500.0</td>\n",
       "      <td>123.3774</td>\n",
       "    </tr>\n",
       "    <tr>\n",
       "      <th>1240</th>\n",
       "      <td>6</td>\n",
       "      <td>29.0</td>\n",
       "      <td>20.0</td>\n",
       "      <td>800.0</td>\n",
       "      <td>141.6246</td>\n",
       "    </tr>\n",
       "    <tr>\n",
       "      <th>2682</th>\n",
       "      <td>6</td>\n",
       "      <td>29.0</td>\n",
       "      <td>28.0</td>\n",
       "      <td>1400.0</td>\n",
       "      <td>134.9532</td>\n",
       "    </tr>\n",
       "    <tr>\n",
       "      <th>3126</th>\n",
       "      <td>6</td>\n",
       "      <td>29.0</td>\n",
       "      <td>20.0</td>\n",
       "      <td>850.0</td>\n",
       "      <td>176.9850</td>\n",
       "    </tr>\n",
       "    <tr>\n",
       "      <th rowspan=\"6\" valign=\"top\">7</th>\n",
       "      <th>2813</th>\n",
       "      <td>7</td>\n",
       "      <td>26.0</td>\n",
       "      <td>36.0</td>\n",
       "      <td>1300.0</td>\n",
       "      <td>188.5512</td>\n",
       "    </tr>\n",
       "    <tr>\n",
       "      <th>1992</th>\n",
       "      <td>7</td>\n",
       "      <td>26.0</td>\n",
       "      <td>24.0</td>\n",
       "      <td>1000.0</td>\n",
       "      <td>219.6690</td>\n",
       "    </tr>\n",
       "    <tr>\n",
       "      <th>1073</th>\n",
       "      <td>7</td>\n",
       "      <td>25.0</td>\n",
       "      <td>10.0</td>\n",
       "      <td>900.0</td>\n",
       "      <td>178.8342</td>\n",
       "    </tr>\n",
       "    <tr>\n",
       "      <th>320</th>\n",
       "      <td>7</td>\n",
       "      <td>25.0</td>\n",
       "      <td>42.0</td>\n",
       "      <td>2400.0</td>\n",
       "      <td>182.6208</td>\n",
       "    </tr>\n",
       "    <tr>\n",
       "      <th>2652</th>\n",
       "      <td>7</td>\n",
       "      <td>24.0</td>\n",
       "      <td>20.0</td>\n",
       "      <td>1000.0</td>\n",
       "      <td>211.9686</td>\n",
       "    </tr>\n",
       "    <tr>\n",
       "      <th>119</th>\n",
       "      <td>7</td>\n",
       "      <td>24.0</td>\n",
       "      <td>16.0</td>\n",
       "      <td>1250.0</td>\n",
       "      <td>216.6852</td>\n",
       "    </tr>\n",
       "    <tr>\n",
       "      <th rowspan=\"6\" valign=\"top\">8</th>\n",
       "      <th>3340</th>\n",
       "      <td>8</td>\n",
       "      <td>NaN</td>\n",
       "      <td>NaN</td>\n",
       "      <td>NaN</td>\n",
       "      <td>189.7404</td>\n",
       "    </tr>\n",
       "    <tr>\n",
       "      <th>3341</th>\n",
       "      <td>8</td>\n",
       "      <td>NaN</td>\n",
       "      <td>NaN</td>\n",
       "      <td>NaN</td>\n",
       "      <td>287.8128</td>\n",
       "    </tr>\n",
       "    <tr>\n",
       "      <th>3342</th>\n",
       "      <td>8</td>\n",
       "      <td>NaN</td>\n",
       "      <td>NaN</td>\n",
       "      <td>NaN</td>\n",
       "      <td>294.0996</td>\n",
       "    </tr>\n",
       "    <tr>\n",
       "      <th>3343</th>\n",
       "      <td>8</td>\n",
       "      <td>NaN</td>\n",
       "      <td>NaN</td>\n",
       "      <td>NaN</td>\n",
       "      <td>274.2552</td>\n",
       "    </tr>\n",
       "    <tr>\n",
       "      <th>3344</th>\n",
       "      <td>8</td>\n",
       "      <td>NaN</td>\n",
       "      <td>NaN</td>\n",
       "      <td>NaN</td>\n",
       "      <td>274.3404</td>\n",
       "    </tr>\n",
       "    <tr>\n",
       "      <th>3345</th>\n",
       "      <td>8</td>\n",
       "      <td>NaN</td>\n",
       "      <td>NaN</td>\n",
       "      <td>NaN</td>\n",
       "      <td>245.8188</td>\n",
       "    </tr>\n",
       "  </tbody>\n",
       "</table>\n",
       "</div>"
      ],
      "text/plain": [
       "                  LeagueIndex   Age  HoursPerWeek  TotalHours       APM\n",
       "LeagueIndex                                                            \n",
       "1           3146            1  40.0          12.0       150.0   38.5590\n",
       "            3040            1  39.0          10.0       500.0   29.8764\n",
       "            721             1  38.0          16.0       300.0   71.5950\n",
       "            3298            1  37.0          12.0       300.0   22.0596\n",
       "            2444            1  35.0          12.0       450.0   46.8606\n",
       "            835             1  35.0          14.0        50.0   32.8884\n",
       "2           920             2  43.0          10.0       730.0   86.0586\n",
       "            2437            2  41.0           4.0       200.0   54.2166\n",
       "            1175            2  41.0           8.0       250.0   54.2406\n",
       "            479             2  40.0          14.0       500.0   51.8358\n",
       "            1053            2  37.0          30.0       125.0   49.8960\n",
       "            2456            2  36.0          12.0       300.0   67.7856\n",
       "3           1258            3  41.0          14.0       800.0   77.6472\n",
       "            2972            3  40.0          10.0       500.0   60.5970\n",
       "            3176            3  40.0          16.0       580.0   46.8714\n",
       "            2882            3  39.0          12.0       450.0   53.7690\n",
       "            630             3  38.0          16.0       730.0   97.9920\n",
       "            3179            3  38.0          16.0       450.0   87.4404\n",
       "4           1696            4  44.0           6.0       500.0   89.5266\n",
       "            1729            4  39.0           8.0       500.0   86.7246\n",
       "            1298            4  36.0          10.0       400.0   73.6980\n",
       "            1106            4  35.0          16.0       800.0  107.0412\n",
       "            2298            4  35.0           6.0       350.0  112.3818\n",
       "            769             4  35.0          20.0       800.0   53.6736\n",
       "5           202             5  37.0          14.0       800.0  327.7218\n",
       "            2745            5  37.0          18.0      1000.0  123.4098\n",
       "            653             5  35.0          12.0       800.0  115.0644\n",
       "            3310            5  34.0           4.0       364.0   77.5512\n",
       "            1647            5  34.0          10.0      2400.0   96.9942\n",
       "            3225            5  33.0           8.0       300.0  106.8924\n",
       "6           3069            6  31.0           8.0       800.0  133.1790\n",
       "            2706            6  31.0           8.0       700.0   66.9918\n",
       "            929             6  30.0          28.0      1500.0  123.3774\n",
       "            1240            6  29.0          20.0       800.0  141.6246\n",
       "            2682            6  29.0          28.0      1400.0  134.9532\n",
       "            3126            6  29.0          20.0       850.0  176.9850\n",
       "7           2813            7  26.0          36.0      1300.0  188.5512\n",
       "            1992            7  26.0          24.0      1000.0  219.6690\n",
       "            1073            7  25.0          10.0       900.0  178.8342\n",
       "            320             7  25.0          42.0      2400.0  182.6208\n",
       "            2652            7  24.0          20.0      1000.0  211.9686\n",
       "            119             7  24.0          16.0      1250.0  216.6852\n",
       "8           3340            8   NaN           NaN         NaN  189.7404\n",
       "            3341            8   NaN           NaN         NaN  287.8128\n",
       "            3342            8   NaN           NaN         NaN  294.0996\n",
       "            3343            8   NaN           NaN         NaN  274.2552\n",
       "            3344            8   NaN           NaN         NaN  274.3404\n",
       "            3345            8   NaN           NaN         NaN  245.8188"
      ]
     },
     "execution_count": 198,
     "metadata": {},
     "output_type": "execute_result"
    }
   ],
   "source": [
    "# apply函数接收的参数会传入自定义的函数中\n",
    "df_data.groupby('LeagueIndex').apply(top_n, n=6, column='Age')"
   ]
  },
  {
   "cell_type": "code",
   "execution_count": 208,
   "metadata": {},
   "outputs": [
    {
     "name": "stdout",
     "output_type": "stream",
     "text": [
      "      LeagueIndex   Age  HoursPerWeek  TotalHours       APM\n",
      "2214            1  20.0          12.0       730.0  172.9530\n",
      "2246            1  27.0           8.0       250.0  141.6282\n",
      "1753            1  20.0          28.0       100.0  139.6362\n",
      "3062            2  20.0           6.0       100.0  179.6250\n",
      "3229            2  16.0          24.0       110.0  156.7380\n",
      "1520            2  29.0           6.0       250.0  151.6470\n",
      "1557            3  22.0           6.0       200.0  226.6554\n",
      "484             3  19.0          42.0       450.0  220.0692\n",
      "2883            3  16.0           8.0       800.0  208.9500\n",
      "2688            4  26.0          24.0       990.0  249.0210\n",
      "1759            4  16.0           6.0        75.0  229.9122\n",
      "2637            4  23.0          24.0       650.0  227.2272\n",
      "3277            5  18.0          16.0       950.0  372.6426\n",
      "93              5  17.0          36.0       720.0  335.4990\n",
      "202             5  37.0          14.0       800.0  327.7218\n",
      "734             6  16.0          28.0       730.0  389.8314\n",
      "2746            6  16.0          28.0      4000.0  350.4114\n",
      "1810            6  21.0          14.0       730.0  323.2506\n",
      "3127            7  23.0          42.0      2000.0  298.7952\n",
      "104             7  21.0          24.0      1000.0  286.4538\n",
      "1654            7  18.0          98.0       700.0  236.0316\n",
      "3393            8   NaN           NaN         NaN  375.8664\n",
      "3373            8   NaN           NaN         NaN  364.8504\n",
      "3372            8   NaN           NaN         NaN  355.3518\n"
     ]
    }
   ],
   "source": [
    "print(df_data.groupby('LeagueIndex', group_keys=False).apply(top_n))"
   ]
  },
  {
   "cell_type": "markdown",
   "metadata": {},
   "source": [
    "# 10 数据清洗"
   ]
  },
  {
   "cell_type": "code",
   "execution_count": null,
   "metadata": {},
   "outputs": [],
   "source": [
    "import pandas as pd\n",
    "import numpy as np\n",
    "\n",
    "df_obj1 = pd.DataFrame({'key': ['b', 'b', 'a', 'c', 'a', 'a', 'b'],\n",
    "                        'data1' : np.random.randint(0,10,7)})\n",
    "df_obj2 = pd.DataFrame({'key': ['a', 'b' ,'d'],\n",
    "                        'data2' : np.random.randint(0,10,3)})\n",
    "\n",
    "print(df_obj1)\n",
    "print('-'*50)\n",
    "print(df_obj2)"
   ]
  },
  {
   "cell_type": "code",
   "execution_count": null,
   "metadata": {},
   "outputs": [],
   "source": [
    "pd.merge(df_obj1, df_obj2)"
   ]
  },
  {
   "cell_type": "code",
   "execution_count": null,
   "metadata": {},
   "outputs": [],
   "source": [
    "pd.merge(df_obj1, df_obj2,left_index=True,right_index=True)"
   ]
  },
  {
   "cell_type": "code",
   "execution_count": null,
   "metadata": {},
   "outputs": [],
   "source": [
    "pd.merge(df_obj1, df_obj2, on='key')"
   ]
  },
  {
   "cell_type": "code",
   "execution_count": null,
   "metadata": {},
   "outputs": [],
   "source": [
    "# 更改列名\n",
    "df_obj1 = df_obj1.rename(columns={'key':'key1'})\n",
    "df_obj2 = df_obj2.rename(columns={'key':'key2'})"
   ]
  },
  {
   "cell_type": "code",
   "execution_count": null,
   "metadata": {},
   "outputs": [],
   "source": [
    "df_obj1"
   ]
  },
  {
   "cell_type": "code",
   "execution_count": null,
   "metadata": {},
   "outputs": [],
   "source": [
    "df_obj2"
   ]
  },
  {
   "cell_type": "code",
   "execution_count": null,
   "metadata": {},
   "outputs": [],
   "source": [
    "pd.merge(df_obj1, df_obj2, left_on='key1', right_on='key2')"
   ]
  },
  {
   "cell_type": "code",
   "execution_count": null,
   "metadata": {},
   "outputs": [],
   "source": [
    "#left join 等价于 left outer join\n",
    "pd.merge(df_obj1, df_obj2, left_on='key1', right_on='key2', how='outer')  #全外连接"
   ]
  },
  {
   "cell_type": "code",
   "execution_count": null,
   "metadata": {},
   "outputs": [],
   "source": [
    "pd.merge(df_obj1, df_obj2, left_on='key1', right_on='key2', how='left')"
   ]
  },
  {
   "cell_type": "code",
   "execution_count": null,
   "metadata": {},
   "outputs": [],
   "source": [
    "pd.merge(df_obj1, df_obj2, left_on='key1', right_on='key2', how='right')"
   ]
  },
  {
   "cell_type": "code",
   "execution_count": null,
   "metadata": {},
   "outputs": [],
   "source": [
    "# 处理重复列名\n",
    "df_obj1 = pd.DataFrame({'key': ['b', 'b', 'a', 'c', 'a', 'a', 'b'],\n",
    "                        'data' : np.random.randint(0,10,7)})\n",
    "df_obj2 = pd.DataFrame({'key': ['a', 'b', 'd'],\n",
    "                        'data' : np.random.randint(0,10,3)})\n",
    "\n",
    "print(pd.merge(df_obj1, df_obj2, on='key', suffixes=('_left', '_right')))"
   ]
  },
  {
   "cell_type": "code",
   "execution_count": null,
   "metadata": {},
   "outputs": [],
   "source": [
    "# 按索引连接\n",
    "df_obj1 = pd.DataFrame({'key': ['b', 'b', 'a', 'c', 'a', 'a', 'b'],\n",
    "                        'data1' : np.random.randint(0,10,7)})\n",
    "df_obj2 = pd.DataFrame({'data2' : np.random.randint(0,10,3)}, index=['a', 'b', 'd'])\n",
    "\n",
    "print(pd.merge(df_obj1, df_obj2, left_on='key', right_index=True))"
   ]
  },
  {
   "cell_type": "code",
   "execution_count": null,
   "metadata": {},
   "outputs": [],
   "source": [
    "pd.merge(df_obj2,df_obj1, left_index=True, right_on='key')"
   ]
  },
  {
   "cell_type": "markdown",
   "metadata": {},
   "source": [
    "# 11 数据合并(pd.concat)"
   ]
  },
  {
   "cell_type": "code",
   "execution_count": null,
   "metadata": {},
   "outputs": [],
   "source": [
    "arr1 = np.random.randint(0, 10, (3, 4))\n",
    "arr2 = np.random.randint(0, 10, (3, 4))\n",
    "\n",
    "print(arr1)\n",
    "print(arr2)\n",
    "\n",
    "print(np.concatenate([arr1, arr2]))\n",
    "print(np.concatenate([arr1, arr2], axis=1))"
   ]
  },
  {
   "cell_type": "code",
   "execution_count": null,
   "metadata": {},
   "outputs": [],
   "source": [
    "# index 没有重复的情况\n",
    "ser_obj1 = pd.Series(np.random.randint(0, 10, 5), index=range(0,5))\n",
    "ser_obj2 = pd.Series(np.random.randint(0, 10, 4), index=range(5,9))\n",
    "ser_obj3 = pd.Series(np.random.randint(0, 10, 3), index=range(9,12))\n",
    "\n",
    "print(ser_obj1)\n",
    "print(ser_obj2)\n",
    "print(ser_obj3)"
   ]
  },
  {
   "cell_type": "code",
   "execution_count": null,
   "metadata": {},
   "outputs": [],
   "source": [
    "print(pd.concat([ser_obj1, ser_obj2, ser_obj3]))\n",
    "print(pd.concat([ser_obj1, ser_obj2, ser_obj3], axis=1))"
   ]
  },
  {
   "cell_type": "markdown",
   "metadata": {},
   "source": [
    "### index 有重复的情况"
   ]
  },
  {
   "cell_type": "code",
   "execution_count": null,
   "metadata": {},
   "outputs": [],
   "source": [
    "# index 有重复的情况\n",
    "ser_obj1 = pd.Series(np.random.randint(0, 10, 5), index=range(5))\n",
    "ser_obj2 = pd.Series(np.random.randint(0, 10, 4), index=range(4))\n",
    "ser_obj3 = pd.Series(np.random.randint(0, 10, 3), index=range(3))\n",
    "\n",
    "print(ser_obj1)\n",
    "print(ser_obj2)\n",
    "print(ser_obj3)"
   ]
  },
  {
   "cell_type": "code",
   "execution_count": null,
   "metadata": {},
   "outputs": [],
   "source": [
    "print(pd.concat([ser_obj1, ser_obj2, ser_obj3]))"
   ]
  },
  {
   "cell_type": "code",
   "execution_count": null,
   "metadata": {},
   "outputs": [],
   "source": [
    "print(pd.concat([ser_obj1, ser_obj2, ser_obj3], axis=1, join='outer'))"
   ]
  },
  {
   "cell_type": "code",
   "execution_count": null,
   "metadata": {},
   "outputs": [],
   "source": [
    "import pandas as pd\n",
    "import numpy as np\n",
    "df_obj1 = pd.DataFrame(np.random.randint(0, 10, (3, 2)), index=['a', 'b', 'c'],\n",
    "                       columns=['A', 'B'])\n",
    "df_obj2 = pd.DataFrame(np.random.randint(0, 10, (2, 2)), index=['a', 'b'],\n",
    "                       columns=['A', 'B'])\n",
    "print(df_obj1)\n",
    "print(df_obj2)\n",
    "\n",
    "print(pd.concat([df_obj1, df_obj2]))\n",
    "print(pd.concat([df_obj1, df_obj2], axis=1))"
   ]
  },
  {
   "cell_type": "markdown",
   "metadata": {},
   "source": [
    "### 数据重构"
   ]
  },
  {
   "cell_type": "code",
   "execution_count": null,
   "metadata": {},
   "outputs": [],
   "source": [
    "df_obj = pd.DataFrame(np.random.randint(0,10, (5,2)), columns=['data1', 'data2'])\n",
    "print(df_obj)\n",
    "\n",
    "stacked = df_obj.stack()  #stack内部带的参数level，选择哪一个column变为index\n",
    "print(stacked)"
   ]
  },
  {
   "cell_type": "code",
   "execution_count": null,
   "metadata": {},
   "outputs": [],
   "source": [
    "# 默认操作内层索引\n",
    "print(stacked.unstack())\n",
    "\n",
    "# 通过level指定操作索引的级别\n",
    "print(stacked.unstack(level=0))"
   ]
  },
  {
   "cell_type": "code",
   "execution_count": null,
   "metadata": {},
   "outputs": [],
   "source": [
    "index1 = pd.MultiIndex.from_arrays([['a', 'a', 'a', 'b', 'b', 'b', 'c', 'c', 'c', 'd', 'd', 'd'],\n",
    "                [0, 1, 2, 0, 1, 2, 0, 1, 2, 0, 1, 2]], names=['cloth', 'size'])\n",
    "\n",
    "df= pd.DataFrame(np.arange(24).reshape(12,2),index=index1,columns=['data1','data2'])\n",
    "print(df)\n",
    "df_s=df.unstack(level=0)\n",
    "print(df_s)\n",
    "print(df_s.columns)\n",
    "df_s.stack(0)"
   ]
  },
  {
   "cell_type": "markdown",
   "metadata": {},
   "source": [
    " ## 处理重复数据"
   ]
  },
  {
   "cell_type": "code",
   "execution_count": null,
   "metadata": {},
   "outputs": [],
   "source": [
    "df_obj = pd.DataFrame({'data1' : ['a'] * 4 + ['b'] * 4,\n",
    "                       'data2' : np.random.randint(0, 4, 8)})\n",
    "print(df_obj)"
   ]
  },
  {
   "cell_type": "code",
   "execution_count": null,
   "metadata": {},
   "outputs": [],
   "source": [
    "print(df_obj.duplicated())\n",
    "df_obj[~df_obj.duplicated()]  #取出不重复行"
   ]
  },
  {
   "cell_type": "code",
   "execution_count": null,
   "metadata": {},
   "outputs": [],
   "source": [
    "print(df_obj.duplicated('data2'))"
   ]
  },
  {
   "cell_type": "code",
   "execution_count": null,
   "metadata": {},
   "outputs": [],
   "source": [
    "df_obj1 = pd.DataFrame({'data1' :[np.nan] * 4,\n",
    "                       'data2' :list('1235')})\n",
    "df_obj1"
   ]
  },
  {
   "cell_type": "code",
   "execution_count": null,
   "metadata": {},
   "outputs": [],
   "source": [
    "df_obj1.duplicated('data1')"
   ]
  },
  {
   "cell_type": "code",
   "execution_count": null,
   "metadata": {},
   "outputs": [],
   "source": [
    "print(df_obj.drop_duplicates())  #删除重复行\n",
    "print(df_obj.drop_duplicates('data2'))"
   ]
  },
  {
   "cell_type": "code",
   "execution_count": null,
   "metadata": {},
   "outputs": [],
   "source": [
    "df_obj"
   ]
  },
  {
   "cell_type": "code",
   "execution_count": null,
   "metadata": {},
   "outputs": [],
   "source": [
    "ser_obj = pd.Series(np.random.randint(0,10,10))  #series 用map\n",
    "print(ser_obj)\n",
    "\n",
    "print(ser_obj.map(lambda x : x ** 2))"
   ]
  },
  {
   "cell_type": "code",
   "execution_count": null,
   "metadata": {},
   "outputs": [],
   "source": [
    "ser_obj=pd.Series(np.arange(10))\n",
    "# 单个值替换单个值\n",
    "print(ser_obj.replace(1, -100))\n",
    "\n",
    "# 多个值替换一个值\n",
    "print(ser_obj.replace(range(6,9), -100))\n",
    "\n",
    "# 多个值替换多个值\n",
    "print(ser_obj.replace([4, 7], [-100, -200]))"
   ]
  },
  {
   "cell_type": "code",
   "execution_count": null,
   "metadata": {},
   "outputs": [],
   "source": [
    "df = pd.DataFrame({'A': [0, 1, 2, 3, 4],\n",
    "                   'B': [5, 6, 7, 8, 9],\n",
    "                   'C': ['a', 'b', 'c', 'd', 'e']})"
   ]
  },
  {
   "cell_type": "code",
   "execution_count": null,
   "metadata": {},
   "outputs": [],
   "source": [
    "df"
   ]
  },
  {
   "cell_type": "code",
   "execution_count": null,
   "metadata": {},
   "outputs": [],
   "source": [
    "df.replace(to_replace=r'^a', value=100, regex=True)"
   ]
  },
  {
   "cell_type": "code",
   "execution_count": null,
   "metadata": {},
   "outputs": [],
   "source": [
    "df.dtypes"
   ]
  },
  {
   "cell_type": "code",
   "execution_count": null,
   "metadata": {},
   "outputs": [],
   "source": []
  }
 ],
 "metadata": {
  "kernelspec": {
   "display_name": "Python 3",
   "language": "python",
   "name": "python3"
  },
  "language_info": {
   "codemirror_mode": {
    "name": "ipython",
    "version": 3
   },
   "file_extension": ".py",
   "mimetype": "text/x-python",
   "name": "python",
   "nbconvert_exporter": "python",
   "pygments_lexer": "ipython3",
   "version": "3.11.4"
  }
 },
 "nbformat": 4,
 "nbformat_minor": 2
}
