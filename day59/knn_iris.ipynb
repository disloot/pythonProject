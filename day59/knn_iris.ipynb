{
 "cells": [
  {
   "cell_type": "code",
   "execution_count": 1,
   "metadata": {},
   "outputs": [],
   "source": [
    "from sklearn.datasets import load_iris\n",
    "from sklearn.model_selection import train_test_split, GridSearchCV\n",
    "from sklearn.preprocessing import StandardScaler\n",
    "from sklearn.neighbors import KNeighborsClassifier\n",
    "from sklearn.feature_extraction.text import TfidfVectorizer\n",
    "import pandas as pd\n",
    "import numpy as np\n",
    "from sklearn.metrics import roc_auc_score"
   ]
  },
  {
   "cell_type": "code",
   "execution_count": 7,
   "metadata": {},
   "outputs": [],
   "source": [
    "iris = load_iris()"
   ]
  },
  {
   "cell_type": "code",
   "execution_count": 39,
   "metadata": {},
   "outputs": [
    {
     "name": "stdout",
     "output_type": "stream",
     "text": [
      "(150, 4)\n",
      "['setosa' 'versicolor' 'virginica']\n",
      "['sepal length (cm)', 'sepal width (cm)', 'petal length (cm)', 'petal width (cm)']\n"
     ]
    }
   ],
   "source": [
    "print(iris.data.shape)\n",
    "print(iris.target_names)\n",
    "print(iris.feature_names)"
   ]
  },
  {
   "cell_type": "code",
   "execution_count": 41,
   "metadata": {},
   "outputs": [],
   "source": [
    "x_train = iris.data\n",
    "y_truan = iris.target\n",
    "std = StandardScaler()\n",
    "x_train=std.fit_transform(x_train)"
   ]
  },
  {
   "cell_type": "code",
   "execution_count": 43,
   "metadata": {},
   "outputs": [
    {
     "name": "stdout",
     "output_type": "stream",
     "text": [
      "交叉验证中最好结果为： 0.9666666666666668\n",
      "最好的模型为： KNeighborsClassifier(n_neighbors=6)\n",
      "结果为： {'mean_fit_time': array([0.0020545 , 0.00033784, 0.00031271, 0.00029764, 0.00029621,\n",
      "       0.00029216, 0.00029516, 0.00030489, 0.00029421, 0.00029387]), 'std_fit_time': array([3.32999638e-03, 2.40979743e-05, 1.45107431e-05, 6.63060886e-06,\n",
      "       5.93580869e-06, 2.75412160e-06, 5.05762182e-06, 1.54919982e-05,\n",
      "       8.73406367e-06, 5.05672261e-06]), 'mean_score_time': array([0.00206614, 0.00179658, 0.0017467 , 0.00166497, 0.00166802,\n",
      "       0.00165935, 0.00167127, 0.00176239, 0.00167274, 0.00167656]), 'std_score_time': array([1.19076751e-04, 4.94509331e-05, 6.97717867e-05, 2.52883788e-05,\n",
      "       1.65671922e-05, 7.32127518e-06, 1.57091612e-05, 6.26695378e-05,\n",
      "       9.79781434e-06, 1.04849975e-05]), 'param_n_neighbors': masked_array(data=[1, 2, 3, 4, 5, 6, 7, 8, 9, 10],\n",
      "             mask=[False, False, False, False, False, False, False, False,\n",
      "                   False, False],\n",
      "       fill_value='?',\n",
      "            dtype=object), 'params': [{'n_neighbors': 1}, {'n_neighbors': 2}, {'n_neighbors': 3}, {'n_neighbors': 4}, {'n_neighbors': 5}, {'n_neighbors': 6}, {'n_neighbors': 7}, {'n_neighbors': 8}, {'n_neighbors': 9}, {'n_neighbors': 10}], 'split0_test_score': array([0.93333333, 0.96666667, 0.96666667, 0.96666667, 0.96666667,\n",
      "       0.96666667, 0.96666667, 0.96666667, 0.96666667, 0.96666667]), 'split1_test_score': array([0.96666667, 0.96666667, 0.96666667, 0.96666667, 0.96666667,\n",
      "       0.96666667, 0.96666667, 0.96666667, 0.96666667, 0.96666667]), 'split2_test_score': array([0.93333333, 0.9       , 0.93333333, 1.        , 0.93333333,\n",
      "       1.        , 0.93333333, 1.        , 0.96666667, 0.96666667]), 'split3_test_score': array([0.9       , 0.9       , 0.9       , 0.86666667, 0.93333333,\n",
      "       0.9       , 0.9       , 0.93333333, 0.9       , 0.93333333]), 'split4_test_score': array([1.        , 1.        , 1.        , 0.96666667, 1.        ,\n",
      "       1.        , 1.        , 0.96666667, 1.        , 0.96666667]), 'mean_test_score': array([0.94666667, 0.94666667, 0.95333333, 0.95333333, 0.96      ,\n",
      "       0.96666667, 0.95333333, 0.96666667, 0.96      , 0.96      ]), 'std_test_score': array([0.03399346, 0.04      , 0.03399346, 0.04521553, 0.02494438,\n",
      "       0.03651484, 0.03399346, 0.02108185, 0.03265986, 0.01333333]), 'rank_test_score': array([10,  9,  6,  6,  3,  1,  6,  1,  3,  3], dtype=int32)}\n"
     ]
    }
   ],
   "source": [
    "knn = KNeighborsClassifier()\n",
    "param = {\"n_neighbors\": range(1, 11, 1)}\n",
    "gc = GridSearchCV(knn, param_grid=param, cv=5)\n",
    "gc.fit(x_train, y_truan)\n",
    "print(\"交叉验证中最好结果为：\", gc.best_score_)\n",
    "print(\"最好的模型为：\", gc.best_estimator_)\n",
    "print(\"结果为：\", gc.cv_results_)\n"
   ]
  },
  {
   "cell_type": "code",
   "execution_count": 1,
   "metadata": {},
   "outputs": [],
   "source": [
    "import pandas as pd\n",
    "import numpy as np\n",
    "train_df = pd.read_csv('data/train_set.csv', sep='\\t')\n",
    "from sklearn.feature_extraction.text import TfidfVectorizer\n",
    "tf = TfidfVectorizer()\n",
    "x_train = tf.fit_transform(train_df.iloc[:,1])\n",
    "y_train = train_df.iloc[:,0]\n",
    "from sklearn.neighbors import KNeighborsClassifier\n",
    "knn = KNeighborsClassifier()\n",
    "param = {\"n_neighbors\": range(3, 8, 1)}\n",
    "from sklearn.model_selection import GridSearchCV\n",
    "gc = GridSearchCV(knn, param_grid=param, cv=3)\n",
    "gc.fit(x_train, y_train)\n",
    "print(\"交叉验证中最好结果为：\", gc.best_score_)\n",
    "print(\"最好的模型为：\", gc.best_estimator_)\n",
    "print(\"结果为：\", gc.cv_results_)\n",
    "\n"
   ]
  }
 ],
 "metadata": {
  "kernelspec": {
   "display_name": "deeplearning-3.11.4",
   "language": "python",
   "name": "python3"
  },
  "language_info": {
   "codemirror_mode": {
    "name": "ipython",
    "version": 3
   },
   "file_extension": ".py",
   "mimetype": "text/x-python",
   "name": "python",
   "nbconvert_exporter": "python",
   "pygments_lexer": "ipython3",
   "version": "3.11.4"
  },
  "orig_nbformat": 4
 },
 "nbformat": 4,
 "nbformat_minor": 2
}
