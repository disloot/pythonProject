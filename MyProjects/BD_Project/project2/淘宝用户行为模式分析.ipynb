{
 "cells": [
  {
   "cell_type": "code",
   "execution_count": 1,
   "id": "0a9e72f3",
   "metadata": {},
   "outputs": [],
   "source": [
    "import pandas as pd\n",
    "import numpy as np\n",
    "import matplotlib.pyplot as plt\n",
    "import seaborn as sns\n",
    "sns.set(style ='darkgrid', font_scale=1.5)\n",
    "plt.rcParams['font.sans-serif'] =['SimHei']\n",
    "plt.rcParams['axes.unicode_minus'] =False\n"
   ]
  },
  {
   "cell_type": "markdown",
   "id": "9c346d2a",
   "metadata": {},
   "source": [
    "# 1、数据查看"
   ]
  },
  {
   "cell_type": "code",
   "execution_count": 1,
   "id": "e5e6dccd",
   "metadata": {},
   "outputs": [],
   "source": [
    "import os"
   ]
  },
  {
   "cell_type": "code",
   "execution_count": 2,
   "id": "61e83aaa",
   "metadata": {},
   "outputs": [
    {
     "ename": "NameError",
     "evalue": "name 'pd' is not defined",
     "output_type": "error",
     "traceback": [
      "\u001b[0;31m---------------------------------------------------------------------------\u001b[0m",
      "\u001b[0;31mNameError\u001b[0m                                 Traceback (most recent call last)",
      "Cell \u001b[0;32mIn[2], line 1\u001b[0m\n\u001b[0;32m----> 1\u001b[0m data_user \u001b[39m=\u001b[39m pd\u001b[39m.\u001b[39mread_csv(\u001b[39m'\u001b[39m\u001b[39mtianchi_mobile_recommend_train_user.csv\u001b[39m\u001b[39m'\u001b[39m,dtype \u001b[39m=\u001b[39m \u001b[39mstr\u001b[39m)\n",
      "\u001b[0;31mNameError\u001b[0m: name 'pd' is not defined"
     ]
    }
   ],
   "source": [
    "data_user = pd.read_csv('tianchi_mobile_recommend_train_user.csv',dtype = str)"
   ]
  },
  {
   "cell_type": "code",
   "execution_count": 4,
   "id": "2f03f1be",
   "metadata": {},
   "outputs": [
    {
     "name": "stdout",
     "output_type": "stream",
     "text": [
      "<class 'pandas.core.frame.DataFrame'>\n",
      "RangeIndex: 12256906 entries, 0 to 12256905\n",
      "Data columns (total 6 columns):\n",
      " #   Column         Dtype \n",
      "---  ------         ----- \n",
      " 0   user_id        object\n",
      " 1   item_id        object\n",
      " 2   behavior_type  object\n",
      " 3   user_geohash   object\n",
      " 4   item_category  object\n",
      " 5   time           object\n",
      "dtypes: object(6)\n",
      "memory usage: 561.1+ MB\n"
     ]
    }
   ],
   "source": [
    "data_user.info()"
   ]
  },
  {
   "cell_type": "code",
   "execution_count": 4,
   "id": "08b44243",
   "metadata": {},
   "outputs": [
    {
     "data": {
      "text/html": [
       "<div>\n",
       "<style scoped>\n",
       "    .dataframe tbody tr th:only-of-type {\n",
       "        vertical-align: middle;\n",
       "    }\n",
       "\n",
       "    .dataframe tbody tr th {\n",
       "        vertical-align: top;\n",
       "    }\n",
       "\n",
       "    .dataframe thead th {\n",
       "        text-align: right;\n",
       "    }\n",
       "</style>\n",
       "<table border=\"1\" class=\"dataframe\">\n",
       "  <thead>\n",
       "    <tr style=\"text-align: right;\">\n",
       "      <th></th>\n",
       "      <th>user_id</th>\n",
       "      <th>item_id</th>\n",
       "      <th>behavior_type</th>\n",
       "      <th>user_geohash</th>\n",
       "      <th>item_category</th>\n",
       "      <th>time</th>\n",
       "    </tr>\n",
       "  </thead>\n",
       "  <tbody>\n",
       "    <tr>\n",
       "      <th>0</th>\n",
       "      <td>98047837</td>\n",
       "      <td>232431562</td>\n",
       "      <td>1</td>\n",
       "      <td>NaN</td>\n",
       "      <td>4245</td>\n",
       "      <td>2014-12-06 02</td>\n",
       "    </tr>\n",
       "    <tr>\n",
       "      <th>1</th>\n",
       "      <td>97726136</td>\n",
       "      <td>383583590</td>\n",
       "      <td>1</td>\n",
       "      <td>NaN</td>\n",
       "      <td>5894</td>\n",
       "      <td>2014-12-09 20</td>\n",
       "    </tr>\n",
       "    <tr>\n",
       "      <th>2</th>\n",
       "      <td>98607707</td>\n",
       "      <td>64749712</td>\n",
       "      <td>1</td>\n",
       "      <td>NaN</td>\n",
       "      <td>2883</td>\n",
       "      <td>2014-12-18 11</td>\n",
       "    </tr>\n",
       "    <tr>\n",
       "      <th>3</th>\n",
       "      <td>98662432</td>\n",
       "      <td>320593836</td>\n",
       "      <td>1</td>\n",
       "      <td>96nn52n</td>\n",
       "      <td>6562</td>\n",
       "      <td>2014-12-06 10</td>\n",
       "    </tr>\n",
       "    <tr>\n",
       "      <th>4</th>\n",
       "      <td>98145908</td>\n",
       "      <td>290208520</td>\n",
       "      <td>1</td>\n",
       "      <td>NaN</td>\n",
       "      <td>13926</td>\n",
       "      <td>2014-12-16 21</td>\n",
       "    </tr>\n",
       "  </tbody>\n",
       "</table>\n",
       "</div>"
      ],
      "text/plain": [
       "    user_id    item_id behavior_type user_geohash item_category           time\n",
       "0  98047837  232431562             1          NaN          4245  2014-12-06 02\n",
       "1  97726136  383583590             1          NaN          5894  2014-12-09 20\n",
       "2  98607707   64749712             1          NaN          2883  2014-12-18 11\n",
       "3  98662432  320593836             1      96nn52n          6562  2014-12-06 10\n",
       "4  98145908  290208520             1          NaN         13926  2014-12-16 21"
      ]
     },
     "execution_count": 4,
     "metadata": {},
     "output_type": "execute_result"
    }
   ],
   "source": [
    "data_user.head()"
   ]
  },
  {
   "cell_type": "markdown",
   "id": "f75aee97",
   "metadata": {},
   "source": [
    "# 2 数据预处理"
   ]
  },
  {
   "cell_type": "code",
   "execution_count": 6,
   "id": "b99c3108",
   "metadata": {},
   "outputs": [
    {
     "data": {
      "text/plain": [
       "user_id          0.00000\n",
       "item_id          0.00000\n",
       "behavior_type    0.00000\n",
       "user_geohash     0.68001\n",
       "item_category    0.00000\n",
       "time             0.00000\n",
       "dtype: float64"
      ]
     },
     "execution_count": 6,
     "metadata": {},
     "output_type": "execute_result"
    }
   ],
   "source": [
    "#2.1 缺失值分析\n",
    "data_user.apply(lambda x: sum(x.isnull())/len(x))\n"
   ]
  },
  {
   "cell_type": "code",
   "execution_count": 7,
   "id": "d135c212",
   "metadata": {},
   "outputs": [
    {
     "data": {
      "text/plain": [
       "user_id                0\n",
       "item_id                0\n",
       "behavior_type          0\n",
       "user_geohash     8334824\n",
       "item_category          0\n",
       "time                   0\n",
       "dtype: int64"
      ]
     },
     "execution_count": 7,
     "metadata": {},
     "output_type": "execute_result"
    }
   ],
   "source": [
    "data_user.apply (lambda x: sum(x.isnull()))\n"
   ]
  },
  {
   "cell_type": "code",
   "execution_count": 8,
   "id": "25856cf6",
   "metadata": {},
   "outputs": [],
   "source": [
    "data_user['date'] = data_user['time'].str[0:10]\n",
    "data_user['hour'] = data_user['time'].str[11:]  #如果发生溢出就分开执行"
   ]
  },
  {
   "cell_type": "code",
   "execution_count": 9,
   "id": "87f00b59",
   "metadata": {},
   "outputs": [
    {
     "data": {
      "text/plain": [
       "user_id          object\n",
       "item_id          object\n",
       "behavior_type    object\n",
       "user_geohash     object\n",
       "item_category    object\n",
       "time             object\n",
       "date             object\n",
       "hour             object\n",
       "dtype: object"
      ]
     },
     "execution_count": 9,
     "metadata": {},
     "output_type": "execute_result"
    }
   ],
   "source": [
    "data_user.dtypes"
   ]
  },
  {
   "cell_type": "code",
   "execution_count": 10,
   "id": "d189ae04",
   "metadata": {},
   "outputs": [
    {
     "data": {
      "text/html": [
       "<div>\n",
       "<style scoped>\n",
       "    .dataframe tbody tr th:only-of-type {\n",
       "        vertical-align: middle;\n",
       "    }\n",
       "\n",
       "    .dataframe tbody tr th {\n",
       "        vertical-align: top;\n",
       "    }\n",
       "\n",
       "    .dataframe thead th {\n",
       "        text-align: right;\n",
       "    }\n",
       "</style>\n",
       "<table border=\"1\" class=\"dataframe\">\n",
       "  <thead>\n",
       "    <tr style=\"text-align: right;\">\n",
       "      <th></th>\n",
       "      <th>user_id</th>\n",
       "      <th>item_id</th>\n",
       "      <th>behavior_type</th>\n",
       "      <th>user_geohash</th>\n",
       "      <th>item_category</th>\n",
       "      <th>time</th>\n",
       "      <th>date</th>\n",
       "      <th>hour</th>\n",
       "    </tr>\n",
       "  </thead>\n",
       "  <tbody>\n",
       "    <tr>\n",
       "      <th>0</th>\n",
       "      <td>98047837</td>\n",
       "      <td>232431562</td>\n",
       "      <td>1</td>\n",
       "      <td>NaN</td>\n",
       "      <td>4245</td>\n",
       "      <td>2014-12-06 02</td>\n",
       "      <td>2014-12-06</td>\n",
       "      <td>02</td>\n",
       "    </tr>\n",
       "    <tr>\n",
       "      <th>1</th>\n",
       "      <td>97726136</td>\n",
       "      <td>383583590</td>\n",
       "      <td>1</td>\n",
       "      <td>NaN</td>\n",
       "      <td>5894</td>\n",
       "      <td>2014-12-09 20</td>\n",
       "      <td>2014-12-09</td>\n",
       "      <td>20</td>\n",
       "    </tr>\n",
       "    <tr>\n",
       "      <th>2</th>\n",
       "      <td>98607707</td>\n",
       "      <td>64749712</td>\n",
       "      <td>1</td>\n",
       "      <td>NaN</td>\n",
       "      <td>2883</td>\n",
       "      <td>2014-12-18 11</td>\n",
       "      <td>2014-12-18</td>\n",
       "      <td>11</td>\n",
       "    </tr>\n",
       "    <tr>\n",
       "      <th>3</th>\n",
       "      <td>98662432</td>\n",
       "      <td>320593836</td>\n",
       "      <td>1</td>\n",
       "      <td>96nn52n</td>\n",
       "      <td>6562</td>\n",
       "      <td>2014-12-06 10</td>\n",
       "      <td>2014-12-06</td>\n",
       "      <td>10</td>\n",
       "    </tr>\n",
       "    <tr>\n",
       "      <th>4</th>\n",
       "      <td>98145908</td>\n",
       "      <td>290208520</td>\n",
       "      <td>1</td>\n",
       "      <td>NaN</td>\n",
       "      <td>13926</td>\n",
       "      <td>2014-12-16 21</td>\n",
       "      <td>2014-12-16</td>\n",
       "      <td>21</td>\n",
       "    </tr>\n",
       "  </tbody>\n",
       "</table>\n",
       "</div>"
      ],
      "text/plain": [
       "    user_id    item_id behavior_type user_geohash item_category  \\\n",
       "0  98047837  232431562             1          NaN          4245   \n",
       "1  97726136  383583590             1          NaN          5894   \n",
       "2  98607707   64749712             1          NaN          2883   \n",
       "3  98662432  320593836             1      96nn52n          6562   \n",
       "4  98145908  290208520             1          NaN         13926   \n",
       "\n",
       "            time        date hour  \n",
       "0  2014-12-06 02  2014-12-06   02  \n",
       "1  2014-12-09 20  2014-12-09   20  \n",
       "2  2014-12-18 11  2014-12-18   11  \n",
       "3  2014-12-06 10  2014-12-06   10  \n",
       "4  2014-12-16 21  2014-12-16   21  "
      ]
     },
     "execution_count": 10,
     "metadata": {},
     "output_type": "execute_result"
    }
   ],
   "source": [
    "data_user.head()"
   ]
  },
  {
   "cell_type": "code",
   "execution_count": 11,
   "id": "2c7eb543",
   "metadata": {},
   "outputs": [],
   "source": [
    "data_user['date'] = pd.to_datetime(data_user['date'])\n",
    "data_user['time']= pd.to_datetime(data_user['time'])\n",
    "data_user['hour'] = data_user['hour'].astype(int)"
   ]
  },
  {
   "cell_type": "code",
   "execution_count": 12,
   "id": "ef522110",
   "metadata": {},
   "outputs": [
    {
     "data": {
      "text/plain": [
       "user_id                  object\n",
       "item_id                  object\n",
       "behavior_type            object\n",
       "user_geohash             object\n",
       "item_category            object\n",
       "time             datetime64[ns]\n",
       "date             datetime64[ns]\n",
       "hour                      int32\n",
       "dtype: object"
      ]
     },
     "execution_count": 12,
     "metadata": {},
     "output_type": "execute_result"
    }
   ],
   "source": [
    "data_user.dtypes"
   ]
  },
  {
   "cell_type": "code",
   "execution_count": 13,
   "id": "c23a3160",
   "metadata": {},
   "outputs": [
    {
     "data": {
      "text/html": [
       "<div>\n",
       "<style scoped>\n",
       "    .dataframe tbody tr th:only-of-type {\n",
       "        vertical-align: middle;\n",
       "    }\n",
       "\n",
       "    .dataframe tbody tr th {\n",
       "        vertical-align: top;\n",
       "    }\n",
       "\n",
       "    .dataframe thead th {\n",
       "        text-align: right;\n",
       "    }\n",
       "</style>\n",
       "<table border=\"1\" class=\"dataframe\">\n",
       "  <thead>\n",
       "    <tr style=\"text-align: right;\">\n",
       "      <th></th>\n",
       "      <th>user_id</th>\n",
       "      <th>item_id</th>\n",
       "      <th>behavior_type</th>\n",
       "      <th>user_geohash</th>\n",
       "      <th>item_category</th>\n",
       "      <th>time</th>\n",
       "      <th>date</th>\n",
       "      <th>hour</th>\n",
       "    </tr>\n",
       "  </thead>\n",
       "  <tbody>\n",
       "    <tr>\n",
       "      <th>0</th>\n",
       "      <td>98047837</td>\n",
       "      <td>232431562</td>\n",
       "      <td>1</td>\n",
       "      <td>NaN</td>\n",
       "      <td>4245</td>\n",
       "      <td>2014-12-06 02:00:00</td>\n",
       "      <td>2014-12-06</td>\n",
       "      <td>2</td>\n",
       "    </tr>\n",
       "    <tr>\n",
       "      <th>1</th>\n",
       "      <td>97726136</td>\n",
       "      <td>383583590</td>\n",
       "      <td>1</td>\n",
       "      <td>NaN</td>\n",
       "      <td>5894</td>\n",
       "      <td>2014-12-09 20:00:00</td>\n",
       "      <td>2014-12-09</td>\n",
       "      <td>20</td>\n",
       "    </tr>\n",
       "    <tr>\n",
       "      <th>2</th>\n",
       "      <td>98607707</td>\n",
       "      <td>64749712</td>\n",
       "      <td>1</td>\n",
       "      <td>NaN</td>\n",
       "      <td>2883</td>\n",
       "      <td>2014-12-18 11:00:00</td>\n",
       "      <td>2014-12-18</td>\n",
       "      <td>11</td>\n",
       "    </tr>\n",
       "    <tr>\n",
       "      <th>3</th>\n",
       "      <td>98662432</td>\n",
       "      <td>320593836</td>\n",
       "      <td>1</td>\n",
       "      <td>96nn52n</td>\n",
       "      <td>6562</td>\n",
       "      <td>2014-12-06 10:00:00</td>\n",
       "      <td>2014-12-06</td>\n",
       "      <td>10</td>\n",
       "    </tr>\n",
       "    <tr>\n",
       "      <th>4</th>\n",
       "      <td>98145908</td>\n",
       "      <td>290208520</td>\n",
       "      <td>1</td>\n",
       "      <td>NaN</td>\n",
       "      <td>13926</td>\n",
       "      <td>2014-12-16 21:00:00</td>\n",
       "      <td>2014-12-16</td>\n",
       "      <td>21</td>\n",
       "    </tr>\n",
       "  </tbody>\n",
       "</table>\n",
       "</div>"
      ],
      "text/plain": [
       "    user_id    item_id behavior_type user_geohash item_category  \\\n",
       "0  98047837  232431562             1          NaN          4245   \n",
       "1  97726136  383583590             1          NaN          5894   \n",
       "2  98607707   64749712             1          NaN          2883   \n",
       "3  98662432  320593836             1      96nn52n          6562   \n",
       "4  98145908  290208520             1          NaN         13926   \n",
       "\n",
       "                 time       date  hour  \n",
       "0 2014-12-06 02:00:00 2014-12-06     2  \n",
       "1 2014-12-09 20:00:00 2014-12-09    20  \n",
       "2 2014-12-18 11:00:00 2014-12-18    11  \n",
       "3 2014-12-06 10:00:00 2014-12-06    10  \n",
       "4 2014-12-16 21:00:00 2014-12-16    21  "
      ]
     },
     "execution_count": 13,
     "metadata": {},
     "output_type": "execute_result"
    }
   ],
   "source": [
    "data_user.head()"
   ]
  },
  {
   "cell_type": "code",
   "execution_count": 3,
   "id": "494ec2dd",
   "metadata": {},
   "outputs": [
    {
     "ename": "NameError",
     "evalue": "name 'data_user' is not defined",
     "output_type": "error",
     "traceback": [
      "\u001b[0;31m---------------------------------------------------------------------------\u001b[0m",
      "\u001b[0;31mNameError\u001b[0m                                 Traceback (most recent call last)",
      "Cell \u001b[0;32mIn[3], line 2\u001b[0m\n\u001b[1;32m      1\u001b[0m \u001b[39m#对数据进行一下排序\u001b[39;00m\n\u001b[0;32m----> 2\u001b[0m data_user\u001b[39m.\u001b[39msort_values(by \u001b[39m=\u001b[39m\u001b[39m'\u001b[39m\u001b[39mtime\u001b[39m\u001b[39m'\u001b[39m,ascending\u001b[39m=\u001b[39m\u001b[39mTrue\u001b[39;00m,inplace \u001b[39m=\u001b[39m \u001b[39mTrue\u001b[39;00m)\n",
      "\u001b[0;31mNameError\u001b[0m: name 'data_user' is not defined"
     ]
    }
   ],
   "source": [
    "#对数据进行一下排序\n",
    "data_user.sort_values(by ='time',ascending=True,inplace = True)"
   ]
  },
  {
   "cell_type": "code",
   "execution_count": 15,
   "id": "68cc008b",
   "metadata": {},
   "outputs": [],
   "source": [
    "data_user.reset_index(drop =True,inplace =True)"
   ]
  },
  {
   "cell_type": "code",
   "execution_count": 16,
   "id": "062c2699",
   "metadata": {},
   "outputs": [
    {
     "data": {
      "text/html": [
       "<div>\n",
       "<style scoped>\n",
       "    .dataframe tbody tr th:only-of-type {\n",
       "        vertical-align: middle;\n",
       "    }\n",
       "\n",
       "    .dataframe tbody tr th {\n",
       "        vertical-align: top;\n",
       "    }\n",
       "\n",
       "    .dataframe thead th {\n",
       "        text-align: right;\n",
       "    }\n",
       "</style>\n",
       "<table border=\"1\" class=\"dataframe\">\n",
       "  <thead>\n",
       "    <tr style=\"text-align: right;\">\n",
       "      <th></th>\n",
       "      <th>user_id</th>\n",
       "      <th>item_id</th>\n",
       "      <th>behavior_type</th>\n",
       "      <th>user_geohash</th>\n",
       "      <th>item_category</th>\n",
       "      <th>time</th>\n",
       "      <th>date</th>\n",
       "      <th>hour</th>\n",
       "    </tr>\n",
       "  </thead>\n",
       "  <tbody>\n",
       "    <tr>\n",
       "      <th>0</th>\n",
       "      <td>73462715</td>\n",
       "      <td>378485233</td>\n",
       "      <td>1</td>\n",
       "      <td>NaN</td>\n",
       "      <td>9130</td>\n",
       "      <td>2014-11-18</td>\n",
       "      <td>2014-11-18</td>\n",
       "      <td>0</td>\n",
       "    </tr>\n",
       "    <tr>\n",
       "      <th>1</th>\n",
       "      <td>36090137</td>\n",
       "      <td>236748115</td>\n",
       "      <td>1</td>\n",
       "      <td>NaN</td>\n",
       "      <td>10523</td>\n",
       "      <td>2014-11-18</td>\n",
       "      <td>2014-11-18</td>\n",
       "      <td>0</td>\n",
       "    </tr>\n",
       "    <tr>\n",
       "      <th>2</th>\n",
       "      <td>40459733</td>\n",
       "      <td>155218177</td>\n",
       "      <td>1</td>\n",
       "      <td>NaN</td>\n",
       "      <td>8561</td>\n",
       "      <td>2014-11-18</td>\n",
       "      <td>2014-11-18</td>\n",
       "      <td>0</td>\n",
       "    </tr>\n",
       "    <tr>\n",
       "      <th>3</th>\n",
       "      <td>814199</td>\n",
       "      <td>149808524</td>\n",
       "      <td>1</td>\n",
       "      <td>NaN</td>\n",
       "      <td>9053</td>\n",
       "      <td>2014-11-18</td>\n",
       "      <td>2014-11-18</td>\n",
       "      <td>0</td>\n",
       "    </tr>\n",
       "    <tr>\n",
       "      <th>4</th>\n",
       "      <td>113309982</td>\n",
       "      <td>5730861</td>\n",
       "      <td>1</td>\n",
       "      <td>NaN</td>\n",
       "      <td>3783</td>\n",
       "      <td>2014-11-18</td>\n",
       "      <td>2014-11-18</td>\n",
       "      <td>0</td>\n",
       "    </tr>\n",
       "  </tbody>\n",
       "</table>\n",
       "</div>"
      ],
      "text/plain": [
       "     user_id    item_id behavior_type user_geohash item_category       time  \\\n",
       "0   73462715  378485233             1          NaN          9130 2014-11-18   \n",
       "1   36090137  236748115             1          NaN         10523 2014-11-18   \n",
       "2   40459733  155218177             1          NaN          8561 2014-11-18   \n",
       "3     814199  149808524             1          NaN          9053 2014-11-18   \n",
       "4  113309982    5730861             1          NaN          3783 2014-11-18   \n",
       "\n",
       "        date  hour  \n",
       "0 2014-11-18     0  \n",
       "1 2014-11-18     0  \n",
       "2 2014-11-18     0  \n",
       "3 2014-11-18     0  \n",
       "4 2014-11-18     0  "
      ]
     },
     "execution_count": 16,
     "metadata": {},
     "output_type": "execute_result"
    }
   ],
   "source": [
    "data_user.head()"
   ]
  },
  {
   "cell_type": "code",
   "execution_count": 17,
   "id": "60909e9d",
   "metadata": {},
   "outputs": [
    {
     "data": {
      "text/html": [
       "<div>\n",
       "<style scoped>\n",
       "    .dataframe tbody tr th:only-of-type {\n",
       "        vertical-align: middle;\n",
       "    }\n",
       "\n",
       "    .dataframe tbody tr th {\n",
       "        vertical-align: top;\n",
       "    }\n",
       "\n",
       "    .dataframe thead th {\n",
       "        text-align: right;\n",
       "    }\n",
       "</style>\n",
       "<table border=\"1\" class=\"dataframe\">\n",
       "  <thead>\n",
       "    <tr style=\"text-align: right;\">\n",
       "      <th></th>\n",
       "      <th>user_id</th>\n",
       "      <th>item_id</th>\n",
       "      <th>behavior_type</th>\n",
       "      <th>user_geohash</th>\n",
       "      <th>item_category</th>\n",
       "    </tr>\n",
       "  </thead>\n",
       "  <tbody>\n",
       "    <tr>\n",
       "      <th>count</th>\n",
       "      <td>12256906</td>\n",
       "      <td>12256906</td>\n",
       "      <td>12256906</td>\n",
       "      <td>3922082</td>\n",
       "      <td>12256906</td>\n",
       "    </tr>\n",
       "    <tr>\n",
       "      <th>unique</th>\n",
       "      <td>10000</td>\n",
       "      <td>2876947</td>\n",
       "      <td>4</td>\n",
       "      <td>575458</td>\n",
       "      <td>8916</td>\n",
       "    </tr>\n",
       "    <tr>\n",
       "      <th>top</th>\n",
       "      <td>36233277</td>\n",
       "      <td>112921337</td>\n",
       "      <td>1</td>\n",
       "      <td>94ek6ke</td>\n",
       "      <td>1863</td>\n",
       "    </tr>\n",
       "    <tr>\n",
       "      <th>freq</th>\n",
       "      <td>31030</td>\n",
       "      <td>1445</td>\n",
       "      <td>11550581</td>\n",
       "      <td>1052</td>\n",
       "      <td>393247</td>\n",
       "    </tr>\n",
       "  </tbody>\n",
       "</table>\n",
       "</div>"
      ],
      "text/plain": [
       "         user_id    item_id behavior_type user_geohash item_category\n",
       "count   12256906   12256906      12256906      3922082      12256906\n",
       "unique     10000    2876947             4       575458          8916\n",
       "top     36233277  112921337             1      94ek6ke          1863\n",
       "freq       31030       1445      11550581         1052        393247"
      ]
     },
     "execution_count": 17,
     "metadata": {},
     "output_type": "execute_result"
    }
   ],
   "source": [
    "data_user.describe(include = ['object'])  #第二行可以看出行为类型，用户位置类别，商品品类"
   ]
  },
  {
   "cell_type": "code",
   "execution_count": 18,
   "id": "2399712a",
   "metadata": {},
   "outputs": [
    {
     "name": "stderr",
     "output_type": "stream",
     "text": [
      "C:\\Users\\41507\\AppData\\Local\\Temp/ipykernel_67824/1350093510.py:1: FutureWarning: Treating datetime data as categorical rather than numeric in `.describe` is deprecated and will be removed in a future version of pandas. Specify `datetime_is_numeric=True` to silence this warning and adopt the future behavior now.\n",
      "  data_user.describe(include = 'all')\n"
     ]
    },
    {
     "data": {
      "text/html": [
       "<div>\n",
       "<style scoped>\n",
       "    .dataframe tbody tr th:only-of-type {\n",
       "        vertical-align: middle;\n",
       "    }\n",
       "\n",
       "    .dataframe tbody tr th {\n",
       "        vertical-align: top;\n",
       "    }\n",
       "\n",
       "    .dataframe thead th {\n",
       "        text-align: right;\n",
       "    }\n",
       "</style>\n",
       "<table border=\"1\" class=\"dataframe\">\n",
       "  <thead>\n",
       "    <tr style=\"text-align: right;\">\n",
       "      <th></th>\n",
       "      <th>user_id</th>\n",
       "      <th>item_id</th>\n",
       "      <th>behavior_type</th>\n",
       "      <th>user_geohash</th>\n",
       "      <th>item_category</th>\n",
       "      <th>time</th>\n",
       "      <th>date</th>\n",
       "      <th>hour</th>\n",
       "    </tr>\n",
       "  </thead>\n",
       "  <tbody>\n",
       "    <tr>\n",
       "      <th>count</th>\n",
       "      <td>12256906</td>\n",
       "      <td>12256906</td>\n",
       "      <td>12256906</td>\n",
       "      <td>3922082</td>\n",
       "      <td>12256906</td>\n",
       "      <td>12256906</td>\n",
       "      <td>12256906</td>\n",
       "      <td>1.225691e+07</td>\n",
       "    </tr>\n",
       "    <tr>\n",
       "      <th>unique</th>\n",
       "      <td>10000</td>\n",
       "      <td>2876947</td>\n",
       "      <td>4</td>\n",
       "      <td>575458</td>\n",
       "      <td>8916</td>\n",
       "      <td>744</td>\n",
       "      <td>31</td>\n",
       "      <td>NaN</td>\n",
       "    </tr>\n",
       "    <tr>\n",
       "      <th>top</th>\n",
       "      <td>36233277</td>\n",
       "      <td>112921337</td>\n",
       "      <td>1</td>\n",
       "      <td>94ek6ke</td>\n",
       "      <td>1863</td>\n",
       "      <td>2014-12-11 22:00:00</td>\n",
       "      <td>2014-12-12 00:00:00</td>\n",
       "      <td>NaN</td>\n",
       "    </tr>\n",
       "    <tr>\n",
       "      <th>freq</th>\n",
       "      <td>31030</td>\n",
       "      <td>1445</td>\n",
       "      <td>11550581</td>\n",
       "      <td>1052</td>\n",
       "      <td>393247</td>\n",
       "      <td>54797</td>\n",
       "      <td>691712</td>\n",
       "      <td>NaN</td>\n",
       "    </tr>\n",
       "    <tr>\n",
       "      <th>first</th>\n",
       "      <td>NaN</td>\n",
       "      <td>NaN</td>\n",
       "      <td>NaN</td>\n",
       "      <td>NaN</td>\n",
       "      <td>NaN</td>\n",
       "      <td>2014-11-18 00:00:00</td>\n",
       "      <td>2014-11-18 00:00:00</td>\n",
       "      <td>NaN</td>\n",
       "    </tr>\n",
       "    <tr>\n",
       "      <th>last</th>\n",
       "      <td>NaN</td>\n",
       "      <td>NaN</td>\n",
       "      <td>NaN</td>\n",
       "      <td>NaN</td>\n",
       "      <td>NaN</td>\n",
       "      <td>2014-12-18 23:00:00</td>\n",
       "      <td>2014-12-18 00:00:00</td>\n",
       "      <td>NaN</td>\n",
       "    </tr>\n",
       "    <tr>\n",
       "      <th>mean</th>\n",
       "      <td>NaN</td>\n",
       "      <td>NaN</td>\n",
       "      <td>NaN</td>\n",
       "      <td>NaN</td>\n",
       "      <td>NaN</td>\n",
       "      <td>NaN</td>\n",
       "      <td>NaN</td>\n",
       "      <td>1.481799e+01</td>\n",
       "    </tr>\n",
       "    <tr>\n",
       "      <th>std</th>\n",
       "      <td>NaN</td>\n",
       "      <td>NaN</td>\n",
       "      <td>NaN</td>\n",
       "      <td>NaN</td>\n",
       "      <td>NaN</td>\n",
       "      <td>NaN</td>\n",
       "      <td>NaN</td>\n",
       "      <td>6.474778e+00</td>\n",
       "    </tr>\n",
       "    <tr>\n",
       "      <th>min</th>\n",
       "      <td>NaN</td>\n",
       "      <td>NaN</td>\n",
       "      <td>NaN</td>\n",
       "      <td>NaN</td>\n",
       "      <td>NaN</td>\n",
       "      <td>NaN</td>\n",
       "      <td>NaN</td>\n",
       "      <td>0.000000e+00</td>\n",
       "    </tr>\n",
       "    <tr>\n",
       "      <th>25%</th>\n",
       "      <td>NaN</td>\n",
       "      <td>NaN</td>\n",
       "      <td>NaN</td>\n",
       "      <td>NaN</td>\n",
       "      <td>NaN</td>\n",
       "      <td>NaN</td>\n",
       "      <td>NaN</td>\n",
       "      <td>1.000000e+01</td>\n",
       "    </tr>\n",
       "    <tr>\n",
       "      <th>50%</th>\n",
       "      <td>NaN</td>\n",
       "      <td>NaN</td>\n",
       "      <td>NaN</td>\n",
       "      <td>NaN</td>\n",
       "      <td>NaN</td>\n",
       "      <td>NaN</td>\n",
       "      <td>NaN</td>\n",
       "      <td>1.600000e+01</td>\n",
       "    </tr>\n",
       "    <tr>\n",
       "      <th>75%</th>\n",
       "      <td>NaN</td>\n",
       "      <td>NaN</td>\n",
       "      <td>NaN</td>\n",
       "      <td>NaN</td>\n",
       "      <td>NaN</td>\n",
       "      <td>NaN</td>\n",
       "      <td>NaN</td>\n",
       "      <td>2.000000e+01</td>\n",
       "    </tr>\n",
       "    <tr>\n",
       "      <th>max</th>\n",
       "      <td>NaN</td>\n",
       "      <td>NaN</td>\n",
       "      <td>NaN</td>\n",
       "      <td>NaN</td>\n",
       "      <td>NaN</td>\n",
       "      <td>NaN</td>\n",
       "      <td>NaN</td>\n",
       "      <td>2.300000e+01</td>\n",
       "    </tr>\n",
       "  </tbody>\n",
       "</table>\n",
       "</div>"
      ],
      "text/plain": [
       "         user_id    item_id behavior_type user_geohash item_category  \\\n",
       "count   12256906   12256906      12256906      3922082      12256906   \n",
       "unique     10000    2876947             4       575458          8916   \n",
       "top     36233277  112921337             1      94ek6ke          1863   \n",
       "freq       31030       1445      11550581         1052        393247   \n",
       "first        NaN        NaN           NaN          NaN           NaN   \n",
       "last         NaN        NaN           NaN          NaN           NaN   \n",
       "mean         NaN        NaN           NaN          NaN           NaN   \n",
       "std          NaN        NaN           NaN          NaN           NaN   \n",
       "min          NaN        NaN           NaN          NaN           NaN   \n",
       "25%          NaN        NaN           NaN          NaN           NaN   \n",
       "50%          NaN        NaN           NaN          NaN           NaN   \n",
       "75%          NaN        NaN           NaN          NaN           NaN   \n",
       "max          NaN        NaN           NaN          NaN           NaN   \n",
       "\n",
       "                       time                 date          hour  \n",
       "count              12256906             12256906  1.225691e+07  \n",
       "unique                  744                   31           NaN  \n",
       "top     2014-12-11 22:00:00  2014-12-12 00:00:00           NaN  \n",
       "freq                  54797               691712           NaN  \n",
       "first   2014-11-18 00:00:00  2014-11-18 00:00:00           NaN  \n",
       "last    2014-12-18 23:00:00  2014-12-18 00:00:00           NaN  \n",
       "mean                    NaN                  NaN  1.481799e+01  \n",
       "std                     NaN                  NaN  6.474778e+00  \n",
       "min                     NaN                  NaN  0.000000e+00  \n",
       "25%                     NaN                  NaN  1.000000e+01  \n",
       "50%                     NaN                  NaN  1.600000e+01  \n",
       "75%                     NaN                  NaN  2.000000e+01  \n",
       "max                     NaN                  NaN  2.300000e+01  "
      ]
     },
     "execution_count": 18,
     "metadata": {},
     "output_type": "execute_result"
    }
   ],
   "source": [
    "data_user.describe(include = 'all')"
   ]
  },
  {
   "cell_type": "markdown",
   "id": "dc7613c3",
   "metadata": {},
   "source": [
    "# 构建模型"
   ]
  },
  {
   "cell_type": "code",
   "execution_count": 19,
   "id": "3896b060",
   "metadata": {},
   "outputs": [],
   "source": [
    "pv_daily = data_user.groupby('date').count()['user_id']"
   ]
  },
  {
   "cell_type": "code",
   "execution_count": 20,
   "id": "f7f38a1a",
   "metadata": {},
   "outputs": [
    {
     "data": {
      "text/plain": [
       "date\n",
       "2014-11-18    366701\n",
       "2014-11-19    358823\n",
       "2014-11-20    353429\n",
       "2014-11-21    333104\n",
       "2014-11-22    361355\n",
       "Name: user_id, dtype: int64"
      ]
     },
     "execution_count": 20,
     "metadata": {},
     "output_type": "execute_result"
    }
   ],
   "source": [
    "pv_daily.head()"
   ]
  },
  {
   "cell_type": "code",
   "execution_count": 21,
   "id": "50f9f798",
   "metadata": {},
   "outputs": [],
   "source": [
    "pv_daily = pv_daily.rename('user_id1') #注意这里一定要写赋值"
   ]
  },
  {
   "cell_type": "code",
   "execution_count": 22,
   "id": "37bcfaf7",
   "metadata": {},
   "outputs": [],
   "source": [
    "uv_daily = data_user.groupby('date')['user_id'].apply(lambda x:x.drop_duplicates().count())\n"
   ]
  },
  {
   "cell_type": "code",
   "execution_count": 23,
   "id": "bc1f960e",
   "metadata": {},
   "outputs": [
    {
     "data": {
      "text/plain": [
       "date\n",
       "2014-11-18    6343\n",
       "2014-11-19    6420\n",
       "2014-11-20    6333\n",
       "2014-11-21    6276\n",
       "2014-11-22    6187\n",
       "Name: user_id, dtype: int64"
      ]
     },
     "execution_count": 23,
     "metadata": {},
     "output_type": "execute_result"
    }
   ],
   "source": [
    "uv_daily.head()"
   ]
  },
  {
   "cell_type": "code",
   "execution_count": 24,
   "id": "a5077eaa",
   "metadata": {},
   "outputs": [],
   "source": [
    "pv_uv_daily = pd.concat([pv_daily, uv_daily],axis=1)\n"
   ]
  },
  {
   "cell_type": "code",
   "execution_count": 25,
   "id": "e758eb99",
   "metadata": {},
   "outputs": [
    {
     "data": {
      "text/html": [
       "<div>\n",
       "<style scoped>\n",
       "    .dataframe tbody tr th:only-of-type {\n",
       "        vertical-align: middle;\n",
       "    }\n",
       "\n",
       "    .dataframe tbody tr th {\n",
       "        vertical-align: top;\n",
       "    }\n",
       "\n",
       "    .dataframe thead th {\n",
       "        text-align: right;\n",
       "    }\n",
       "</style>\n",
       "<table border=\"1\" class=\"dataframe\">\n",
       "  <thead>\n",
       "    <tr style=\"text-align: right;\">\n",
       "      <th></th>\n",
       "      <th>user_id1</th>\n",
       "      <th>user_id</th>\n",
       "    </tr>\n",
       "    <tr>\n",
       "      <th>date</th>\n",
       "      <th></th>\n",
       "      <th></th>\n",
       "    </tr>\n",
       "  </thead>\n",
       "  <tbody>\n",
       "    <tr>\n",
       "      <th>2014-11-18</th>\n",
       "      <td>366701</td>\n",
       "      <td>6343</td>\n",
       "    </tr>\n",
       "    <tr>\n",
       "      <th>2014-11-19</th>\n",
       "      <td>358823</td>\n",
       "      <td>6420</td>\n",
       "    </tr>\n",
       "    <tr>\n",
       "      <th>2014-11-20</th>\n",
       "      <td>353429</td>\n",
       "      <td>6333</td>\n",
       "    </tr>\n",
       "    <tr>\n",
       "      <th>2014-11-21</th>\n",
       "      <td>333104</td>\n",
       "      <td>6276</td>\n",
       "    </tr>\n",
       "    <tr>\n",
       "      <th>2014-11-22</th>\n",
       "      <td>361355</td>\n",
       "      <td>6187</td>\n",
       "    </tr>\n",
       "  </tbody>\n",
       "</table>\n",
       "</div>"
      ],
      "text/plain": [
       "            user_id1  user_id\n",
       "date                         \n",
       "2014-11-18    366701     6343\n",
       "2014-11-19    358823     6420\n",
       "2014-11-20    353429     6333\n",
       "2014-11-21    333104     6276\n",
       "2014-11-22    361355     6187"
      ]
     },
     "execution_count": 25,
     "metadata": {},
     "output_type": "execute_result"
    }
   ],
   "source": [
    "pv_uv_daily.head()"
   ]
  },
  {
   "cell_type": "code",
   "execution_count": 26,
   "id": "2d95d1fd",
   "metadata": {},
   "outputs": [],
   "source": [
    "pv_uv_daily.rename(columns={'user_id1':'pv','user_id':'uv'},inplace =True)\n"
   ]
  },
  {
   "cell_type": "code",
   "execution_count": 27,
   "id": "46723c09",
   "metadata": {
    "scrolled": true
   },
   "outputs": [
    {
     "data": {
      "text/html": [
       "<div>\n",
       "<style scoped>\n",
       "    .dataframe tbody tr th:only-of-type {\n",
       "        vertical-align: middle;\n",
       "    }\n",
       "\n",
       "    .dataframe tbody tr th {\n",
       "        vertical-align: top;\n",
       "    }\n",
       "\n",
       "    .dataframe thead th {\n",
       "        text-align: right;\n",
       "    }\n",
       "</style>\n",
       "<table border=\"1\" class=\"dataframe\">\n",
       "  <thead>\n",
       "    <tr style=\"text-align: right;\">\n",
       "      <th></th>\n",
       "      <th>pv</th>\n",
       "      <th>uv</th>\n",
       "    </tr>\n",
       "    <tr>\n",
       "      <th>date</th>\n",
       "      <th></th>\n",
       "      <th></th>\n",
       "    </tr>\n",
       "  </thead>\n",
       "  <tbody>\n",
       "    <tr>\n",
       "      <th>2014-11-18</th>\n",
       "      <td>366701</td>\n",
       "      <td>6343</td>\n",
       "    </tr>\n",
       "    <tr>\n",
       "      <th>2014-11-19</th>\n",
       "      <td>358823</td>\n",
       "      <td>6420</td>\n",
       "    </tr>\n",
       "    <tr>\n",
       "      <th>2014-11-20</th>\n",
       "      <td>353429</td>\n",
       "      <td>6333</td>\n",
       "    </tr>\n",
       "    <tr>\n",
       "      <th>2014-11-21</th>\n",
       "      <td>333104</td>\n",
       "      <td>6276</td>\n",
       "    </tr>\n",
       "    <tr>\n",
       "      <th>2014-11-22</th>\n",
       "      <td>361355</td>\n",
       "      <td>6187</td>\n",
       "    </tr>\n",
       "  </tbody>\n",
       "</table>\n",
       "</div>"
      ],
      "text/plain": [
       "                pv    uv\n",
       "date                    \n",
       "2014-11-18  366701  6343\n",
       "2014-11-19  358823  6420\n",
       "2014-11-20  353429  6333\n",
       "2014-11-21  333104  6276\n",
       "2014-11-22  361355  6187"
      ]
     },
     "execution_count": 27,
     "metadata": {},
     "output_type": "execute_result"
    }
   ],
   "source": [
    "pv_uv_daily.head()"
   ]
  },
  {
   "cell_type": "code",
   "execution_count": 28,
   "id": "c21e16dc",
   "metadata": {},
   "outputs": [
    {
     "data": {
      "text/html": [
       "<div>\n",
       "<style scoped>\n",
       "    .dataframe tbody tr th:only-of-type {\n",
       "        vertical-align: middle;\n",
       "    }\n",
       "\n",
       "    .dataframe tbody tr th {\n",
       "        vertical-align: top;\n",
       "    }\n",
       "\n",
       "    .dataframe thead th {\n",
       "        text-align: right;\n",
       "    }\n",
       "</style>\n",
       "<table border=\"1\" class=\"dataframe\">\n",
       "  <thead>\n",
       "    <tr style=\"text-align: right;\">\n",
       "      <th></th>\n",
       "      <th>pv</th>\n",
       "      <th>uv</th>\n",
       "    </tr>\n",
       "  </thead>\n",
       "  <tbody>\n",
       "    <tr>\n",
       "      <th>pv</th>\n",
       "      <td>1.000</td>\n",
       "      <td>0.825</td>\n",
       "    </tr>\n",
       "    <tr>\n",
       "      <th>uv</th>\n",
       "      <td>0.825</td>\n",
       "      <td>1.000</td>\n",
       "    </tr>\n",
       "  </tbody>\n",
       "</table>\n",
       "</div>"
      ],
      "text/plain": [
       "       pv     uv\n",
       "pv  1.000  0.825\n",
       "uv  0.825  1.000"
      ]
     },
     "execution_count": 28,
     "metadata": {},
     "output_type": "execute_result"
    }
   ],
   "source": [
    "pv_uv_daily.corr(method = 'spearman') "
   ]
  },
  {
   "cell_type": "code",
   "execution_count": 29,
   "id": "57518b44",
   "metadata": {},
   "outputs": [
    {
     "data": {
      "text/html": [
       "<div>\n",
       "<style scoped>\n",
       "    .dataframe tbody tr th:only-of-type {\n",
       "        vertical-align: middle;\n",
       "    }\n",
       "\n",
       "    .dataframe tbody tr th {\n",
       "        vertical-align: top;\n",
       "    }\n",
       "\n",
       "    .dataframe thead th {\n",
       "        text-align: right;\n",
       "    }\n",
       "</style>\n",
       "<table border=\"1\" class=\"dataframe\">\n",
       "  <thead>\n",
       "    <tr style=\"text-align: right;\">\n",
       "      <th></th>\n",
       "      <th>pv</th>\n",
       "      <th>uv</th>\n",
       "    </tr>\n",
       "  </thead>\n",
       "  <tbody>\n",
       "    <tr>\n",
       "      <th>pv</th>\n",
       "      <td>1.000000</td>\n",
       "      <td>0.920602</td>\n",
       "    </tr>\n",
       "    <tr>\n",
       "      <th>uv</th>\n",
       "      <td>0.920602</td>\n",
       "      <td>1.000000</td>\n",
       "    </tr>\n",
       "  </tbody>\n",
       "</table>\n",
       "</div>"
      ],
      "text/plain": [
       "          pv        uv\n",
       "pv  1.000000  0.920602\n",
       "uv  0.920602  1.000000"
      ]
     },
     "execution_count": 29,
     "metadata": {},
     "output_type": "execute_result"
    }
   ],
   "source": [
    "pv_uv_daily.corr(method = 'pearson')  #皮尔逊相关系数"
   ]
  },
  {
   "cell_type": "code",
   "execution_count": 30,
   "id": "ed51aec7",
   "metadata": {},
   "outputs": [],
   "source": [
    "#上面说明每天的访问量和访问用户是正相关的关系"
   ]
  },
  {
   "cell_type": "code",
   "execution_count": 31,
   "id": "89a1a5c2",
   "metadata": {},
   "outputs": [
    {
     "data": {
      "image/png": "[encoded data removed]",
      "text/plain": [
       "<Figure size 1152x648 with 2 Axes>"
      ]
     },
     "metadata": {},
     "output_type": "display_data"
    }
   ],
   "source": [
    "plt.figure(figsize=(16,9))\n",
    "plt.subplot(211)\n",
    "plt.plot(pv_daily, color='red')\n",
    "plt.title('每天访问量')\n",
    "plt.subplot(212)\n",
    "plt.plot(uv_daily,color='green')\n",
    "plt.title('每天访问用户数')\n",
    "plt.suptitle('UV和PV变化趋势')\n",
    "plt.show()\n"
   ]
  },
  {
   "cell_type": "code",
   "execution_count": 32,
   "id": "cfbf8e89",
   "metadata": {},
   "outputs": [],
   "source": [
    "#上面两幅图可以发现双12达到峰值"
   ]
  },
  {
   "cell_type": "code",
   "execution_count": 33,
   "id": "ad0ab699",
   "metadata": {},
   "outputs": [],
   "source": [
    "pv_daily = data_user.groupby('hour').count()['user_id']"
   ]
  },
  {
   "cell_type": "code",
   "execution_count": 34,
   "id": "a4099a45",
   "metadata": {},
   "outputs": [
    {
     "data": {
      "text/plain": [
       "hour\n",
       "0    517404\n",
       "1    267682\n",
       "2    147090\n",
       "3     98516\n",
       "4     80487\n",
       "Name: user_id, dtype: int64"
      ]
     },
     "execution_count": 34,
     "metadata": {},
     "output_type": "execute_result"
    }
   ],
   "source": [
    "pv_daily.head()"
   ]
  },
  {
   "cell_type": "code",
   "execution_count": 35,
   "id": "77195d46",
   "metadata": {},
   "outputs": [],
   "source": [
    "uv_daily = data_user.groupby('hour')['user_id'].apply(lambda x:x.drop_duplicates().count())\n"
   ]
  },
  {
   "cell_type": "code",
   "execution_count": 36,
   "id": "5f3e9304",
   "metadata": {},
   "outputs": [],
   "source": [
    "pv_uv_daily = pd.concat([pv_daily, uv_daily],axis=1)"
   ]
  },
  {
   "cell_type": "code",
   "execution_count": 37,
   "id": "4492c33d",
   "metadata": {},
   "outputs": [],
   "source": [
    "pv_uv_daily.columns=['pv','uv']"
   ]
  },
  {
   "cell_type": "code",
   "execution_count": 38,
   "id": "12a926b2",
   "metadata": {},
   "outputs": [
    {
     "data": {
      "text/html": [
       "<div>\n",
       "<style scoped>\n",
       "    .dataframe tbody tr th:only-of-type {\n",
       "        vertical-align: middle;\n",
       "    }\n",
       "\n",
       "    .dataframe tbody tr th {\n",
       "        vertical-align: top;\n",
       "    }\n",
       "\n",
       "    .dataframe thead th {\n",
       "        text-align: right;\n",
       "    }\n",
       "</style>\n",
       "<table border=\"1\" class=\"dataframe\">\n",
       "  <thead>\n",
       "    <tr style=\"text-align: right;\">\n",
       "      <th></th>\n",
       "      <th>pv</th>\n",
       "      <th>uv</th>\n",
       "    </tr>\n",
       "    <tr>\n",
       "      <th>hour</th>\n",
       "      <th></th>\n",
       "      <th></th>\n",
       "    </tr>\n",
       "  </thead>\n",
       "  <tbody>\n",
       "    <tr>\n",
       "      <th>0</th>\n",
       "      <td>517404</td>\n",
       "      <td>5786</td>\n",
       "    </tr>\n",
       "    <tr>\n",
       "      <th>1</th>\n",
       "      <td>267682</td>\n",
       "      <td>3780</td>\n",
       "    </tr>\n",
       "    <tr>\n",
       "      <th>2</th>\n",
       "      <td>147090</td>\n",
       "      <td>2532</td>\n",
       "    </tr>\n",
       "    <tr>\n",
       "      <th>3</th>\n",
       "      <td>98516</td>\n",
       "      <td>1937</td>\n",
       "    </tr>\n",
       "    <tr>\n",
       "      <th>4</th>\n",
       "      <td>80487</td>\n",
       "      <td>1765</td>\n",
       "    </tr>\n",
       "  </tbody>\n",
       "</table>\n",
       "</div>"
      ],
      "text/plain": [
       "          pv    uv\n",
       "hour              \n",
       "0     517404  5786\n",
       "1     267682  3780\n",
       "2     147090  2532\n",
       "3      98516  1937\n",
       "4      80487  1765"
      ]
     },
     "execution_count": 38,
     "metadata": {},
     "output_type": "execute_result"
    }
   ],
   "source": [
    "pv_uv_daily.head()"
   ]
  },
  {
   "cell_type": "code",
   "execution_count": 39,
   "id": "3b8abdaa",
   "metadata": {},
   "outputs": [
    {
     "data": {
      "text/html": [
       "<div>\n",
       "<style scoped>\n",
       "    .dataframe tbody tr th:only-of-type {\n",
       "        vertical-align: middle;\n",
       "    }\n",
       "\n",
       "    .dataframe tbody tr th {\n",
       "        vertical-align: top;\n",
       "    }\n",
       "\n",
       "    .dataframe thead th {\n",
       "        text-align: right;\n",
       "    }\n",
       "</style>\n",
       "<table border=\"1\" class=\"dataframe\">\n",
       "  <thead>\n",
       "    <tr style=\"text-align: right;\">\n",
       "      <th></th>\n",
       "      <th>pv</th>\n",
       "      <th>uv</th>\n",
       "    </tr>\n",
       "  </thead>\n",
       "  <tbody>\n",
       "    <tr>\n",
       "      <th>pv</th>\n",
       "      <td>1.000000</td>\n",
       "      <td>0.903478</td>\n",
       "    </tr>\n",
       "    <tr>\n",
       "      <th>uv</th>\n",
       "      <td>0.903478</td>\n",
       "      <td>1.000000</td>\n",
       "    </tr>\n",
       "  </tbody>\n",
       "</table>\n",
       "</div>"
      ],
      "text/plain": [
       "          pv        uv\n",
       "pv  1.000000  0.903478\n",
       "uv  0.903478  1.000000"
      ]
     },
     "execution_count": 39,
     "metadata": {},
     "output_type": "execute_result"
    }
   ],
   "source": [
    "pv_uv_daily.corr(method = 'spearman') "
   ]
  },
  {
   "cell_type": "code",
   "execution_count": 40,
   "id": "71ba1a1e",
   "metadata": {},
   "outputs": [
    {
     "data": {
      "text/html": [
       "<div>\n",
       "<style scoped>\n",
       "    .dataframe tbody tr th:only-of-type {\n",
       "        vertical-align: middle;\n",
       "    }\n",
       "\n",
       "    .dataframe tbody tr th {\n",
       "        vertical-align: top;\n",
       "    }\n",
       "\n",
       "    .dataframe thead th {\n",
       "        text-align: right;\n",
       "    }\n",
       "</style>\n",
       "<table border=\"1\" class=\"dataframe\">\n",
       "  <thead>\n",
       "    <tr style=\"text-align: right;\">\n",
       "      <th></th>\n",
       "      <th>pv</th>\n",
       "      <th>uv</th>\n",
       "    </tr>\n",
       "  </thead>\n",
       "  <tbody>\n",
       "    <tr>\n",
       "      <th>pv</th>\n",
       "      <td>1.000000</td>\n",
       "      <td>0.835305</td>\n",
       "    </tr>\n",
       "    <tr>\n",
       "      <th>uv</th>\n",
       "      <td>0.835305</td>\n",
       "      <td>1.000000</td>\n",
       "    </tr>\n",
       "  </tbody>\n",
       "</table>\n",
       "</div>"
      ],
      "text/plain": [
       "          pv        uv\n",
       "pv  1.000000  0.835305\n",
       "uv  0.835305  1.000000"
      ]
     },
     "execution_count": 40,
     "metadata": {},
     "output_type": "execute_result"
    }
   ],
   "source": [
    "pv_uv_daily.corr(method = 'pearson')  #皮尔逊相关系数"
   ]
  },
  {
   "cell_type": "code",
   "execution_count": 41,
   "id": "4d1580c8",
   "metadata": {},
   "outputs": [
    {
     "data": {
      "image/png": "[encoded data removed]",
      "text/plain": [
       "<Figure size 1152x648 with 2 Axes>"
      ]
     },
     "metadata": {},
     "output_type": "display_data"
    }
   ],
   "source": [
    "plt.figure(figsize=(16,9))\n",
    "pv_uv_daily['pv'].plot(color= 'steelblue', label ='每个小时访问量')\n",
    "plt.legend(loc ='upper center')\n",
    "plt.ylabel('访问量')\n",
    "pv_uv_daily['uv'].plot(color= 'red', label='每个小时不同用户访问量',secondary_y =True)\n",
    "plt.ylabel('访问用户数')\n",
    "plt.xticks(range(0,24),pv_uv_daily.index)\n",
    "plt.legend(loc ='upper center')\n",
    "plt.grid(True)\n",
    "plt.show()\n"
   ]
  },
  {
   "cell_type": "code",
   "execution_count": 42,
   "id": "c3fe196c",
   "metadata": {},
   "outputs": [],
   "source": [
    "pv_detail = pd.pivot_table(columns ='behavior_type',index ='hour' , data = data_user,values = 'user_id',aggfunc=np.size)"
   ]
  },
  {
   "cell_type": "code",
   "execution_count": 43,
   "id": "3b55b2c8",
   "metadata": {},
   "outputs": [
    {
     "data": {
      "text/html": [
       "<div>\n",
       "<style scoped>\n",
       "    .dataframe tbody tr th:only-of-type {\n",
       "        vertical-align: middle;\n",
       "    }\n",
       "\n",
       "    .dataframe tbody tr th {\n",
       "        vertical-align: top;\n",
       "    }\n",
       "\n",
       "    .dataframe thead th {\n",
       "        text-align: right;\n",
       "    }\n",
       "</style>\n",
       "<table border=\"1\" class=\"dataframe\">\n",
       "  <thead>\n",
       "    <tr style=\"text-align: right;\">\n",
       "      <th>behavior_type</th>\n",
       "      <th>1</th>\n",
       "      <th>2</th>\n",
       "      <th>3</th>\n",
       "      <th>4</th>\n",
       "    </tr>\n",
       "    <tr>\n",
       "      <th>hour</th>\n",
       "      <th></th>\n",
       "      <th></th>\n",
       "      <th></th>\n",
       "      <th></th>\n",
       "    </tr>\n",
       "  </thead>\n",
       "  <tbody>\n",
       "    <tr>\n",
       "      <th>0</th>\n",
       "      <td>487341</td>\n",
       "      <td>11062</td>\n",
       "      <td>14156</td>\n",
       "      <td>4845</td>\n",
       "    </tr>\n",
       "    <tr>\n",
       "      <th>1</th>\n",
       "      <td>252991</td>\n",
       "      <td>6276</td>\n",
       "      <td>6712</td>\n",
       "      <td>1703</td>\n",
       "    </tr>\n",
       "    <tr>\n",
       "      <th>2</th>\n",
       "      <td>139139</td>\n",
       "      <td>3311</td>\n",
       "      <td>3834</td>\n",
       "      <td>806</td>\n",
       "    </tr>\n",
       "    <tr>\n",
       "      <th>3</th>\n",
       "      <td>93250</td>\n",
       "      <td>2282</td>\n",
       "      <td>2480</td>\n",
       "      <td>504</td>\n",
       "    </tr>\n",
       "    <tr>\n",
       "      <th>4</th>\n",
       "      <td>75832</td>\n",
       "      <td>2010</td>\n",
       "      <td>2248</td>\n",
       "      <td>397</td>\n",
       "    </tr>\n",
       "    <tr>\n",
       "      <th>5</th>\n",
       "      <td>83545</td>\n",
       "      <td>2062</td>\n",
       "      <td>2213</td>\n",
       "      <td>476</td>\n",
       "    </tr>\n",
       "    <tr>\n",
       "      <th>6</th>\n",
       "      <td>150356</td>\n",
       "      <td>3651</td>\n",
       "      <td>3768</td>\n",
       "      <td>1023</td>\n",
       "    </tr>\n",
       "    <tr>\n",
       "      <th>7</th>\n",
       "      <td>272470</td>\n",
       "      <td>5885</td>\n",
       "      <td>7044</td>\n",
       "      <td>1938</td>\n",
       "    </tr>\n",
       "    <tr>\n",
       "      <th>8</th>\n",
       "      <td>374701</td>\n",
       "      <td>7849</td>\n",
       "      <td>9970</td>\n",
       "      <td>3586</td>\n",
       "    </tr>\n",
       "    <tr>\n",
       "      <th>9</th>\n",
       "      <td>456781</td>\n",
       "      <td>10507</td>\n",
       "      <td>12956</td>\n",
       "      <td>5707</td>\n",
       "    </tr>\n",
       "    <tr>\n",
       "      <th>10</th>\n",
       "      <td>515960</td>\n",
       "      <td>11185</td>\n",
       "      <td>16203</td>\n",
       "      <td>7317</td>\n",
       "    </tr>\n",
       "    <tr>\n",
       "      <th>11</th>\n",
       "      <td>493679</td>\n",
       "      <td>10918</td>\n",
       "      <td>15257</td>\n",
       "      <td>7086</td>\n",
       "    </tr>\n",
       "    <tr>\n",
       "      <th>12</th>\n",
       "      <td>500036</td>\n",
       "      <td>9940</td>\n",
       "      <td>15025</td>\n",
       "      <td>6956</td>\n",
       "    </tr>\n",
       "    <tr>\n",
       "      <th>13</th>\n",
       "      <td>561513</td>\n",
       "      <td>11694</td>\n",
       "      <td>17419</td>\n",
       "      <td>7717</td>\n",
       "    </tr>\n",
       "    <tr>\n",
       "      <th>14</th>\n",
       "      <td>558246</td>\n",
       "      <td>11695</td>\n",
       "      <td>17067</td>\n",
       "      <td>7207</td>\n",
       "    </tr>\n",
       "    <tr>\n",
       "      <th>15</th>\n",
       "      <td>562238</td>\n",
       "      <td>12010</td>\n",
       "      <td>17289</td>\n",
       "      <td>7312</td>\n",
       "    </tr>\n",
       "    <tr>\n",
       "      <th>16</th>\n",
       "      <td>541846</td>\n",
       "      <td>11127</td>\n",
       "      <td>16304</td>\n",
       "      <td>6930</td>\n",
       "    </tr>\n",
       "    <tr>\n",
       "      <th>17</th>\n",
       "      <td>476369</td>\n",
       "      <td>9754</td>\n",
       "      <td>14515</td>\n",
       "      <td>5298</td>\n",
       "    </tr>\n",
       "    <tr>\n",
       "      <th>18</th>\n",
       "      <td>517078</td>\n",
       "      <td>10342</td>\n",
       "      <td>14823</td>\n",
       "      <td>5140</td>\n",
       "    </tr>\n",
       "    <tr>\n",
       "      <th>19</th>\n",
       "      <td>696035</td>\n",
       "      <td>13952</td>\n",
       "      <td>18853</td>\n",
       "      <td>6352</td>\n",
       "    </tr>\n",
       "    <tr>\n",
       "      <th>20</th>\n",
       "      <td>885669</td>\n",
       "      <td>16599</td>\n",
       "      <td>25021</td>\n",
       "      <td>7872</td>\n",
       "    </tr>\n",
       "    <tr>\n",
       "      <th>21</th>\n",
       "      <td>1030483</td>\n",
       "      <td>20397</td>\n",
       "      <td>30469</td>\n",
       "      <td>8829</td>\n",
       "    </tr>\n",
       "    <tr>\n",
       "      <th>22</th>\n",
       "      <td>1027269</td>\n",
       "      <td>20343</td>\n",
       "      <td>32504</td>\n",
       "      <td>8845</td>\n",
       "    </tr>\n",
       "    <tr>\n",
       "      <th>23</th>\n",
       "      <td>797754</td>\n",
       "      <td>17705</td>\n",
       "      <td>27434</td>\n",
       "      <td>6359</td>\n",
       "    </tr>\n",
       "  </tbody>\n",
       "</table>\n",
       "</div>"
      ],
      "text/plain": [
       "behavior_type        1      2      3     4\n",
       "hour                                      \n",
       "0               487341  11062  14156  4845\n",
       "1               252991   6276   6712  1703\n",
       "2               139139   3311   3834   806\n",
       "3                93250   2282   2480   504\n",
       "4                75832   2010   2248   397\n",
       "5                83545   2062   2213   476\n",
       "6               150356   3651   3768  1023\n",
       "7               272470   5885   7044  1938\n",
       "8               374701   7849   9970  3586\n",
       "9               456781  10507  12956  5707\n",
       "10              515960  11185  16203  7317\n",
       "11              493679  10918  15257  7086\n",
       "12              500036   9940  15025  6956\n",
       "13              561513  11694  17419  7717\n",
       "14              558246  11695  17067  7207\n",
       "15              562238  12010  17289  7312\n",
       "16              541846  11127  16304  6930\n",
       "17              476369   9754  14515  5298\n",
       "18              517078  10342  14823  5140\n",
       "19              696035  13952  18853  6352\n",
       "20              885669  16599  25021  7872\n",
       "21             1030483  20397  30469  8829\n",
       "22             1027269  20343  32504  8845\n",
       "23              797754  17705  27434  6359"
      ]
     },
     "execution_count": 43,
     "metadata": {},
     "output_type": "execute_result"
    }
   ],
   "source": [
    "pv_detail #点击、收藏、加入购物车和支付 的比例"
   ]
  },
  {
   "cell_type": "code",
   "execution_count": 44,
   "id": "49b70d09",
   "metadata": {},
   "outputs": [
    {
     "data": {
      "image/png": "[encoded data removed]",
      "text/plain": [
       "<Figure size 1152x648 with 1 Axes>"
      ]
     },
     "metadata": {},
     "output_type": "display_data"
    }
   ],
   "source": [
    "plt.figure(figsize=(16,9))\n",
    "sns.lineplot(data = pv_detail)\n",
    "plt.show()"
   ]
  },
  {
   "cell_type": "code",
   "execution_count": 45,
   "id": "02b6de43",
   "metadata": {},
   "outputs": [
    {
     "data": {
      "image/png": "[encoded data removed]",
      "text/plain": [
       "<Figure size 1152x648 with 1 Axes>"
      ]
     },
     "metadata": {},
     "output_type": "display_data"
    }
   ],
   "source": [
    "plt.figure(figsize=(16,9))\n",
    "sns.lineplot(data = pv_detail.iloc[:,1:])\n",
    "plt.show()"
   ]
  },
  {
   "cell_type": "code",
   "execution_count": 46,
   "id": "ce9f39fe",
   "metadata": {},
   "outputs": [],
   "source": [
    "data_user_buy = data_user[data_user.behavior_type =='4'].groupby('user_id').size()\n"
   ]
  },
  {
   "cell_type": "code",
   "execution_count": 47,
   "id": "cc8ca9ab",
   "metadata": {},
   "outputs": [
    {
     "data": {
      "text/plain": [
       "user_id\n",
       "100001878    36\n",
       "100011562     3\n",
       "100012968    15\n",
       "100014060    24\n",
       "100024529    26\n",
       "             ..\n",
       "99960313      8\n",
       "9996155       6\n",
       "99963140     19\n",
       "99968428     38\n",
       "99989881     17\n",
       "Length: 8886, dtype: int64"
      ]
     },
     "execution_count": 47,
     "metadata": {},
     "output_type": "execute_result"
    }
   ],
   "source": [
    "data_user_buy"
   ]
  },
  {
   "cell_type": "code",
   "execution_count": 48,
   "id": "7c923774",
   "metadata": {},
   "outputs": [
    {
     "data": {
      "text/plain": [
       "count    8886.000000\n",
       "mean       13.527459\n",
       "std        19.698786\n",
       "min         1.000000\n",
       "25%         4.000000\n",
       "50%         8.000000\n",
       "75%        17.000000\n",
       "max       809.000000\n",
       "dtype: float64"
      ]
     },
     "execution_count": 48,
     "metadata": {},
     "output_type": "execute_result"
    }
   ],
   "source": [
    "data_user_buy.describe()  #可以知道大部分用户一个月的购买次数是8次"
   ]
  },
  {
   "cell_type": "code",
   "execution_count": 49,
   "id": "a41792a0",
   "metadata": {},
   "outputs": [
    {
     "data": {
      "image/png": "[encoded data removed]",
      "text/plain": [
       "<Figure size 432x288 with 1 Axes>"
      ]
     },
     "metadata": {},
     "output_type": "display_data"
    }
   ],
   "source": [
    "plt.hist(x =data_user_buy, bins=30)\n",
    "plt.show()\n"
   ]
  },
  {
   "cell_type": "code",
   "execution_count": 50,
   "id": "4d061dc9",
   "metadata": {},
   "outputs": [],
   "source": [
    "#日ARPPU"
   ]
  },
  {
   "cell_type": "code",
   "execution_count": 51,
   "id": "d65100ff",
   "metadata": {},
   "outputs": [],
   "source": [
    "data_user_buy1= data_user[data_user.behavior_type =='4' ].groupby(['date' , 'user_id'])\n"
   ]
  },
  {
   "cell_type": "code",
   "execution_count": 52,
   "id": "02896ee4",
   "metadata": {},
   "outputs": [
    {
     "data": {
      "text/plain": [
       "<pandas.core.groupby.generic.DataFrameGroupBy object at 0x000002699E66BC40>"
      ]
     },
     "execution_count": 52,
     "metadata": {},
     "output_type": "execute_result"
    }
   ],
   "source": [
    "data_user_buy1"
   ]
  },
  {
   "cell_type": "code",
   "execution_count": 53,
   "id": "cdaeff34",
   "metadata": {},
   "outputs": [
    {
     "data": {
      "text/html": [
       "<div>\n",
       "<style scoped>\n",
       "    .dataframe tbody tr th:only-of-type {\n",
       "        vertical-align: middle;\n",
       "    }\n",
       "\n",
       "    .dataframe tbody tr th {\n",
       "        vertical-align: top;\n",
       "    }\n",
       "\n",
       "    .dataframe thead th {\n",
       "        text-align: right;\n",
       "    }\n",
       "</style>\n",
       "<table border=\"1\" class=\"dataframe\">\n",
       "  <thead>\n",
       "    <tr style=\"text-align: right;\">\n",
       "      <th></th>\n",
       "      <th></th>\n",
       "      <th>item_id</th>\n",
       "      <th>behavior_type</th>\n",
       "      <th>user_geohash</th>\n",
       "      <th>item_category</th>\n",
       "      <th>time</th>\n",
       "      <th>hour</th>\n",
       "    </tr>\n",
       "    <tr>\n",
       "      <th>date</th>\n",
       "      <th>user_id</th>\n",
       "      <th></th>\n",
       "      <th></th>\n",
       "      <th></th>\n",
       "      <th></th>\n",
       "      <th></th>\n",
       "      <th></th>\n",
       "    </tr>\n",
       "  </thead>\n",
       "  <tbody>\n",
       "    <tr>\n",
       "      <th rowspan=\"5\" valign=\"top\">2014-11-18</th>\n",
       "      <th>100001878</th>\n",
       "      <td>1</td>\n",
       "      <td>1</td>\n",
       "      <td>1</td>\n",
       "      <td>1</td>\n",
       "      <td>1</td>\n",
       "      <td>1</td>\n",
       "    </tr>\n",
       "    <tr>\n",
       "      <th>100014060</th>\n",
       "      <td>2</td>\n",
       "      <td>2</td>\n",
       "      <td>2</td>\n",
       "      <td>2</td>\n",
       "      <td>2</td>\n",
       "      <td>2</td>\n",
       "    </tr>\n",
       "    <tr>\n",
       "      <th>100024529</th>\n",
       "      <td>6</td>\n",
       "      <td>6</td>\n",
       "      <td>0</td>\n",
       "      <td>6</td>\n",
       "      <td>6</td>\n",
       "      <td>6</td>\n",
       "    </tr>\n",
       "    <tr>\n",
       "      <th>100027681</th>\n",
       "      <td>3</td>\n",
       "      <td>3</td>\n",
       "      <td>0</td>\n",
       "      <td>3</td>\n",
       "      <td>3</td>\n",
       "      <td>3</td>\n",
       "    </tr>\n",
       "    <tr>\n",
       "      <th>10004287</th>\n",
       "      <td>2</td>\n",
       "      <td>2</td>\n",
       "      <td>0</td>\n",
       "      <td>2</td>\n",
       "      <td>2</td>\n",
       "      <td>2</td>\n",
       "    </tr>\n",
       "    <tr>\n",
       "      <th>...</th>\n",
       "      <th>...</th>\n",
       "      <td>...</td>\n",
       "      <td>...</td>\n",
       "      <td>...</td>\n",
       "      <td>...</td>\n",
       "      <td>...</td>\n",
       "      <td>...</td>\n",
       "    </tr>\n",
       "    <tr>\n",
       "      <th rowspan=\"5\" valign=\"top\">2014-12-18</th>\n",
       "      <th>99674599</th>\n",
       "      <td>10</td>\n",
       "      <td>10</td>\n",
       "      <td>10</td>\n",
       "      <td>10</td>\n",
       "      <td>10</td>\n",
       "      <td>10</td>\n",
       "    </tr>\n",
       "    <tr>\n",
       "      <th>99785045</th>\n",
       "      <td>4</td>\n",
       "      <td>4</td>\n",
       "      <td>0</td>\n",
       "      <td>4</td>\n",
       "      <td>4</td>\n",
       "      <td>4</td>\n",
       "    </tr>\n",
       "    <tr>\n",
       "      <th>99791909</th>\n",
       "      <td>1</td>\n",
       "      <td>1</td>\n",
       "      <td>1</td>\n",
       "      <td>1</td>\n",
       "      <td>1</td>\n",
       "      <td>1</td>\n",
       "    </tr>\n",
       "    <tr>\n",
       "      <th>99795650</th>\n",
       "      <td>1</td>\n",
       "      <td>1</td>\n",
       "      <td>0</td>\n",
       "      <td>1</td>\n",
       "      <td>1</td>\n",
       "      <td>1</td>\n",
       "    </tr>\n",
       "    <tr>\n",
       "      <th>99796276</th>\n",
       "      <td>17</td>\n",
       "      <td>17</td>\n",
       "      <td>17</td>\n",
       "      <td>17</td>\n",
       "      <td>17</td>\n",
       "      <td>17</td>\n",
       "    </tr>\n",
       "  </tbody>\n",
       "</table>\n",
       "<p>49201 rows × 6 columns</p>\n",
       "</div>"
      ],
      "text/plain": [
       "                      item_id  behavior_type  user_geohash  item_category  \\\n",
       "date       user_id                                                          \n",
       "2014-11-18 100001878        1              1             1              1   \n",
       "           100014060        2              2             2              2   \n",
       "           100024529        6              6             0              6   \n",
       "           100027681        3              3             0              3   \n",
       "           10004287         2              2             0              2   \n",
       "...                       ...            ...           ...            ...   \n",
       "2014-12-18 99674599        10             10            10             10   \n",
       "           99785045         4              4             0              4   \n",
       "           99791909         1              1             1              1   \n",
       "           99795650         1              1             0              1   \n",
       "           99796276        17             17            17             17   \n",
       "\n",
       "                      time  hour  \n",
       "date       user_id                \n",
       "2014-11-18 100001878     1     1  \n",
       "           100014060     2     2  \n",
       "           100024529     6     6  \n",
       "           100027681     3     3  \n",
       "           10004287      2     2  \n",
       "...                    ...   ...  \n",
       "2014-12-18 99674599     10    10  \n",
       "           99785045      4     4  \n",
       "           99791909      1     1  \n",
       "           99795650      1     1  \n",
       "           99796276     17    17  \n",
       "\n",
       "[49201 rows x 6 columns]"
      ]
     },
     "execution_count": 53,
     "metadata": {},
     "output_type": "execute_result"
    }
   ],
   "source": [
    "data_user_buy1.count()\n"
   ]
  },
  {
   "cell_type": "code",
   "execution_count": 54,
   "id": "f5908ee9",
   "metadata": {},
   "outputs": [
    {
     "data": {
      "text/html": [
       "<div>\n",
       "<style scoped>\n",
       "    .dataframe tbody tr th:only-of-type {\n",
       "        vertical-align: middle;\n",
       "    }\n",
       "\n",
       "    .dataframe tbody tr th {\n",
       "        vertical-align: top;\n",
       "    }\n",
       "\n",
       "    .dataframe thead th {\n",
       "        text-align: right;\n",
       "    }\n",
       "</style>\n",
       "<table border=\"1\" class=\"dataframe\">\n",
       "  <thead>\n",
       "    <tr style=\"text-align: right;\">\n",
       "      <th></th>\n",
       "      <th>date</th>\n",
       "      <th>user_id</th>\n",
       "      <th>total</th>\n",
       "    </tr>\n",
       "  </thead>\n",
       "  <tbody>\n",
       "    <tr>\n",
       "      <th>0</th>\n",
       "      <td>2014-11-18</td>\n",
       "      <td>100001878</td>\n",
       "      <td>1</td>\n",
       "    </tr>\n",
       "    <tr>\n",
       "      <th>1</th>\n",
       "      <td>2014-11-18</td>\n",
       "      <td>100014060</td>\n",
       "      <td>2</td>\n",
       "    </tr>\n",
       "    <tr>\n",
       "      <th>2</th>\n",
       "      <td>2014-11-18</td>\n",
       "      <td>100024529</td>\n",
       "      <td>6</td>\n",
       "    </tr>\n",
       "    <tr>\n",
       "      <th>3</th>\n",
       "      <td>2014-11-18</td>\n",
       "      <td>100027681</td>\n",
       "      <td>3</td>\n",
       "    </tr>\n",
       "    <tr>\n",
       "      <th>4</th>\n",
       "      <td>2014-11-18</td>\n",
       "      <td>10004287</td>\n",
       "      <td>2</td>\n",
       "    </tr>\n",
       "    <tr>\n",
       "      <th>...</th>\n",
       "      <td>...</td>\n",
       "      <td>...</td>\n",
       "      <td>...</td>\n",
       "    </tr>\n",
       "    <tr>\n",
       "      <th>49196</th>\n",
       "      <td>2014-12-18</td>\n",
       "      <td>99674599</td>\n",
       "      <td>10</td>\n",
       "    </tr>\n",
       "    <tr>\n",
       "      <th>49197</th>\n",
       "      <td>2014-12-18</td>\n",
       "      <td>99785045</td>\n",
       "      <td>4</td>\n",
       "    </tr>\n",
       "    <tr>\n",
       "      <th>49198</th>\n",
       "      <td>2014-12-18</td>\n",
       "      <td>99791909</td>\n",
       "      <td>1</td>\n",
       "    </tr>\n",
       "    <tr>\n",
       "      <th>49199</th>\n",
       "      <td>2014-12-18</td>\n",
       "      <td>99795650</td>\n",
       "      <td>1</td>\n",
       "    </tr>\n",
       "    <tr>\n",
       "      <th>49200</th>\n",
       "      <td>2014-12-18</td>\n",
       "      <td>99796276</td>\n",
       "      <td>17</td>\n",
       "    </tr>\n",
       "  </tbody>\n",
       "</table>\n",
       "<p>49201 rows × 3 columns</p>\n",
       "</div>"
      ],
      "text/plain": [
       "            date    user_id   total\n",
       "0     2014-11-18  100001878       1\n",
       "1     2014-11-18  100014060       2\n",
       "2     2014-11-18  100024529       6\n",
       "3     2014-11-18  100027681       3\n",
       "4     2014-11-18   10004287       2\n",
       "...          ...        ...     ...\n",
       "49196 2014-12-18   99674599      10\n",
       "49197 2014-12-18   99785045       4\n",
       "49198 2014-12-18   99791909       1\n",
       "49199 2014-12-18   99795650       1\n",
       "49200 2014-12-18   99796276      17\n",
       "\n",
       "[49201 rows x 3 columns]"
      ]
     },
     "execution_count": 54,
     "metadata": {},
     "output_type": "execute_result"
    }
   ],
   "source": [
    "data_user_buy1.count()['behavior_type'].reset_index().rename(columns={'behavior_type':' total'})  #按照日期不同用户的购买行为次数"
   ]
  },
  {
   "cell_type": "code",
   "execution_count": 55,
   "id": "eddc8237",
   "metadata": {},
   "outputs": [],
   "source": [
    "data_user_buy1= data_user[data_user.behavior_type =='4' ].groupby(['date' , 'user_id']).count()['behavior_type'].reset_index().rename(columns={'behavior_type':'total'})  "
   ]
  },
  {
   "cell_type": "code",
   "execution_count": 56,
   "id": "5e70a7ff",
   "metadata": {},
   "outputs": [
    {
     "data": {
      "text/html": [
       "<div>\n",
       "<style scoped>\n",
       "    .dataframe tbody tr th:only-of-type {\n",
       "        vertical-align: middle;\n",
       "    }\n",
       "\n",
       "    .dataframe tbody tr th {\n",
       "        vertical-align: top;\n",
       "    }\n",
       "\n",
       "    .dataframe thead th {\n",
       "        text-align: right;\n",
       "    }\n",
       "</style>\n",
       "<table border=\"1\" class=\"dataframe\">\n",
       "  <thead>\n",
       "    <tr style=\"text-align: right;\">\n",
       "      <th></th>\n",
       "      <th>date</th>\n",
       "      <th>user_id</th>\n",
       "      <th>total</th>\n",
       "    </tr>\n",
       "  </thead>\n",
       "  <tbody>\n",
       "    <tr>\n",
       "      <th>0</th>\n",
       "      <td>2014-11-18</td>\n",
       "      <td>100001878</td>\n",
       "      <td>1</td>\n",
       "    </tr>\n",
       "    <tr>\n",
       "      <th>1</th>\n",
       "      <td>2014-11-18</td>\n",
       "      <td>100014060</td>\n",
       "      <td>2</td>\n",
       "    </tr>\n",
       "    <tr>\n",
       "      <th>2</th>\n",
       "      <td>2014-11-18</td>\n",
       "      <td>100024529</td>\n",
       "      <td>6</td>\n",
       "    </tr>\n",
       "    <tr>\n",
       "      <th>3</th>\n",
       "      <td>2014-11-18</td>\n",
       "      <td>100027681</td>\n",
       "      <td>3</td>\n",
       "    </tr>\n",
       "    <tr>\n",
       "      <th>4</th>\n",
       "      <td>2014-11-18</td>\n",
       "      <td>10004287</td>\n",
       "      <td>2</td>\n",
       "    </tr>\n",
       "    <tr>\n",
       "      <th>...</th>\n",
       "      <td>...</td>\n",
       "      <td>...</td>\n",
       "      <td>...</td>\n",
       "    </tr>\n",
       "    <tr>\n",
       "      <th>49196</th>\n",
       "      <td>2014-12-18</td>\n",
       "      <td>99674599</td>\n",
       "      <td>10</td>\n",
       "    </tr>\n",
       "    <tr>\n",
       "      <th>49197</th>\n",
       "      <td>2014-12-18</td>\n",
       "      <td>99785045</td>\n",
       "      <td>4</td>\n",
       "    </tr>\n",
       "    <tr>\n",
       "      <th>49198</th>\n",
       "      <td>2014-12-18</td>\n",
       "      <td>99791909</td>\n",
       "      <td>1</td>\n",
       "    </tr>\n",
       "    <tr>\n",
       "      <th>49199</th>\n",
       "      <td>2014-12-18</td>\n",
       "      <td>99795650</td>\n",
       "      <td>1</td>\n",
       "    </tr>\n",
       "    <tr>\n",
       "      <th>49200</th>\n",
       "      <td>2014-12-18</td>\n",
       "      <td>99796276</td>\n",
       "      <td>17</td>\n",
       "    </tr>\n",
       "  </tbody>\n",
       "</table>\n",
       "<p>49201 rows × 3 columns</p>\n",
       "</div>"
      ],
      "text/plain": [
       "            date    user_id  total\n",
       "0     2014-11-18  100001878      1\n",
       "1     2014-11-18  100014060      2\n",
       "2     2014-11-18  100024529      6\n",
       "3     2014-11-18  100027681      3\n",
       "4     2014-11-18   10004287      2\n",
       "...          ...        ...    ...\n",
       "49196 2014-12-18   99674599     10\n",
       "49197 2014-12-18   99785045      4\n",
       "49198 2014-12-18   99791909      1\n",
       "49199 2014-12-18   99795650      1\n",
       "49200 2014-12-18   99796276     17\n",
       "\n",
       "[49201 rows x 3 columns]"
      ]
     },
     "execution_count": 56,
     "metadata": {},
     "output_type": "execute_result"
    }
   ],
   "source": [
    "data_user_buy1"
   ]
  },
  {
   "cell_type": "code",
   "execution_count": 57,
   "id": "872d40d2",
   "metadata": {},
   "outputs": [],
   "source": [
    "data_user_buy2=data_user_buy1.groupby('date').sum()['total']/ data_user_buy1.groupby('date').count()['total']"
   ]
  },
  {
   "cell_type": "code",
   "execution_count": 58,
   "id": "47ff2f53",
   "metadata": {},
   "outputs": [
    {
     "data": {
      "text/plain": [
       "date\n",
       "2014-11-18    2.423652\n",
       "2014-11-19    2.439444\n",
       "2014-11-20    2.320375\n",
       "2014-11-21    2.271429\n",
       "2014-11-22    2.530120\n",
       "2014-11-23    2.330780\n",
       "2014-11-24    2.248031\n",
       "2014-11-25    2.313961\n",
       "2014-11-26    2.402824\n",
       "2014-11-27    2.403405\n",
       "2014-11-28    2.231623\n",
       "2014-11-29    2.331881\n",
       "2014-11-30    2.357236\n",
       "2014-12-01    2.359083\n",
       "2014-12-02    2.284543\n",
       "2014-12-03    2.289334\n",
       "2014-12-04    2.328707\n",
       "2014-12-05    2.223041\n",
       "2014-12-06    2.253444\n",
       "2014-12-07    2.320741\n",
       "2014-12-08    2.204384\n",
       "2014-12-09    2.413576\n",
       "2014-12-10    2.230236\n",
       "2014-12-11    2.226363\n",
       "2014-12-12    3.913523\n",
       "2014-12-13    2.245320\n",
       "2014-12-14    2.312749\n",
       "2014-12-15    2.313460\n",
       "2014-12-16    2.285455\n",
       "2014-12-17    2.302548\n",
       "2014-12-18    2.310567\n",
       "Name: total, dtype: float64"
      ]
     },
     "execution_count": 58,
     "metadata": {},
     "output_type": "execute_result"
    }
   ],
   "source": [
    "data_user_buy2"
   ]
  },
  {
   "cell_type": "code",
   "execution_count": 59,
   "id": "b37ec25b",
   "metadata": {},
   "outputs": [
    {
     "data": {
      "image/png": "[encoded data removed]",
      "text/plain": [
       "<Figure size 432x288 with 1 Axes>"
      ]
     },
     "metadata": {},
     "output_type": "display_data"
    }
   ],
   "source": [
    "data_user_buy2.plot()  #因为数据是11月18号到12月18号的\n",
    "plt.show()"
   ]
  },
  {
   "cell_type": "code",
   "execution_count": 60,
   "id": "6376a200",
   "metadata": {},
   "outputs": [
    {
     "data": {
      "text/plain": [
       "count    31.000000\n",
       "mean      2.368446\n",
       "std       0.296108\n",
       "min       2.204384\n",
       "25%       2.262436\n",
       "50%       2.313460\n",
       "75%       2.358159\n",
       "max       3.913523\n",
       "Name: total, dtype: float64"
      ]
     },
     "execution_count": 60,
     "metadata": {},
     "output_type": "execute_result"
    }
   ],
   "source": [
    "data_user_buy2.describe()   #发现每天大家的平均购物次数是2.3次"
   ]
  },
  {
   "cell_type": "code",
   "execution_count": 61,
   "id": "e2ea8594",
   "metadata": {},
   "outputs": [],
   "source": [
    "#日ARPU"
   ]
  },
  {
   "cell_type": "code",
   "execution_count": 62,
   "id": "a8b33f03",
   "metadata": {},
   "outputs": [],
   "source": [
    "data_user['operation']=1  #增加一列操作\n",
    "data_user_buy2 = data_user.groupby(['date' , 'user_id' , 'behavior_type'])['operation'].count()\n"
   ]
  },
  {
   "cell_type": "code",
   "execution_count": 63,
   "id": "e0585823",
   "metadata": {},
   "outputs": [
    {
     "data": {
      "text/plain": [
       "date        user_id    behavior_type\n",
       "2014-11-18  100001878  1                127\n",
       "                       3                  8\n",
       "                       4                  1\n",
       "            100014060  1                 23\n",
       "                       3                  2\n",
       "                                       ... \n",
       "2014-12-18  9996155    3                  2\n",
       "            99963140   1                 78\n",
       "                       3                  1\n",
       "            99968428   1                  4\n",
       "            99989881   1                 11\n",
       "Name: operation, Length: 375440, dtype: int64"
      ]
     },
     "execution_count": 63,
     "metadata": {},
     "output_type": "execute_result"
    }
   ],
   "source": [
    "data_user_buy2"
   ]
  },
  {
   "cell_type": "code",
   "execution_count": 64,
   "id": "b731033a",
   "metadata": {},
   "outputs": [
    {
     "data": {
      "text/html": [
       "<div>\n",
       "<style scoped>\n",
       "    .dataframe tbody tr th:only-of-type {\n",
       "        vertical-align: middle;\n",
       "    }\n",
       "\n",
       "    .dataframe tbody tr th {\n",
       "        vertical-align: top;\n",
       "    }\n",
       "\n",
       "    .dataframe thead th {\n",
       "        text-align: right;\n",
       "    }\n",
       "</style>\n",
       "<table border=\"1\" class=\"dataframe\">\n",
       "  <thead>\n",
       "    <tr style=\"text-align: right;\">\n",
       "      <th></th>\n",
       "      <th>date</th>\n",
       "      <th>user_id</th>\n",
       "      <th>behavior_type</th>\n",
       "      <th>total</th>\n",
       "    </tr>\n",
       "  </thead>\n",
       "  <tbody>\n",
       "    <tr>\n",
       "      <th>0</th>\n",
       "      <td>2014-11-18</td>\n",
       "      <td>100001878</td>\n",
       "      <td>1</td>\n",
       "      <td>127</td>\n",
       "    </tr>\n",
       "    <tr>\n",
       "      <th>1</th>\n",
       "      <td>2014-11-18</td>\n",
       "      <td>100001878</td>\n",
       "      <td>3</td>\n",
       "      <td>8</td>\n",
       "    </tr>\n",
       "    <tr>\n",
       "      <th>2</th>\n",
       "      <td>2014-11-18</td>\n",
       "      <td>100001878</td>\n",
       "      <td>4</td>\n",
       "      <td>1</td>\n",
       "    </tr>\n",
       "    <tr>\n",
       "      <th>3</th>\n",
       "      <td>2014-11-18</td>\n",
       "      <td>100014060</td>\n",
       "      <td>1</td>\n",
       "      <td>23</td>\n",
       "    </tr>\n",
       "    <tr>\n",
       "      <th>4</th>\n",
       "      <td>2014-11-18</td>\n",
       "      <td>100014060</td>\n",
       "      <td>3</td>\n",
       "      <td>2</td>\n",
       "    </tr>\n",
       "    <tr>\n",
       "      <th>...</th>\n",
       "      <td>...</td>\n",
       "      <td>...</td>\n",
       "      <td>...</td>\n",
       "      <td>...</td>\n",
       "    </tr>\n",
       "    <tr>\n",
       "      <th>375435</th>\n",
       "      <td>2014-12-18</td>\n",
       "      <td>9996155</td>\n",
       "      <td>3</td>\n",
       "      <td>2</td>\n",
       "    </tr>\n",
       "    <tr>\n",
       "      <th>375436</th>\n",
       "      <td>2014-12-18</td>\n",
       "      <td>99963140</td>\n",
       "      <td>1</td>\n",
       "      <td>78</td>\n",
       "    </tr>\n",
       "    <tr>\n",
       "      <th>375437</th>\n",
       "      <td>2014-12-18</td>\n",
       "      <td>99963140</td>\n",
       "      <td>3</td>\n",
       "      <td>1</td>\n",
       "    </tr>\n",
       "    <tr>\n",
       "      <th>375438</th>\n",
       "      <td>2014-12-18</td>\n",
       "      <td>99968428</td>\n",
       "      <td>1</td>\n",
       "      <td>4</td>\n",
       "    </tr>\n",
       "    <tr>\n",
       "      <th>375439</th>\n",
       "      <td>2014-12-18</td>\n",
       "      <td>99989881</td>\n",
       "      <td>1</td>\n",
       "      <td>11</td>\n",
       "    </tr>\n",
       "  </tbody>\n",
       "</table>\n",
       "<p>375440 rows × 4 columns</p>\n",
       "</div>"
      ],
      "text/plain": [
       "             date    user_id behavior_type  total\n",
       "0      2014-11-18  100001878             1    127\n",
       "1      2014-11-18  100001878             3      8\n",
       "2      2014-11-18  100001878             4      1\n",
       "3      2014-11-18  100014060             1     23\n",
       "4      2014-11-18  100014060             3      2\n",
       "...           ...        ...           ...    ...\n",
       "375435 2014-12-18    9996155             3      2\n",
       "375436 2014-12-18   99963140             1     78\n",
       "375437 2014-12-18   99963140             3      1\n",
       "375438 2014-12-18   99968428             1      4\n",
       "375439 2014-12-18   99989881             1     11\n",
       "\n",
       "[375440 rows x 4 columns]"
      ]
     },
     "execution_count": 64,
     "metadata": {},
     "output_type": "execute_result"
    }
   ],
   "source": [
    "data_user_buy2.reset_index ().rename(columns ={'operation':'total'})\n"
   ]
  },
  {
   "cell_type": "code",
   "execution_count": 65,
   "id": "01e96825",
   "metadata": {},
   "outputs": [],
   "source": [
    "data_user_buy2 = data_user.groupby(['date' , 'user_id' , 'behavior_type'])['operation'].count().reset_index().rename(columns ={'operation':'total'})"
   ]
  },
  {
   "cell_type": "code",
   "execution_count": 66,
   "id": "8ff5a600",
   "metadata": {},
   "outputs": [
    {
     "data": {
      "text/html": [
       "<div>\n",
       "<style scoped>\n",
       "    .dataframe tbody tr th:only-of-type {\n",
       "        vertical-align: middle;\n",
       "    }\n",
       "\n",
       "    .dataframe tbody tr th {\n",
       "        vertical-align: top;\n",
       "    }\n",
       "\n",
       "    .dataframe thead th {\n",
       "        text-align: right;\n",
       "    }\n",
       "</style>\n",
       "<table border=\"1\" class=\"dataframe\">\n",
       "  <thead>\n",
       "    <tr style=\"text-align: right;\">\n",
       "      <th></th>\n",
       "      <th>date</th>\n",
       "      <th>user_id</th>\n",
       "      <th>behavior_type</th>\n",
       "      <th>total</th>\n",
       "    </tr>\n",
       "  </thead>\n",
       "  <tbody>\n",
       "    <tr>\n",
       "      <th>0</th>\n",
       "      <td>2014-11-18</td>\n",
       "      <td>100001878</td>\n",
       "      <td>1</td>\n",
       "      <td>127</td>\n",
       "    </tr>\n",
       "    <tr>\n",
       "      <th>1</th>\n",
       "      <td>2014-11-18</td>\n",
       "      <td>100001878</td>\n",
       "      <td>3</td>\n",
       "      <td>8</td>\n",
       "    </tr>\n",
       "    <tr>\n",
       "      <th>2</th>\n",
       "      <td>2014-11-18</td>\n",
       "      <td>100001878</td>\n",
       "      <td>4</td>\n",
       "      <td>1</td>\n",
       "    </tr>\n",
       "    <tr>\n",
       "      <th>3</th>\n",
       "      <td>2014-11-18</td>\n",
       "      <td>100014060</td>\n",
       "      <td>1</td>\n",
       "      <td>23</td>\n",
       "    </tr>\n",
       "    <tr>\n",
       "      <th>4</th>\n",
       "      <td>2014-11-18</td>\n",
       "      <td>100014060</td>\n",
       "      <td>3</td>\n",
       "      <td>2</td>\n",
       "    </tr>\n",
       "    <tr>\n",
       "      <th>...</th>\n",
       "      <td>...</td>\n",
       "      <td>...</td>\n",
       "      <td>...</td>\n",
       "      <td>...</td>\n",
       "    </tr>\n",
       "    <tr>\n",
       "      <th>375435</th>\n",
       "      <td>2014-12-18</td>\n",
       "      <td>9996155</td>\n",
       "      <td>3</td>\n",
       "      <td>2</td>\n",
       "    </tr>\n",
       "    <tr>\n",
       "      <th>375436</th>\n",
       "      <td>2014-12-18</td>\n",
       "      <td>99963140</td>\n",
       "      <td>1</td>\n",
       "      <td>78</td>\n",
       "    </tr>\n",
       "    <tr>\n",
       "      <th>375437</th>\n",
       "      <td>2014-12-18</td>\n",
       "      <td>99963140</td>\n",
       "      <td>3</td>\n",
       "      <td>1</td>\n",
       "    </tr>\n",
       "    <tr>\n",
       "      <th>375438</th>\n",
       "      <td>2014-12-18</td>\n",
       "      <td>99968428</td>\n",
       "      <td>1</td>\n",
       "      <td>4</td>\n",
       "    </tr>\n",
       "    <tr>\n",
       "      <th>375439</th>\n",
       "      <td>2014-12-18</td>\n",
       "      <td>99989881</td>\n",
       "      <td>1</td>\n",
       "      <td>11</td>\n",
       "    </tr>\n",
       "  </tbody>\n",
       "</table>\n",
       "<p>375440 rows × 4 columns</p>\n",
       "</div>"
      ],
      "text/plain": [
       "             date    user_id behavior_type  total\n",
       "0      2014-11-18  100001878             1    127\n",
       "1      2014-11-18  100001878             3      8\n",
       "2      2014-11-18  100001878             4      1\n",
       "3      2014-11-18  100014060             1     23\n",
       "4      2014-11-18  100014060             3      2\n",
       "...           ...        ...           ...    ...\n",
       "375435 2014-12-18    9996155             3      2\n",
       "375436 2014-12-18   99963140             1     78\n",
       "375437 2014-12-18   99963140             3      1\n",
       "375438 2014-12-18   99968428             1      4\n",
       "375439 2014-12-18   99989881             1     11\n",
       "\n",
       "[375440 rows x 4 columns]"
      ]
     },
     "execution_count": 66,
     "metadata": {},
     "output_type": "execute_result"
    }
   ],
   "source": [
    "data_user_buy2"
   ]
  },
  {
   "cell_type": "code",
   "execution_count": 67,
   "id": "fc87af53",
   "metadata": {},
   "outputs": [
    {
     "data": {
      "text/plain": [
       "date\n",
       "2014-11-18    0.588050\n",
       "2014-11-19    0.574143\n",
       "2014-11-20    0.546660\n",
       "2014-11-21    0.481358\n",
       "2014-11-22    0.577016\n",
       "2014-11-23    0.525184\n",
       "2014-11-24    0.526025\n",
       "2014-11-25    0.545426\n",
       "2014-11-26    0.562058\n",
       "2014-11-27    0.577135\n",
       "2014-11-28    0.519955\n",
       "2014-11-29    0.515906\n",
       "2014-11-30    0.566860\n",
       "2014-12-01    0.597341\n",
       "2014-12-02    0.552824\n",
       "2014-12-03    0.589977\n",
       "2014-12-04    0.565151\n",
       "2014-12-05    0.521282\n",
       "2014-12-06    0.508075\n",
       "2014-12-07    0.507007\n",
       "2014-12-08    0.520871\n",
       "2014-12-09    0.525282\n",
       "2014-12-10    0.483464\n",
       "2014-12-11    0.467943\n",
       "2014-12-12    1.975518\n",
       "2014-12-13    0.513282\n",
       "2014-12-14    0.522346\n",
       "2014-12-15    0.554590\n",
       "2014-12-16    0.560410\n",
       "2014-12-17    0.544182\n",
       "2014-12-18    0.544819\n",
       "dtype: float64"
      ]
     },
     "execution_count": 67,
     "metadata": {},
     "output_type": "execute_result"
    }
   ],
   "source": [
    "data_user_buy2.groupby('date').apply(lambda x: x[x.behavior_type =='4' ].total.sum()/len(x.user_id.unique()))  #每天的活跃用户消费次数"
   ]
  },
  {
   "cell_type": "code",
   "execution_count": 68,
   "id": "427ed0cb",
   "metadata": {},
   "outputs": [
    {
     "data": {
      "text/plain": [
       "<AxesSubplot:xlabel='date'>"
      ]
     },
     "execution_count": 68,
     "metadata": {},
     "output_type": "execute_result"
    },
    {
     "data": {
      "image/png": "[encoded data removed]",
      "text/plain": [
       "<Figure size 432x288 with 1 Axes>"
      ]
     },
     "metadata": {},
     "output_type": "display_data"
    }
   ],
   "source": [
    "data_user_buy2.groupby('date').apply(lambda x: x[x.behavior_type =='4' ].total.sum()/len(x.user_id.unique())).plot()"
   ]
  },
  {
   "cell_type": "code",
   "execution_count": 69,
   "id": "51ab86e5",
   "metadata": {},
   "outputs": [],
   "source": [
    "#上图可以看出用户平均每天购物不到1次，双12的时候达到快2次"
   ]
  },
  {
   "cell_type": "code",
   "execution_count": 70,
   "id": "9240ffd3",
   "metadata": {},
   "outputs": [
    {
     "data": {
      "text/plain": [
       "date\n",
       "2014-11-18    0.242630\n",
       "2014-11-19    0.235358\n",
       "2014-11-20    0.235591\n",
       "2014-11-21    0.211918\n",
       "2014-11-22    0.228059\n",
       "2014-11-23    0.225326\n",
       "2014-11-24    0.233994\n",
       "2014-11-25    0.235711\n",
       "2014-11-26    0.233915\n",
       "2014-11-27    0.240132\n",
       "2014-11-28    0.232994\n",
       "2014-11-29    0.221240\n",
       "2014-11-30    0.240477\n",
       "2014-12-01    0.253209\n",
       "2014-12-02    0.241985\n",
       "2014-12-03    0.257707\n",
       "2014-12-04    0.242689\n",
       "2014-12-05    0.234490\n",
       "2014-12-06    0.225466\n",
       "2014-12-07    0.218468\n",
       "2014-12-08    0.236289\n",
       "2014-12-09    0.217636\n",
       "2014-12-10    0.216777\n",
       "2014-12-11    0.210183\n",
       "2014-12-12    0.504793\n",
       "2014-12-13    0.228601\n",
       "2014-12-14    0.225855\n",
       "2014-12-15    0.239723\n",
       "2014-12-16    0.245207\n",
       "2014-12-17    0.236339\n",
       "2014-12-18    0.235795\n",
       "dtype: float64"
      ]
     },
     "execution_count": 70,
     "metadata": {},
     "output_type": "execute_result"
    }
   ],
   "source": [
    "data_user_buy2.groupby('date').apply(lambda x: x[x.behavior_type =='4' ].total.count()/len(x.user_id.unique()))"
   ]
  },
  {
   "cell_type": "code",
   "execution_count": 71,
   "id": "3e95fc08",
   "metadata": {},
   "outputs": [],
   "source": [
    "#可以看出平时只有20%的用户有消费行为，但是双12有50%的用户有消费行为"
   ]
  },
  {
   "cell_type": "code",
   "execution_count": 72,
   "id": "2b26038a",
   "metadata": {},
   "outputs": [
    {
     "data": {
      "text/plain": [
       "<AxesSubplot:xlabel='date'>"
      ]
     },
     "execution_count": 72,
     "metadata": {},
     "output_type": "execute_result"
    },
    {
     "data": {
      "image/png": "[encoded data removed]",
      "text/plain": [
       "<Figure size 432x288 with 1 Axes>"
      ]
     },
     "metadata": {},
     "output_type": "display_data"
    }
   ],
   "source": [
    "data_user_buy2.groupby('date').apply(lambda x: x[x.behavior_type =='4' ].total.count()/len(x.user_id.unique())).plot()"
   ]
  },
  {
   "cell_type": "code",
   "execution_count": 73,
   "id": "749ac68e",
   "metadata": {},
   "outputs": [],
   "source": [
    "data_user_buy3 = data_user[data_user['behavior_type'] == '4'].groupby(['user_id' , 'date', 'hour'])['operation'].sum()\n"
   ]
  },
  {
   "cell_type": "code",
   "execution_count": 74,
   "id": "f6384e38",
   "metadata": {},
   "outputs": [
    {
     "data": {
      "text/plain": [
       "user_id    date        hour\n",
       "100001878  2014-11-18  20      1\n",
       "           2014-11-24  20      3\n",
       "           2014-11-25  13      2\n",
       "           2014-11-26  16      2\n",
       "                       21      1\n",
       "                              ..\n",
       "99989881   2014-12-05  1       1\n",
       "           2014-12-09  21      1\n",
       "           2014-12-12  0       2\n",
       "           2014-12-14  20      1\n",
       "           2014-12-15  23      1\n",
       "Name: operation, Length: 65223, dtype: int64"
      ]
     },
     "execution_count": 74,
     "metadata": {},
     "output_type": "execute_result"
    }
   ],
   "source": [
    "data_user_buy3"
   ]
  },
  {
   "cell_type": "code",
   "execution_count": 75,
   "id": "7c95c8bd",
   "metadata": {},
   "outputs": [
    {
     "name": "stderr",
     "output_type": "stream",
     "text": [
      "C:\\Users\\41507\\AppData\\Roaming\\Python\\Python39\\site-packages\\seaborn\\distributions.py:2619: FutureWarning: `distplot` is a deprecated function and will be removed in a future version. Please adapt your code to use either `displot` (a figure-level function with similar flexibility) or `histplot` (an axes-level function for histograms).\n",
      "  warnings.warn(msg, FutureWarning)\n"
     ]
    },
    {
     "data": {
      "text/plain": [
       "<AxesSubplot:xlabel='operation', ylabel='Density'>"
      ]
     },
     "execution_count": 75,
     "metadata": {},
     "output_type": "execute_result"
    },
    {
     "data": {
      "image/png": "[encoded data removed]",
      "text/plain": [
       "<Figure size 432x288 with 1 Axes>"
      ]
     },
     "metadata": {},
     "output_type": "display_data"
    }
   ],
   "source": [
    "sns.distplot(data_user_buy3)\n"
   ]
  },
  {
   "cell_type": "code",
   "execution_count": 76,
   "id": "2de6ca84",
   "metadata": {},
   "outputs": [],
   "source": [
    "#上面分析了用户购买都是在哪个时间段发生的，看0-23"
   ]
  },
  {
   "cell_type": "markdown",
   "id": "b31935d3",
   "metadata": {},
   "source": [
    "# 复购行为分析"
   ]
  },
  {
   "cell_type": "code",
   "execution_count": 77,
   "id": "7ce8a77c",
   "metadata": {},
   "outputs": [],
   "source": [
    "data_rebuy = data_user[data_user.behavior_type =='4' ].groupby('user_id')['date'].apply(lambda x: len(x. unique()))"
   ]
  },
  {
   "cell_type": "code",
   "execution_count": 78,
   "id": "88079d37",
   "metadata": {},
   "outputs": [
    {
     "data": {
      "text/plain": [
       "user_id\n",
       "100001878    15\n",
       "100011562     3\n",
       "100012968    11\n",
       "100014060    12\n",
       "100024529     9\n",
       "             ..\n",
       "99960313      5\n",
       "9996155       3\n",
       "99963140      8\n",
       "99968428      9\n",
       "99989881     13\n",
       "Name: date, Length: 8886, dtype: int64"
      ]
     },
     "execution_count": 78,
     "metadata": {},
     "output_type": "execute_result"
    }
   ],
   "source": [
    "data_rebuy  #知道每个用户购买了多少次"
   ]
  },
  {
   "cell_type": "code",
   "execution_count": 79,
   "id": "6046b9ab",
   "metadata": {},
   "outputs": [
    {
     "data": {
      "text/plain": [
       "0.8717083051991897"
      ]
     },
     "execution_count": 79,
     "metadata": {},
     "output_type": "execute_result"
    }
   ],
   "source": [
    "data_rebuy[data_rebuy>=2].count()/data_rebuy.count()  #复购行为达到87%\n"
   ]
  },
  {
   "cell_type": "markdown",
   "id": "453c240b",
   "metadata": {},
   "source": [
    "# 接下来看复购时间间隔"
   ]
  },
  {
   "cell_type": "code",
   "execution_count": 80,
   "id": "0352a21c",
   "metadata": {},
   "outputs": [],
   "source": [
    "data_day_buy = data_user[data_user.behavior_type == '4'].groupby('user_id').date.apply(lambda x:x.sort_values())"
   ]
  },
  {
   "cell_type": "code",
   "execution_count": 81,
   "id": "ef2cdc03",
   "metadata": {},
   "outputs": [
    {
     "data": {
      "text/plain": [
       "user_id            \n",
       "100001878  270407     2014-11-18\n",
       "           2439076    2014-11-24\n",
       "           2439090    2014-11-24\n",
       "           2440428    2014-11-24\n",
       "           2660355    2014-11-25\n",
       "                         ...    \n",
       "99989881   8203371    2014-12-09\n",
       "           9248497    2014-12-12\n",
       "           9249028    2014-12-12\n",
       "           10601909   2014-12-14\n",
       "           11085567   2014-12-15\n",
       "Name: date, Length: 120205, dtype: datetime64[ns]"
      ]
     },
     "execution_count": 81,
     "metadata": {},
     "output_type": "execute_result"
    }
   ],
   "source": [
    "data_day_buy"
   ]
  },
  {
   "cell_type": "code",
   "execution_count": 82,
   "id": "e2e7f5da",
   "metadata": {},
   "outputs": [],
   "source": [
    "data_day_buy = data_user[data_user.behavior_type == '4'].groupby('user_id').date.apply(lambda x:x.sort_values()).diff(1).dropna()\n"
   ]
  },
  {
   "cell_type": "code",
   "execution_count": 83,
   "id": "d425f8ae",
   "metadata": {},
   "outputs": [
    {
     "data": {
      "text/plain": [
       "user_id            \n",
       "100001878  2439076    6 days\n",
       "           2439090    0 days\n",
       "           2440428    0 days\n",
       "           2660355    1 days\n",
       "           2672617    0 days\n",
       "                       ...  \n",
       "99989881   8203371    4 days\n",
       "           9248497    3 days\n",
       "           9249028    0 days\n",
       "           10601909   2 days\n",
       "           11085567   1 days\n",
       "Name: date, Length: 120204, dtype: timedelta64[ns]"
      ]
     },
     "execution_count": 83,
     "metadata": {},
     "output_type": "execute_result"
    }
   ],
   "source": [
    "data_day_buy"
   ]
  },
  {
   "cell_type": "code",
   "execution_count": 84,
   "id": "bcb35056",
   "metadata": {},
   "outputs": [
    {
     "data": {
      "text/plain": [
       "user_id            \n",
       "100001878  2439076     6\n",
       "           2439090     0\n",
       "           2440428     0\n",
       "           2660355     1\n",
       "           2672617     0\n",
       "                      ..\n",
       "99989881   8203371     4\n",
       "           9248497     3\n",
       "           9249028     0\n",
       "           10601909    2\n",
       "           11085567    1\n",
       "Name: date, Length: 120204, dtype: int64"
      ]
     },
     "execution_count": 84,
     "metadata": {},
     "output_type": "execute_result"
    }
   ],
   "source": [
    "data_day_buy.map(lambda x: x.days)"
   ]
  },
  {
   "cell_type": "markdown",
   "id": "e5dbd6ac",
   "metadata": {},
   "source": [
    "# 漏斗分析"
   ]
  },
  {
   "cell_type": "code",
   "execution_count": 85,
   "id": "2a4580b7",
   "metadata": {},
   "outputs": [],
   "source": [
    "data_day_buy4=data_day_buy"
   ]
  },
  {
   "cell_type": "code",
   "execution_count": 86,
   "id": "912ffa50",
   "metadata": {},
   "outputs": [],
   "source": [
    "data_user_count = data_user.groupby('behavior_type').size()"
   ]
  },
  {
   "cell_type": "code",
   "execution_count": 87,
   "id": "773c3f41",
   "metadata": {},
   "outputs": [
    {
     "data": {
      "text/plain": [
       "behavior_type\n",
       "1    11550581\n",
       "2      242556\n",
       "3      343564\n",
       "4      120205\n",
       "dtype: int64"
      ]
     },
     "execution_count": 87,
     "metadata": {},
     "output_type": "execute_result"
    }
   ],
   "source": [
    "data_user_count #四种行为的数量  点击、收藏、加入购物车和支付"
   ]
  },
  {
   "cell_type": "code",
   "execution_count": 88,
   "id": "37a12da0",
   "metadata": {},
   "outputs": [],
   "source": [
    "pv_all = data_user['user_id'].count()"
   ]
  },
  {
   "cell_type": "code",
   "execution_count": 89,
   "id": "847d59f3",
   "metadata": {},
   "outputs": [
    {
     "data": {
      "text/plain": [
       "12256906"
      ]
     },
     "execution_count": 89,
     "metadata": {},
     "output_type": "execute_result"
    }
   ],
   "source": [
    "pv_all"
   ]
  },
  {
   "cell_type": "code",
   "execution_count": 90,
   "id": "79c8838e",
   "metadata": {},
   "outputs": [
    {
     "data": {
      "text/plain": [
       "0.05762669632939993"
      ]
     },
     "execution_count": 90,
     "metadata": {},
     "output_type": "execute_result"
    }
   ],
   "source": [
    "(pv_all - data_user_count[0])/pv_all  #总浏览量中有多少人没有点击就离开了，这个就是流失率"
   ]
  },
  {
   "cell_type": "code",
   "execution_count": 91,
   "id": "3529a850",
   "metadata": {},
   "outputs": [
    {
     "data": {
      "text/plain": [
       "0.9702556953628566"
      ]
     },
     "execution_count": 91,
     "metadata": {},
     "output_type": "execute_result"
    }
   ],
   "source": [
    "(data_user_count[0] - data_user_count[2])/data_user_count[0]  #有多少人点击了但是没有加入购物车\n"
   ]
  },
  {
   "cell_type": "code",
   "execution_count": 92,
   "id": "b578d554",
   "metadata": {},
   "outputs": [
    {
     "data": {
      "text/plain": [
       "0.29400053556251526"
      ]
     },
     "execution_count": 92,
     "metadata": {},
     "output_type": "execute_result"
    }
   ],
   "source": [
    "(data_user_count[2] - data_user_count[1])/data_user_count[2] #并不是所有加入购物车的人都进行了收藏，有29%的人并没有收藏"
   ]
  },
  {
   "cell_type": "code",
   "execution_count": 93,
   "id": "1ec77f36",
   "metadata": {},
   "outputs": [
    {
     "data": {
      "text/plain": [
       "0.5044237207077953"
      ]
     },
     "execution_count": 93,
     "metadata": {},
     "output_type": "execute_result"
    }
   ],
   "source": [
    "(data_user_count[1] - data_user_count[3])/data_user_count[1] #收藏的人有50%进行了支付"
   ]
  },
  {
   "cell_type": "code",
   "execution_count": 96,
   "id": "812e46f4",
   "metadata": {},
   "outputs": [],
   "source": [
    "from datetime import datetime"
   ]
  },
  {
   "cell_type": "code",
   "execution_count": 99,
   "id": "dde59a80",
   "metadata": {},
   "outputs": [],
   "source": [
    "recent_buy_time=data_user[data_user['behavior_type'] == '4'].groupby ('user_id')['date'].apply(lambda x:datetime(2014,12,20)- x.sort_values().iloc[-1])\n",
    "\n",
    "#每个用户最新的购买日期和参考日期之间的时间间隔"
   ]
  },
  {
   "cell_type": "code",
   "execution_count": 103,
   "id": "2fa40165",
   "metadata": {},
   "outputs": [],
   "source": [
    "recent_buy_time=recent_buy_time.reset_index().rename(columns={'date':'recent'})"
   ]
  },
  {
   "cell_type": "code",
   "execution_count": 104,
   "id": "219fe265",
   "metadata": {},
   "outputs": [
    {
     "data": {
      "text/html": [
       "<div>\n",
       "<style scoped>\n",
       "    .dataframe tbody tr th:only-of-type {\n",
       "        vertical-align: middle;\n",
       "    }\n",
       "\n",
       "    .dataframe tbody tr th {\n",
       "        vertical-align: top;\n",
       "    }\n",
       "\n",
       "    .dataframe thead th {\n",
       "        text-align: right;\n",
       "    }\n",
       "</style>\n",
       "<table border=\"1\" class=\"dataframe\">\n",
       "  <thead>\n",
       "    <tr style=\"text-align: right;\">\n",
       "      <th></th>\n",
       "      <th>user_id</th>\n",
       "      <th>recent</th>\n",
       "    </tr>\n",
       "  </thead>\n",
       "  <tbody>\n",
       "    <tr>\n",
       "      <th>0</th>\n",
       "      <td>100001878</td>\n",
       "      <td>2 days</td>\n",
       "    </tr>\n",
       "    <tr>\n",
       "      <th>1</th>\n",
       "      <td>100011562</td>\n",
       "      <td>4 days</td>\n",
       "    </tr>\n",
       "    <tr>\n",
       "      <th>2</th>\n",
       "      <td>100012968</td>\n",
       "      <td>2 days</td>\n",
       "    </tr>\n",
       "    <tr>\n",
       "      <th>3</th>\n",
       "      <td>100014060</td>\n",
       "      <td>2 days</td>\n",
       "    </tr>\n",
       "    <tr>\n",
       "      <th>4</th>\n",
       "      <td>100024529</td>\n",
       "      <td>4 days</td>\n",
       "    </tr>\n",
       "    <tr>\n",
       "      <th>...</th>\n",
       "      <td>...</td>\n",
       "      <td>...</td>\n",
       "    </tr>\n",
       "    <tr>\n",
       "      <th>8881</th>\n",
       "      <td>99960313</td>\n",
       "      <td>7 days</td>\n",
       "    </tr>\n",
       "    <tr>\n",
       "      <th>8882</th>\n",
       "      <td>9996155</td>\n",
       "      <td>13 days</td>\n",
       "    </tr>\n",
       "    <tr>\n",
       "      <th>8883</th>\n",
       "      <td>99963140</td>\n",
       "      <td>5 days</td>\n",
       "    </tr>\n",
       "    <tr>\n",
       "      <th>8884</th>\n",
       "      <td>99968428</td>\n",
       "      <td>6 days</td>\n",
       "    </tr>\n",
       "    <tr>\n",
       "      <th>8885</th>\n",
       "      <td>99989881</td>\n",
       "      <td>5 days</td>\n",
       "    </tr>\n",
       "  </tbody>\n",
       "</table>\n",
       "<p>8886 rows × 2 columns</p>\n",
       "</div>"
      ],
      "text/plain": [
       "        user_id  recent\n",
       "0     100001878  2 days\n",
       "1     100011562  4 days\n",
       "2     100012968  2 days\n",
       "3     100014060  2 days\n",
       "4     100024529  4 days\n",
       "...         ...     ...\n",
       "8881   99960313  7 days\n",
       "8882    9996155 13 days\n",
       "8883   99963140  5 days\n",
       "8884   99968428  6 days\n",
       "8885   99989881  5 days\n",
       "\n",
       "[8886 rows x 2 columns]"
      ]
     },
     "execution_count": 104,
     "metadata": {},
     "output_type": "execute_result"
    }
   ],
   "source": [
    "recent_buy_time"
   ]
  },
  {
   "cell_type": "code",
   "execution_count": 106,
   "id": "ba9be1a6",
   "metadata": {},
   "outputs": [],
   "source": [
    "recent_buy_time.recent= recent_buy_time.recent.apply(lambda x: x.days)  #去掉days\n"
   ]
  },
  {
   "cell_type": "code",
   "execution_count": 107,
   "id": "edd38c4c",
   "metadata": {},
   "outputs": [
    {
     "data": {
      "text/html": [
       "<div>\n",
       "<style scoped>\n",
       "    .dataframe tbody tr th:only-of-type {\n",
       "        vertical-align: middle;\n",
       "    }\n",
       "\n",
       "    .dataframe tbody tr th {\n",
       "        vertical-align: top;\n",
       "    }\n",
       "\n",
       "    .dataframe thead th {\n",
       "        text-align: right;\n",
       "    }\n",
       "</style>\n",
       "<table border=\"1\" class=\"dataframe\">\n",
       "  <thead>\n",
       "    <tr style=\"text-align: right;\">\n",
       "      <th></th>\n",
       "      <th>user_id</th>\n",
       "      <th>recent</th>\n",
       "    </tr>\n",
       "  </thead>\n",
       "  <tbody>\n",
       "    <tr>\n",
       "      <th>0</th>\n",
       "      <td>100001878</td>\n",
       "      <td>2</td>\n",
       "    </tr>\n",
       "    <tr>\n",
       "      <th>1</th>\n",
       "      <td>100011562</td>\n",
       "      <td>4</td>\n",
       "    </tr>\n",
       "    <tr>\n",
       "      <th>2</th>\n",
       "      <td>100012968</td>\n",
       "      <td>2</td>\n",
       "    </tr>\n",
       "    <tr>\n",
       "      <th>3</th>\n",
       "      <td>100014060</td>\n",
       "      <td>2</td>\n",
       "    </tr>\n",
       "    <tr>\n",
       "      <th>4</th>\n",
       "      <td>100024529</td>\n",
       "      <td>4</td>\n",
       "    </tr>\n",
       "    <tr>\n",
       "      <th>...</th>\n",
       "      <td>...</td>\n",
       "      <td>...</td>\n",
       "    </tr>\n",
       "    <tr>\n",
       "      <th>8881</th>\n",
       "      <td>99960313</td>\n",
       "      <td>7</td>\n",
       "    </tr>\n",
       "    <tr>\n",
       "      <th>8882</th>\n",
       "      <td>9996155</td>\n",
       "      <td>13</td>\n",
       "    </tr>\n",
       "    <tr>\n",
       "      <th>8883</th>\n",
       "      <td>99963140</td>\n",
       "      <td>5</td>\n",
       "    </tr>\n",
       "    <tr>\n",
       "      <th>8884</th>\n",
       "      <td>99968428</td>\n",
       "      <td>6</td>\n",
       "    </tr>\n",
       "    <tr>\n",
       "      <th>8885</th>\n",
       "      <td>99989881</td>\n",
       "      <td>5</td>\n",
       "    </tr>\n",
       "  </tbody>\n",
       "</table>\n",
       "<p>8886 rows × 2 columns</p>\n",
       "</div>"
      ],
      "text/plain": [
       "        user_id  recent\n",
       "0     100001878       2\n",
       "1     100011562       4\n",
       "2     100012968       2\n",
       "3     100014060       2\n",
       "4     100024529       4\n",
       "...         ...     ...\n",
       "8881   99960313       7\n",
       "8882    9996155      13\n",
       "8883   99963140       5\n",
       "8884   99968428       6\n",
       "8885   99989881       5\n",
       "\n",
       "[8886 rows x 2 columns]"
      ]
     },
     "execution_count": 107,
     "metadata": {},
     "output_type": "execute_result"
    }
   ],
   "source": [
    "recent_buy_time\n"
   ]
  },
  {
   "cell_type": "code",
   "execution_count": 108,
   "id": "8dc0668b",
   "metadata": {},
   "outputs": [],
   "source": [
    "buy_freq = data_user[data_user ['behavior_type'] =='4'].groupby('user_id').date.count()\n"
   ]
  },
  {
   "cell_type": "code",
   "execution_count": 111,
   "id": "779d9a2a",
   "metadata": {},
   "outputs": [],
   "source": [
    "buy_freq=buy_freq.reset_index().rename(columns={'date':'freq'})"
   ]
  },
  {
   "cell_type": "code",
   "execution_count": 113,
   "id": "69026fb1",
   "metadata": {},
   "outputs": [],
   "source": [
    "rfm= pd.merge (recent_buy_time, buy_freq,left_on ='user_id' ,right_on ='user_id')\n"
   ]
  },
  {
   "cell_type": "code",
   "execution_count": 114,
   "id": "026db798",
   "metadata": {},
   "outputs": [
    {
     "data": {
      "text/html": [
       "<div>\n",
       "<style scoped>\n",
       "    .dataframe tbody tr th:only-of-type {\n",
       "        vertical-align: middle;\n",
       "    }\n",
       "\n",
       "    .dataframe tbody tr th {\n",
       "        vertical-align: top;\n",
       "    }\n",
       "\n",
       "    .dataframe thead th {\n",
       "        text-align: right;\n",
       "    }\n",
       "</style>\n",
       "<table border=\"1\" class=\"dataframe\">\n",
       "  <thead>\n",
       "    <tr style=\"text-align: right;\">\n",
       "      <th></th>\n",
       "      <th>user_id</th>\n",
       "      <th>recent</th>\n",
       "      <th>freq</th>\n",
       "    </tr>\n",
       "  </thead>\n",
       "  <tbody>\n",
       "    <tr>\n",
       "      <th>0</th>\n",
       "      <td>100001878</td>\n",
       "      <td>2</td>\n",
       "      <td>36</td>\n",
       "    </tr>\n",
       "    <tr>\n",
       "      <th>1</th>\n",
       "      <td>100011562</td>\n",
       "      <td>4</td>\n",
       "      <td>3</td>\n",
       "    </tr>\n",
       "    <tr>\n",
       "      <th>2</th>\n",
       "      <td>100012968</td>\n",
       "      <td>2</td>\n",
       "      <td>15</td>\n",
       "    </tr>\n",
       "    <tr>\n",
       "      <th>3</th>\n",
       "      <td>100014060</td>\n",
       "      <td>2</td>\n",
       "      <td>24</td>\n",
       "    </tr>\n",
       "    <tr>\n",
       "      <th>4</th>\n",
       "      <td>100024529</td>\n",
       "      <td>4</td>\n",
       "      <td>26</td>\n",
       "    </tr>\n",
       "    <tr>\n",
       "      <th>...</th>\n",
       "      <td>...</td>\n",
       "      <td>...</td>\n",
       "      <td>...</td>\n",
       "    </tr>\n",
       "    <tr>\n",
       "      <th>8881</th>\n",
       "      <td>99960313</td>\n",
       "      <td>7</td>\n",
       "      <td>8</td>\n",
       "    </tr>\n",
       "    <tr>\n",
       "      <th>8882</th>\n",
       "      <td>9996155</td>\n",
       "      <td>13</td>\n",
       "      <td>6</td>\n",
       "    </tr>\n",
       "    <tr>\n",
       "      <th>8883</th>\n",
       "      <td>99963140</td>\n",
       "      <td>5</td>\n",
       "      <td>19</td>\n",
       "    </tr>\n",
       "    <tr>\n",
       "      <th>8884</th>\n",
       "      <td>99968428</td>\n",
       "      <td>6</td>\n",
       "      <td>38</td>\n",
       "    </tr>\n",
       "    <tr>\n",
       "      <th>8885</th>\n",
       "      <td>99989881</td>\n",
       "      <td>5</td>\n",
       "      <td>17</td>\n",
       "    </tr>\n",
       "  </tbody>\n",
       "</table>\n",
       "<p>8886 rows × 3 columns</p>\n",
       "</div>"
      ],
      "text/plain": [
       "        user_id  recent  freq\n",
       "0     100001878       2    36\n",
       "1     100011562       4     3\n",
       "2     100012968       2    15\n",
       "3     100014060       2    24\n",
       "4     100024529       4    26\n",
       "...         ...     ...   ...\n",
       "8881   99960313       7     8\n",
       "8882    9996155      13     6\n",
       "8883   99963140       5    19\n",
       "8884   99968428       6    38\n",
       "8885   99989881       5    17\n",
       "\n",
       "[8886 rows x 3 columns]"
      ]
     },
     "execution_count": 114,
     "metadata": {},
     "output_type": "execute_result"
    }
   ],
   "source": [
    "rfm"
   ]
  },
  {
   "cell_type": "code",
   "execution_count": 115,
   "id": "8df36984",
   "metadata": {},
   "outputs": [],
   "source": [
    "rfm['recent_value'] = pd.qcut(rfm.recent,2,labels=['2','1'])"
   ]
  },
  {
   "cell_type": "code",
   "execution_count": 116,
   "id": "c9c4143a",
   "metadata": {},
   "outputs": [],
   "source": [
    "rfm['freq_value'] = pd.qcut(rfm.recent,2,labels=['1','2'])"
   ]
  },
  {
   "cell_type": "code",
   "execution_count": 119,
   "id": "29dc488b",
   "metadata": {},
   "outputs": [],
   "source": [
    "rfm['rfm'] = rfm['recent_value'].str.cat(rfm['freq_value'])\n"
   ]
  },
  {
   "cell_type": "code",
   "execution_count": 121,
   "id": "2134a4da",
   "metadata": {},
   "outputs": [
    {
     "data": {
      "text/html": [
       "<div>\n",
       "<style scoped>\n",
       "    .dataframe tbody tr th:only-of-type {\n",
       "        vertical-align: middle;\n",
       "    }\n",
       "\n",
       "    .dataframe tbody tr th {\n",
       "        vertical-align: top;\n",
       "    }\n",
       "\n",
       "    .dataframe thead th {\n",
       "        text-align: right;\n",
       "    }\n",
       "</style>\n",
       "<table border=\"1\" class=\"dataframe\">\n",
       "  <thead>\n",
       "    <tr style=\"text-align: right;\">\n",
       "      <th></th>\n",
       "      <th>user_id</th>\n",
       "      <th>recent</th>\n",
       "      <th>freq</th>\n",
       "      <th>recent_value</th>\n",
       "      <th>freq_value</th>\n",
       "      <th>rfm</th>\n",
       "    </tr>\n",
       "  </thead>\n",
       "  <tbody>\n",
       "    <tr>\n",
       "      <th>0</th>\n",
       "      <td>100001878</td>\n",
       "      <td>2</td>\n",
       "      <td>36</td>\n",
       "      <td>2</td>\n",
       "      <td>1</td>\n",
       "      <td>21</td>\n",
       "    </tr>\n",
       "    <tr>\n",
       "      <th>1</th>\n",
       "      <td>100011562</td>\n",
       "      <td>4</td>\n",
       "      <td>3</td>\n",
       "      <td>2</td>\n",
       "      <td>1</td>\n",
       "      <td>21</td>\n",
       "    </tr>\n",
       "    <tr>\n",
       "      <th>2</th>\n",
       "      <td>100012968</td>\n",
       "      <td>2</td>\n",
       "      <td>15</td>\n",
       "      <td>2</td>\n",
       "      <td>1</td>\n",
       "      <td>21</td>\n",
       "    </tr>\n",
       "    <tr>\n",
       "      <th>3</th>\n",
       "      <td>100014060</td>\n",
       "      <td>2</td>\n",
       "      <td>24</td>\n",
       "      <td>2</td>\n",
       "      <td>1</td>\n",
       "      <td>21</td>\n",
       "    </tr>\n",
       "    <tr>\n",
       "      <th>4</th>\n",
       "      <td>100024529</td>\n",
       "      <td>4</td>\n",
       "      <td>26</td>\n",
       "      <td>2</td>\n",
       "      <td>1</td>\n",
       "      <td>21</td>\n",
       "    </tr>\n",
       "    <tr>\n",
       "      <th>...</th>\n",
       "      <td>...</td>\n",
       "      <td>...</td>\n",
       "      <td>...</td>\n",
       "      <td>...</td>\n",
       "      <td>...</td>\n",
       "      <td>...</td>\n",
       "    </tr>\n",
       "    <tr>\n",
       "      <th>8881</th>\n",
       "      <td>99960313</td>\n",
       "      <td>7</td>\n",
       "      <td>8</td>\n",
       "      <td>1</td>\n",
       "      <td>2</td>\n",
       "      <td>12</td>\n",
       "    </tr>\n",
       "    <tr>\n",
       "      <th>8882</th>\n",
       "      <td>9996155</td>\n",
       "      <td>13</td>\n",
       "      <td>6</td>\n",
       "      <td>1</td>\n",
       "      <td>2</td>\n",
       "      <td>12</td>\n",
       "    </tr>\n",
       "    <tr>\n",
       "      <th>8883</th>\n",
       "      <td>99963140</td>\n",
       "      <td>5</td>\n",
       "      <td>19</td>\n",
       "      <td>2</td>\n",
       "      <td>1</td>\n",
       "      <td>21</td>\n",
       "    </tr>\n",
       "    <tr>\n",
       "      <th>8884</th>\n",
       "      <td>99968428</td>\n",
       "      <td>6</td>\n",
       "      <td>38</td>\n",
       "      <td>2</td>\n",
       "      <td>1</td>\n",
       "      <td>21</td>\n",
       "    </tr>\n",
       "    <tr>\n",
       "      <th>8885</th>\n",
       "      <td>99989881</td>\n",
       "      <td>5</td>\n",
       "      <td>17</td>\n",
       "      <td>2</td>\n",
       "      <td>1</td>\n",
       "      <td>21</td>\n",
       "    </tr>\n",
       "  </tbody>\n",
       "</table>\n",
       "<p>8886 rows × 6 columns</p>\n",
       "</div>"
      ],
      "text/plain": [
       "        user_id  recent  freq recent_value freq_value rfm\n",
       "0     100001878       2    36            2          1  21\n",
       "1     100011562       4     3            2          1  21\n",
       "2     100012968       2    15            2          1  21\n",
       "3     100014060       2    24            2          1  21\n",
       "4     100024529       4    26            2          1  21\n",
       "...         ...     ...   ...          ...        ...  ..\n",
       "8881   99960313       7     8            1          2  12\n",
       "8882    9996155      13     6            1          2  12\n",
       "8883   99963140       5    19            2          1  21\n",
       "8884   99968428       6    38            2          1  21\n",
       "8885   99989881       5    17            2          1  21\n",
       "\n",
       "[8886 rows x 6 columns]"
      ]
     },
     "execution_count": 121,
     "metadata": {},
     "output_type": "execute_result"
    }
   ],
   "source": [
    "rfm  #11是最佳"
   ]
  },
  {
   "cell_type": "code",
   "execution_count": null,
   "id": "dbc08b33",
   "metadata": {},
   "outputs": [],
   "source": []
  },
  {
   "cell_type": "code",
   "execution_count": null,
   "id": "0b267995",
   "metadata": {},
   "outputs": [],
   "source": []
  }
 ],
 "metadata": {
  "kernelspec": {
   "display_name": "Python 3 (ipykernel)",
   "language": "python",
   "name": "python3"
  },
  "language_info": {
   "codemirror_mode": {
    "name": "ipython",
    "version": 3
   },
   "file_extension": ".py",
   "mimetype": "text/x-python",
   "name": "python",
   "nbconvert_exporter": "python",
   "pygments_lexer": "ipython3",
   "version": "3.11.4"
  }
 },
 "nbformat": 4,
 "nbformat_minor": 5
}
